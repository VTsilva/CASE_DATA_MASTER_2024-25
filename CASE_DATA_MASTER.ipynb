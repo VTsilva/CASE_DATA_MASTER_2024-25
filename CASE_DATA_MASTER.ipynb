{
  "nbformat": 4,
  "nbformat_minor": 0,
  "metadata": {
    "colab": {
      "provenance": [],
      "collapsed_sections": [
        "NrH50K4Jzgfy",
        "YZt7taXOaJS6",
        "QyM3uqQpC_Ke",
        "dsmQV0wACigq",
        "2-APPNdpWviz",
        "N0KqlSTumzCW",
        "fRwLtSWv6_F_",
        "sJc0W47Xsr8H",
        "jxjzaNP-pDpT",
        "8xFh6_YtsxVr",
        "CaiRBwNhzUc4",
        "25yqfe2FwsBP",
        "7rhpeg3acAl2",
        "MPn_veQuIj_A",
        "QjzgGMLBJRr1",
        "ZDxzUyU1vfEl",
        "bjFaGRiC15XN",
        "0N5bIo6-EM_P",
        "pbC9STETcO9j",
        "7B4YP2Ub6vrE",
        "sn6VELP_hXCG",
        "tKIoi_KIoPLo",
        "Mw0PAf1noTEV",
        "TQ5yYMR9waWc",
        "HtC9EniFrOiK",
        "MsRj6sS5Ka2W",
        "IeIPFwOwO-6p",
        "sBBgtjEUq72_",
        "VAt4QofVAfTM",
        "0EP-3wQAwgMU",
        "vnjWqY8u9kT-",
        "dQiiowtdaPG5",
        "uMBE_kDpz3Ad",
        "vSMvPApX-Uil",
        "_uaEzuTmKlAi",
        "AoRrUogzNkyv",
        "yFB1nFwcfeeo",
        "tuX9331_p1Qc",
        "fSjch1Me-BNH",
        "E9FEZ3gLU7UB",
        "rPE3gG-GWUN8",
        "hJ7m5jF7oL7i",
        "D2kBSLZs6Te8",
        "IkPmjvif6XYg",
        "3c_3l7SM6b7J",
        "j6Y7gcJzlhrG",
        "oD9dTqmSlkcL",
        "vNOdTbDFVr-W",
        "xsKWQ70qyufd",
        "nasZ97BCy7On",
        "3sBbrZj8BYCX",
        "OW2xAgUZCAMl",
        "X7axBYxuCRAS",
        "BXeTbHz-A6kY",
        "Z6WZ_LgNDKTV",
        "p5RSpiCEWoug",
        "m0wlcdMbo9Zd",
        "DADGBJvIpIao",
        "li8XjwZOWrGj",
        "EpUgDrSepPrR",
        "aVhrMSrLd3h_",
        "32_gU9tcpV6I",
        "B70LxPXzohDs",
        "6otdvfg9okt6",
        "-xwpEO_GpiFA",
        "RRW15vedPgsZ",
        "es3LTobrpimo",
        "jR6FKCiZkgUc",
        "uwMUl4n24PRw",
        "Gohk_OAMAXlp",
        "GivfuBLfAhDJ"
      ]
    },
    "kernelspec": {
      "name": "python3",
      "display_name": "Python 3"
    },
    "language_info": {
      "name": "python"
    }
  },
  "cells": [
    {
      "cell_type": "markdown",
      "source": [
        "# SUMÁRIO DO PROJETO\n",
        "\n"
      ],
      "metadata": {
        "id": "NrH50K4Jzgfy"
      }
    },
    {
      "cell_type": "markdown",
      "source": [
        "- Link para a base de dados: https://www.kaggle.com/datasets/gcenachi/case-data-master-2024\n",
        "\n",
        "1. Qual o contexto da problemática? O que queremos resolver?\n",
        "  - Uma empresa de streaming de música adota uma abordagem reativa para reter clientes que não renovam a assinatura, oferecendo 3 meses gratuitos. No entanto, identificou-se que essa abordagem pode ser menos eficaz do que uma ação proativa, que antecipa o comportamento dos clientes. O objetivo é criar um modelo preditivo para identificar clientes com alta probabilidade de churn (cancelamento) nos próximos 3 meses após a data de observação. A definição de churn utilizada considera clientes que:\n",
        "      - Possuem uma assinatura ativa no período de análise (data da safra);\n",
        "      - Não renovaram ou não estão mais ativos nos 3 meses subsequentes.\n",
        "  - O problema abordado, portanto, é o CHURN, com o foco em antecipar e evitar a saída de clientes.\n",
        "\n",
        "2. Quais DADOS temos para trabalhar na solução?\n",
        "  - Foi disponibilizado 3 tabelas:\n",
        "      - Members: Dados demográficos e informações de cadastro dos clientes, como idade, gênero, data de registro e meio pelo qual se registraram.\n",
        "      - Transactions: Informações sobre planos, pagamentos, cancelamentos e renovações de assinaturas, incluindo preços e datas de vencimento.\n",
        "      - User Logs: Dados comportamentais e de uso, como o número de músicas ouvidas (por diferentes durações) e o total de segundos ouvidos.\n",
        "\n",
        "3. Como chegar na solução e quais métodos/tecnologias podem apoiar e quais não podem? (justificação dos usos, questões de negócio, performance, processamento computacional, recursos e implantação em uma hipotética produtização)\n",
        "  - Dada a escala dos dados, pensando na escalabilidade, performance, produtização e organização, optou-se por ferramentas capazes de lidar com processamento distribuido. Foi feita a ingestão dos dados dentro de um data lake criado no Google Drive, com a estrutura organizada em camadas Raw, Bronze, Silver e Gold, permitindo ingestão e transformações sistemáticas dos dados. Para isso, será usado o PySpark e suas bibliotecas e o Google Colab que se conecta com o Drive para realização do EDA, ETL e treinamento dos modelos.\n",
        "\n",
        "4. Ótica de negócios: Ganhos $$\n",
        "  - Após o estudo finalizado, deve-se levar em consideração que 50% dos clientes identificados como Churn no periodo analisado foram retidos e permaneceram ativos pelos proximos 12 meses. Desses 12 meses, entende-se pelo enunciado que, 3 meses serão os da ação de meses gratuitos, e os outros 9 serão pagos pelo cliente. Com isso, é possivel calcular o Retorno sobre o Investimento (ROI), que é dado por:\n",
        "\n",
        "  $$\n",
        "  \\text{ROI} = \\frac{\\text{Ganho Gerado Pela Ação} - \\text{Custo da ação}}{\\text{Custo da ação}}\n",
        "  $$\n",
        "\n",
        "  - Assim através das colunas de valores dos planos de assinatura dos clientes, da para calcular o custo deles nos 3 meses gratuitos fornecidos (Custo da Ação) e o ganho dos outros 9 meses que ele irá pagar (Ganho Gerado Pela Ação). Esses resultados permitirão medir o impacto financeiro e a viabilidade da estratégia.\n",
        "\n",
        "5. Segmentação dos clientes com uma abordagem não supervisionada\n",
        "  - Após definido os churns e não churns, segmenta-los usando modelos de clusterização a fim de aprofundar a compreensão das características dos clientes  \n",
        "\n",
        "\n",
        "para considerar no desenvolvimento:\n",
        "\n",
        "1- EDA\n",
        "- hipoteses voltadas ao problema e para a modelagem\n",
        "- implicações das análises\n",
        "- usar o EDA para tomada de decisões\n",
        "\n",
        "2- Dataprep + feature engeneering + feature selection\n",
        "- criação do publico-alvo, target, análise de volumetrias, missing, outliers, etc.\n",
        "- construção de novas features / transformação de features\n",
        "- feature selection adequado, variaveis significativas para o problema\n",
        "\n",
        "3- Modelagem\n",
        "- Estrutura do modelo utilizado, funcionamento, hiperparametros, vantagens e fraquezas\n",
        "- Modelagem e pipe line adequados ao problema? eu entendo isso?\n",
        "- Compreendo os impactos ao utilizar outras tecnicas de modelagem e pipeline construidos?\n",
        "\n",
        "4- Validação\n",
        "- Validação adequada? (Leakage, overfit, underfit, tamanho da amostra)\n",
        "- Formas de validação exploradas? (cross-validation, train test split, out of sample, out of time, etc)\n",
        "- Como as alterações do problema impactam na validação escolhida?\n",
        "\n",
        "5- Definição e avaliação dos resultados\n",
        "- Métricas de avaliação adequadas? (MAE, RMSE, Recall, AUC, Silhueta, etc)\n",
        "- Como outras métricas impactariam os resultados do case?\n",
        "- Como mudanças na estrutura do problema impactariam diferentes métricas?\n",
        "\n",
        "6- Qualidade do código\n",
        "- Organização e boas praticas do codigo (nomes intuitivos, comentários, ordenamento intuitivo)\n",
        "- Codigo padronizado? (classes, funções e variaveis com nomes padronizados, clean code, pep8, etc?)\n",
        "- Código visa a implementação? (modularização, tempo de processamento, versionamento etc?)\n",
        "\n",
        "7- Soft Skills\n",
        "- Sucinto e dentro do tempo indicado\n",
        "- Clareza nas explicações\n",
        "- Apresentação estruturada (começo, meio e fim)\n",
        "\n",
        "\n"
      ],
      "metadata": {
        "id": "z5YyNRLm4ACI"
      }
    },
    {
      "cell_type": "markdown",
      "source": [
        "# Instalação do ambiente inicial"
      ],
      "metadata": {
        "id": "YZt7taXOaJS6"
      }
    },
    {
      "cell_type": "markdown",
      "source": [
        "\n",
        "\n",
        "Conectando com o Google Drive (armazenamento)\n",
        "\n",
        "Instalação do Java\n",
        "\n",
        "Instalação do Apache Spark\n",
        "\n",
        "Configuração do Spark\n",
        "\n",
        "\n",
        "![Arquitetura_Case_Data_Master.png](data:image/png;base64,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)"
      ],
      "metadata": {
        "id": "8KfDW8DSRFVR"
      }
    },
    {
      "cell_type": "markdown",
      "source": [
        "## Conectando com o ambiente de armazenamento dos dados, Google Drive."
      ],
      "metadata": {
        "id": "QyM3uqQpC_Ke"
      }
    },
    {
      "cell_type": "code",
      "source": [
        "from google.colab import drive\n",
        "drive.mount('/content/drive')"
      ],
      "metadata": {
        "colab": {
          "base_uri": "https://localhost:8080/"
        },
        "id": "IOV08U3FWDb0",
        "outputId": "b6dbc05a-293d-43c1-e1b2-1198ac170662"
      },
      "execution_count": 1,
      "outputs": [
        {
          "output_type": "stream",
          "name": "stdout",
          "text": [
            "Mounted at /content/drive\n"
          ]
        }
      ]
    },
    {
      "cell_type": "markdown",
      "source": [
        "## Baixando e instalando o Java e o Spark\n",
        "\n",
        "O Java pois o Spark precisa de um ambiente JVM para ser executado, por ser escrito em Scala.\n",
        "\n",
        "E o Spark 3.4.4, compativel com o python do ambiente do google colab (3.10.12)"
      ],
      "metadata": {
        "id": "dsmQV0wACigq"
      }
    },
    {
      "cell_type": "code",
      "source": [
        "!python --version"
      ],
      "metadata": {
        "colab": {
          "base_uri": "https://localhost:8080/"
        },
        "id": "8jUZVBnRC3Bz",
        "outputId": "55baccad-859f-4538-c124-392b62e9b5bf"
      },
      "execution_count": 2,
      "outputs": [
        {
          "output_type": "stream",
          "name": "stdout",
          "text": [
            "Python 3.10.12\n"
          ]
        }
      ]
    },
    {
      "cell_type": "code",
      "execution_count": 3,
      "metadata": {
        "id": "05lEAdzrVfNf"
      },
      "outputs": [],
      "source": [
        "!apt-get install openjdk-8-jdk-headless -qq > /dev/null\n",
        "!wget -q https://archive.apache.org/dist/spark/spark-3.4.4/spark-3.4.4-bin-hadoop3.tgz\n",
        "!tar xf spark-3.4.4-bin-hadoop3.tgz\n",
        "!pip install -q findspark"
      ]
    },
    {
      "cell_type": "markdown",
      "source": [
        "## Configurando o Spark\n",
        "\n",
        "Configuração das variaveis ambiente"
      ],
      "metadata": {
        "id": "2-APPNdpWviz"
      }
    },
    {
      "cell_type": "code",
      "source": [
        "# configurar as variáveis de ambiente\n",
        "import os\n",
        "os.environ[\"JAVA_HOME\"] = \"/usr/lib/jvm/java-8-openjdk-amd64\"\n",
        "os.environ[\"SPARK_HOME\"] = \"/content/spark-3.4.4-bin-hadoop3\"\n",
        "\n",
        "# tornar o pyspark \"importável\"\n",
        "import findspark # localizar o Spark no seu sistema e adicionar o PySpark ao sys.path, tornando-o importável dentro do ambiente Python do Google Colab.\n",
        "findspark.init() # inicia a busca pela instalação do Spark com base nas variáveis de ambiente e adiciona o PySpark ao sys.path\n",
        "\n",
        "# iniciar uma sessão local\n",
        "from pyspark.sql import SparkSession\n",
        "spark = SparkSession.builder \\\n",
        "                    .appName(\"Case_dataMaster_Victor\") \\\n",
        "                    .config(\"spark.executor.memory\", \"6g\") \\\n",
        "                    .config(\"spark.driver.memory\", \"4g\") \\\n",
        "                    .config(\"spark.executor.cores\", \"2\") \\\n",
        "                    .config(\"spark.driver.maxResultSize\", \"4g\") \\\n",
        "                    .getOrCreate()\n",
        "\n",
        "     #  # Memória do executor\n",
        "     # Memória do driver\n",
        "     # Número de núcleos\n",
        "     # Tamanho máximo do resultado"
      ],
      "metadata": {
        "id": "gFI5WXFVTQM0"
      },
      "execution_count": 4,
      "outputs": []
    },
    {
      "cell_type": "markdown",
      "source": [
        "# Importando os dados da RAW\n",
        "\n",
        "Dados baixados e localizados no google drive para nao tem repetição em acessar o ambiente do kaggle e baixar os dados de la"
      ],
      "metadata": {
        "id": "N0KqlSTumzCW"
      }
    },
    {
      "cell_type": "code",
      "source": [
        "path_members = '/content/drive/MyDrive/Colab Notebooks/data_master_VICTOR/data_lake/raw/members.parquet'\n",
        "path_transactions = '/content/drive/MyDrive/Colab Notebooks/data_master_VICTOR/data_lake/raw/transactions.parquet'\n",
        "path_userlogs = '/content/drive/MyDrive/Colab Notebooks/data_master_VICTOR/data_lake/raw/user_logs.parquet'\n",
        "\n",
        "df_members = (spark.read\n",
        "                   .format(\"parquet\")\n",
        "                   .option(\"header\", True)\n",
        "                   .option(\"inferSchema\", True)\n",
        "                   .load(path_members))\n",
        "\n",
        "df_transactions = (spark.read\n",
        "                   .format(\"parquet\")\n",
        "                   .option(\"header\", True)\n",
        "                   .option(\"inferSchema\", True)\n",
        "                   .load(path_transactions))\n",
        "\n",
        "df_userlogs = (spark.read\n",
        "                   .format(\"parquet\")\n",
        "                   .option(\"header\", True)\n",
        "                   .option(\"inferSchema\", True)\n",
        "                   .load(path_userlogs))"
      ],
      "metadata": {
        "id": "AGfVuxDdTVQO"
      },
      "execution_count": 5,
      "outputs": []
    },
    {
      "cell_type": "markdown",
      "source": [
        "## Trazendo para uma view temporaria para consultas SQL"
      ],
      "metadata": {
        "id": "fRwLtSWv6_F_"
      }
    },
    {
      "cell_type": "code",
      "source": [
        "df_members.createOrReplaceTempView('tb_members')\n",
        "df_transactions.createOrReplaceTempView('tb_transactions')\n",
        "df_userlogs.createOrReplaceTempView('tb_userlogs')"
      ],
      "metadata": {
        "id": "N6xay5Dy7EiN"
      },
      "execution_count": 6,
      "outputs": []
    },
    {
      "cell_type": "markdown",
      "source": [
        "# Importando bibliotecas e funções necessárias para a exploração"
      ],
      "metadata": {
        "id": "sJc0W47Xsr8H"
      }
    },
    {
      "cell_type": "code",
      "source": [
        "from pyspark.sql.functions import col, countDistinct, count, min, max, when, to_date, year, mean, stddev, concat, lit\n",
        "\n",
        "from pyspark.sql.types import *\n",
        "from pyspark.sql.functions import *\n",
        "\n",
        "# import select functions and types\n",
        "from pyspark.sql.types import IntegerType, StringType\n",
        "from pyspark.sql.functions import floor, round"
      ],
      "metadata": {
        "id": "Kf7GtEE5lOSB"
      },
      "execution_count": 7,
      "outputs": []
    },
    {
      "cell_type": "markdown",
      "source": [
        "# Inicio de EDA na camada RAW (Exploratory Data and Analysis)\n",
        "\n"
      ],
      "metadata": {
        "id": "Ui1d1gXtm1aj"
      }
    },
    {
      "cell_type": "markdown",
      "source": [
        "## Dicionario de dados INICIAL"
      ],
      "metadata": {
        "id": "jxjzaNP-pDpT"
      }
    },
    {
      "cell_type": "markdown",
      "source": [
        "### 1. Transactions:\n",
        "  - Colunas:\n",
        "    - 1º 'mnso': id do usuário;\n",
        "    - 2º 'payment_method_id': Método de pagamento;\n",
        "    - 3º 'payment_plan_days': tamanho do plano em DIAS;\n",
        "    - 4º 'plan_list_price': preço do respectivo plano em New Taiwan Dollar (NTD);\n",
        "    - 5º 'actual_amount_paid': Total pago atual (nao entendi);\n",
        "    - 6º 'is_auto_renew': Renovação automatica 1 ou 0;\n",
        "    - 7º 'transaction_date': data da transação no formato %Y %M %D;\n",
        "    - 8º 'membership_expire_date': quando o plano vence no formato %Y %M %D;\n",
        "    - 9º 'is_cancel': se nessa transação o cliente cancelou ou não o plano;\n",
        "    - 10º 'safra': data (Data foto da base).\n",
        "\n",
        "### 2. User_logs:\n",
        "  - Colunas:\n",
        "    - 1º 'msno': id do usuário;\n",
        "    - 2º 'safra': formato %Y %M %D (data foto da base);\n",
        "    - 3º 'num_25': quantidade de músicas tocadas menos de 25% da duração dela;\n",
        "    - 4º 'num_50': quantidade de músicas tocadas entre 25% e 50% da duração dela;\n",
        "    - 5º 'num_75': quantidade de músicas tocadas entre 50% e 75% da duração dela;\n",
        "    - 6º 'num_985': quantidade de músicas tocadas entre 75% e 98,5% da duração dela;\n",
        "    - 7º 'num_100': quantidade de músicas tocadas acima de 98,5%;\n",
        "    - 8º 'num_unq': quantidade de musicas tocadas apenas 1 vez;\n",
        "    - 9º 'total_secs': total de segundos tocados.\n",
        "\n",
        "### 3. Members:\n",
        "  - Colunas:\n",
        "    - 1º 'msno': id do usuário;\n",
        "    - 2º 'city': cidade do usuário?\n",
        "    - 3º 'bd': idade? obs: outliers em 2015\n",
        "    - 4º 'gender': gênero\n",
        "    - 5º 'registered_via': meio de registro do cliente\n",
        "    - 6º 'registration_init_time': primeiro regristo do cliente formato %Y %M %D\n",
        "    - 7º 'safra': Data da foto da base\n",
        "    - 8º 'is_ativo': se o cliente esta ativo ou não"
      ],
      "metadata": {
        "id": "QJkw813WzAld"
      }
    },
    {
      "cell_type": "markdown",
      "source": [
        "## Entendendo o formato dos dados"
      ],
      "metadata": {
        "id": "8xFh6_YtsxVr"
      }
    },
    {
      "cell_type": "code",
      "source": [
        "table = ['tb_members', 'tb_transactions', 'tb_userlogs']\n",
        "\n",
        "for i in table:\n",
        "  print(f'--------Tabela: {i}-------------------------')\n",
        "  qnt_linhas = spark.sql(f'SELECT count(*) AS quantidade_linhas from {i}').collect()[0]['quantidade_linhas']\n",
        "  df = spark.sql(f\"SELECT * from {i}\")\n",
        "  qnt_colunas = len(df.columns)\n",
        "  print(f\"Formato da {i}: \", qnt_colunas, \" X \", qnt_linhas )\n",
        "  spark.sql(f'Describe {i}').show()"
      ],
      "metadata": {
        "colab": {
          "base_uri": "https://localhost:8080/"
        },
        "id": "_fEpPBt-8ujT",
        "outputId": "5309d8e2-1c67-44a9-d95f-37aa41a9fb4a"
      },
      "execution_count": null,
      "outputs": [
        {
          "output_type": "stream",
          "name": "stdout",
          "text": [
            "--------Tabela: tb_members-------------------------\n",
            "Formato da tb_members:  8  X  63867246\n",
            "+--------------------+---------+-------+\n",
            "|            col_name|data_type|comment|\n",
            "+--------------------+---------+-------+\n",
            "|                msno|   string|   null|\n",
            "|               safra|   string|   null|\n",
            "|registration_init...|   string|   null|\n",
            "|                city|   string|   null|\n",
            "|                  bd|   string|   null|\n",
            "|              gender|   string|   null|\n",
            "|      registered_via|   string|   null|\n",
            "|            is_ativo|      int|   null|\n",
            "+--------------------+---------+-------+\n",
            "\n",
            "--------Tabela: tb_transactions-------------------------\n",
            "Formato da tb_transactions:  10  X  20712225\n",
            "+--------------------+---------+-------+\n",
            "|            col_name|data_type|comment|\n",
            "+--------------------+---------+-------+\n",
            "|                msno|   string|   null|\n",
            "|   payment_method_id|   string|   null|\n",
            "|   payment_plan_days|   string|   null|\n",
            "|     plan_list_price|   string|   null|\n",
            "|  actual_amount_paid|   string|   null|\n",
            "|       is_auto_renew|   string|   null|\n",
            "|    transaction_date|   string|   null|\n",
            "|membership_expire...|   string|   null|\n",
            "|           is_cancel|   string|   null|\n",
            "|               safra|      int|   null|\n",
            "+--------------------+---------+-------+\n",
            "\n",
            "--------Tabela: tb_userlogs-------------------------\n",
            "Formato da tb_userlogs:  9  X  26758971\n",
            "+----------+---------+-------+\n",
            "|  col_name|data_type|comment|\n",
            "+----------+---------+-------+\n",
            "|      msno|   string|   null|\n",
            "|     safra|      int|   null|\n",
            "|    num_25|   double|   null|\n",
            "|    num_50|   double|   null|\n",
            "|    num_75|   double|   null|\n",
            "|   num_985|   double|   null|\n",
            "|   num_100|   double|   null|\n",
            "|   num_unq|   double|   null|\n",
            "|total_secs|   double|   null|\n",
            "+----------+---------+-------+\n",
            "\n"
          ]
        }
      ]
    },
    {
      "cell_type": "markdown",
      "source": [
        "## 1 - Entendendo a Members"
      ],
      "metadata": {
        "id": "nQHC_FfnqnPW"
      }
    },
    {
      "cell_type": "markdown",
      "source": [
        "### Primeira visão"
      ],
      "metadata": {
        "id": "CaiRBwNhzUc4"
      }
    },
    {
      "cell_type": "code",
      "source": [
        "spark.sql('select * from tb_members LIMIT 10').show()"
      ],
      "metadata": {
        "colab": {
          "base_uri": "https://localhost:8080/"
        },
        "id": "r8I764LCB5TD",
        "outputId": "27fba1fa-9568-46cf-857e-1d15643b7059"
      },
      "execution_count": null,
      "outputs": [
        {
          "output_type": "stream",
          "name": "stdout",
          "text": [
            "+--------------------+------+----------------------+----+---+------+--------------+--------+\n",
            "|                msno| safra|registration_init_time|city| bd|gender|registered_via|is_ativo|\n",
            "+--------------------+------+----------------------+----+---+------+--------------+--------+\n",
            "|+++snpr7pmobhLKUg...|201612|              20140927|   1|  0|  null|             7|       1|\n",
            "|++/AwGzubug3gT6J+...|201607|              20150322|   1|  0|  null|             9|       0|\n",
            "|++/Gw1B9K+XOlB3hL...|201601|              20121217|  15| 32|  male|             3|       1|\n",
            "|++02XbtviomSxcIBU...|201603|              20131112|  14| 21|  male|             7|       0|\n",
            "|++0O0Bq04sB/9ZcOS...|201610|              20141021|   5| 33|  male|             3|       0|\n",
            "|++2AQgVgYUAqJDw68...|201608|              20150416|  18| 23|  male|             3|       0|\n",
            "|++2gRJ7i2MbO6qUG6...|201608|              20140616|  11| 33|  male|             7|       0|\n",
            "|++3brN43Yd6GURegT...|201604|              20100512|  14| 19|  male|             9|       0|\n",
            "|++4FwgRp7pHuuQWpa...|201605|              20141010|   1|  0|  null|             9|       0|\n",
            "|++4KsBMCDgIrwmv5w...|201604|              20141031|   1|  0|  null|             9|       0|\n",
            "+--------------------+------+----------------------+----+---+------+--------------+--------+\n",
            "\n"
          ]
        }
      ]
    },
    {
      "cell_type": "markdown",
      "source": [
        "Nas primeiras 10 linhas ja vemos a idade = 0, e valores nulos no genero"
      ],
      "metadata": {
        "id": "rQVeSHiArYX1"
      }
    },
    {
      "cell_type": "markdown",
      "source": [
        "### Min e Max de datas das colunas de datas para ver até onde vão"
      ],
      "metadata": {
        "id": "25yqfe2FwsBP"
      }
    },
    {
      "cell_type": "markdown",
      "source": [
        "convertendo os tipos de dados, pois algumas consultas estavam vindo erradas"
      ],
      "metadata": {
        "id": "O11rnhId70Di"
      }
    },
    {
      "cell_type": "code",
      "source": [
        "df_members = (df_members\n",
        "              .withColumn('safra', col('safra').cast('int'))\n",
        "              .withColumn('registration_init_time', to_date(col('registration_init_time'), 'yyyyMMdd'))\n",
        "              .withColumn('bd', col('bd').cast('int'))\n",
        "              .withColumn('registered_via', col('registered_via').cast('int'))\n",
        "              .withColumn('is_ativo', col('is_ativo').cast('boolean'))\n",
        "              )\n",
        "df_members.createOrReplaceTempView('tb_members')\n",
        "\n",
        "(spark.sql(\n",
        "    \"\"\"\n",
        "    select min(registration_init_time), max(registration_init_time),\n",
        "           min(safra), max(safra)\n",
        "    from tb_members\n",
        "    \"\"\"\n",
        "  ).show()\n",
        ")"
      ],
      "metadata": {
        "colab": {
          "base_uri": "https://localhost:8080/"
        },
        "id": "5wuKQFeEn-oV",
        "outputId": "b33c3a7f-0303-4164-bb44-7ab8edece0f3"
      },
      "execution_count": null,
      "outputs": [
        {
          "output_type": "stream",
          "name": "stdout",
          "text": [
            "+---------------------------+---------------------------+----------+----------+\n",
            "|min(registration_init_time)|max(registration_init_time)|min(safra)|max(safra)|\n",
            "+---------------------------+---------------------------+----------+----------+\n",
            "|                 2004-03-26|                 2016-12-31|    201601|    201612|\n",
            "+---------------------------+---------------------------+----------+----------+\n",
            "\n"
          ]
        }
      ]
    },
    {
      "cell_type": "markdown",
      "source": [
        "Temos clientes que foram registrados 2016-12-31, e clientes antigos 2004."
      ],
      "metadata": {
        "id": "hZ5K-WLdqefT"
      }
    },
    {
      "cell_type": "markdown",
      "source": [
        "Temos uma base de usuarios de referente ao ano (safra) de 2016. fotos dos clientes foram tiradas a cada mês, total de 12 fotos (possiveis features stores)"
      ],
      "metadata": {
        "id": "zpjiMYLyfLRf"
      }
    },
    {
      "cell_type": "markdown",
      "source": [
        "### Entendendo a quantidade de usuarios por safra e repetição de Clientes"
      ],
      "metadata": {
        "id": "7rhpeg3acAl2"
      }
    },
    {
      "cell_type": "code",
      "source": [
        "(spark.sql(\n",
        "    \"\"\"\n",
        "      select safra,\n",
        "             count(msno) as qnt_msno,\n",
        "             count(distinct msno) as qnt_distinct_msno,\n",
        "             case when qnt_msno = qnt_distinct_msno then 1 else 0 end as check_colunas\n",
        "      from tb_members\n",
        "      group by 1\n",
        "      order by 1 asc\n",
        "    \"\"\"\n",
        "  ).show()\n",
        ")"
      ],
      "metadata": {
        "colab": {
          "base_uri": "https://localhost:8080/"
        },
        "id": "_TLgCmSAEHrT",
        "outputId": "59d4c548-7d86-4e9c-ca84-5550a986ff5c"
      },
      "execution_count": 35,
      "outputs": [
        {
          "output_type": "stream",
          "name": "stdout",
          "text": [
            "+------+--------+-----------------+-------------+\n",
            "| safra|qnt_msno|qnt_distinct_msno|check_colunas|\n",
            "+------+--------+-----------------+-------------+\n",
            "|201601| 4294184|          4294184|            1|\n",
            "|201602| 4502354|          4502354|            1|\n",
            "|201603| 4697972|          4697972|            1|\n",
            "|201604| 4876301|          4876301|            1|\n",
            "|201605| 5060705|          5060705|            1|\n",
            "|201606| 5250064|          5250064|            1|\n",
            "|201607| 5439337|          5439337|            1|\n",
            "|201608| 5615921|          5615921|            1|\n",
            "|201609| 5778986|          5778986|            1|\n",
            "|201610| 5949288|          5949288|            1|\n",
            "|201611| 6114345|          6114345|            1|\n",
            "|201612| 6287789|          6287789|            1|\n",
            "+------+--------+-----------------+-------------+\n",
            "\n"
          ]
        }
      ]
    },
    {
      "cell_type": "code",
      "source": [
        "(spark.sql(\n",
        "    \"\"\"\n",
        "      select safra,\n",
        "             count(msno) as qnt_msno,\n",
        "             count(distinct msno) as qnt_distinct_msno,\n",
        "             sum(case when is_ativo = 1 then 1 else 0 end) as qnt_ativos,\n",
        "             sum(case when is_ativo = 0 then 1 else 0 end) as qnt_nao_ativos,\n",
        "             case when qnt_msno = qnt_distinct_msno then 1 else 0 end as check_colunas\n",
        "      from tb_members\n",
        "      where registration_init_time like '201602%'\n",
        "      group by 1\n",
        "      order by 1 asc\n",
        "    \"\"\"\n",
        "  ).show()\n",
        ")"
      ],
      "metadata": {
        "colab": {
          "base_uri": "https://localhost:8080/"
        },
        "id": "buS-iccXwzYJ",
        "outputId": "cb4a90ab-d61d-444b-88fc-b107ac59d7f8"
      },
      "execution_count": 39,
      "outputs": [
        {
          "output_type": "stream",
          "name": "stdout",
          "text": [
            "+------+--------+-----------------+----------+--------------+-------------+\n",
            "| safra|qnt_msno|qnt_distinct_msno|qnt_ativos|qnt_nao_ativos|check_colunas|\n",
            "+------+--------+-----------------+----------+--------------+-------------+\n",
            "|201602|  208170|           208170|     30831|        177339|            1|\n",
            "|201603|  208170|           208170|     31351|        176819|            1|\n",
            "|201604|  208170|           208170|     26138|        182032|            1|\n",
            "|201605|  208170|           208170|     26342|        181828|            1|\n",
            "|201606|  208170|           208170|     25097|        183073|            1|\n",
            "|201607|  208170|           208170|     28118|        180052|            1|\n",
            "|201608|  208170|           208170|     27926|        180244|            1|\n",
            "|201609|  208170|           208170|     27943|        180227|            1|\n",
            "|201610|  208170|           208170|     29268|        178902|            1|\n",
            "|201611|  208170|           208170|     30617|        177553|            1|\n",
            "|201612|  208170|           208170|     25194|        182976|            1|\n",
            "+------+--------+-----------------+----------+--------------+-------------+\n",
            "\n"
          ]
        }
      ]
    },
    {
      "cell_type": "markdown",
      "source": [
        "Vendo que a quantidade de ids distintos por safra, é igual a quantidade total de registros por safra, ou seja, clientes nao se repetem dentro de cada safra"
      ],
      "metadata": {
        "id": "QASMMH5bIS4y"
      }
    },
    {
      "cell_type": "markdown",
      "source": [
        "A cada safra não há clientes duplicados, só se repetem por safra, ou seja, no máximo 12 vezes"
      ],
      "metadata": {
        "id": "4cT-PpkLFC8w"
      }
    },
    {
      "cell_type": "markdown",
      "source": [
        "A quantidade de clientes por safra nunca diminui, logo a tabela members deve conter todos os usuarios que um dia ja passou pelo sistema."
      ],
      "metadata": {
        "id": "MVaSWPtbt6nK"
      }
    },
    {
      "cell_type": "markdown",
      "source": [
        "A quantidade que entra, são todos assinantes? todos como is_ativo = 1?"
      ],
      "metadata": {
        "id": "WceDp2o0uMsc"
      }
    },
    {
      "cell_type": "markdown",
      "source": [
        "A diferença de quantidade de clientes da safra 201602 para a 201201 é de 208.170 clientes. Dos 208 mil, poucos entram na base de dados como ativos, ou seja, da para entrar no sistema mas nao ser assinante? Da para ouvir musica mesmo nao sendo assinante?\n",
        "\n",
        "E pela flutuação das quantidades de ativos ao decorrer do tempo, os mesmos clientes parecem nao estar mais ativo e voltar a ser ativo depois. Pode ocorrer de clientes que começam no sistema só assinam depois."
      ],
      "metadata": {
        "id": "xhsW8CnNxyE1"
      }
    },
    {
      "cell_type": "code",
      "source": [
        "(spark.sql(\n",
        "    \"\"\"\n",
        "    WITH contagem_msno as\n",
        "    (\n",
        "      select msno,\n",
        "             count(msno) AS quantidade\n",
        "      from tb_members\n",
        "      group by 1\n",
        "    )\n",
        "    select min(quantidade) as minimo,\n",
        "           max(quantidade) as maximo\n",
        "    from contagem_msno\n",
        "    \"\"\"\n",
        "    ).show()\n",
        ")"
      ],
      "metadata": {
        "colab": {
          "base_uri": "https://localhost:8080/"
        },
        "id": "7fRxR2jIF1UV",
        "outputId": "d8a90721-e889-4610-8ce9-c5ff87745ca4"
      },
      "execution_count": 36,
      "outputs": [
        {
          "output_type": "stream",
          "name": "stdout",
          "text": [
            "+------+------+\n",
            "|minimo|maximo|\n",
            "+------+------+\n",
            "|     1|    12|\n",
            "+------+------+\n",
            "\n"
          ]
        }
      ]
    },
    {
      "cell_type": "markdown",
      "source": [
        "confirmado. Max de repetição 12 e minimo 1 na base geral.\n",
        "\n",
        "temos 12 safras de registro, por isso max de 12 repetições e no minimo 1 para clientes que só apareceram 1 vez e possivelmente cancelaram sua assinatura."
      ],
      "metadata": {
        "id": "pkgbf-xQIerB"
      }
    },
    {
      "cell_type": "markdown",
      "source": [
        "### Entendendo a quantidade de ativos e não ativos por safra"
      ],
      "metadata": {
        "id": "MPn_veQuIj_A"
      }
    },
    {
      "cell_type": "code",
      "source": [
        "(spark.sql(\n",
        "    \"\"\"\n",
        "    WITH contagem_total as (\n",
        "      select safra,\n",
        "             count(msno) AS quantidade\n",
        "      from tb_members\n",
        "      group by 1\n",
        "      order by 1\n",
        "    ),\n",
        "      contagem_ativos as(\n",
        "      select safra,\n",
        "             count(is_ativo) AS quantidade\n",
        "      from tb_members\n",
        "      where is_ativo = 1\n",
        "      group by 1\n",
        "      order by 1\n",
        "    ),\n",
        "      contagem_nao_ativos as(\n",
        "      select safra,\n",
        "             count(is_ativo) AS quantidade\n",
        "      from tb_members\n",
        "      where is_ativo = 0\n",
        "      group by 1\n",
        "      order by 1\n",
        "    ),\n",
        "    join as (\n",
        "      select contagem_total.safra,\n",
        "            contagem_ativos.quantidade AS quantidade_ativos,\n",
        "            contagem_nao_ativos.quantidade AS quantidade_nao_ativos,\n",
        "            contagem_total.quantidade AS quantidade_total\n",
        "      from contagem_total\n",
        "      join contagem_ativos\n",
        "      on contagem_total.safra = contagem_ativos.safra\n",
        "      join contagem_nao_ativos\n",
        "      on contagem_ativos.safra = contagem_nao_ativos.safra\n",
        "      order by 1\n",
        "    )\n",
        "    select (*),\n",
        "           CONCAT(ROUND((quantidade_ativos / quantidade_total) * 100, 1), '%') as taxa_ativos,\n",
        "           CONCAT(ROUND((quantidade_nao_ativos / quantidade_total) * 100, 1), '%') as taxa_nao_ativos\n",
        "    from join\n",
        "    \"\"\"\n",
        "    ).show()\n",
        ")"
      ],
      "metadata": {
        "colab": {
          "base_uri": "https://localhost:8080/"
        },
        "id": "36FownytIy-y",
        "outputId": "58ca42b6-457a-4410-89b9-1f4c34e77263"
      },
      "execution_count": null,
      "outputs": [
        {
          "output_type": "stream",
          "name": "stdout",
          "text": [
            "+------+-----------------+---------------------+----------------+-----------+---------------+\n",
            "| safra|quantidade_ativos|quantidade_nao_ativos|quantidade_total|taxa_ativos|taxa_nao_ativos|\n",
            "+------+-----------------+---------------------+----------------+-----------+---------------+\n",
            "|201601|           888663|              3405521|         4294184|      20.7%|          79.3%|\n",
            "|201602|           918116|              3584238|         4502354|      20.4%|          79.6%|\n",
            "|201603|           871651|              3826321|         4697972|      18.6%|          81.4%|\n",
            "|201604|           831565|              4044736|         4876301|      17.1%|          82.9%|\n",
            "|201605|           849653|              4211052|         5060705|      16.8%|          83.2%|\n",
            "|201606|           844884|              4405180|         5250064|      16.1%|          83.9%|\n",
            "|201607|           967936|              4471401|         5439337|      17.8%|          82.2%|\n",
            "|201608|           980643|              4635278|         5615921|      17.5%|          82.5%|\n",
            "|201609|           991285|              4787701|         5778986|      17.2%|          82.8%|\n",
            "|201610|          1048557|              4900731|         5949288|      17.6%|          82.4%|\n",
            "|201611|          1071113|              5043232|         6114345|      17.5%|          82.5%|\n",
            "|201612|           978799|              5308990|         6287789|      15.6%|          84.4%|\n",
            "+------+-----------------+---------------------+----------------+-----------+---------------+\n",
            "\n"
          ]
        }
      ]
    },
    {
      "cell_type": "markdown",
      "source": [
        "Maior parte dos clientes por safra são não ativos."
      ],
      "metadata": {
        "id": "76v1Ep6aOy6Q"
      }
    },
    {
      "cell_type": "markdown",
      "source": [
        "### Vendo se há valores missing"
      ],
      "metadata": {
        "id": "QjzgGMLBJRr1"
      }
    },
    {
      "cell_type": "code",
      "source": [
        "# repetindo o codigo a cima em sql agora\n",
        "\n",
        "(spark.sql(\n",
        "    \"\"\"\n",
        "      SELECT\n",
        "        SUM(CASE WHEN msno IS NULL THEN 1 ELSE 0 END) AS msno,\n",
        "        SUM(CASE WHEN safra IS NULL THEN 1 ELSE 0 END) AS safra,\n",
        "        SUM(CASE WHEN registration_init_time IS NULL THEN 1 ELSE 0 END) AS registration_init_time,\n",
        "        SUM(CASE WHEN city IS NULL THEN 1 ELSE 0 END) AS city,\n",
        "        SUM(CASE WHEN bd IS NULL THEN 1 ELSE 0 END) AS bd,\n",
        "        SUM(CASE WHEN gender IS NULL THEN 1 ELSE 0 END) AS gender,\n",
        "        SUM(CASE WHEN registered_via IS NULL THEN 1 ELSE 0 END) AS registered_via,\n",
        "        SUM(CASE WHEN is_ativo IS NULL THEN 1 ELSE 0 END) AS is_ativo\n",
        "      FROM tb_members\n",
        "    \"\"\"\n",
        "  ).show()\n",
        ")"
      ],
      "metadata": {
        "colab": {
          "base_uri": "https://localhost:8080/"
        },
        "id": "VsmpTKJNP3J6",
        "outputId": "8a106799-686a-40b2-efae-31c3f4ade1cf"
      },
      "execution_count": null,
      "outputs": [
        {
          "output_type": "stream",
          "name": "stdout",
          "text": [
            "+----+-----+----------------------+----+---+--------+--------------+--------+\n",
            "|msno|safra|registration_init_time|city| bd|  gender|registered_via|is_ativo|\n",
            "+----+-----+----------------------+----+---+--------+--------------+--------+\n",
            "|   0|    0|                     0|   0|  0|38210177|             0|       0|\n",
            "+----+-----+----------------------+----+---+--------+--------------+--------+\n",
            "\n"
          ]
        }
      ]
    },
    {
      "cell_type": "markdown",
      "source": [
        "38 milhoes de registros vazios da coluna de genero, de um total de 63 milhoes"
      ],
      "metadata": {
        "id": "riQ9rquHKFat"
      }
    },
    {
      "cell_type": "markdown",
      "source": [
        "Ver como esta a distribuição dos valores validos dos generos"
      ],
      "metadata": {
        "id": "RW_AoXY-1OdY"
      }
    },
    {
      "cell_type": "code",
      "source": [
        "(spark.sql(\n",
        "    \"\"\"\n",
        "      SELECT gender,\n",
        "             count(*)\n",
        "      FROM tb_members\n",
        "      group by 1\n",
        "    \"\"\"\n",
        "  ).show()\n",
        ")"
      ],
      "metadata": {
        "colab": {
          "base_uri": "https://localhost:8080/"
        },
        "id": "Bwsd_nNgzg1g",
        "outputId": "3c802007-0157-4540-f577-16c2990b7585"
      },
      "execution_count": null,
      "outputs": [
        {
          "output_type": "stream",
          "name": "stdout",
          "text": [
            "+------+--------+\n",
            "|gender|count(1)|\n",
            "+------+--------+\n",
            "|  null|38210177|\n",
            "|female|12581644|\n",
            "|  male|13075425|\n",
            "+------+--------+\n",
            "\n"
          ]
        }
      ]
    },
    {
      "cell_type": "markdown",
      "source": [
        "maior parte homens, mas dada a proporção esta quase balanceado."
      ],
      "metadata": {
        "id": "HbL4rlu-X6Ft"
      }
    },
    {
      "cell_type": "markdown",
      "source": [
        "### Entendendo os valores de cada coluna da Members"
      ],
      "metadata": {
        "id": "ZDxzUyU1vfEl"
      }
    },
    {
      "cell_type": "code",
      "source": [
        "def executa_query_member_por_coluna(coluna):\n",
        "  query = f\"\"\"\n",
        "            select count(distinct {coluna}) as quantidade_distinta_{coluna}\n",
        "            from tb_members\n",
        "           \"\"\"\n",
        "  spark.sql(query).show()\n",
        "\n",
        "for i in df_members.columns:\n",
        "    print(i)\n",
        "    executa_query_member_por_coluna(i)"
      ],
      "metadata": {
        "colab": {
          "base_uri": "https://localhost:8080/"
        },
        "id": "TCQK5vX3POjj",
        "outputId": "a21508ef-12ac-4a3f-ac79-144d5bffe5db"
      },
      "execution_count": null,
      "outputs": [
        {
          "output_type": "stream",
          "name": "stdout",
          "text": [
            "msno\n",
            "+------------------------+\n",
            "|quantidade_distinta_msno|\n",
            "+------------------------+\n",
            "|                 6287789|\n",
            "+------------------------+\n",
            "\n",
            "safra\n",
            "+-------------------------+\n",
            "|quantidade_distinta_safra|\n",
            "+-------------------------+\n",
            "|                       12|\n",
            "+-------------------------+\n",
            "\n",
            "registration_init_time\n",
            "+------------------------------------------+\n",
            "|quantidade_distinta_registration_init_time|\n",
            "+------------------------------------------+\n",
            "|                                      4663|\n",
            "+------------------------------------------+\n",
            "\n",
            "city\n",
            "+------------------------+\n",
            "|quantidade_distinta_city|\n",
            "+------------------------+\n",
            "|                      21|\n",
            "+------------------------+\n",
            "\n",
            "bd\n",
            "+----------------------+\n",
            "|quantidade_distinta_bd|\n",
            "+----------------------+\n",
            "|                   385|\n",
            "+----------------------+\n",
            "\n",
            "gender\n",
            "+--------------------------+\n",
            "|quantidade_distinta_gender|\n",
            "+--------------------------+\n",
            "|                         2|\n",
            "+--------------------------+\n",
            "\n",
            "registered_via\n",
            "+----------------------------------+\n",
            "|quantidade_distinta_registered_via|\n",
            "+----------------------------------+\n",
            "|                                17|\n",
            "+----------------------------------+\n",
            "\n",
            "is_ativo\n",
            "+----------------------------+\n",
            "|quantidade_distinta_is_ativo|\n",
            "+----------------------------+\n",
            "|                           2|\n",
            "+----------------------------+\n",
            "\n"
          ]
        }
      ]
    },
    {
      "cell_type": "markdown",
      "source": [
        "###  Observações e Questionamentos\n",
        "\n",
        " - Clientes cadastrados a mais de 10 anos (4663 dias distintos)\n",
        " - 21 cidades, avaliar se tem correlação com Churn\n",
        " - 385 idades distintas? algo esta muito errado.\n",
        " - 2 generos e mais da metade missing (analisar como essa variavel pode se comportar para o modelo)\n",
        " - 17 tipos de jeitos de se registrar diferentes\n",
        "\n"
      ],
      "metadata": {
        "id": "GeBx35zs1FNR"
      }
    },
    {
      "cell_type": "markdown",
      "source": [
        "### Avaliando as idades 'bd'"
      ],
      "metadata": {
        "id": "bjFaGRiC15XN"
      }
    },
    {
      "cell_type": "code",
      "source": [
        "df_members.select('bd').describe().show()"
      ],
      "metadata": {
        "colab": {
          "base_uri": "https://localhost:8080/"
        },
        "id": "oHiXunvn0O5q",
        "outputId": "5e29436b-7e5a-4809-ada0-bcb515a7d779"
      },
      "execution_count": null,
      "outputs": [
        {
          "output_type": "stream",
          "name": "stdout",
          "text": [
            "+-------+------------------+\n",
            "|summary|                bd|\n",
            "+-------+------------------+\n",
            "|  count|          63867246|\n",
            "|   mean|11.430160210759675|\n",
            "| stddev|19.041318387984273|\n",
            "|    min|             -7168|\n",
            "|    max|              2016|\n",
            "+-------+------------------+\n",
            "\n"
          ]
        }
      ]
    },
    {
      "cell_type": "code",
      "source": [
        "(spark.sql(\n",
        "    \"\"\"\n",
        "      select min(bd) as minimo,\n",
        "             max(bd) as maximo,\n",
        "             percentile_approx(bd, 0.5) AS mediana\n",
        "      from tb_members\n",
        "    \"\"\"\n",
        "  ).show()\n",
        ")"
      ],
      "metadata": {
        "colab": {
          "base_uri": "https://localhost:8080/"
        },
        "id": "Mq2KI0SAWQ5-",
        "outputId": "6bcd9f3b-bacf-46c9-fcdb-1973cc2dabe5"
      },
      "execution_count": null,
      "outputs": [
        {
          "output_type": "stream",
          "name": "stdout",
          "text": [
            "+------+------+-------+\n",
            "|minimo|maximo|mediana|\n",
            "+------+------+-------+\n",
            "| -7168|  2016|      0|\n",
            "+------+------+-------+\n",
            "\n"
          ]
        }
      ]
    },
    {
      "cell_type": "markdown",
      "source": [
        "mediana igual a 0;"
      ],
      "metadata": {
        "id": "ZjmPS05G1W6V"
      }
    },
    {
      "cell_type": "code",
      "source": [
        "(spark.sql(\n",
        "    \"\"\"\n",
        "      select count(bd)\n",
        "      from tb_members\n",
        "      where bd = 0\n",
        "    \"\"\"\n",
        "  ).show()\n",
        ")"
      ],
      "metadata": {
        "colab": {
          "base_uri": "https://localhost:8080/"
        },
        "id": "p_xkLO3KeXf-",
        "outputId": "59938512-9e23-401e-cba2-782a66a85d47"
      },
      "execution_count": null,
      "outputs": [
        {
          "output_type": "stream",
          "name": "stdout",
          "text": [
            "+---------+\n",
            "|count(bd)|\n",
            "+---------+\n",
            "| 39509864|\n",
            "+---------+\n",
            "\n"
          ]
        }
      ]
    },
    {
      "cell_type": "markdown",
      "source": [
        "Justificando a mediana ser 0, mais da metade dos dados dados são iguais a zero, indicando uma possivel falha na captura dos dados, valores discrepantes, ou valores nulos."
      ],
      "metadata": {
        "id": "e6Bx2IBqeofB"
      }
    },
    {
      "cell_type": "markdown",
      "source": [
        "#### Entendendo brevemente a distribuição dos dados"
      ],
      "metadata": {
        "id": "0N5bIo6-EM_P"
      }
    },
    {
      "cell_type": "code",
      "source": [
        "(spark.sql(\n",
        "    \"\"\"\n",
        "    SELECT\n",
        "        safra,\n",
        "        min(bd) AS minimo_per_safra,\n",
        "        max(bd) AS maximo_per_safra,\n",
        "        SUM(CASE WHEN bd IS NULL THEN 0 ELSE 1 END) AS bd_total,\n",
        "        SUM(CASE WHEN bd <= 0 THEN 1 ELSE 0 END) AS bd_menor_que_0,\n",
        "        SUM(CASE WHEN bd > 120 THEN 1 ELSE 0 END) AS bd_maior_que_120,\n",
        "        SUM(CASE WHEN bd > 0 AND bd <= 120 THEN 1 ELSE 0 END) AS bd_entre_0_e_120,\n",
        "        CONCAT(ROUND(((bd_menor_que_0 + bd_maior_que_120) / bd_total) * 100, 1), '%') as taxa_de_fora_da_idade,\n",
        "        CONCAT(ROUND((bd_entre_0_e_120 / bd_total) * 100, 1), '%') as taxa_de_dentro_da_idade\n",
        "    FROM tb_members\n",
        "    group by 1\n",
        "    order by 1 asc\n",
        "    \"\"\"\n",
        "  ).show()\n",
        ")"
      ],
      "metadata": {
        "colab": {
          "base_uri": "https://localhost:8080/"
        },
        "id": "w_IRXvZxbtUJ",
        "outputId": "24b6ea17-a178-4934-9115-a56dc4bbda2c"
      },
      "execution_count": null,
      "outputs": [
        {
          "output_type": "stream",
          "name": "stdout",
          "text": [
            "+------+----------------+----------------+--------+--------------+----------------+----------------+---------------------+-----------------------+\n",
            "| safra|minimo_per_safra|maximo_per_safra|bd_total|bd_menor_que_0|bd_maior_que_120|bd_entre_0_e_120|taxa_de_fora_da_idade|taxa_de_dentro_da_idade|\n",
            "+------+----------------+----------------+--------+--------------+----------------+----------------+---------------------+-----------------------+\n",
            "|201601|           -7168|            2016| 4294184|       2397278|             330|         1896576|                55.8%|                  44.2%|\n",
            "|201602|           -7168|            2016| 4502354|       2575982|             333|         1926039|                57.2%|                  42.8%|\n",
            "|201603|           -7168|            2016| 4697972|       2745403|             339|         1952230|                58.4%|                  41.6%|\n",
            "|201604|           -7168|            2016| 4876301|       2901081|             343|         1974877|                59.5%|                  40.5%|\n",
            "|201605|           -7168|            2016| 5060705|       3063294|             345|         1997066|                60.5%|                  39.5%|\n",
            "|201606|           -7168|            2016| 5250064|       3229271|             346|         2020447|                61.5%|                  38.5%|\n",
            "|201607|           -7168|            2016| 5439337|       3394233|             350|         2044754|                62.4%|                  37.6%|\n",
            "|201608|           -7168|            2016| 5615921|       3548369|             354|         2067198|                63.2%|                  36.8%|\n",
            "|201609|           -7168|            2016| 5778986|       3691198|             357|         2087431|                63.9%|                  36.1%|\n",
            "|201610|           -7168|            2016| 5949288|       3840964|             359|         2107965|                64.6%|                  35.4%|\n",
            "|201611|           -7168|            2016| 6114345|       3986279|             363|         2127703|                65.2%|                  34.8%|\n",
            "|201612|           -7168|            2016| 6287789|       4139590|             365|         2147834|                65.8%|                  34.2%|\n",
            "+------+----------------+----------------+--------+--------------+----------------+----------------+---------------------+-----------------------+\n",
            "\n"
          ]
        }
      ]
    },
    {
      "cell_type": "code",
      "source": [
        "(spark.sql(\n",
        "    \"\"\"\n",
        "    SELECT\n",
        "        SUM(CASE WHEN bd IS NULL THEN 0 ELSE 1 END) AS bd_total,\n",
        "        SUM(CASE WHEN bd <= 0 THEN 1 ELSE 0 END) AS bd_menor_que_0,\n",
        "        SUM(CASE WHEN bd > 0 and bd <= 12 THEN 1 ELSE 0 END) AS bd_menor_que_12,\n",
        "        SUM(CASE WHEN bd >= 13 and bd <= 19 THEN 1 ELSE 0 END) AS bd_entre_13_e_19,\n",
        "        SUM(CASE WHEN bd >= 20 and bd <= 30 THEN 1 ELSE 0 END) AS bd_entre_20_e_30,\n",
        "        SUM(CASE WHEN bd >= 31 and bd <= 64 THEN 1 ELSE 0 END) AS bd_entre_31_e_64,\n",
        "        SUM(CASE WHEN bd >= 65 and bd <= 122 THEN 1 ELSE 0 END) AS bd_entre_65_e_122,\n",
        "        SUM(CASE WHEN bd > 122 THEN 1 ELSE 0 END) AS bd_maior_que_122,\n",
        "        SUM(CASE WHEN bd > 0 AND bd <= 122 THEN 1 ELSE 0 END) AS bd_entre_0_e_122,\n",
        "        CONCAT(ROUND(((bd_menor_que_0 + bd_maior_que_122) / bd_total) * 100, 1), '%') as taxa_de_fora_da_idade,\n",
        "        CONCAT(ROUND((bd_entre_0_e_122 / bd_total) * 100, 1), '%') as taxa_de_dentro_da_idade\n",
        "    FROM tb_members\n",
        "    \"\"\"\n",
        "  ).show()\n",
        ")"
      ],
      "metadata": {
        "colab": {
          "base_uri": "https://localhost:8080/"
        },
        "id": "iVeI1AG7JoBK",
        "outputId": "ad068066-7d99-439d-aea2-1fcefa110292"
      },
      "execution_count": null,
      "outputs": [
        {
          "output_type": "stream",
          "name": "stdout",
          "text": [
            "+--------+--------------+---------------+----------------+----------------+----------------+-----------------+----------------+----------------+---------------------+-----------------------+\n",
            "|bd_total|bd_menor_que_0|bd_menor_que_12|bd_entre_13_e_19|bd_entre_20_e_30|bd_entre_31_e_64|bd_entre_65_e_122|bd_maior_que_122|bd_entre_0_e_122|taxa_de_fora_da_idade|taxa_de_dentro_da_idade|\n",
            "+--------+--------------+---------------+----------------+----------------+----------------+-----------------+----------------+----------------+---------------------+-----------------------+\n",
            "|63867246|      39512942|          14934|         3326654|        11589809|         9205006|           213813|            4088|        24350216|                61.9%|                  38.1%|\n",
            "+--------+--------------+---------------+----------------+----------------+----------------+-----------------+----------------+----------------+---------------------+-----------------------+\n",
            "\n"
          ]
        }
      ]
    },
    {
      "cell_type": "code",
      "source": [
        "(spark.sql(\n",
        "    \"\"\"\n",
        "    SELECT\n",
        "        SUM(CASE WHEN bd = 0 THEN 1 ELSE 0 END) AS bd_0,\n",
        "        SUM(CASE WHEN bd < 0 THEN 1 ELSE 0 END) AS bd_1,\n",
        "        SUM(CASE WHEN bd > 0 THEN 1 ELSE 0 END) AS bd_2,\n",
        "        count(bd) as total,\n",
        "        (bd_0 + bd_1 + bd_2)/total as checagem\n",
        "    FROM tb_members\n",
        "    \"\"\"\n",
        "  ).show()\n",
        ")"
      ],
      "metadata": {
        "colab": {
          "base_uri": "https://localhost:8080/"
        },
        "id": "MrObdUyvdOK3",
        "outputId": "5cca104d-bc5a-49be-9b13-c3d32bb19185"
      },
      "execution_count": null,
      "outputs": [
        {
          "output_type": "stream",
          "name": "stdout",
          "text": [
            "+--------+----+--------+--------+--------+\n",
            "|    bd_0|bd_1|    bd_2|   total|checagem|\n",
            "+--------+----+--------+--------+--------+\n",
            "|39509864|3078|24354304|63867246|     1.0|\n",
            "+--------+----+--------+--------+--------+\n",
            "\n"
          ]
        }
      ]
    },
    {
      "cell_type": "markdown",
      "source": [
        "identificado uma grande quantidade de valores iguais a zero"
      ],
      "metadata": {
        "id": "o3tdzM-GeueG"
      }
    },
    {
      "cell_type": "markdown",
      "source": [
        "#### Vendo a distribuição dos outliers por ano, para confirmar que estão concentrados no ano de 2015, como diz o enunciado"
      ],
      "metadata": {
        "id": "pbC9STETcO9j"
      }
    },
    {
      "cell_type": "code",
      "source": [
        "df_year_members = df_members.withColumn('year', year(col('registration_init_time')))\n",
        "df_year_members.createOrReplaceTempView('tb_members_year')\n",
        "\n",
        "(spark.sql(\n",
        "    \"\"\"\n",
        "    SELECT\n",
        "        year,\n",
        "        min(bd) AS minimo_per_year,\n",
        "        max(bd) AS maximo_per_year,\n",
        "        SUM(CASE WHEN bd IS NULL THEN 0 ELSE 1 END) AS bd_total,\n",
        "        SUM(CASE WHEN bd <= 0 THEN 1 ELSE 0 END) AS bd_menor_que_0,\n",
        "        SUM(CASE WHEN bd > 120 THEN 1 ELSE 0 END) AS bd_maior_que_120,\n",
        "        SUM(CASE WHEN bd > 0 AND bd <= 120 THEN 1 ELSE 0 END) AS bd_entre_0_e_120,\n",
        "        CONCAT(ROUND(((bd_menor_que_0 + bd_maior_que_120) / bd_total) * 100, 1), '%') as taxa_de_fora_da_idade,\n",
        "        CONCAT(ROUND((bd_entre_0_e_120 / bd_total) * 100, 1), '%') as taxa_de_dentro_da_idade\n",
        "    FROM tb_members_year\n",
        "    group by 1\n",
        "    order by 1 asc\n",
        "    \"\"\"\n",
        "  ).show()\n",
        ")"
      ],
      "metadata": {
        "colab": {
          "base_uri": "https://localhost:8080/"
        },
        "id": "nk-5jR8N9RQY",
        "outputId": "78c24af2-d245-433b-ec53-3a588f7ca8ef"
      },
      "execution_count": null,
      "outputs": [
        {
          "output_type": "stream",
          "name": "stdout",
          "text": [
            "+----+---------------+---------------+--------+--------------+----------------+----------------+---------------------+-----------------------+\n",
            "|year|minimo_per_year|maximo_per_year|bd_total|bd_menor_que_0|bd_maior_que_120|bd_entre_0_e_120|taxa_de_fora_da_idade|taxa_de_dentro_da_idade|\n",
            "+----+---------------+---------------+--------+--------------+----------------+----------------+---------------------+-----------------------+\n",
            "|2004|              0|            786|  314808|         77088|              12|          237708|                24.5%|                  75.5%|\n",
            "|2005|              0|            237|  496188|         75480|              12|          420696|                15.2%|                  84.8%|\n",
            "|2006|              0|            994|  647436|           732|              12|          646692|                 0.1%|                  99.9%|\n",
            "|2007|          -3152|           1821| 1077960|           876|              24|         1077060|                 0.1%|                  99.9%|\n",
            "|2008|              0|           1820|  812280|           696|              12|          811572|                 0.1%|                  99.9%|\n",
            "|2009|              0|           1033|  763596|         14256|              72|          749268|                 1.9%|                  98.1%|\n",
            "|2010|            -50|           1946| 1380900|        391248|             348|          989304|                28.4%|                  71.6%|\n",
            "|2011|          -7168|           1958| 2148612|        712452|             816|         1435344|                33.2%|                  66.8%|\n",
            "|2012|          -1970|           1056| 3398280|       1253928|             540|         2143812|                36.9%|                  63.1%|\n",
            "|2013|          -2828|           1062| 6296664|       3967476|             804|         2328384|                63.0%|                  37.0%|\n",
            "|2014|          -5978|           1937|11709312|       7279152|             576|         4429584|                62.2%|                  37.8%|\n",
            "|2015|          -6998|           2016|19446300|      12368772|             720|         7076808|                63.6%|                  36.4%|\n",
            "|2016|           -529|           1421|15374910|      13370786|             236|         2003888|                87.0%|                  13.0%|\n",
            "+----+---------------+---------------+--------+--------------+----------------+----------------+---------------------+-----------------------+\n",
            "\n"
          ]
        }
      ]
    },
    {
      "cell_type": "markdown",
      "source": [
        "os outliers, como foi sugerido no enunciado do problema estão não só em 2015, mas concentrados em outros anos tambem."
      ],
      "metadata": {
        "id": "3ZfLyYkn-vXK"
      }
    },
    {
      "cell_type": "markdown",
      "source": [
        "### Testando a Regra de Tukey pra identificar os outliers"
      ],
      "metadata": {
        "id": "7B4YP2Ub6vrE"
      }
    },
    {
      "cell_type": "code",
      "source": [
        "quartis = (spark.sql(\n",
        "    \"\"\"\n",
        "      SELECT\n",
        "          percentile_approx(bd, 0.25) AS q1,\n",
        "          percentile_approx(bd, 0.75) AS q3\n",
        "      FROM tb_members\n",
        "    \"\"\"\n",
        "))\n",
        "\n",
        "quartis.show()\n",
        "\n",
        "q1 = quartis.collect()[0]['q1']\n",
        "q3 = quartis.collect()[0]['q3']\n",
        "\n",
        "iqr = q3 - q1\n",
        "\n",
        "low_bound = q1 - 1.5 * iqr\n",
        "upper_bound = q3 + 1.5 * iqr\n",
        "\n",
        "print(f'low_bound: {low_bound}, upper_bound: {upper_bound}')"
      ],
      "metadata": {
        "colab": {
          "base_uri": "https://localhost:8080/"
        },
        "id": "ViQcqQAa6rf3",
        "outputId": "52b74c3c-4113-4ee3-b1b9-b2307b9765e9"
      },
      "execution_count": null,
      "outputs": [
        {
          "output_type": "stream",
          "name": "stdout",
          "text": [
            "+---+---+\n",
            "| q1| q3|\n",
            "+---+---+\n",
            "|  0| 24|\n",
            "+---+---+\n",
            "\n",
            "low_bound: -36.0, upper_bound: 60.0\n"
          ]
        }
      ]
    },
    {
      "cell_type": "code",
      "source": [
        "(spark.sql(\n",
        "    \"\"\"\n",
        "      SELECT\n",
        "          count(bd) AS qtd\n",
        "      FROM tb_members\n",
        "      where bd between -36 and 0\n",
        "    \"\"\"\n",
        "  ).show()\n",
        ")"
      ],
      "metadata": {
        "colab": {
          "base_uri": "https://localhost:8080/"
        },
        "id": "VJCp8v_W7pwb",
        "outputId": "b168ac58-bd93-47fa-a623-f78596b943dd"
      },
      "execution_count": null,
      "outputs": [
        {
          "output_type": "stream",
          "name": "stdout",
          "text": [
            "+--------+\n",
            "|     qtd|\n",
            "+--------+\n",
            "|39510164|\n",
            "+--------+\n",
            "\n"
          ]
        }
      ]
    },
    {
      "cell_type": "markdown",
      "source": [
        "entendendo se há valores entre o 0 e -36 (low_bound). Segundo a regra de turkey, os zeros continuariam dentro dos limites dos dados, seriam considerados outliers somente valores abaixo de -36 e acima de 60"
      ],
      "metadata": {
        "id": "eVwMh2Yx-rpn"
      }
    },
    {
      "cell_type": "markdown",
      "source": [
        "### Testando o Z-Score para identificação de outliers"
      ],
      "metadata": {
        "id": "sn6VELP_hXCG"
      }
    },
    {
      "cell_type": "code",
      "source": [
        "# Média e desvio padrão\n",
        "stats = df_members.select(mean(\"bd\").alias(\"mean\"), stddev(\"bd\").alias(\"stddev\")).collect()[0]\n",
        "mean_bd, stddev_bd = stats[\"mean\"], stats[\"stddev\"]\n",
        "\n",
        "# Adicionando coluna Z-score\n",
        "data = df_members.withColumn(\"z_score_bd\", (col(\"bd\") - mean_bd) / stddev_bd)\n",
        "\n",
        "# Identificando outliers\n",
        "data1 = data.filter((col(\"z_score_bd\") > 3) | (col(\"z_score_bd\") < -3))\n",
        "data1.show()\n",
        "\n",
        "# selecionar o minimo e maximo da coluna bd do data1\n",
        "data1.select(min(\"bd\"), max(\"bd\")).show()\n",
        "\n",
        "# Identificando os valores dentro da faixa\n",
        "data2 = data.filter((col(\"z_score_bd\") <= 3) & (col(\"z_score_bd\") >= -3))\n",
        "data2.show()\n",
        "\n",
        "# selecionar o minimo e maximo da coluna bd do data2\n",
        "data2.select(min(\"bd\"), max(\"bd\")).show()"
      ],
      "metadata": {
        "colab": {
          "base_uri": "https://localhost:8080/"
        },
        "id": "aOITLuimhavO",
        "outputId": "b0aa6d3d-bac0-4cf2-a510-81d167d5ed31"
      },
      "execution_count": null,
      "outputs": [
        {
          "output_type": "stream",
          "name": "stdout",
          "text": [
            "+-------+-------+\n",
            "|min(bd)|max(bd)|\n",
            "+-------+-------+\n",
            "|   -176|    994|\n",
            "+-------+-------+\n",
            "\n",
            "+-------+-------+\n",
            "|min(bd)|max(bd)|\n",
            "+-------+-------+\n",
            "|    -10|      9|\n",
            "+-------+-------+\n",
            "\n"
          ]
        }
      ]
    },
    {
      "cell_type": "markdown",
      "source": [
        "### OutLiers identificados, Colunas com tipos diferentes identificados sendo necessário transformar para a bronze\n",
        "\n",
        "Outliers na 'bd'. Possiveis soluções para os outliers: Exclusão, substituição. Decidir por meio de algo justificado o que será considerado como outliers para o tratamento da BD (regra de turkey ou a logica de que a pessoa no mundo mais velha teve 122 anos, e nao existe idade negativa?) Analisar a correlação de churn com a idade e ver sua importancia. Para o momento: alterações esperadas para a construção da bronze, agora apenas sinalizar idades invalidas e que precisam ser tratadas. Grande quantidaded e valores iguais a zero.\n",
        "\n",
        "Entender melhor a coluna de data 'safra', o que ela realmente representa, usar ela ou usar a registred_init_time?\n",
        "\n",
        "Documentar:\n",
        "Quantos valores foram removidos ou corrigidos?\n",
        "Que critérios foram usados para identificar os valores inválidos?\n",
        "Qual o impacto de substituir ou excluir? A quantidade de substituição é grande ou pequena?"
      ],
      "metadata": {
        "id": "5vmbcoqGEdst"
      }
    },
    {
      "cell_type": "markdown",
      "source": [
        "## 2 - Entendendo a Transaction"
      ],
      "metadata": {
        "id": "pU6-AwtHq4MD"
      }
    },
    {
      "cell_type": "markdown",
      "source": [
        "### Primeira visão"
      ],
      "metadata": {
        "id": "tKIoi_KIoPLo"
      }
    },
    {
      "cell_type": "code",
      "source": [
        "spark.sql('select * from tb_transactions LIMIT 10').show()"
      ],
      "metadata": {
        "colab": {
          "base_uri": "https://localhost:8080/"
        },
        "id": "XId2L1aUeJaP",
        "outputId": "7eb848d7-6ed9-4029-8a07-bbc5444e308a"
      },
      "execution_count": null,
      "outputs": [
        {
          "output_type": "stream",
          "name": "stdout",
          "text": [
            "+--------------------+-----------------+-----------------+---------------+------------------+-------------+----------------+----------------------+---------+------+\n",
            "|                msno|payment_method_id|payment_plan_days|plan_list_price|actual_amount_paid|is_auto_renew|transaction_date|membership_expire_date|is_cancel| safra|\n",
            "+--------------------+-----------------+-----------------+---------------+------------------+-------------+----------------+----------------------+---------+------+\n",
            "|+++IZseRRiQS9aaSk...|               38|              410|           1788|              1788|            0|        20151121|              20170104|        0|201511|\n",
            "|+++snpr7pmobhLKUg...|               41|               30|            149|               149|            1|        20150526|              20150626|        0|201505|\n",
            "|+++snpr7pmobhLKUg...|               41|               30|            149|               149|            1|        20150926|              20151026|        0|201509|\n",
            "|++/9R3sX37CjxbY/A...|               41|               30|            149|               149|            1|        20160615|              20160715|        0|201606|\n",
            "|++/Gw1B9K+XOlB3hL...|               40|               31|            149|               149|            1|        20150113|              20150216|        0|201501|\n",
            "|++0nOC7BmrUTtcSbo...|               16|               30|            149|               149|            1|        20151012|              20151111|        0|201510|\n",
            "|++0t0Uy2D3r1pRVxg...|               35|                7|              0|                 0|            0|        20150614|              20150615|        0|201506|\n",
            "|++1eOqCPRmzyBjMGv...|               35|                7|              0|                 0|            0|        20161101|              20161108|        0|201611|\n",
            "|++2wdWRV3Thy9HZyR...|               41|               30|            149|                 0|            1|        20151008|              20151015|        1|201510|\n",
            "|++3A6JMzYJeron30G...|               41|               30|            149|               119|            1|        20150611|              20150711|        0|201506|\n",
            "+--------------------+-----------------+-----------------+---------------+------------------+-------------+----------------+----------------------+---------+------+\n",
            "\n"
          ]
        }
      ]
    },
    {
      "cell_type": "markdown",
      "source": [
        "Visto valores de plan_list_price iguais ao actual_amount_paid, para valores altos que é incomum. Para valores baixos é entendivel, pode ser o primeiro mes do cliente, mas valores como 1788 é questionavel.\n"
      ],
      "metadata": {
        "id": "ETEEeaS9ejQO"
      }
    },
    {
      "cell_type": "markdown",
      "source": [
        "### Entendendo os minimos e máximos das colunas de data"
      ],
      "metadata": {
        "id": "Mw0PAf1noTEV"
      }
    },
    {
      "cell_type": "code",
      "source": [
        "df_transactions = (df_transactions.withColumn('payment_method_id', col('payment_method_id').cast('int'))\n",
        "                                  .withColumn('payment_plan_days', col('payment_plan_days').cast('int'))\n",
        "                                  .withColumn('plan_list_price', col('plan_list_price').cast('float'))\n",
        "                                  .withColumn('actual_amount_paid', col('actual_amount_paid').cast('float'))\n",
        "                                  .withColumn('is_auto_renew', col('is_auto_renew').cast('boolean'))\n",
        "                                  .withColumn('transaction_date', to_date(col('transaction_date'), 'yyyyMMdd'))\n",
        "                                  .withColumn('membership_expire_date', to_date(col('membership_expire_date'), 'yyyyMMdd'))\n",
        "                                  .withColumn('is_cancel', col('is_cancel').cast('boolean'))\n",
        "                                  .withColumn('safra', col('safra').cast('int'))\n",
        "                                  )\n",
        "df_transactions.createOrReplaceTempView('tb_transactions')\n",
        "\n",
        "(spark.sql(\n",
        "    \"\"\"\n",
        "    select min(transaction_date), max(transaction_date),\n",
        "           min(membership_expire_date), max(membership_expire_date),\n",
        "           min(safra), max(safra)\n",
        "    from tb_transactions\n",
        "    \"\"\"\n",
        "  ).show()\n",
        ")"
      ],
      "metadata": {
        "colab": {
          "base_uri": "https://localhost:8080/"
        },
        "id": "35OMxNEyAMg2",
        "outputId": "6e2cc0b7-3fa0-4cdd-c30a-d2eb58e8b8f1"
      },
      "execution_count": null,
      "outputs": [
        {
          "output_type": "stream",
          "name": "stdout",
          "text": [
            "+---------------------+---------------------+---------------------------+---------------------------+----------+----------+\n",
            "|min(transaction_date)|max(transaction_date)|min(membership_expire_date)|max(membership_expire_date)|min(safra)|max(safra)|\n",
            "+---------------------+---------------------+---------------------------+---------------------------+----------+----------+\n",
            "|           2015-01-01|           2017-02-28|                 1970-01-01|                 2017-03-31|    201501|    201702|\n",
            "+---------------------+---------------------+---------------------------+---------------------------+----------+----------+\n",
            "\n"
          ]
        }
      ]
    },
    {
      "cell_type": "markdown",
      "source": [
        "data de expirar o plano em 1970? o primeiro usuario registrado foi em 2004, antes disso pode se considerar uma anomalia."
      ],
      "metadata": {
        "id": "K0n0MQ7VCmic"
      }
    },
    {
      "cell_type": "code",
      "source": [
        "(spark.sql(\n",
        "    \"\"\"\n",
        "    select count(*) as quantidade_linhas_antes_de_2004\n",
        "    from tb_transactions\n",
        "    where membership_expire_date < '2004-01-01'\n",
        "    \"\"\"\n",
        "  ).show()\n",
        ")"
      ],
      "metadata": {
        "colab": {
          "base_uri": "https://localhost:8080/"
        },
        "id": "R_DBwDTQCzWO",
        "outputId": "33c3b12a-abd6-42da-b6bf-707b55c8972e"
      },
      "execution_count": null,
      "outputs": [
        {
          "output_type": "stream",
          "name": "stdout",
          "text": [
            "+-------------------------------+\n",
            "|quantidade_linhas_antes_de_2004|\n",
            "+-------------------------------+\n",
            "|                           1501|\n",
            "+-------------------------------+\n",
            "\n"
          ]
        }
      ]
    },
    {
      "cell_type": "markdown",
      "source": [
        "### Entendendo cada coluna da Transaction"
      ],
      "metadata": {
        "id": "TQ5yYMR9waWc"
      }
    },
    {
      "cell_type": "code",
      "source": [
        "def executa_query_transaction_por_coluna(coluna):\n",
        "  query = f\"\"\"\n",
        "            select count(distinct {coluna}) as quantidade_distinta_{coluna}\n",
        "            from tb_transactions\n",
        "           \"\"\"\n",
        "  spark.sql(query).show()\n",
        "\n",
        "for i in df_transactions.columns:\n",
        "    print(i)\n",
        "    executa_query_transaction_por_coluna(i)"
      ],
      "metadata": {
        "colab": {
          "base_uri": "https://localhost:8080/"
        },
        "id": "7OnU5Hs6buXa",
        "outputId": "7582ce1f-c7b9-4bc7-b8fe-5005df2fc5a5"
      },
      "execution_count": null,
      "outputs": [
        {
          "output_type": "stream",
          "name": "stdout",
          "text": [
            "msno\n",
            "+------------------------+\n",
            "|quantidade_distinta_msno|\n",
            "+------------------------+\n",
            "|                 2363626|\n",
            "+------------------------+\n",
            "\n",
            "payment_method_id\n",
            "+-------------------------------------+\n",
            "|quantidade_distinta_payment_method_id|\n",
            "+-------------------------------------+\n",
            "|                                   40|\n",
            "+-------------------------------------+\n",
            "\n",
            "payment_plan_days\n",
            "+-------------------------------------+\n",
            "|quantidade_distinta_payment_plan_days|\n",
            "+-------------------------------------+\n",
            "|                                   37|\n",
            "+-------------------------------------+\n",
            "\n",
            "plan_list_price\n",
            "+-----------------------------------+\n",
            "|quantidade_distinta_plan_list_price|\n",
            "+-----------------------------------+\n",
            "|                                 51|\n",
            "+-----------------------------------+\n",
            "\n",
            "actual_amount_paid\n",
            "+--------------------------------------+\n",
            "|quantidade_distinta_actual_amount_paid|\n",
            "+--------------------------------------+\n",
            "|                                    57|\n",
            "+--------------------------------------+\n",
            "\n",
            "is_auto_renew\n",
            "+---------------------------------+\n",
            "|quantidade_distinta_is_auto_renew|\n",
            "+---------------------------------+\n",
            "|                                2|\n",
            "+---------------------------------+\n",
            "\n",
            "transaction_date\n",
            "+------------------------------------+\n",
            "|quantidade_distinta_transaction_date|\n",
            "+------------------------------------+\n",
            "|                                 790|\n",
            "+------------------------------------+\n",
            "\n",
            "membership_expire_date\n",
            "+------------------------------------------+\n",
            "|quantidade_distinta_membership_expire_date|\n",
            "+------------------------------------------+\n",
            "|                                      1534|\n",
            "+------------------------------------------+\n",
            "\n",
            "is_cancel\n",
            "+-----------------------------+\n",
            "|quantidade_distinta_is_cancel|\n",
            "+-----------------------------+\n",
            "|                            2|\n",
            "+-----------------------------+\n",
            "\n",
            "safra\n",
            "+-------------------------+\n",
            "|quantidade_distinta_safra|\n",
            "+-------------------------+\n",
            "|                       26|\n",
            "+-------------------------+\n",
            "\n"
          ]
        }
      ]
    },
    {
      "cell_type": "markdown",
      "source": [
        "- 40 meios de pagamento\n",
        "- 37 tamanhos de planos diferentes, (qnt de dias acumulados ativos?)\n",
        "- 26 safras (201501 a 201702)"
      ],
      "metadata": {
        "id": "GtMsx1l4dQlI"
      }
    },
    {
      "cell_type": "markdown",
      "source": [
        "### Entendendo os preços dos planos"
      ],
      "metadata": {
        "id": "HtC9EniFrOiK"
      }
    },
    {
      "cell_type": "code",
      "source": [
        "(spark.sql(\n",
        "    \"\"\"\n",
        "    select min(plan_list_price), max(plan_list_price),\n",
        "           min(actual_amount_paid), max(actual_amount_paid),\n",
        "           SUM(CASE WHEN plan_list_price = actual_amount_paid THEN 1 ELSE 0 END) AS qnt_iguais\n",
        "    from tb_transactions\n",
        "    \"\"\"\n",
        "  ).show()\n",
        ")"
      ],
      "metadata": {
        "colab": {
          "base_uri": "https://localhost:8080/"
        },
        "id": "Hnv51ZvEcU-z",
        "outputId": "a8c49284-6d0b-4659-de67-e5c7be4579f1"
      },
      "execution_count": null,
      "outputs": [
        {
          "output_type": "stream",
          "name": "stdout",
          "text": [
            "+--------------------+--------------------+-----------------------+-----------------------+----------+\n",
            "|min(plan_list_price)|max(plan_list_price)|min(actual_amount_paid)|max(actual_amount_paid)|qnt_iguais|\n",
            "+--------------------+--------------------+-----------------------+-----------------------+----------+\n",
            "|                 0.0|              2000.0|                    0.0|                 2000.0|  19114847|\n",
            "+--------------------+--------------------+-----------------------+-----------------------+----------+\n",
            "\n"
          ]
        }
      ]
    },
    {
      "cell_type": "code",
      "source": [
        "df_transactions.describe('plan_list_price', 'actual_amount_paid').show()"
      ],
      "metadata": {
        "colab": {
          "base_uri": "https://localhost:8080/"
        },
        "id": "eG_LTFt6vjxM",
        "outputId": "a220cc75-078f-47e3-8fd1-b8dcf49a56e4"
      },
      "execution_count": null,
      "outputs": [
        {
          "output_type": "stream",
          "name": "stdout",
          "text": [
            "+-------+------------------+------------------+\n",
            "|summary|   plan_list_price|actual_amount_paid|\n",
            "+-------+------------------+------------------+\n",
            "|  count|          20712225|          20712225|\n",
            "|   mean|140.24088353617248|142.83468555406287|\n",
            "| stddev|132.27679209056055|133.60944276809502|\n",
            "|    min|               0.0|               0.0|\n",
            "|    max|            2000.0|            2000.0|\n",
            "+-------+------------------+------------------+\n",
            "\n"
          ]
        }
      ]
    },
    {
      "cell_type": "code",
      "source": [
        "# vendo quais sao os valores que mais se repetem na coluna plan_list_price e actual_amount_paid\n",
        "(spark.sql(\n",
        "    \"\"\"\n",
        "      select safra,\n",
        "             plan_list_price,\n",
        "             payment_plan_days\n",
        "      from tb_transactions\n",
        "      group by 1, 2, 3\n",
        "      order by 1 desc\n",
        "      limit 10\n",
        "    \"\"\"\n",
        "  ).show()\n",
        ")\n",
        "\n",
        "(spark.sql(\n",
        "    \"\"\"\n",
        "      select safra,\n",
        "             actual_amount_paid,\n",
        "             payment_plan_days\n",
        "      from tb_transactions\n",
        "      group by 1, 2, 3\n",
        "      order by 1 desc\n",
        "      limit 10\n",
        "    \"\"\"\n",
        "  ).show()\n",
        ")"
      ],
      "metadata": {
        "colab": {
          "base_uri": "https://localhost:8080/"
        },
        "id": "Np0YDNnxfr12",
        "outputId": "dfc9ff00-811f-4d70-d851-1e6cc1ae7209"
      },
      "execution_count": null,
      "outputs": [
        {
          "output_type": "stream",
          "name": "stdout",
          "text": [
            "+------+---------------+-----------------+\n",
            "| safra|plan_list_price|payment_plan_days|\n",
            "+------+---------------+-----------------+\n",
            "|201702|            119|               30|\n",
            "|201702|              0|              120|\n",
            "|201702|              0|                3|\n",
            "|201702|            180|               45|\n",
            "|201702|             35|                7|\n",
            "|201702|              0|                7|\n",
            "|201702|            150|               30|\n",
            "|201702|              0|              195|\n",
            "|201702|             99|               30|\n",
            "|201702|            100|               30|\n",
            "+------+---------------+-----------------+\n",
            "\n",
            "+------+------------------+-----------------+\n",
            "| safra|actual_amount_paid|payment_plan_days|\n",
            "+------+------------------+-----------------+\n",
            "|201702|               119|               30|\n",
            "|201702|                 0|              120|\n",
            "|201702|                 0|                3|\n",
            "|201702|               180|               45|\n",
            "|201702|                35|                7|\n",
            "|201702|                 0|                7|\n",
            "|201702|               150|               30|\n",
            "|201702|                 0|              195|\n",
            "|201702|                99|               30|\n",
            "|201702|               100|               30|\n",
            "+------+------------------+-----------------+\n",
            "\n"
          ]
        }
      ]
    },
    {
      "cell_type": "code",
      "source": [
        "(spark.sql(\n",
        "    \"\"\"\n",
        "      select safra,\n",
        "             plan_list_price,\n",
        "             payment_plan_days,\n",
        "             count(plan_list_price) as qnt_plan_list_price\n",
        "      from tb_transactions\n",
        "      group by 1, 2, 3\n",
        "      order by 4 desc\n",
        "      limit 10\n",
        "    \"\"\"\n",
        "  ).show()\n",
        ")"
      ],
      "metadata": {
        "colab": {
          "base_uri": "https://localhost:8080/"
        },
        "id": "xF002EEiiuis",
        "outputId": "63a4c0e1-8111-4fe5-a479-cd456cadca10"
      },
      "execution_count": null,
      "outputs": [
        {
          "output_type": "stream",
          "name": "stdout",
          "text": [
            "+------+---------------+-----------------+-------------------+\n",
            "| safra|plan_list_price|payment_plan_days|qnt_plan_list_price|\n",
            "+------+---------------+-----------------+-------------------+\n",
            "|201512|            149|               30|             596373|\n",
            "|201511|            149|               30|             580714|\n",
            "|201601|            149|               30|             555415|\n",
            "|201508|            149|               30|             496022|\n",
            "|201509|            149|               30|             486624|\n",
            "|201608|            149|               30|             486141|\n",
            "|201507|            149|               30|             484580|\n",
            "|201609|            149|               30|             476899|\n",
            "|201506|            149|               30|             470793|\n",
            "|201607|            149|               30|             470265|\n",
            "+------+---------------+-----------------+-------------------+\n",
            "\n"
          ]
        }
      ]
    },
    {
      "cell_type": "markdown",
      "source": [
        "possiveis valores dos planos\n",
        "\n",
        "- 180 -\n",
        "- 150 -\n",
        "- 149 -\n",
        "- 129 -\n",
        "- 119 -\n",
        "- 100 -\n",
        "- 99 -"
      ],
      "metadata": {
        "id": "vnNWslOthS23"
      }
    },
    {
      "cell_type": "markdown",
      "source": [
        "### Vendo se há valores missing"
      ],
      "metadata": {
        "id": "MsRj6sS5Ka2W"
      }
    },
    {
      "cell_type": "code",
      "source": [
        "(spark.sql(\n",
        "    \"\"\"\n",
        "      SELECT\n",
        "        SUM(CASE WHEN msno IS NULL THEN 1 ELSE 0 END) AS msno,\n",
        "        SUM(CASE WHEN payment_method_id IS NULL THEN 1 ELSE 0 END) AS payment_method_id,\n",
        "        SUM(CASE WHEN payment_plan_days IS NULL THEN 1 ELSE 0 END) AS payment_plan_days,\n",
        "        SUM(CASE WHEN plan_list_price IS NULL THEN 1 ELSE 0 END) AS plan_list_price,\n",
        "        SUM(CASE WHEN actual_amount_paid IS NULL THEN 1 ELSE 0 END) AS actual_amount_paid,\n",
        "        SUM(CASE WHEN is_auto_renew IS NULL THEN 1 ELSE 0 END) AS is_auto_renew,\n",
        "        SUM(CASE WHEN transaction_date IS NULL THEN 1 ELSE 0 END) AS transaction_date,\n",
        "        SUM(CASE WHEN membership_expire_date IS NULL THEN 1 ELSE 0 END) AS membership_expire_date,\n",
        "        SUM(CASE WHEN is_cancel IS NULL THEN 1 ELSE 0 END) AS is_cancel,\n",
        "        SUM(CASE WHEN safra IS NULL THEN 1 ELSE 0 END) AS safra\n",
        "      FROM tb_transactions\n",
        "    \"\"\"\n",
        "  ).show()\n",
        ")"
      ],
      "metadata": {
        "colab": {
          "base_uri": "https://localhost:8080/"
        },
        "id": "JwWSG-OtKaQE",
        "outputId": "371b3574-24d0-480f-b05f-d0ab1db29dbd"
      },
      "execution_count": null,
      "outputs": [
        {
          "output_type": "stream",
          "name": "stdout",
          "text": [
            "+----+-----------------+-----------------+---------------+------------------+-------------+----------------+----------------------+---------+-----+\n",
            "|msno|payment_method_id|payment_plan_days|plan_list_price|actual_amount_paid|is_auto_renew|transaction_date|membership_expire_date|is_cancel|safra|\n",
            "+----+-----------------+-----------------+---------------+------------------+-------------+----------------+----------------------+---------+-----+\n",
            "|   0|                0|                0|              0|                 0|            0|               0|                     0|        0|    0|\n",
            "+----+-----------------+-----------------+---------------+------------------+-------------+----------------+----------------------+---------+-----+\n",
            "\n"
          ]
        }
      ]
    },
    {
      "cell_type": "markdown",
      "source": [
        "### Entendendo a quantidade de clientes por safra"
      ],
      "metadata": {
        "id": "IeIPFwOwO-6p"
      }
    },
    {
      "cell_type": "code",
      "source": [
        "(spark.sql(\n",
        "    \"\"\"\n",
        "      select safra,\n",
        "             count(msno) as qnt_msno,\n",
        "             count(distinct msno) as qnt_distinct_msno,\n",
        "             case when qnt_msno = qnt_distinct_msno then 1 else 0 end as check_colunas\n",
        "      from tb_transactions\n",
        "      group by 1\n",
        "      order by 4 asc\n",
        "    \"\"\"\n",
        "  ).show()\n",
        ")"
      ],
      "metadata": {
        "colab": {
          "base_uri": "https://localhost:8080/"
        },
        "id": "TZYC6ttoPC9g",
        "outputId": "048d2d41-0d2a-4875-957b-d1248390a832"
      },
      "execution_count": null,
      "outputs": [
        {
          "output_type": "stream",
          "name": "stdout",
          "text": [
            "+------+--------+-----------------+-------------+\n",
            "| safra|qnt_msno|qnt_distinct_msno|check_colunas|\n",
            "+------+--------+-----------------+-------------+\n",
            "|201505|  571552|           571552|            1|\n",
            "|201701|  988576|           988576|            1|\n",
            "|201702|  885566|           885566|            1|\n",
            "|201501|  548792|           548792|            1|\n",
            "|201509|  714610|           714610|            1|\n",
            "|201609|  982640|           982640|            1|\n",
            "|201512|  861107|           861107|            1|\n",
            "|201604|  774169|           774169|            1|\n",
            "|201511|  820345|           820345|            1|\n",
            "|201611| 1094941|          1094941|            1|\n",
            "|201502|  545303|           545303|            1|\n",
            "|201503|  626488|           626488|            1|\n",
            "|201603|  775469|           775469|            1|\n",
            "|201508|  705975|           705975|            1|\n",
            "|201607|  924032|           924032|            1|\n",
            "|201610| 1033898|          1033898|            1|\n",
            "|201606|  804729|           804729|            1|\n",
            "|201507|  665280|           665280|            1|\n",
            "|201601|  856716|           856716|            1|\n",
            "|201506|  775737|           775737|            1|\n",
            "+------+--------+-----------------+-------------+\n",
            "only showing top 20 rows\n",
            "\n"
          ]
        }
      ]
    },
    {
      "cell_type": "markdown",
      "source": [
        "nao se repetem dentro de cada safra"
      ],
      "metadata": {
        "id": "nHj4sz0APfzQ"
      }
    },
    {
      "cell_type": "markdown",
      "source": [
        "### Observações e questionamentos\n",
        "\n",
        "  - Data de vencimento do plano em 1970?\n",
        "  - Transações de 201501 a 201702\n",
        "  - 40 meios de pagamentos\n",
        "  - Maior parte dos registros de preços dos planos, tanto Amount quanto por plano estão com valores iguais.\n",
        "  - Tipos dos dados estão atrapalhando as consultas em cima dos dados\n",
        "  - Coluna is_cancel: entender como ela pode ajudar no nosso contexto\n",
        "  - Não há missing"
      ],
      "metadata": {
        "id": "qMY4uOMYH7Ci"
      }
    },
    {
      "cell_type": "markdown",
      "source": [
        "## 3 - Entendendo a User_logs"
      ],
      "metadata": {
        "id": "sBBgtjEUq72_"
      }
    },
    {
      "cell_type": "markdown",
      "source": [
        "### Primeira visão"
      ],
      "metadata": {
        "id": "NXIS1Fku7Ucn"
      }
    },
    {
      "cell_type": "code",
      "source": [
        "spark.sql('select * from tb_userlogs LIMIT 10').show()"
      ],
      "metadata": {
        "colab": {
          "base_uri": "https://localhost:8080/"
        },
        "id": "uNuSsq-37Xer",
        "outputId": "314719ba-0c66-45b6-c547-9d654ab099f5"
      },
      "execution_count": null,
      "outputs": [
        {
          "output_type": "stream",
          "name": "stdout",
          "text": [
            "+--------------------+------+------+------+------+-------+-------+-------+------------------+\n",
            "|                msno| safra|num_25|num_50|num_75|num_985|num_100|num_unq|        total_secs|\n",
            "+--------------------+------+------+------+------+-------+-------+-------+------------------+\n",
            "|SwlrSivYHoKF9V5wm...|201701| 121.0|  28.0|  14.0|   29.0|  704.0|  827.0|        184606.903|\n",
            "|rE5wSmHEF1Dhu55zh...|201605|  26.0|   2.0|   5.0|    6.0|  462.0|  256.0|        119439.485|\n",
            "|hx+cyaQ/Jcdr/Z5fo...|201611| 161.0|  71.0|  49.0|   34.0|  668.0|  891.0|        204791.242|\n",
            "|53QW6B70J23X2UCvx...|201502|  37.0|   9.0|   3.0|    9.0|  408.0|  447.0|        101186.041|\n",
            "|/0S1N/oRyxGLZlzxn...|201506| 205.0|  49.0|  23.0|   21.0|  225.0|  489.0|         69957.524|\n",
            "|qB/zteXKaOk3hzFCo...|201509|  52.0|  10.0|  10.0|   20.0|  308.0|  264.0|         81703.877|\n",
            "|7btpXOqzA1ggOggSW...|201610| 159.0|  53.0|  30.0|   43.0| 1075.0|  881.0|305353.79099999997|\n",
            "|kgEhriAqTydVKQ1xn...|201609|  88.0|  13.0|  14.0|   13.0|  588.0|  325.0|        159511.737|\n",
            "|8uQ6M7OzdWsuzo0BR...|201509|  62.0|  27.0|  15.0|    6.0| 1389.0| 1427.0|324691.01099999994|\n",
            "|T2gUhlBhFMoSFA9jF...|201702|  36.0|  23.0|   5.0|    9.0|  216.0|  241.0| 56296.34000000001|\n",
            "+--------------------+------+------+------+------+-------+-------+-------+------------------+\n",
            "\n"
          ]
        }
      ]
    },
    {
      "cell_type": "markdown",
      "source": [
        "O tipo dos dados nessa tabela estão corretos, para construção da bronze nao sendo necessários essa alteração. Nenhuma anomalia observada de primeira vista."
      ],
      "metadata": {
        "id": "_nc6vmVkAO1O"
      }
    },
    {
      "cell_type": "markdown",
      "source": [
        "### Vendo mins e maxs da colunan safra"
      ],
      "metadata": {
        "id": "VAt4QofVAfTM"
      }
    },
    {
      "cell_type": "code",
      "source": [
        "df_userlogs = (df_userlogs.withColumn('num_25', col('num_25').cast('float'))\n",
        "                          .withColumn('num_50', col('num_50').cast('float'))\n",
        "                          .withColumn('num_75', col('num_75').cast('float'))\n",
        "                          .withColumn('num_985', col('num_985').cast('float'))\n",
        "                          .withColumn('num_100', col('num_100').cast('float'))\n",
        "                          .withColumn('num_unq', col('num_unq').cast('float'))\n",
        "                          .withColumn('total_secs', col('total_secs').cast('float'))\n",
        "              )\n",
        "df_userlogs.createOrReplaceTempView('tb_userlogs')"
      ],
      "metadata": {
        "id": "u6v4K_FiKat9"
      },
      "execution_count": null,
      "outputs": []
    },
    {
      "cell_type": "code",
      "source": [
        "(spark.sql(\n",
        "    \"\"\"\n",
        "      select min(safra), max(safra)\n",
        "      from tb_userlogs\n",
        "    \"\"\"\n",
        "  ).show()\n",
        ")"
      ],
      "metadata": {
        "colab": {
          "base_uri": "https://localhost:8080/"
        },
        "id": "wLZs0jZJApMn",
        "outputId": "fea8616c-8c92-48da-e2b6-82c76ee985f5"
      },
      "execution_count": null,
      "outputs": [
        {
          "output_type": "stream",
          "name": "stdout",
          "text": [
            "+----------+----------+\n",
            "|min(safra)|max(safra)|\n",
            "+----------+----------+\n",
            "|    201501|    201702|\n",
            "+----------+----------+\n",
            "\n"
          ]
        }
      ]
    },
    {
      "cell_type": "markdown",
      "source": [
        "### Entendendo cada coluna da User_logs"
      ],
      "metadata": {
        "id": "0EP-3wQAwgMU"
      }
    },
    {
      "cell_type": "markdown",
      "source": [
        "Aqui temos somente variaveis númericas, nenhuma categorica, nao tendo importância ver a distinção dos valores. por isso aqui farei somente o describe."
      ],
      "metadata": {
        "id": "LN4NRP6t8AXb"
      }
    },
    {
      "cell_type": "code",
      "source": [
        "df_userlogs.describe().show()"
      ],
      "metadata": {
        "colab": {
          "base_uri": "https://localhost:8080/"
        },
        "id": "jBlr4gfpwVEq",
        "outputId": "a67f6077-660d-49d7-fd21-6293a4626c8e"
      },
      "execution_count": null,
      "outputs": [
        {
          "output_type": "stream",
          "name": "stdout",
          "text": [
            "+-------+--------------------+-----------------+-----------------+-----------------+------------------+------------------+-----------------+------------------+--------------------+\n",
            "|summary|                msno|            safra|           num_25|           num_50|            num_75|           num_985|          num_100|           num_unq|          total_secs|\n",
            "+-------+--------------------+-----------------+-----------------+-----------------+------------------+------------------+-----------------+------------------+--------------------+\n",
            "|  count|            26758971|         26758971|         26758971|         26758971|          26758971|          26758971|         26758971|          26758971|            26758971|\n",
            "|   mean|                null|201572.0403868669|95.42601163549973|24.03566975725636|14.903521327483034|16.538671797207748|450.1598216538297|440.91930526775485|-2.11717488634742...|\n",
            "| stddev|                null|61.87618074610147|175.2882595645691|39.12554591867812|  22.6267215132517|37.409156681476354|725.3139035411604|  590.605957174868|6.839043702349416E14|\n",
            "|    min|+++4vcS9aMH7KWdfh...|           201501|              0.0|              0.0|               0.0|               0.0|              0.0|               1.0|-2.39807672957245...|\n",
            "|    max|zzzyOgMk9MljCerbC...|           201702|         111864.0|           8875.0|            3485.0|           37698.0|         196741.0|           32706.0|9.223372037135594E15|\n",
            "+-------+--------------------+-----------------+-----------------+-----------------+------------------+------------------+-----------------+------------------+--------------------+\n",
            "\n"
          ]
        }
      ]
    },
    {
      "cell_type": "markdown",
      "source": [
        "total de segundos negativos?"
      ],
      "metadata": {
        "id": "wcn75EyhE0HK"
      }
    },
    {
      "cell_type": "markdown",
      "source": [
        "### Entendento o total de segundos ouvidos"
      ],
      "metadata": {
        "id": "vnjWqY8u9kT-"
      }
    },
    {
      "cell_type": "code",
      "source": [
        "(spark.sql(\n",
        "    \"\"\"\n",
        "      select total_secs\n",
        "      from tb_userlogs\n",
        "      limit 10\n",
        "    \"\"\"\n",
        "  ).show()\n",
        ")"
      ],
      "metadata": {
        "colab": {
          "base_uri": "https://localhost:8080/"
        },
        "id": "IWKmr1Ft9rkG",
        "outputId": "931bbd6e-e15e-48f9-b45f-f6a6dbf866ae"
      },
      "execution_count": null,
      "outputs": [
        {
          "output_type": "stream",
          "name": "stdout",
          "text": [
            "+----------+\n",
            "|total_secs|\n",
            "+----------+\n",
            "|  184606.9|\n",
            "|119439.484|\n",
            "| 204791.23|\n",
            "| 101186.04|\n",
            "|  69957.52|\n",
            "| 81703.875|\n",
            "| 305353.78|\n",
            "| 159511.73|\n",
            "|  324691.0|\n",
            "|  56296.34|\n",
            "+----------+\n",
            "\n"
          ]
        }
      ]
    },
    {
      "cell_type": "markdown",
      "source": [
        "padronizar 2 casas depois da virgula para melhorar a visualização"
      ],
      "metadata": {
        "id": "ust44VS5H7ou"
      }
    },
    {
      "cell_type": "code",
      "source": [
        "(spark.sql(\n",
        "    \"\"\"\n",
        "      select round(total_secs, 2)\n",
        "      from tb_userlogs\n",
        "      limit 10\n",
        "    \"\"\"\n",
        "  ).show()\n",
        ")"
      ],
      "metadata": {
        "colab": {
          "base_uri": "https://localhost:8080/"
        },
        "id": "OWsAUNYiIBbv",
        "outputId": "849786fd-b418-4109-fe54-35c065351c0d"
      },
      "execution_count": null,
      "outputs": [
        {
          "output_type": "stream",
          "name": "stdout",
          "text": [
            "+--------------------+\n",
            "|round(total_secs, 2)|\n",
            "+--------------------+\n",
            "|            184606.9|\n",
            "|           119439.48|\n",
            "|           204791.23|\n",
            "|           101186.04|\n",
            "|            69957.52|\n",
            "|            81703.88|\n",
            "|           305353.78|\n",
            "|           159511.73|\n",
            "|            324691.0|\n",
            "|            56296.34|\n",
            "+--------------------+\n",
            "\n"
          ]
        }
      ]
    },
    {
      "cell_type": "code",
      "source": [
        "(spark.sql(\n",
        "    \"\"\"\n",
        "      select min(round(total_secs, 2)),\n",
        "             max(round(total_secs, 2))\n",
        "      from tb_userlogs\n",
        "      limit 10\n",
        "    \"\"\"\n",
        "  ).show()\n",
        ")"
      ],
      "metadata": {
        "colab": {
          "base_uri": "https://localhost:8080/"
        },
        "id": "KnxVnIMTIU6S",
        "outputId": "e54a19bc-88a4-4b70-bf64-bfc4ddae8d28"
      },
      "execution_count": null,
      "outputs": [
        {
          "output_type": "stream",
          "name": "stdout",
          "text": [
            "+-------------------------+-------------------------+\n",
            "|min(round(total_secs, 2))|max(round(total_secs, 2))|\n",
            "+-------------------------+-------------------------+\n",
            "|           -2.39807678E17|             9.2233725E15|\n",
            "+-------------------------+-------------------------+\n",
            "\n"
          ]
        }
      ]
    },
    {
      "cell_type": "code",
      "source": [
        "#segudos para dias\n",
        "valor = 9.2233725E15\n",
        "\n",
        "dias = valor / (60*60*24)\n",
        "\n",
        "print(dias, dias/365)"
      ],
      "metadata": {
        "colab": {
          "base_uri": "https://localhost:8080/"
        },
        "id": "-i6FW3OsWFZI",
        "outputId": "b1b773bf-6e7e-4c03-a597-dec5635dea3f"
      },
      "execution_count": null,
      "outputs": [
        {
          "output_type": "stream",
          "name": "stdout",
          "text": [
            "106751996527.77777 292471223.3637747\n"
          ]
        }
      ]
    },
    {
      "cell_type": "markdown",
      "source": [
        "Não é possivel ouvir 106751996527 dias de musica, 292471223 anos, e nao existe valores de tempo negativos."
      ],
      "metadata": {
        "id": "W-s3BbFOZJSa"
      }
    },
    {
      "cell_type": "markdown",
      "source": [
        "considerando que um ano comum tem 31.536.000 de segundos\n",
        "vejamos quantos usuarios ouviram mais de um ano em segundos. Valor improvavel pois, segundo uma estatistica nao confirmada sobre o spotify no reddit, um usuario compartilhou que ouviu 116.262 minutos, que da 6.975.720 segundos."
      ],
      "metadata": {
        "id": "x-KzyOeHMEKu"
      }
    },
    {
      "cell_type": "code",
      "source": [
        "um_ano_em_segundos = 1 * 365 * 24 * 60 * 60 # Anos * Dias * Horas * Minutos * Segundos\n",
        "print(um_ano_em_segundos)\n",
        "# Contar quantos total_secs tem para baixo de zero, e acima do dez_anos_em_segundos\n",
        "\n",
        "(spark.sql(\n",
        "    \"\"\"\n",
        "      select count(total_secs) as negativos\n",
        "      from tb_userlogs\n",
        "      where total_secs < 0\n",
        "    \"\"\"\n",
        "  ).show()\n",
        ")\n",
        "\n",
        "(spark.sql(\n",
        "    f\"\"\"\n",
        "      select count(total_secs) as acima_de_dez_anos\n",
        "      from tb_userlogs\n",
        "      where total_secs >= {um_ano_em_segundos}\n",
        "    \"\"\"\n",
        "  ).show()\n",
        ")"
      ],
      "metadata": {
        "colab": {
          "base_uri": "https://localhost:8080/"
        },
        "id": "pBBoY8sTMJlz",
        "outputId": "8dc2ed62-df3e-406b-e6b9-3c8987959fa9"
      },
      "execution_count": null,
      "outputs": [
        {
          "output_type": "stream",
          "name": "stdout",
          "text": [
            "31536000\n",
            "+---------+\n",
            "|negativos|\n",
            "+---------+\n",
            "|    42346|\n",
            "+---------+\n",
            "\n",
            "+-----------------+\n",
            "|acima_de_dez_anos|\n",
            "+-----------------+\n",
            "|              155|\n",
            "+-----------------+\n",
            "\n"
          ]
        }
      ]
    },
    {
      "cell_type": "markdown",
      "source": [
        "calcular os quartis para ver a quantidade de valores em cada quartil"
      ],
      "metadata": {
        "id": "HGRAORjXXiqG"
      }
    },
    {
      "cell_type": "code",
      "source": [
        "# pegando o 1, 2, 3 e 4 quartil da coluna total_Secs,e  vendo a quantidade por intervalos\n",
        "\n",
        "(spark.sql(\n",
        "    \"\"\"\n",
        "    WITH quartis AS (\n",
        "        SELECT\n",
        "            percentile_approx(total_secs, 0.25) AS q1,\n",
        "            percentile_approx(total_secs, 0.5) AS q2,\n",
        "            percentile_approx(total_secs, 0.75) AS q3,\n",
        "            percentile_approx(total_secs, 1) AS q4\n",
        "        FROM tb_userlogs\n",
        "    )\n",
        "    SELECT\n",
        "        SUM(CASE WHEN total_secs < 0 THEN 1 ELSE 0 END) AS negativos,\n",
        "        SUM(CASE WHEN total_secs >= 0 AND total_secs < (SELECT q1 FROM quartis) THEN 1 ELSE 0 END) AS faixa_0_q1,\n",
        "        SUM(CASE WHEN total_secs >= (SELECT q1 FROM quartis) AND total_secs < (SELECT q2 FROM quartis) THEN 1 ELSE 0 END) AS faixa_q1_q2,\n",
        "        SUM(CASE WHEN total_secs >= (SELECT q2 FROM quartis) AND total_secs < (SELECT q3 FROM quartis) THEN 1 ELSE 0 END) AS faixa_q2_q3,\n",
        "        SUM(CASE WHEN total_secs >= (SELECT q3 FROM quartis) AND total_secs <= (SELECT q4 FROM quartis) THEN 1 ELSE 0 END) AS faixa_q3_q4\n",
        "    FROM tb_userlogs\n",
        "    \"\"\"\n",
        "  ).show()\n",
        ")\n"
      ],
      "metadata": {
        "colab": {
          "base_uri": "https://localhost:8080/"
        },
        "id": "tl_VM-pUR7nR",
        "outputId": "d856745e-bde8-4984-aa13-c646ac707de3"
      },
      "execution_count": null,
      "outputs": [
        {
          "output_type": "stream",
          "name": "stdout",
          "text": [
            "+---------+----------+-----------+-----------+-----------+\n",
            "|negativos|faixa_0_q1|faixa_q1_q2|faixa_q2_q3|faixa_q3_q4|\n",
            "+---------+----------+-----------+-----------+-----------+\n",
            "|    42346|   6646952|    6689487|    6689509|    6690677|\n",
            "+---------+----------+-----------+-----------+-----------+\n",
            "\n"
          ]
        }
      ]
    },
    {
      "cell_type": "markdown",
      "source": [
        "### Aplicando a regra de Turkey para identificar os outliers"
      ],
      "metadata": {
        "id": "dQiiowtdaPG5"
      }
    },
    {
      "cell_type": "code",
      "source": [
        "quartis = (spark.sql(\n",
        "    \"\"\"\n",
        "      SELECT\n",
        "          percentile_approx(total_secs, 0.25) AS q1,\n",
        "          percentile_approx(total_secs, 0.75) AS q3\n",
        "      FROM tb_userlogs\n",
        "    \"\"\"\n",
        "))\n",
        "\n",
        "quartis.show()\n",
        "\n",
        "q1 = quartis.collect()[0]['q1']\n",
        "q3 = quartis.collect()[0]['q3']\n",
        "\n",
        "iqr = q3 - q1\n",
        "\n",
        "low_bound = q1 - 1.5 * iqr\n",
        "upper_bound = q3 + 1.5 * iqr\n",
        "\n",
        "print(f'low_bound: {low_bound}, upper_bound: {upper_bound}')"
      ],
      "metadata": {
        "colab": {
          "base_uri": "https://localhost:8080/"
        },
        "id": "6cnjnP8VneTH",
        "outputId": "2b993828-bc81-489c-aa59-14c764ecfe97"
      },
      "execution_count": null,
      "outputs": [
        {
          "output_type": "stream",
          "name": "stdout",
          "text": [
            "+---------+---------+\n",
            "|       q1|       q3|\n",
            "+---------+---------+\n",
            "|11021.553|152111.48|\n",
            "+---------+---------+\n",
            "\n",
            "low_bound: -200613.3447265625, upper_bound: 363746.3818359375\n"
          ]
        }
      ]
    },
    {
      "cell_type": "markdown",
      "source": [
        "o low_bound tem que ser 0, nao há valores negativos para tempo. consideraremos valores acima do upper_bound e abaixo de 0 como outliers."
      ],
      "metadata": {
        "id": "r51wooubqu3e"
      }
    },
    {
      "cell_type": "code",
      "source": [
        "# contar quantos outliers tem e quantos registros dentro da faixa esperada\n",
        "\n",
        "(spark.sql(\n",
        "    f\"\"\"\n",
        "      select count(total_secs) as total,\n",
        "             sum(case when total_secs < {low_bound} or total_secs > {upper_bound} then 1 else 0 end) as qnt_outliers,\n",
        "             sum(case when total_secs >= {low_bound} and total_secs <= {upper_bound} then 1 else 0 end) as qnt_dentro_da_faixa,\n",
        "             CONCAT(ROUND((qnt_dentro_da_faixa / total) * 100, 1), '%') as taxa_dentro,\n",
        "             CONCAT(ROUND((qnt_outliers / total) * 100, 1), '%') as taxa_de_outliers\n",
        "      from tb_userlogs\n",
        "    \"\"\"\n",
        "  ).show()\n",
        ")\n",
        "\n",
        "# mudando o low_bound para 0 e comparar\n",
        "(spark.sql(\n",
        "    f\"\"\"\n",
        "      select count(total_secs) as total,\n",
        "             sum(case when total_secs < 0 or total_secs > {upper_bound} then 1 else 0 end) as qnt_outliers,\n",
        "             sum(case when total_secs >= 0 and total_secs <= {upper_bound} then 1 else 0 end) as qnt_dentro_da_faixa,\n",
        "             CONCAT(ROUND((qnt_dentro_da_faixa / total) * 100, 1), '%') as taxa_dentro,\n",
        "             CONCAT(ROUND((qnt_outliers / total) * 100, 1), '%') as taxa_de_outliers\n",
        "      from tb_userlogs\n",
        "    \"\"\"\n",
        "  ).show()\n",
        ")\n"
      ],
      "metadata": {
        "colab": {
          "base_uri": "https://localhost:8080/"
        },
        "id": "fGRh1kp5uFG2",
        "outputId": "5cbe3b41-3c55-4e3b-d80e-f34a6b4a0bc4"
      },
      "execution_count": null,
      "outputs": [
        {
          "output_type": "stream",
          "name": "stdout",
          "text": [
            "+--------+------------+-------------------+-----------+----------------+\n",
            "|   total|qnt_outliers|qnt_dentro_da_faixa|taxa_dentro|taxa_de_outliers|\n",
            "+--------+------------+-------------------+-----------+----------------+\n",
            "|26758971|     1952284|           24806687|      92.7%|            7.3%|\n",
            "+--------+------------+-------------------+-----------+----------------+\n",
            "\n",
            "+--------+------------+-------------------+-----------+----------------+\n",
            "|   total|qnt_outliers|qnt_dentro_da_faixa|taxa_dentro|taxa_de_outliers|\n",
            "+--------+------------+-------------------+-----------+----------------+\n",
            "|26758971|     1952284|           24806687|      92.7%|            7.3%|\n",
            "+--------+------------+-------------------+-----------+----------------+\n",
            "\n"
          ]
        }
      ]
    },
    {
      "cell_type": "markdown",
      "source": [
        "nao teve diferença usar o low_bound e usar o zero."
      ],
      "metadata": {
        "id": "EaJl3ad5wt7W"
      }
    },
    {
      "cell_type": "code",
      "source": [
        "(spark.sql(\n",
        "    \"\"\"\n",
        "      select count(total_secs) as total_com_0\n",
        "      from tb_userlogs\n",
        "      where total_secs < 0\n",
        "    \"\"\"\n",
        "  ).show()\n",
        ")\n",
        "(spark.sql(\n",
        "    f\"\"\"\n",
        "      select count(total_secs) as total_com_low_bound\n",
        "      from tb_userlogs\n",
        "      where total_secs < {low_bound}\n",
        "    \"\"\"\n",
        "  ).show()\n",
        ")"
      ],
      "metadata": {
        "colab": {
          "base_uri": "https://localhost:8080/"
        },
        "id": "DGyejbwdwV8T",
        "outputId": "914d3949-aa14-4d62-dd28-8600ad866528"
      },
      "execution_count": null,
      "outputs": [
        {
          "output_type": "stream",
          "name": "stdout",
          "text": [
            "+-----------+\n",
            "|total_com_0|\n",
            "+-----------+\n",
            "|      42346|\n",
            "+-----------+\n",
            "\n",
            "+-------------------+\n",
            "|total_com_low_bound|\n",
            "+-------------------+\n",
            "|              42346|\n",
            "+-------------------+\n",
            "\n"
          ]
        }
      ]
    },
    {
      "cell_type": "markdown",
      "source": [
        "confirmando com a quantidade usando cada um."
      ],
      "metadata": {
        "id": "srW55cVNw0Bm"
      }
    },
    {
      "cell_type": "markdown",
      "source": [
        "### convertendo segundos para minutos para ver como as taxas e outliers para ver se melhora a interpretação dos numeros"
      ],
      "metadata": {
        "id": "uMBE_kDpz3Ad"
      }
    },
    {
      "cell_type": "code",
      "source": [
        "# converter a coluna total_secs de segundos para minutos 'total_min' para ficar mais interpretavel\n",
        "quartis_min = (spark.sql(\n",
        "    \"\"\"\n",
        "      with tb_total_min as (\n",
        "        select total_secs / 60 as total_min\n",
        "        from tb_userlogs\n",
        "      )\n",
        "      select percentile_approx(total_min, 0.25) AS q1,\n",
        "             percentile_approx(total_min, 0.75) AS q3\n",
        "      from tb_total_min\n",
        "    \"\"\"\n",
        "  ))\n",
        "\n",
        "quartis_min.show()\n",
        "\n",
        "q1 = quartis_min.collect()[0]['q1']\n",
        "q3 = quartis_min.collect()[0]['q3']\n",
        "\n",
        "iqr_min = q3 - q1\n",
        "\n",
        "low_bound_min = q1 - (1.5 * iqr_min)\n",
        "upper_bound_min = q3 + (1.5 * iqr_min)\n",
        "\n",
        "print(f'low_bound: {low_bound_min}, upper_bound: {upper_bound_min}')"
      ],
      "metadata": {
        "colab": {
          "base_uri": "https://localhost:8080/"
        },
        "id": "VY452g9dxO7C",
        "outputId": "1b27dd85-fe81-4389-d65a-07ad9e3f5a87"
      },
      "execution_count": null,
      "outputs": [
        {
          "output_type": "stream",
          "name": "stdout",
          "text": [
            "+------------------+-------------+\n",
            "|                q1|           q3|\n",
            "+------------------+-------------+\n",
            "|183.69254557291666|2535.19140625|\n",
            "+------------------+-------------+\n",
            "\n",
            "2351.4988606770835\n",
            "-3343.5557454427085\n",
            "6062.439697265625\n",
            "low_bound: -3343.5557454427085, upper_bound: 6062.439697265625\n"
          ]
        }
      ]
    },
    {
      "cell_type": "code",
      "source": [
        "# contar quantos outliers tem e quantos registros dentro da faixa esperada\n",
        "\n",
        "(spark.sql(\n",
        "    f\"\"\"\n",
        "      with tb_total_min as (\n",
        "        select total_secs / 60 as total_min\n",
        "        from tb_userlogs\n",
        "      )\n",
        "      select count(total_min) as total,\n",
        "             sum(case when total_min < {low_bound_min} or total_min > {upper_bound_min} then 1 else 0 end) as qnt_outliers,\n",
        "             sum(case when total_min >= {low_bound_min} and total_min <= {upper_bound_min} then 1 else 0 end) as qnt_dentro_da_faixa,\n",
        "             CONCAT(ROUND((qnt_dentro_da_faixa / total) * 100, 1), '%') as taxa_dentro,\n",
        "             CONCAT(ROUND((qnt_outliers / total) * 100, 1), '%') as taxa_de_outliers\n",
        "      from tb_total_min\n",
        "    \"\"\"\n",
        "  ).show()\n",
        ")\n",
        "\n",
        "# mudando o low_bound para 0 e comparar\n",
        "(spark.sql(\n",
        "    f\"\"\"\n",
        "      with tb_total_min as (\n",
        "        select total_secs / 60 as total_min\n",
        "        from tb_userlogs\n",
        "      )\n",
        "      select count(total_min) as total,\n",
        "             sum(case when total_min < 0 or total_min > {upper_bound_min} then 1 else 0 end) as qnt_outliers,\n",
        "             sum(case when total_min >= 0 and total_min <= {upper_bound_min} then 1 else 0 end) as qnt_dentro_da_faixa,\n",
        "             CONCAT(ROUND((qnt_dentro_da_faixa / total) * 100, 1), '%') as taxa_dentro,\n",
        "             CONCAT(ROUND((qnt_outliers / total) * 100, 1), '%') as taxa_de_outliers\n",
        "      from tb_total_min\n",
        "    \"\"\"\n",
        "  ).show()\n",
        ")\n"
      ],
      "metadata": {
        "colab": {
          "base_uri": "https://localhost:8080/"
        },
        "id": "VnYbm9yl3B0t",
        "outputId": "63903ca1-bc2d-409c-9dd9-a126f95be18e"
      },
      "execution_count": null,
      "outputs": [
        {
          "output_type": "stream",
          "name": "stdout",
          "text": [
            "+--------+------------+-------------------+-----------+----------------+\n",
            "|   total|qnt_outliers|qnt_dentro_da_faixa|taxa_dentro|taxa_de_outliers|\n",
            "+--------+------------+-------------------+-----------+----------------+\n",
            "|26758971|     1952284|           24806687|      92.7%|            7.3%|\n",
            "+--------+------------+-------------------+-----------+----------------+\n",
            "\n",
            "+--------+------------+-------------------+-----------+----------------+\n",
            "|   total|qnt_outliers|qnt_dentro_da_faixa|taxa_dentro|taxa_de_outliers|\n",
            "+--------+------------+-------------------+-----------+----------------+\n",
            "|26758971|     1952284|           24806687|      92.7%|            7.3%|\n",
            "+--------+------------+-------------------+-----------+----------------+\n",
            "\n"
          ]
        }
      ]
    },
    {
      "cell_type": "code",
      "source": [
        "(spark.sql(\n",
        "    f\"\"\"\n",
        "      with tb_total_min as (\n",
        "        select total_secs / 60 as total_min\n",
        "        from tb_userlogs\n",
        "      )\n",
        "      select count(total_min) as total_com_upper_bound\n",
        "      from tb_total_min\n",
        "      where total_min > {upper_bound_min}\n",
        "    \"\"\"\n",
        "  ).show()\n",
        ")"
      ],
      "metadata": {
        "colab": {
          "base_uri": "https://localhost:8080/"
        },
        "id": "XTKXh9Qt4J7U",
        "outputId": "4497271f-88d5-4893-c364-b605b56eb793"
      },
      "execution_count": null,
      "outputs": [
        {
          "output_type": "stream",
          "name": "stdout",
          "text": [
            "+-------------------+\n",
            "|total_com_low_bound|\n",
            "+-------------------+\n",
            "|            1909938|\n",
            "+-------------------+\n",
            "\n"
          ]
        }
      ]
    },
    {
      "cell_type": "code",
      "source": [
        "52284-9938 # valores menores que zero"
      ],
      "metadata": {
        "colab": {
          "base_uri": "https://localhost:8080/"
        },
        "id": "Q_C2rQtI4qDg",
        "outputId": "5eb79ab6-274f-443a-999d-969a7cb84166"
      },
      "execution_count": null,
      "outputs": [
        {
          "output_type": "execute_result",
          "data": {
            "text/plain": [
              "42346"
            ]
          },
          "metadata": {},
          "execution_count": 92
        }
      ]
    },
    {
      "cell_type": "markdown",
      "source": [
        "Vendo como a quantidade de outliers muda alterando o upper bound"
      ],
      "metadata": {
        "id": "xoQjF9HF9DA2"
      }
    },
    {
      "cell_type": "code",
      "source": [
        "# continuar editando aqui"
      ],
      "metadata": {
        "id": "7ICgTgnu-VJF"
      },
      "execution_count": null,
      "outputs": []
    },
    {
      "cell_type": "code",
      "source": [
        "for i in range(10000, 100001, 10000):\n",
        "  (spark.sql(\n",
        "      f\"\"\"\n",
        "        with tb_total_min as (\n",
        "          select total_secs / 60 as total_min\n",
        "          from tb_userlogs\n",
        "        )\n",
        "        select count(total_min) as total_min_com_{i}_de_bound\n",
        "        from tb_total_min\n",
        "        where total_min > {i}\n",
        "      \"\"\"\n",
        "    ).show()\n",
        "  )"
      ],
      "metadata": {
        "colab": {
          "base_uri": "https://localhost:8080/"
        },
        "id": "LpJoov2Y4Z2u",
        "outputId": "02dcd112-e67c-4336-e2c0-48d1336405ea"
      },
      "execution_count": null,
      "outputs": [
        {
          "output_type": "stream",
          "name": "stdout",
          "text": [
            "+----------------------------+\n",
            "|total_min_com_10000_de_bound|\n",
            "+----------------------------+\n",
            "|                      720366|\n",
            "+----------------------------+\n",
            "\n",
            "+----------------------------+\n",
            "|total_min_com_20000_de_bound|\n",
            "+----------------------------+\n",
            "|                       79777|\n",
            "+----------------------------+\n",
            "\n",
            "+----------------------------+\n",
            "|total_min_com_30000_de_bound|\n",
            "+----------------------------+\n",
            "|                       13793|\n",
            "+----------------------------+\n",
            "\n",
            "+----------------------------+\n",
            "|total_min_com_40000_de_bound|\n",
            "+----------------------------+\n",
            "|                        3960|\n",
            "+----------------------------+\n",
            "\n",
            "+----------------------------+\n",
            "|total_min_com_50000_de_bound|\n",
            "+----------------------------+\n",
            "|                        1413|\n",
            "+----------------------------+\n",
            "\n",
            "+----------------------------+\n",
            "|total_min_com_60000_de_bound|\n",
            "+----------------------------+\n",
            "|                        1168|\n",
            "+----------------------------+\n",
            "\n",
            "+----------------------------+\n",
            "|total_min_com_70000_de_bound|\n",
            "+----------------------------+\n",
            "|                         944|\n",
            "+----------------------------+\n",
            "\n",
            "+----------------------------+\n",
            "|total_min_com_80000_de_bound|\n",
            "+----------------------------+\n",
            "|                         822|\n",
            "+----------------------------+\n",
            "\n",
            "+----------------------------+\n",
            "|total_min_com_90000_de_bound|\n",
            "+----------------------------+\n",
            "|                         748|\n",
            "+----------------------------+\n",
            "\n",
            "+-----------------------------+\n",
            "|total_min_com_100000_de_bound|\n",
            "+-----------------------------+\n",
            "|                          664|\n",
            "+-----------------------------+\n",
            "\n"
          ]
        }
      ]
    },
    {
      "cell_type": "markdown",
      "source": [
        "#### Analisando em horas e dias ouvidos"
      ],
      "metadata": {
        "id": "vSMvPApX-Uil"
      }
    },
    {
      "cell_type": "code",
      "source": [
        "df_userlogs_total_secs_horas = df_userlogs_total_secs.withColumn('horas', col('total_secs') / 3600)\n",
        "df_userlogs_total_secs_horas.select(min('horas'), max('horas')).show()\n",
        "df_userlogs_total_secs_dias = df_userlogs_total_secs.withColumn('dias', col('total_secs') / 86400)\n",
        "df_userlogs_total_secs_dias.select(min('dias'), max('dias')).show()"
      ],
      "metadata": {
        "colab": {
          "base_uri": "https://localhost:8080/"
        },
        "id": "-blXfM2K-T_j",
        "outputId": "d499b15b-697b-4c58-c16c-d88def83be49"
      },
      "execution_count": null,
      "outputs": [
        {
          "output_type": "stream",
          "name": "stdout",
          "text": [
            "+--------------------+--------------------+\n",
            "|          min(horas)|          max(horas)|\n",
            "+--------------------+--------------------+\n",
            "|-6.66132424881237...|2.562047788093220...|\n",
            "+--------------------+--------------------+\n",
            "\n",
            "+--------------------+--------------------+\n",
            "|           min(dias)|           max(dias)|\n",
            "+--------------------+--------------------+\n",
            "|-2.77555177033848...|1.067519911705508...|\n",
            "+--------------------+--------------------+\n",
            "\n"
          ]
        }
      ]
    },
    {
      "cell_type": "markdown",
      "source": [
        "### Vendo se há valores missing"
      ],
      "metadata": {
        "id": "_uaEzuTmKlAi"
      }
    },
    {
      "cell_type": "code",
      "source": [
        "(spark.sql(\n",
        "    \"\"\"\n",
        "      SELECT\n",
        "        SUM(CASE WHEN msno IS NULL THEN 1 ELSE 0 END) AS msno,\n",
        "        SUM(CASE WHEN num_25 IS NULL THEN 1 ELSE 0 END) AS num_25,\n",
        "        SUM(CASE WHEN num_50 IS NULL THEN 1 ELSE 0 END) AS num_50,\n",
        "        SUM(CASE WHEN num_75 IS NULL THEN 1 ELSE 0 END) AS num_75,\n",
        "        SUM(CASE WHEN num_985 IS NULL THEN 1 ELSE 0 END) AS num,\n",
        "        SUM(CASE WHEN num_100 IS NULL THEN 1 ELSE 0 END) AS num_100,\n",
        "        SUM(CASE WHEN num_unq IS NULL THEN 1 ELSE 0 END) AS num_unq,\n",
        "        SUM(CASE WHEN total_secs IS NULL THEN 1 ELSE 0 END) AS total_secs\n",
        "      FROM tb_userlogs\n",
        "    \"\"\"\n",
        "  ).show()\n",
        ")"
      ],
      "metadata": {
        "colab": {
          "base_uri": "https://localhost:8080/"
        },
        "id": "D_iam0skKna3",
        "outputId": "99b17ef3-4942-4c92-84ca-46a518ce3071"
      },
      "execution_count": null,
      "outputs": [
        {
          "output_type": "stream",
          "name": "stdout",
          "text": [
            "+----+------+------+------+---+-------+-------+----------+\n",
            "|msno|num_25|num_50|num_75|num|num_100|num_unq|total_secs|\n",
            "+----+------+------+------+---+-------+-------+----------+\n",
            "|   0|     0|     0|     0|  0|      0|      0|         0|\n",
            "+----+------+------+------+---+-------+-------+----------+\n",
            "\n"
          ]
        }
      ]
    },
    {
      "cell_type": "markdown",
      "source": [
        "### Entendendo a repetição de cada cliente por safra"
      ],
      "metadata": {
        "id": "AoRrUogzNkyv"
      }
    },
    {
      "cell_type": "code",
      "source": [
        "(spark.sql(\n",
        "    \"\"\"\n",
        "      select safra,\n",
        "             count(msno) as qnt_msno,\n",
        "             count(distinct msno) as qnt_distinct_msno,\n",
        "             case when qnt_msno = qnt_distinct_msno then 1 else 0 end as check_colunas\n",
        "      from tb_userlogs\n",
        "      group by 1\n",
        "      order by 4 asc\n",
        "    \"\"\"\n",
        "  ).show()\n",
        ")"
      ],
      "metadata": {
        "colab": {
          "base_uri": "https://localhost:8080/"
        },
        "id": "mwCEWDGqNrJP",
        "outputId": "0c1e5608-92c3-48d6-b2fc-dec21faadfb1"
      },
      "execution_count": null,
      "outputs": [
        {
          "output_type": "stream",
          "name": "stdout",
          "text": [
            "+------+--------+-----------------+-------------+\n",
            "| safra|qnt_msno|qnt_distinct_msno|check_colunas|\n",
            "+------+--------+-----------------+-------------+\n",
            "|201505|  924216|           924216|            1|\n",
            "|201701| 1136003|          1136003|            1|\n",
            "|201702| 1114164|          1114164|            1|\n",
            "|201501|  937789|           937789|            1|\n",
            "|201509|  903194|           903194|            1|\n",
            "|201609| 1112601|          1112601|            1|\n",
            "|201512| 1039271|          1039271|            1|\n",
            "|201604| 1042406|          1042406|            1|\n",
            "|201511| 1041975|          1041975|            1|\n",
            "|201611| 1183088|          1183088|            1|\n",
            "|201502|  933040|           933040|            1|\n",
            "|201503|  944739|           944739|            1|\n",
            "|201603| 1048941|          1048941|            1|\n",
            "|201508|  920129|           920129|            1|\n",
            "|201607| 1102807|          1102807|            1|\n",
            "|201610| 1139089|          1139089|            1|\n",
            "|201606| 1081181|          1081181|            1|\n",
            "|201507|  871491|           871491|            1|\n",
            "|201601| 1076712|          1076712|            1|\n",
            "|201510| 1012953|          1012953|            1|\n",
            "+------+--------+-----------------+-------------+\n",
            "only showing top 20 rows\n",
            "\n"
          ]
        }
      ]
    },
    {
      "cell_type": "markdown",
      "source": [
        "cada safra cada os clientes nao se repetem."
      ],
      "metadata": {
        "id": "45y_QuRpO3NX"
      }
    },
    {
      "cell_type": "markdown",
      "source": [
        "### Observações e Questionamentos\n",
        "\n",
        "  - Tipo do dado da data integer, indo de 201501 a 201702\n",
        "  - Dados como Double\n",
        "  - Valores negativos para segundos totais de musicas ouvidas? Valores discrepantes para total de segs ouvidos\n",
        "  - Não há valores faltantes\n",
        "  - Decisão a ser tomada, o que considerar como outliers na coluna de total_secs? usar a regra de turkey? usar valores pesquisados como 15 mil minutos? converter de segundos para minutos faz diferença?"
      ],
      "metadata": {
        "id": "4nJ0AoCL7olO"
      }
    },
    {
      "cell_type": "markdown",
      "source": [
        "## 4 - Entendendo o Conjunto. Como são as DataBases e como elas se relacionam?\n",
        "\n"
      ],
      "metadata": {
        "id": "yFB1nFwcfeeo"
      }
    },
    {
      "cell_type": "markdown",
      "source": [
        "  1. Members: Registro de todos os usuários do sistema, contém dados demograficos (idade, genero, cidade) como ele se registrou e qual foi a data que ele entrou no sistema e se ele esta ativo ou não (assinante ou não).\n",
        "\n",
        "    - **Desafio**:\n",
        "        1. Idade dos clientes (coluna 'bd'): Mais da metade dos dados são 0, distorcendo a mediana, distorcendo a distribuição dos dados e suas medidas de representatividade. Tambem temos valores negativos e valores extremamente altos, irreais para idade.\n",
        "        2. Gênero (Coluna 'gender'): Maior parte dos dados estão nulos.\n",
        "\n",
        "  2. Transactions: Transações de todos os clientes quando assinam o plano, contendo data de assinatura, tempo para vencimento, meios de pagamento, valores do plano, total até agora arrecadado de cada cliente. Aqui os clientes se repetiram com uma visão acumulada de casa transação por data.\n",
        "\n",
        "    - **Desafio**: Lidar com o preço dos planos assinados\n",
        "\n",
        "  3. User_logs: Logs de todos os usuários, contendo seus comportentos dentro do sistema, com tempo total de músicas ouvidas, e parcelas de músicas ouvidas, podendo ser identificado possiveis musicas preferidas ou não.\n",
        "\n",
        "    - **Desafio**: Lidar com o total de segundos ouvidos"
      ],
      "metadata": {
        "id": "3fCg3kPXqRpo"
      }
    },
    {
      "cell_type": "markdown",
      "source": [
        "### Juntando as 3 tabelas"
      ],
      "metadata": {
        "id": "1fT-Wl3Sos3s"
      }
    },
    {
      "cell_type": "code",
      "source": [
        "(spark.sql(\n",
        "    \"\"\"\n",
        "      select count(*)\n",
        "      from tb_members\n",
        "      left join tb_transactions\n",
        "      on tb_members.msno = tb_transactions.msno\n",
        "      left join tb_userlogs\n",
        "      on tb_members.msno = tb_userlogs.msno\n",
        "    \"\"\"\n",
        "  ).show()\n",
        ")"
      ],
      "metadata": {
        "colab": {
          "base_uri": "https://localhost:8080/"
        },
        "id": "EyqI2hb2owuy",
        "outputId": "ced2b20f-b131-4767-cf58-1bb10614cac8"
      },
      "execution_count": null,
      "outputs": [
        {
          "output_type": "stream",
          "name": "stdout",
          "text": [
            "+----------+\n",
            "|  count(1)|\n",
            "+----------+\n",
            "|3917222134|\n",
            "+----------+\n",
            "\n"
          ]
        }
      ]
    },
    {
      "cell_type": "markdown",
      "source": [
        "### Vendo a quantidade de transações de clientes por safra (se há repetições por safra)"
      ],
      "metadata": {
        "id": "2-T7R2sJwXQA"
      }
    },
    {
      "cell_type": "code",
      "source": [
        "(spark.sql(\n",
        "    \"\"\"\n",
        "      select tb_members.safra,\n",
        "             tb_members.msno,\n",
        "             count(tb_transactions.msno)\n",
        "      from tb_members\n",
        "      left join tb_transactions\n",
        "      on tb_members.msno = tb_transactions.msno\n",
        "      group by 1, 2\n",
        "      order by 3 desc\n",
        "    \"\"\"\n",
        "  ).show(10)\n",
        ")\n",
        "\n",
        "(spark.sql(\n",
        "    \"\"\"\n",
        "      select tb_members.safra,\n",
        "             tb_members.msno,\n",
        "             count(tb_transactions.msno)\n",
        "      from tb_members\n",
        "      left join tb_transactions\n",
        "      on tb_members.msno = tb_transactions.msno\n",
        "      group by 1, 2\n",
        "      order by 3 asc\n",
        "    \"\"\"\n",
        "  ).show(10)\n",
        ")"
      ],
      "metadata": {
        "colab": {
          "base_uri": "https://localhost:8080/"
        },
        "id": "_Hh9AAxA6iZO",
        "outputId": "21328d72-b7fb-479d-9420-4ece2f23174d"
      },
      "execution_count": null,
      "outputs": [
        {
          "output_type": "stream",
          "name": "stdout",
          "text": [
            "+------+--------------------+-----------+\n",
            "| safra|                msno|count(msno)|\n",
            "+------+--------------------+-----------+\n",
            "|201601|+1rmTJUa2ldrHfNfu...|         26|\n",
            "|201607|+/1VkQ5ExDQjKd4un...|         26|\n",
            "|201610|++VNRMQoGY6E5ontE...|         26|\n",
            "|201611|+/1VkQ5ExDQjKd4un...|         26|\n",
            "|201609|+/ct/LtRwUqp98k9C...|         26|\n",
            "|201602|+/1VkQ5ExDQjKd4un...|         26|\n",
            "|201603|++VNRMQoGY6E5ontE...|         26|\n",
            "|201603|+/1VkQ5ExDQjKd4un...|         26|\n",
            "|201609|++IU7zZpfAGO1qdHB...|         26|\n",
            "|201606|+/1VkQ5ExDQjKd4un...|         26|\n",
            "+------+--------------------+-----------+\n",
            "only showing top 10 rows\n",
            "\n",
            "+------+--------------------+-----------+\n",
            "| safra|                msno|count(msno)|\n",
            "+------+--------------------+-----------+\n",
            "|201604|++3UMuEhLnDO/korl...|          0|\n",
            "|201601|++0ZL8g2hTFnPwgZJ...|          0|\n",
            "|201610|++0mDxT/TdxgU2Gin...|          0|\n",
            "|201607|++0ZL8g2hTFnPwgZJ...|          0|\n",
            "|201603|++0vUgWHGhvOXSuoJ...|          0|\n",
            "|201612|++0ZL8g2hTFnPwgZJ...|          0|\n",
            "|201602|++0mDxT/TdxgU2Gin...|          0|\n",
            "|201603|++0ZL8g2hTFnPwgZJ...|          0|\n",
            "|201605|++6GObyUI3GOXTNyF...|          0|\n",
            "|201611|++0ZL8g2hTFnPwgZJ...|          0|\n",
            "+------+--------------------+-----------+\n",
            "only showing top 10 rows\n",
            "\n"
          ]
        }
      ]
    },
    {
      "cell_type": "markdown",
      "source": [
        "Sao 26 meses de historico de transaction date, e como visto anteriormente, os clientes nao se repetem dentro de cada safra. Contudo, cada cliente só pode transacionar 1 vez por mes, ou seja, por safra. então dentro do nosso historico, temos clientes que não transacionaram nenhuma vez e clientes que transacionaram as 26 vezes. os que transacionaram 0 vezes podem ser clientes que se regristraram mas nunca assinaram."
      ],
      "metadata": {
        "id": "YtNIoO5QQQPA"
      }
    },
    {
      "cell_type": "markdown",
      "source": [
        "## Dicionario de dados FINAL"
      ],
      "metadata": {
        "id": "tuX9331_p1Qc"
      }
    },
    {
      "cell_type": "markdown",
      "source": [
        "<table>\n",
        "<caption><h1>Tabela Members</h1></caption>\n",
        "    <thead>\n",
        "        <tr>\n",
        "            <th>Feature</th>\n",
        "            <th>Descrição</th>\n",
        "            <th>Decisões</th>\n",
        "            <th>Manter?</th>\n",
        "        </tr>\n",
        "    </thead>\n",
        "    <tbody>\n",
        "        <tr>\n",
        "            <td>msno</td>\n",
        "            <td>id do usuário;</td>\n",
        "            <td>'msno': id do usuário;</td>\n",
        "        </tr>\n",
        "            <td>city</td>\n",
        "            <td>cidade do usuário (Númerico);</td>\n",
        "            <td>'city': cidade do usuário (Númerico);</td>\n",
        "        </tr>\n",
        "            <td>bd</td>\n",
        "            <td>idade (int) obs: outliers não só em 2015;</td>\n",
        "            <td>'bd': idade (int) obs: outliers não só em 2015;</td>\n",
        "        </tr>\n",
        "            <td>gender</td>\n",
        "            <td>gênero, Categorico (male or female) possue valores </td>\n",
        "            <td>'gender': gênero, Categorico (male or female) possue valores </td>\n",
        "        </tr>\n",
        "            <td>registered_via</td>\n",
        "            <td>meio de registro do cliente, (Númerico);</td>\n",
        "            <td>'registered_via': meio de registro do cliente, (Númerico);</td>\n",
        "        </tr>\n",
        "            <td>registration_init_time</td>\n",
        "            <td>primeiro registro do cliente formato yyyy-mm-dd de 2004 a 20161231; </td>\n",
        "            <td>'registration_init_time': primeiro registro do cliente formato yyy-mm-dd de 2004 a 20161231; </td>\n",
        "        </tr>\n",
        "            <td>safra</td>\n",
        "            <td>base do inicio ao fim de 2016 (int);</td>\n",
        "            <td>'safra': base do inicio ao fim de 2016 (int);</td>\n",
        "        </tr>\n",
        "            <td>is_ativo</td>\n",
        "            <td>se o cliente esta ativo ou não, (0 ou 1);</td>\n",
        "            <td>'is_ativo': se o cliente esta ativo ou não, (0 ou 1);</td>\n",
        "        </tr>\n",
        "    </tbody>\n",
        "</table>\n"
      ],
      "metadata": {
        "id": "nIT-f_Dzj9RL"
      }
    },
    {
      "cell_type": "markdown",
      "source": [
        "1. tb_Transactions:\n",
        "  - Colunas:\n",
        "    - 1º 'mnso': id do usuário (string);\n",
        "    - 2º 'payment_method_id': Método de pagamento, Númerico (int);\n",
        "    - 3º 'payment_plan_days': tamanho do plano em DIAS (int);\n",
        "    - 4º 'plan_list_price': preço do respectivo plano em New Taiwan Dollar (NTD) (Float/Double);\n",
        "    - 5º 'actual_amount_paid': Total pago atual (nao entendi) (Float/Double);\n",
        "    - 6º 'is_auto_renew': Renovação automatica (1 ou 0) (int);\n",
        "    - 7º 'transaction_date': data da transação no formato yyy-mm-dd;\n",
        "    - 8º 'membership_expire_date': quando o plano vence no formato yyyy-mm-dd;\n",
        "    - 9º 'is_cancel': se nessa transação o cliente cancelou ou não o plano;\n",
        "    - 10º 'safra': data ano e mes(int).\n",
        "\n",
        "2. tb_User_logs:\n",
        "  - Colunas:\n",
        "    - 1º 'msno': id do usuário;\n",
        "    - 2º 'safra': data ano e mes(int);\n",
        "    - 3º 'num_25': quantidade de músicas tocadas menos de 25% da duração dela (float);\n",
        "    - 4º 'num_50': quantidade de músicas tocadas entre 25% e 50% da duração dela (float);\n",
        "    - 5º 'num_75': quantidade de músicas tocadas entre 50% e 75% da duração dela (float);\n",
        "    - 6º 'num_985': quantidade de músicas tocadas entre 75% e 98,5% da duração dela (float);\n",
        "    - 7º 'num_100': quantidade de músicas tocadas acima de 98,5% (float);\n",
        "    - 8º 'num_unq': quantidade de musicas tocadas apenas 1 vez (float);\n",
        "    - 9º 'total_secs': total de segundos tocados (float).\n",
        "\n",
        "3. tb_Members:\n",
        "  - Colunas:\n",
        "    - 1º 'msno': id do usuário;\n",
        "    - 2º 'city': cidade do usuário (Númerico);\n",
        "    - 3º 'bd': idade (int) obs: outliers não só em 2015;\n",
        "    - 4º 'gender': gênero, Categorico (male or female) possue valores nulos;\n",
        "    - 5º 'registered_via': meio de registro do cliente, (Númerico);\n",
        "    - 6º 'registration_init_time': primeiro registro do cliente formato yyy-mm-dd de 2004 a 20161231;\n",
        "    - 7º 'safra': base do inicio ao fim de 2016 (int);\n",
        "    - 8º 'is_ativo': se o cliente esta ativo ou não, (0 ou 1);"
      ],
      "metadata": {
        "id": "2BNtYORZqa_j"
      }
    },
    {
      "cell_type": "markdown",
      "source": [
        "# Construção da Bronze:\n"
      ],
      "metadata": {
        "id": "fSjch1Me-BNH"
      }
    },
    {
      "cell_type": "markdown",
      "source": [
        "## PASSOS"
      ],
      "metadata": {
        "id": "E9FEZ3gLU7UB"
      }
    },
    {
      "cell_type": "markdown",
      "source": [
        "\n",
        "1. Limpeza e tratamento dos dados\n",
        "    - Conversão de tipos de dados\n",
        "    - Tratamento de outliers\n",
        "\n",
        "2. Construção da Target\n",
        "    - Entendimento da problematica\n",
        "    - Definição do publico alvo e escopo\n",
        "    - Criação da variavel dependente (Target)"
      ],
      "metadata": {
        "id": "iZGyIdzgVAqE"
      }
    },
    {
      "cell_type": "markdown",
      "source": [
        "## 1. Limpeza e tratamento dos dados\n"
      ],
      "metadata": {
        "id": "rPE3gG-GWUN8"
      }
    },
    {
      "cell_type": "markdown",
      "source": [
        "### bronze_Members"
      ],
      "metadata": {
        "id": "hJ7m5jF7oL7i"
      }
    },
    {
      "cell_type": "markdown",
      "source": [
        "#### Passos"
      ],
      "metadata": {
        "id": "D2kBSLZs6Te8"
      }
    },
    {
      "cell_type": "markdown",
      "source": [
        "1. Members\n",
        "  - **Casting das Variaveis**: (✅)\n",
        "    - Mudança no tipo de dados do schema, pois alguns formatos estavam despadronizados, impedindo a consulta e utilização dos dados de forma correta.\n",
        "\n",
        "  - **Tratamento das Idades** : (✅)\n",
        "    - Decisão: Manter a variavel. Mesmo que mais de 50% dos dados são considerados outliers, ela pode agregar valor ao modelo nos proximos passos devido a idade ser um dado demográfico, que conforme discutido no livro \"Data Science for Business\" (Provost & Fawcett), variáveis demográficas ajudam a capturar tendências e padrões de consumo que muitas vezes são fundamentais para segmentação de usuários.\n",
        "    - Não foi usado a Regra de Turkey pois o Upper Bound apresentado pela técnica é de 60 anos, perdendo as caracteristicas das pessoas com idade acima disso. Utilizando a métrica do Z-score também perde muita informação pois o minimo e maximo ficaram entre -10 e 9.\n",
        "    \n",
        "            Outra alternativa de tratamento seria utilizar modelos de imputação, como KNN (K-Nearest Neighbors)\n",
        "            ou regressão, para prever os valores ausentes ou extremos com base em outras variáveis do conjunto de dados.\n",
        "            Isso pode fornecer substituições mais precisas, mas também aumenta a complexidade do processamento\n",
        "            e por isso não foi escolhida.\n",
        "\n",
        "  - **Tratamento dos gêneros**: (⏭)  \n",
        "    - Há uma quantidade muito elevada de valores nulos. Considerando a abordagem de que a ausência de informação pode carregar características, será adicionada a categoria \"desconhecido\" para o gênero no lugar dos valores nulos a fim de preservar as caracteristicas e não introduzir um vies nos dados. Após isso, e após a construção da target, será feita a análise de correlação principalmente dessa variável para avaliar seu possivel descarte do problema.\n",
        "\n"
      ],
      "metadata": {
        "id": "PcT3g0irWc2X"
      }
    },
    {
      "cell_type": "markdown",
      "source": [
        "#### Casting das variaveis"
      ],
      "metadata": {
        "id": "IkPmjvif6XYg"
      }
    },
    {
      "cell_type": "code",
      "source": [
        "bronze_members = (df_members.withColumn('city', col('city').cast('int'))\n",
        "                            .withColumn('bd', col('bd').cast('int'))\n",
        "                            .withColumn('registered_via', col('registered_via').cast('int'))\n",
        "                            .withColumn('registration_init_time', to_date(col('registration_init_time'), 'yyyyMMdd'))\n",
        "                            .withColumn('safra', to_date(concat(col('safra').cast('string'), lit('01')), 'yyyyMMdd'))\n",
        "                            .withColumn('is_ativo', col('is_ativo').cast('int'))\n",
        "                            )\n",
        "\n",
        "\n",
        "bronze_members.printSchema()\n",
        "\n",
        "bronze_members.createOrReplaceTempView('tb_members_mod')"
      ],
      "metadata": {
        "colab": {
          "base_uri": "https://localhost:8080/"
        },
        "id": "P0Mk01lfWimp",
        "outputId": "da54ef06-cc09-4046-a8fa-511c89f63af5"
      },
      "execution_count": 8,
      "outputs": [
        {
          "output_type": "stream",
          "name": "stdout",
          "text": [
            "root\n",
            " |-- msno: string (nullable = true)\n",
            " |-- safra: date (nullable = true)\n",
            " |-- registration_init_time: date (nullable = true)\n",
            " |-- city: integer (nullable = true)\n",
            " |-- bd: integer (nullable = true)\n",
            " |-- gender: string (nullable = true)\n",
            " |-- registered_via: integer (nullable = true)\n",
            " |-- is_ativo: integer (nullable = true)\n",
            "\n"
          ]
        }
      ]
    },
    {
      "cell_type": "markdown",
      "source": [
        "#### Tratamento da coluna de idade"
      ],
      "metadata": {
        "id": "3c_3l7SM6b7J"
      }
    },
    {
      "cell_type": "markdown",
      "source": [
        "##### Passos"
      ],
      "metadata": {
        "id": "j6Y7gcJzlhrG"
      }
    },
    {
      "cell_type": "markdown",
      "source": [
        "Segundo Tukey, no livro Exploratory Data Analysis, a mediana é uma medida robusta em relação a outliers, pois não é influenciada por valores extremos. Dessa forma, optou-se por substituir os outliers da coluna BD com base nos critérios de idades negativas, iguais a zero, ou superiores a 121 foram consideradas fora do padrão e substituídas pela mediana dos valores válidos (entre 1 e 121). Além disso, para reduzir ainda mais a sensibilidade a valores extremos e facilitar a identificação de padrões não lineares, as idades foram transformadas em categorias de faixas etárias, definidas como:\n",
        "\n",
        "  - 1 a 12: Infantil\n",
        "  - 13 a 19: Jovem\n",
        "  - 20 a 30: Jovem Adulto\n",
        "  - 31 a 59: Adulto\n",
        "  - 60 a 121: Idoso\n",
        "\n",
        "Essas faixas foram pensadas com base em um índice do IBGE, e adaptadas ao problema. Com a adição da faixa \"jovem adulto\", foi entendido a importancia de capturar as características comportamentais musicais dessas faixas de idade, pois segundo o estudo \"Práticas musicais de jovens e vida cotidiana: socialização e identidades em movimento\" publicado pela revista da Universidade Federal do Paraná (UFPR) (fonte: https://revistas.ufpr.br/musica/article/download/38133/23289/0), a música desempenha um papel significativo na formação de identidades e na socialização dos jovens, especialmente quando mediada por tecnologias, sugerindo que os jovens tendem a vivenciar a música de maneira diferente em comparação com adultos mais velhos.\n",
        "\n",
        "Essa transformação também beneficia os modelos. Por exemplo, em árvores de decisão, variáveis categóricas simplificam as divisões no espaço de busca, simplificando cortes perpendiculares ao eixo da variável. Isso facilita a modelagem de relações não lineares, como as diferenças de comportamento entre jovens, jovens adultos e idosos."
      ],
      "metadata": {
        "id": "_ezfxyXi99DY"
      }
    },
    {
      "cell_type": "markdown",
      "source": [
        "##### Tratamento"
      ],
      "metadata": {
        "id": "oD9dTqmSlkcL"
      }
    },
    {
      "cell_type": "code",
      "source": [
        "(spark.sql(\n",
        "    \"\"\"\n",
        "    SELECT count(bd) as qnt_a_ser_afetada\n",
        "    FROM tb_members_mod\n",
        "    WHERE bd <= 0 or bd >= 122\n",
        "    \"\"\"\n",
        "  ).show()\n",
        ")\n",
        "\n",
        "(spark.sql(\n",
        "    \"\"\"\n",
        "      -- Calculando a mediana para usar no tratamento das idades\n",
        "      WITH\n",
        "      mediana_idade AS (\n",
        "        SELECT percentile_approx(bd, 0.5) AS median_idade\n",
        "        FROM tb_members_mod\n",
        "        where bd > 0 and bd <= 122\n",
        "      ),\n",
        "      -- Selecionando o dataframe inteiro, alterando as idades que estiverem fora da faixa de idade 1 e 121 e substituindo pelo valor da mediana\n",
        "      tratando_idade AS (\n",
        "        SELECT msno,\n",
        "               safra,\n",
        "               registered_via,\n",
        "               city,\n",
        "               CASE WHEN bd <= 0 OR bd >= 122 THEN (SELECT median_idade FROM mediana_idade) ELSE bd END AS new_bd,\n",
        "               gender,\n",
        "               registration_init_time,\n",
        "               is_ativo\n",
        "        FROM tb_members_mod\n",
        "      ),\n",
        "      -- criando uma nova coluna categorizando as idades por faixas etarias\n",
        "      tb_faixa_etaria AS (\n",
        "        SELECT *,\n",
        "              CASE\n",
        "                  WHEN new_bd > 0 AND new_bd <= 12 THEN 'Infantil'\n",
        "                  WHEN new_bd >= 13 AND new_bd <= 19 THEN 'Jovem'\n",
        "                  WHEN new_bd >= 20 AND new_bd <= 30 THEN 'Jovem Adulto'\n",
        "                  WHEN new_bd >= 31 AND new_bd <= 59 THEN 'Adulto'\n",
        "                  WHEN new_bd >= 60 AND new_bd <= 122 THEN 'Idoso'\n",
        "              END AS faixa_etaria\n",
        "        FROM tratando_idade\n",
        "      )\n",
        "      -- contando a quantidade de pessoas por faixa etaria e vendo a representatividade pela porcentagem de cada uma delas em relação ao total\n",
        "      SELECT faixa_etaria,\n",
        "             count(new_bd) AS qnt_por_faixa,\n",
        "             MIN(new_bd) AS min_bd,\n",
        "             MAX(new_bd) AS max_bd,\n",
        "             CONCAT(ROUND((qnt_por_faixa / (select count(new_bd) as total from tb_faixa_etaria)) * 100, 2), '%') AS taxa_por_faixa\n",
        "      FROM tb_faixa_etaria\n",
        "      GROUP BY faixa_etaria\n",
        "      ORDER BY min_bd\n",
        "    \"\"\"\n",
        "  ).show()\n",
        ")"
      ],
      "metadata": {
        "colab": {
          "base_uri": "https://localhost:8080/"
        },
        "id": "JFjFUSGDaEta",
        "outputId": "ecfcbaf1-0f19-4861-db72-a9fa0fb6e646"
      },
      "execution_count": 9,
      "outputs": [
        {
          "output_type": "stream",
          "name": "stdout",
          "text": [
            "+-----------------+\n",
            "|qnt_a_ser_afetada|\n",
            "+-----------------+\n",
            "|         39517090|\n",
            "+-----------------+\n",
            "\n",
            "+------------+-------------+------+------+--------------+\n",
            "|faixa_etaria|qnt_por_faixa|min_bd|max_bd|taxa_por_faixa|\n",
            "+------------+-------------+------+------+--------------+\n",
            "|    Infantil|        14934|     1|    12|         0.02%|\n",
            "|       Jovem|      3326654|    13|    19|         5.21%|\n",
            "|Jovem Adulto|     51106899|    20|    30|        80.02%|\n",
            "|      Adulto|      9051335|    31|    59|        14.17%|\n",
            "|       Idoso|       367424|    60|   121|         0.58%|\n",
            "+------------+-------------+------+------+--------------+\n",
            "\n"
          ]
        }
      ]
    },
    {
      "cell_type": "code",
      "source": [
        "(spark.sql(\n",
        "    \"\"\"\n",
        "      -- Calculando a mediana para usar no tratamento das idades\n",
        "      WITH\n",
        "      mediana_idade AS (\n",
        "        SELECT percentile_approx(bd, 0.5) AS median_idade\n",
        "        FROM tb_members_mod\n",
        "        where bd > 0 and bd <= 122\n",
        "      ),\n",
        "      -- Selecionando o dataframe inteiro, alterando as idades que estiverem fora da faixa de idade 1 e 121 e substituindo pelo valor da mediana\n",
        "      tratando_idade AS (\n",
        "        SELECT msno,\n",
        "               safra,\n",
        "               registered_via,\n",
        "               city,\n",
        "               CASE WHEN bd <= 0 OR bd >= 122 THEN (SELECT median_idade FROM mediana_idade) ELSE bd END AS new_bd,\n",
        "               gender,\n",
        "               registration_init_time,\n",
        "               is_ativo\n",
        "        FROM tb_members_mod\n",
        "      )\n",
        "      -- criando uma nova coluna categorizando as idades por faixas etarias\n",
        "      SELECT *,\n",
        "            CASE\n",
        "                WHEN new_bd > 0 AND new_bd <= 12 THEN 'Infantil'\n",
        "                WHEN new_bd >= 13 AND new_bd <= 19 THEN 'Jovem'\n",
        "                WHEN new_bd >= 20 AND new_bd <= 30 THEN 'Jovem Adulto'\n",
        "                WHEN new_bd >= 31 AND new_bd <= 59 THEN 'Adulto'\n",
        "                WHEN new_bd >= 60 AND new_bd <= 122 THEN 'Idoso'\n",
        "            END AS faixa_etaria\n",
        "      FROM tratando_idade\n",
        "    \"\"\"\n",
        "     ).createOrReplaceTempView('bronze_members')\n",
        ")"
      ],
      "metadata": {
        "id": "awksI5Fei5hq"
      },
      "execution_count": 10,
      "outputs": []
    },
    {
      "cell_type": "markdown",
      "source": [
        "80% dos usuários são jovens adultos"
      ],
      "metadata": {
        "id": "6k1fChzaMol1"
      }
    },
    {
      "cell_type": "markdown",
      "source": [
        "##### Conferindo o impacto: Mediana da coluna BD original X mediana da coluna BD tratada"
      ],
      "metadata": {
        "id": "vNOdTbDFVr-W"
      }
    },
    {
      "cell_type": "markdown",
      "source": [
        "Considerando valores dentro da faixa valida x > 0 e x < 122"
      ],
      "metadata": {
        "id": "A75DmMDp5fQG"
      }
    },
    {
      "cell_type": "code",
      "source": [
        "(spark.sql(\n",
        "    \"\"\"\n",
        "      SELECT percentile_approx(new_bd, 0.5) AS mediana_idade_tratada,\n",
        "             avg(new_bd) AS media_idade_tratada,\n",
        "             count(new_bd) AS qnt_de_linhas\n",
        "      FROM bronze_members\n",
        "    \"\"\"\n",
        "  ).show()\n",
        ")\n",
        "\n",
        "(spark.sql(\n",
        "    \"\"\"\n",
        "        SELECT percentile_approx(bd, 0.5) AS mediana_idade_original,\n",
        "               avg(bd) AS media_idade_original,\n",
        "               count(bd) AS qnt_de_linhas\n",
        "        FROM tb_members_mod\n",
        "        WHERE bd > 0 and bd <= 122\n",
        "    \"\"\"\n",
        "  ).show()\n",
        ")"
      ],
      "metadata": {
        "colab": {
          "base_uri": "https://localhost:8080/"
        },
        "id": "a8v5XI7jy2os",
        "outputId": "189a5c00-6d17-4b76-b106-ecc68a4e3d35"
      },
      "execution_count": 11,
      "outputs": [
        {
          "output_type": "stream",
          "name": "stdout",
          "text": [
            "+---------------------+-------------------+-------------+\n",
            "|mediana_idade_tratada|media_idade_tratada|qnt_de_linhas|\n",
            "+---------------------+-------------------+-------------+\n",
            "|                   27| 28.099593146696822|     63867246|\n",
            "+---------------------+-------------------+-------------+\n",
            "\n",
            "+----------------------+--------------------+-------------+\n",
            "|mediana_idade_original|media_idade_original|qnt_de_linhas|\n",
            "+----------------------+--------------------+-------------+\n",
            "|                    27|  29.884314701766918|     24350216|\n",
            "+----------------------+--------------------+-------------+\n",
            "\n"
          ]
        }
      ]
    },
    {
      "cell_type": "markdown",
      "source": [
        "Vendo a inclusão das 39 milhoes de linhas tratadas entrando para a faixa adequada"
      ],
      "metadata": {
        "id": "tKflK69FB3m_"
      }
    },
    {
      "cell_type": "markdown",
      "source": [
        "Considerando a base inteira"
      ],
      "metadata": {
        "id": "iHdRdlmX5cQU"
      }
    },
    {
      "cell_type": "code",
      "source": [
        "(spark.sql(\n",
        "    \"\"\"\n",
        "        SELECT percentile_approx(bd, 0.5) AS mediana_idade_baseinteira,\n",
        "               avg(bd) AS media_idade_baseinteira\n",
        "        FROM tb_members_mod\n",
        "    \"\"\"\n",
        "  ).show()\n",
        ")"
      ],
      "metadata": {
        "colab": {
          "base_uri": "https://localhost:8080/"
        },
        "id": "tTp-0PLg30h9",
        "outputId": "c3e0cc40-df16-4a19-cf13-6ade551bd129"
      },
      "execution_count": 12,
      "outputs": [
        {
          "output_type": "stream",
          "name": "stdout",
          "text": [
            "+-------------------------+-----------------------+\n",
            "|mediana_idade_baseinteira|media_idade_baseinteira|\n",
            "+-------------------------+-----------------------+\n",
            "|                        0|     11.430160210759675|\n",
            "+-------------------------+-----------------------+\n",
            "\n"
          ]
        }
      ]
    },
    {
      "cell_type": "markdown",
      "source": [
        "Ao usar a base filtrada na faixa de idade adequada, a metrica da média e da mediana representam a realidade de como os dados validos estao distribuidos. A mediana igual a 0 esta distorcida devido a grande quantidade de valores iguais a zero, que podem ser devido a algum erro de captura dos dados ou sinal de valores nulos\\faltantes"
      ],
      "metadata": {
        "id": "dzLnpS_75p5K"
      }
    },
    {
      "cell_type": "markdown",
      "source": [
        "\n",
        "3. Members:\n",
        "  - Colunas:\n",
        "    - 1º 'msno': id do usuário;\n",
        "    - 2º 'city': cidade do usuário (Númerico);\n",
        "    - 3º 'bd': idade (int) obs: outliers não só em 2015;\n",
        "    - 4º 'gender': gênero, Categorico (male or female) possue valores nulos;\n",
        "    - 5º 'registered_via': meio de registro do cliente, (Númerico);\n",
        "    - 6º 'registration_init_time': primeiro registro do cliente formato yyy-mm-dd de 2004 a 20161231;\n",
        "    - 7º 'safra': base do inicio ao fim de 2016 (int);\n",
        "    - 8º 'is_ativo': se o cliente esta ativo ou não, (0 ou 1);"
      ],
      "metadata": {
        "id": "mAtuZ-fMY-Cj"
      }
    },
    {
      "cell_type": "markdown",
      "source": [
        "#### Tratamento da coluna de gêneros"
      ],
      "metadata": {
        "id": "xsKWQ70qyufd"
      }
    },
    {
      "cell_type": "markdown",
      "source": [
        "#####A coluna de gênero apresenta uma grande proporção de valores nulos. Para evitar a perda de informações e manter a flexibilidade para análise futura, foi decidido substituir os valores nulos por \"desconhecido\", criando uma terceira categoria. Essa abordagem permite preservar a coluna na fase inicial do projeto, garantindo que todas as possibilidades sejam consideradas durante os passos após a criação da target. Posteriormente, com base em análises mais detalhadas e no impacto da variável no modelo, reavaliaremos se a coluna deve ser tratada de outra forma ou descartada."
      ],
      "metadata": {
        "id": "nasZ97BCy7On"
      }
    },
    {
      "cell_type": "code",
      "source": [
        "(spark.sql(\n",
        "    \"\"\"\n",
        "        SELECT msno,\n",
        "               safra,\n",
        "               registered_via,\n",
        "               city,\n",
        "               new_bd,\n",
        "               CASE WHEN gender IS NULL THEN 'desconhecido' ELSE gender END AS new_gender,\n",
        "               registration_init_time,\n",
        "               is_ativo\n",
        "        FROM bronze_members\n",
        "    \"\"\"\n",
        "  ).createOrReplaceTempView('bronze_members')\n",
        ")"
      ],
      "metadata": {
        "id": "dnJeul5tjCSK"
      },
      "execution_count": 11,
      "outputs": []
    },
    {
      "cell_type": "code",
      "source": [
        "(spark.sql(\n",
        "    \"\"\"\n",
        "      SELECT new_gender,\n",
        "             count(new_gender) AS qnt_por_genero\n",
        "      FROM bronze_members\n",
        "      GROUP BY new_gender\n",
        "      ORDER BY qnt_por_genero DESC\n",
        "    \"\"\"\n",
        "  ).show()\n",
        ")"
      ],
      "metadata": {
        "colab": {
          "base_uri": "https://localhost:8080/"
        },
        "id": "iSGyfKz6BEk_",
        "outputId": "f8adce7b-ba48-4f64-9a9c-ef5926be07cb"
      },
      "execution_count": 14,
      "outputs": [
        {
          "output_type": "stream",
          "name": "stdout",
          "text": [
            "+------------+--------------+\n",
            "|  new_gender|qnt_por_genero|\n",
            "+------------+--------------+\n",
            "|desconhecido|      38210177|\n",
            "|        male|      13075425|\n",
            "|      female|      12581644|\n",
            "+------------+--------------+\n",
            "\n"
          ]
        }
      ]
    },
    {
      "cell_type": "markdown",
      "source": [
        "##### Vantagens e Desvantagens de Usar uma nova categoria\n"
      ],
      "metadata": {
        "id": "3sBbrZj8BYCX"
      }
    },
    {
      "cell_type": "markdown",
      "source": [
        "\n",
        "###### Vantagens de usar \"desconhecido\":\n"
      ],
      "metadata": {
        "id": "OW2xAgUZCAMl"
      }
    },
    {
      "cell_type": "markdown",
      "source": [
        "  - **Preservação da informação**: Ao substituir os valores nulos por \"desconhecido\", você mantém a informação de ausência. Isso é importante porque a falta de dados pode carregar um sinal importante, especialmente em um contexto de comportamento de usuário (como churn ou transações).\n",
        "\n",
        "  - **Redução do viés**: Em comparação com imputar um valor como a moda (que pode ser muito comum e não refletir a realidade), a abordagem de \"desconhecido\" pode ser uma forma de evitar viés, pois você não está fazendo uma suposição excessiva sobre o gênero do usuário. Em vez disso, você está tratando a falta de dados como uma categoria distinta.\n",
        "\n",
        "  - **Flexibilidade para o modelo**: Dependendo do modelo que você escolher, ele pode aprender a distinguir entre usuários com gênero \"desconhecido\" e usuários com gênero conhecido. Modelos como árvores de decisão, por exemplo, podem tratar \"desconhecido\" como uma categoria separada, o que pode ser vantajoso.\n",
        "  \n",
        "  - **Equilíbrio entre viés e variância**: Substituir por \"desconhecido\" tende a reduzir o viés (pois não está fazendo uma suposição simplista) e ao mesmo tempo não aumenta demasiadamente a variância (como poderia acontecer se você tentasse prever ou imputar de forma muito complexa). Isso proporciona um bom equilíbrio entre as duas coisas."
      ],
      "metadata": {
        "id": "iC0ZAWezCIaW"
      }
    },
    {
      "cell_type": "markdown",
      "source": [
        "###### Desvantagens e cuidados a serem tomados:\n",
        "  "
      ],
      "metadata": {
        "id": "X7axBYxuCRAS"
      }
    },
    {
      "cell_type": "markdown",
      "source": [
        "- **Possível perda de informações**: Se a variável \"gênero\" for muito importante para o modelo, o valor \"desconhecido\" pode dificultar a aprendizagem do modelo, especialmente se essa categoria \"desconhecido\" for muito prevalente. Em tal caso, o modelo pode não aprender bem os padrões relacionados ao gênero.\n",
        "\n",
        "  - **Modelo mais conservador**: Se a proporção de valores \"desconhecido\" for alta, pode ser necessário adaptar o modelo para lidar com essa nova categoria de forma eficiente. Isso pode exigir mais ajustes de modelagem ou até o uso de técnicas específicas para lidar com dados ausentes.\n",
        "\n",
        "  - **Desequilíbrio nas classes**: Se a substituição por \"desconhecido\" for feita de forma excessiva, pode ocorrer um desbalanceamento de classes, principalmente se o gênero \"desconhecido\" representar uma grande proporção da base. Isso pode afetar a performance do modelo, especialmente se ele não for treinado para lidar com desequilíbrios de classe."
      ],
      "metadata": {
        "id": "NlrsBufUCSxf"
      }
    },
    {
      "cell_type": "markdown",
      "source": [
        "###### Outros tipos de tratamentos consideraveis"
      ],
      "metadata": {
        "id": "BXeTbHz-A6kY"
      }
    },
    {
      "cell_type": "markdown",
      "source": [
        "fonte : https://medium.com/data-hackers/feature-engineering-t%C3%A9cnicas-para-lidar-com-dados-faltantes-em-um-projeto-de-ci%C3%AAncia-de-dados-debdd57eb662"
      ],
      "metadata": {
        "id": "mO6rhPZnT2lU"
      }
    },
    {
      "cell_type": "code",
      "source": [
        "total_filled = df_members.filter(col(\"gender\").isNotNull()).count()\n",
        "print(total_filled)\n",
        "\n",
        "total_female = df_members.filter(col(\"gender\") == \"female\").count()\n",
        "print(total_female)\n",
        "\n",
        "total_male = df_members.filter(col(\"gender\") == \"male\").count()\n",
        "print(total_male)\n",
        "\n",
        "prob_female = total_female / total_filled\n",
        "prob_male = total_male / total_filled\n",
        "\n",
        "print(prob_female)\n",
        "print(prob_male)"
      ],
      "metadata": {
        "id": "1DfQi0kx_I-4",
        "colab": {
          "base_uri": "https://localhost:8080/"
        },
        "outputId": "916f6c5f-9e3d-4167-955f-9de94dd05f0f"
      },
      "execution_count": 13,
      "outputs": [
        {
          "output_type": "stream",
          "name": "stdout",
          "text": [
            "25657069\n",
            "12581644\n",
            "13075425\n",
            "0.4903772913422028\n",
            "0.5096227086577972\n"
          ]
        }
      ]
    },
    {
      "cell_type": "code",
      "source": [
        "# A coluna de gênero apresenta uma grande proporção de valores nulos. Para evitar a perda de informações potencialmente úteis e manter a flexibilidade para análise futura, foi decidido substituir os valores nulos por \"nao informado\".\n",
        "\n",
        "total_filled = df_members.filter(col(\"gender\").isNotNull()).count()\n",
        "total_female = df_members.filter(col(\"gender\") == \"female\").count()\n",
        "total_male = df_members.filter(col(\"gender\") == \"male\").count()\n",
        "\n",
        "prob_female = total_female / total_filled\n",
        "prob_male = total_male / total_filled\n",
        "\n",
        "\n",
        "# Criar coluna de preenchimento proporcional\n",
        "df_teste = df_members.withColumn(\n",
        "    \"gender\",\n",
        "    when(\n",
        "        col(\"gender\").isNull(),\n",
        "        when(rand() <= prob_female, \"female\").otherwise(\"male\")\n",
        "    ).otherwise(col(\"gender\"))\n",
        ")\n",
        "\n",
        "# Validar os resultados\n",
        "df_teste.groupBy(\"gender\").count().show()\n",
        "\n",
        "df_teste.groupBy(\"gender\").count().show()\n",
        "\n",
        "aa = df_teste.groupBy(\"gender\").count()\n",
        "\n",
        "a1 = aa.collect()[0][1]\n",
        "print(a1)\n",
        "a2 = aa.collect()[1][1]\n",
        "print(a2)\n",
        "\n",
        "print(a1/(a1+a2))\n",
        "print(a2/(a1+a2))"
      ],
      "metadata": {
        "id": "WdcmqrPEyx0p",
        "colab": {
          "base_uri": "https://localhost:8080/"
        },
        "outputId": "a9f3e354-1e27-4216-8a45-404fbc67c75b"
      },
      "execution_count": 14,
      "outputs": [
        {
          "output_type": "stream",
          "name": "stdout",
          "text": [
            "+------+--------+\n",
            "|gender|   count|\n",
            "+------+--------+\n",
            "|female|31319197|\n",
            "|  male|32548049|\n",
            "+------+--------+\n",
            "\n",
            "+------+--------+\n",
            "|gender|   count|\n",
            "+------+--------+\n",
            "|female|31319197|\n",
            "|  male|32548049|\n",
            "+------+--------+\n",
            "\n",
            "31319197\n",
            "32548049\n",
            "0.4903796384143447\n",
            "0.5096203615856554\n"
          ]
        }
      ]
    },
    {
      "cell_type": "markdown",
      "source": [
        "#### Salvando as alterações finais para a bronze_members"
      ],
      "metadata": {
        "id": "Z6WZ_LgNDKTV"
      }
    },
    {
      "cell_type": "code",
      "source": [
        "bronze_members = (spark.sql(\"select * from bronze_members\"))\n",
        "\n",
        "bronze_members.show(5)\n",
        "\n",
        "# bronze_members.write.mode(\"overwrite\").parquet(\"/content/drive/MyDrive/Colab Notebooks/data_master_VICTOR/bronze\")"
      ],
      "metadata": {
        "colab": {
          "base_uri": "https://localhost:8080/"
        },
        "id": "R5DXlkkeDg9k",
        "outputId": "147d1dc2-7403-4503-b457-4c40a3ee4611"
      },
      "execution_count": 12,
      "outputs": [
        {
          "output_type": "stream",
          "name": "stdout",
          "text": [
            "+--------------------+----------+--------------+----+------+------------+----------------------+--------+\n",
            "|                msno|     safra|registered_via|city|new_bd|  new_gender|registration_init_time|is_ativo|\n",
            "+--------------------+----------+--------------+----+------+------------+----------------------+--------+\n",
            "|+++snpr7pmobhLKUg...|2016-12-01|             7|   1|    27|desconhecido|            2014-09-27|       1|\n",
            "|++/AwGzubug3gT6J+...|2016-07-01|             9|   1|    27|desconhecido|            2015-03-22|       0|\n",
            "|++/Gw1B9K+XOlB3hL...|2016-01-01|             3|  15|    32|        male|            2012-12-17|       1|\n",
            "|++02XbtviomSxcIBU...|2016-03-01|             7|  14|    21|        male|            2013-11-12|       0|\n",
            "|++0O0Bq04sB/9ZcOS...|2016-10-01|             3|   5|    33|        male|            2014-10-21|       0|\n",
            "+--------------------+----------+--------------+----+------+------------+----------------------+--------+\n",
            "only showing top 5 rows\n",
            "\n"
          ]
        }
      ]
    },
    {
      "cell_type": "markdown",
      "source": [
        "### bronze_Transactions\n"
      ],
      "metadata": {
        "id": "p5RSpiCEWoug"
      }
    },
    {
      "cell_type": "markdown",
      "source": [
        "#### Passos"
      ],
      "metadata": {
        "id": "m0wlcdMbo9Zd"
      }
    },
    {
      "cell_type": "markdown",
      "source": [
        "\n",
        "2. Transactions\n",
        "  - Casting das Variaveis\n",
        "  - Tratamento das datas de vencimento do Plano\n",
        "  - Feature Engineering: Quais variaveis podem surgir dessa tabel?\n",
        "    - a"
      ],
      "metadata": {
        "id": "TmBCqKi4W7zR"
      }
    },
    {
      "cell_type": "markdown",
      "source": [
        "1. Transactions:\n",
        "  - Colunas:\n",
        "    - 1º 'mnso': id do usuário (string);\n",
        "    - 2º 'payment_method_id': Método de pagamento, Númerico (int);\n",
        "    - 3º 'payment_plan_days': tamanho do plano em DIAS (int);\n",
        "    - 4º 'plan_list_price': preço do respectivo plano em New Taiwan Dollar (NTD) (Float/Double);\n",
        "    - 5º 'actual_amount_paid': Total pago atual (nao entendi) (Float/Double);\n",
        "    - 6º 'is_auto_renew': Renovação automatica (1 ou 0) (int);\n",
        "    - 7º 'transaction_date': data da transação no formato yyy-mm-dd;\n",
        "    - 8º 'membership_expire_date': quando o plano vence no formato yyyy-mm-dd;\n",
        "    - 9º 'is_cancel': se nessa transação o cliente cancelou ou não o plano;\n",
        "    - 10º 'safra': data ano e mes(int).\n",
        "\n",
        "\n"
      ],
      "metadata": {
        "id": "-I80rprFZAmk"
      }
    },
    {
      "cell_type": "markdown",
      "source": [
        "#### Casting das variaveis"
      ],
      "metadata": {
        "id": "0u26TRJrpEnj"
      }
    },
    {
      "cell_type": "code",
      "source": [
        "df_transactions = (df_transactions.withColumn('payment_method_id', col('payment_method_id').cast('int'))\n",
        "                                  .withColumn('payment_plan_days', col('payment_plan_days').cast('int'))\n",
        "                                  .withColumn('plan_list_price', col('plan_list_price').cast('float'))\n",
        "                                  .withColumn('actual_amount_paid', col('actual_amount_paid').cast('float'))\n",
        "                                  .withColumn('is_auto_renew', col('is_auto_renew').cast('int'))\n",
        "                                  .withColumn('transaction_date', to_date(col('transaction_date'), 'yyyyMMdd'))\n",
        "                                  .withColumn('membership_expire_date', to_date(col('membership_expire_date'), 'yyyyMMdd'))\n",
        "                                  .withColumn('is_cancel', col('is_cancel').cast('int'))\n",
        "                                  .withColumn('safra', to_date(concat(col('safra').cast('string'), lit('01')), 'yyyyMMdd'))\n",
        "\n",
        ")\n",
        "\n",
        "df_transactions.printSchema()\n",
        "\n",
        "df_transactions.createOrReplaceTempView('tb_transactions_mod')"
      ],
      "metadata": {
        "id": "IAXzsGDlpHNG",
        "colab": {
          "base_uri": "https://localhost:8080/"
        },
        "outputId": "36963a76-6bd4-4fa8-a66b-a279d350f5f8"
      },
      "execution_count": 13,
      "outputs": [
        {
          "output_type": "stream",
          "name": "stdout",
          "text": [
            "root\n",
            " |-- msno: string (nullable = true)\n",
            " |-- payment_method_id: integer (nullable = true)\n",
            " |-- payment_plan_days: integer (nullable = true)\n",
            " |-- plan_list_price: float (nullable = true)\n",
            " |-- actual_amount_paid: float (nullable = true)\n",
            " |-- is_auto_renew: integer (nullable = true)\n",
            " |-- transaction_date: date (nullable = true)\n",
            " |-- membership_expire_date: date (nullable = true)\n",
            " |-- is_cancel: integer (nullable = true)\n",
            " |-- safra: date (nullable = true)\n",
            "\n"
          ]
        }
      ]
    },
    {
      "cell_type": "markdown",
      "source": [
        "#### tratamento da coluna X"
      ],
      "metadata": {
        "id": "DADGBJvIpIao"
      }
    },
    {
      "cell_type": "code",
      "source": [],
      "metadata": {
        "id": "JXXdjY2VpLG-"
      },
      "execution_count": null,
      "outputs": []
    },
    {
      "cell_type": "markdown",
      "source": [
        "### bronze_Userlogs\n"
      ],
      "metadata": {
        "id": "li8XjwZOWrGj"
      }
    },
    {
      "cell_type": "markdown",
      "source": [
        "#### Passos"
      ],
      "metadata": {
        "id": "EpUgDrSepPrR"
      }
    },
    {
      "cell_type": "markdown",
      "source": [
        "3. User Logs\n",
        "  - Casting das Variaveis\n",
        "  - Tratamento do Total de Segundos ouvidos\n",
        "  - Feature Engineering: Quais variaveis podem surgir dessa tabel?\n",
        "    - a"
      ],
      "metadata": {
        "id": "q0pOpmUXW-Hz"
      }
    },
    {
      "cell_type": "markdown",
      "source": [
        "2. User_logs:\n",
        "  - Colunas:\n",
        "    - 1º 'msno': id do usuário;\n",
        "    - 2º 'safra': data ano e mes(int);\n",
        "    - 3º 'num_25': quantidade de músicas tocadas menos de 25% da duração dela (float);\n",
        "    - 4º 'num_50': quantidade de músicas tocadas entre 25% e 50% da duração dela (float);\n",
        "    - 5º 'num_75': quantidade de músicas tocadas entre 50% e 75% da duração dela (float);\n",
        "    - 6º 'num_985': quantidade de músicas tocadas entre 75% e 98,5% da duração dela (float);\n",
        "    - 7º 'num_100': quantidade de músicas tocadas acima de 98,5% (float);\n",
        "    - 8º 'num_unq': quantidade de musicas tocadas apenas 1 vez (float);\n",
        "    - 9º 'total_secs': total de segundos tocados (float)."
      ],
      "metadata": {
        "id": "YssQwy3YZDD7"
      }
    },
    {
      "cell_type": "markdown",
      "source": [
        "#### Casting das variaveis"
      ],
      "metadata": {
        "id": "aVhrMSrLd3h_"
      }
    },
    {
      "cell_type": "code",
      "source": [],
      "metadata": {
        "id": "W6C0bl10pVcB"
      },
      "execution_count": null,
      "outputs": []
    },
    {
      "cell_type": "markdown",
      "source": [
        "#### Tratamento da coluna X"
      ],
      "metadata": {
        "id": "32_gU9tcpV6I"
      }
    },
    {
      "cell_type": "code",
      "source": [],
      "metadata": {
        "id": "pN_Pcx4CpWT3"
      },
      "execution_count": null,
      "outputs": []
    },
    {
      "cell_type": "markdown",
      "source": [
        "## 2. Testes para a Criação da Target"
      ],
      "metadata": {
        "id": "B70LxPXzohDs"
      }
    },
    {
      "cell_type": "markdown",
      "source": [
        "### entendimento da problematica"
      ],
      "metadata": {
        "id": "6otdvfg9okt6"
      }
    },
    {
      "cell_type": "markdown",
      "source": [
        "A ideia para definir a target é:\n",
        "\n",
        "  - A nossa entidade são os Members, então a target estará presente nessa tabela.\n",
        "\n",
        "  - A definição de churn dada no problema é:\n",
        "    - Possuem uma assinatura ativa no período de análise (data da safra);\n",
        "    - Não renovaram ou não estão mais ativos nos 3 meses subsequentes.\n",
        "\n",
        "  - Na tabela Members, as informações que nos trazem isso são:\n",
        "    - 'safra' - data de observação do cliente que tem que estar ativo;\n",
        "    - 'is_ativo' - indicará se o cliente está ativo ou não naquela safra.\n",
        "\n",
        "  - Para completar as infos, será necessario consultar informações da tabela Transactions:\n",
        "    - 'safra' - Buscaremos 3 safras acima da safra de observação na members;\n",
        "    - 'is_cancel' - Se nessas 3 safras acima ele cancelou ou não;\n",
        "    - 'membership_expire_date' - Ou se nessas 3 safras a assinatura venceu e ele não renovou.\n",
        "\n",
        "  - Dessa forma, na tabela members conseguiremos definir quem deu churn em 3 meses posteriores ou não.\n",
        "  - Na tabela members temos a safra de 201601 a 201612. Para conseguirmos observar a safra 201612, temos que ter safras na transaction até 201703, porem temos apenas até 201702, nao sendo possivel definir churn para essa safra pois nao temos a base de dados maturada."
      ],
      "metadata": {
        "id": "zeGURqtpYUoV"
      }
    },
    {
      "cell_type": "markdown",
      "source": [
        "### Definição do publico alvo e escopo"
      ],
      "metadata": {
        "id": "-xwpEO_GpiFA"
      }
    },
    {
      "cell_type": "markdown",
      "source": [
        "Para a tabela members, o publico alvo são clientes dentro das safras de 201601 a 201611 e clientes ativos."
      ],
      "metadata": {
        "id": "QSNgzcRfbTjO"
      }
    },
    {
      "cell_type": "markdown",
      "source": [
        "### Criação da target jeito 1"
      ],
      "metadata": {
        "id": "RRW15vedPgsZ"
      }
    },
    {
      "cell_type": "code",
      "source": [
        "(spark.sql(\n",
        "    \"\"\"\n",
        "      WITH tb_join AS (\n",
        "        select t1.safra AS safra_observada,\n",
        "               t1.msno AS cliente,\n",
        "               t1.is_ativo,\n",
        "               t2.safra AS safra_mais_3meses,\n",
        "               t2.is_cancel,\n",
        "               t2.membership_expire_date\n",
        "        from bronze_members as t1\n",
        "        left join tb_transactions_mod as t2\n",
        "        on t1.msno = t2.msno and t2.safra = ADD_MONTHS(t1.safra, 3)\n",
        "        where t1.safra >= '2016-01-01' and\n",
        "              t1.safra <= '2016-11-01' and\n",
        "              t1.is_ativo = 1\n",
        "      ), tb_churn AS (\n",
        "        select *,\n",
        "              case when is_cancel = 1 or\n",
        "                        membership_expire_date < safra_mais_3meses\n",
        "                    then 1 else 0\n",
        "                    end as churn\n",
        "        from tb_join\n",
        "      )\n",
        "      select safra_observada,\n",
        "             COUNT(cliente) as qnt_clientes,\n",
        "             SUM(churn) as qnt_churn,\n",
        "             CONCAT(ROUND((qnt_churn / qnt_clientes) * 100, 2), '%') as taxa_churn\n",
        "      from tb_churn\n",
        "      group by safra_observada\n",
        "      order by safra_observada\n",
        "    \"\"\"\n",
        "  ).show()\n",
        ")"
      ],
      "metadata": {
        "id": "BE8t-n5MpiXR",
        "colab": {
          "base_uri": "https://localhost:8080/"
        },
        "outputId": "97ca1ec6-5b86-411f-b3c4-9421a76131b6"
      },
      "execution_count": 29,
      "outputs": [
        {
          "output_type": "stream",
          "name": "stdout",
          "text": [
            "+---------------+------------+---------+----------+\n",
            "|safra_observada|qnt_clientes|qnt_churn|taxa_churn|\n",
            "+---------------+------------+---------+----------+\n",
            "|     2016-01-01|      888663|    10907|     1.23%|\n",
            "|     2016-02-01|      918116|    11553|     1.26%|\n",
            "|     2016-03-01|      871651|     9648|     1.11%|\n",
            "|     2016-04-01|      831565|    10019|      1.2%|\n",
            "|     2016-05-01|      849653|    11337|     1.33%|\n",
            "|     2016-06-01|      844884|    12078|     1.43%|\n",
            "|     2016-07-01|      967936|    15048|     1.55%|\n",
            "|     2016-08-01|      980643|    14881|     1.52%|\n",
            "|     2016-09-01|      991285|    15463|     1.56%|\n",
            "|     2016-10-01|     1048557|    17887|     1.71%|\n",
            "|     2016-11-01|     1071113|    18193|      1.7%|\n",
            "+---------------+------------+---------+----------+\n",
            "\n"
          ]
        }
      ]
    },
    {
      "cell_type": "markdown",
      "source": [
        "### Criação da target jeito 2"
      ],
      "metadata": {
        "id": "es3LTobrpimo"
      }
    },
    {
      "cell_type": "code",
      "source": [
        "(spark.sql(\n",
        "    \"\"\"\n",
        "      WITH\n",
        "\n",
        "      tb_join_3 AS (\n",
        "        select t1.safra AS safra_observada_3,\n",
        "               t1.msno AS cliente_3,\n",
        "               t1.is_ativo AS is_ativo_3,\n",
        "               t2.safra AS safra_mais_3meses,\n",
        "               t2.is_cancel AS is_cancel_3,\n",
        "               t2.membership_expire_date AS membership_expire_date_3\n",
        "        from bronze_members as t1\n",
        "        left join tb_transactions_mod as t2\n",
        "        on t1.msno = t2.msno and t2.safra = ADD_MONTHS(t1.safra, 3)\n",
        "        where t1.safra >= '2016-01-01' and\n",
        "              t1.safra <= '2016-11-01' and\n",
        "              t1.is_ativo = 1\n",
        "      ),\n",
        "\n",
        "      tb_join_2 AS (\n",
        "        select t1.safra AS safra_observada_2,\n",
        "               t1.msno AS cliente_2,\n",
        "               t1.is_ativo AS is_ativo_2,\n",
        "               t2.safra AS safra_mais_2meses,\n",
        "               t2.is_cancel AS is_cancel_2,\n",
        "               t2.membership_expire_date AS membership_expire_date_2\n",
        "        from bronze_members as t1\n",
        "        left join tb_transactions_mod as t2\n",
        "        on t1.msno = t2.msno and t2.safra = ADD_MONTHS(t1.safra, 2)\n",
        "        where t1.safra >= '2016-01-01' and\n",
        "              t1.safra <= '2016-11-01' and\n",
        "              t1.is_ativo = 1\n",
        "        ),\n",
        "\n",
        "        tb_join_1 as (\n",
        "          select t1.safra AS safra_observada_1,\n",
        "               t1.msno AS cliente_1,\n",
        "               t1.is_ativo AS is_ativo_1,\n",
        "               t2.safra AS safra_mais_1meses,\n",
        "               t2.is_cancel AS is_cancel_1,\n",
        "               t2.membership_expire_date AS membership_expire_date_1\n",
        "        from bronze_members as t1\n",
        "        left join tb_transactions_mod as t2\n",
        "        on t1.msno = t2.msno and t2.safra = ADD_MONTHS(t1.safra, 1)\n",
        "        where t1.safra >= '2016-01-01' and\n",
        "              t1.safra <= '2016-11-01' and\n",
        "              t1.is_ativo = 1\n",
        "        ),\n",
        "\n",
        "        tb_join_all AS (\n",
        "          SELECT ts.safra,\n",
        "                 ts.msno,\n",
        "                 t3.safra_mais_3meses,\n",
        "                 t3.is_cancel_3,\n",
        "                 t3.membership_expire_date_3,\n",
        "                 t2.safra_mais_2meses,\n",
        "                 t2.is_cancel_2,\n",
        "                 t2.membership_expire_date_2,\n",
        "                 t1.safra_mais_1meses,\n",
        "                 t1.is_cancel_1,\n",
        "                 t1.membership_expire_date_1\n",
        "          FROM bronze_members AS ts\n",
        "          LEFT JOIN tb_join_3 AS t3\n",
        "          ON ts.msno = t3.cliente_3 AND ts.safra = t3.safra_observada_3\n",
        "          LEFT JOIN tb_join_2 AS t2\n",
        "          ON ts.msno = t2.cliente_2 AND ts.safra = t2.safra_observada_2\n",
        "          LEFT JOIN tb_join_1 AS t1\n",
        "          ON ts.msno = t1.cliente_1 AND ts.safra = t1.safra_observada_1\n",
        "        ),\n",
        "        tb_churn as (\n",
        "          select *,\n",
        "                case when is_cancel_3 = 1 or membership_expire_date_3 < safra_mais_3meses then 1 else 0 end as churn_3,\n",
        "                case when is_cancel_2 = 1 or membership_expire_date_2 < safra_mais_2meses then 1 else 0 end as churn_2,\n",
        "                case when is_cancel_1 = 1 or membership_expire_date_1 < safra_mais_1meses then 1 else 0 end as churn_1,\n",
        "                case when churn_3 = 1 and churn_2 = 1 and churn_1 = 1 then 1 else 0 end as erro_todos,\n",
        "                case when churn_3 = 1 and churn_2 = 1 then 1 else 0 end as erro_3_2,\n",
        "                case when churn_3 = 1 and churn_1 = 1 then 1 else 0 end as erro_3_1,\n",
        "                case when churn_2 = 1 and churn_1 = 1 then 1 else 0 end as erro_2_1,\n",
        "                case when churn_3 + churn_2 + churn_1 = 1 then 1 else 0 end as churn_ok\n",
        "          from tb_join_all\n",
        "        )\n",
        "        select sum(churn_3) as churn_3,\n",
        "               sum(churn_2) as churn_2,\n",
        "               sum(churn_1) as churn_1,\n",
        "               sum(churn_ok) as churn_ok,\n",
        "               sum(erro_todos) as erro_todos,\n",
        "               sum(erro_3_2) as erro_3_2,\n",
        "               sum(erro_3_1) as erro_3_1,\n",
        "               sum(erro_2_1) as erro_2_1\n",
        "        from tb_churn\n",
        "    \"\"\"\n",
        "  ).show()\n",
        ")"
      ],
      "metadata": {
        "id": "lC-6ug3FpjdM",
        "colab": {
          "base_uri": "https://localhost:8080/"
        },
        "outputId": "a064e874-2fae-4a5b-843e-9c5b5b0cf9e6"
      },
      "execution_count": 26,
      "outputs": [
        {
          "output_type": "stream",
          "name": "stdout",
          "text": [
            "+-------+-------+-------+--------+----------+--------+--------+--------+\n",
            "|churn_3|churn_2|churn_1|churn_ok|erro_todos|erro_3_2|erro_3_1|erro_2_1|\n",
            "+-------+-------+-------+--------+----------+--------+--------+--------+\n",
            "| 147014| 147044| 166234|  457053|         7|     374|     852|     404|\n",
            "+-------+-------+-------+--------+----------+--------+--------+--------+\n",
            "\n"
          ]
        }
      ]
    },
    {
      "cell_type": "markdown",
      "source": [
        "### Criação da target jeito 3"
      ],
      "metadata": {
        "id": "jR6FKCiZkgUc"
      }
    },
    {
      "cell_type": "markdown",
      "source": [
        "adotar window funcions"
      ],
      "metadata": {
        "id": "baoYYgCsmnIn"
      }
    },
    {
      "cell_type": "code",
      "source": [
        "from pyspark.sql.window import Window\n",
        "from pyspark.sql import functions as F\n",
        "\n",
        "win_member_target = Window.partitionBy('msno').orderBy('safra').rowsBetween(1, 3)\n",
        "\n",
        "members_churn = (\n",
        "    bronze_members\n",
        "    # Verificar se o cliente deu churn nos próximos 3 meses\n",
        "    .withColumn(\"churn_next_3_months\",\n",
        "                F.max(\n",
        "                    F.when(F.col(\"is_ativo\") == 0, 1)   # Se o cliente não está mais ativo\n",
        "                    .otherwise(0)\n",
        "                    )                     # Caso contrário, 0\n",
        "                .over(win_member_target))\n",
        "    # Definir o churn final\n",
        "    .withColumn(\"churn\", F.when(F.col(\"churn_next_3_months\") == 1, 1).otherwise(0))\n",
        "    # Filtrar apenas clientes ativos na safra observada\n",
        "    .filter(F.col(\"is_ativo\") == 1)\n",
        "    .filter(F.col(\"safra\") <= '2016-09-01')\n",
        "    # Dropa colunas auxiliares\n",
        "    .drop(\"churn_next_3_months\")\n",
        ")\n",
        "\n",
        "members_churn.filter(F.col('churn') == 1).orderBy('safra').show(20, truncate=False)"
      ],
      "metadata": {
        "colab": {
          "base_uri": "https://localhost:8080/"
        },
        "id": "bq0EUCZdkfyc",
        "outputId": "12502bb5-ba63-460f-ab8d-8828e0284e25"
      },
      "execution_count": 46,
      "outputs": [
        {
          "output_type": "stream",
          "name": "stdout",
          "text": [
            "+--------------------------------------------+----------+--------------+----+------+------------+----------------------+--------+-----+\n",
            "|msno                                        |safra     |registered_via|city|new_bd|new_gender  |registration_init_time|is_ativo|churn|\n",
            "+--------------------------------------------+----------+--------------+----+------+------------+----------------------+--------+-----+\n",
            "|+KeVLXI9EeGG/mPEiOPP3g5OjtONLTBQVrT9L9mbnsw=|2016-01-01|3             |21  |21    |female      |2015-07-20            |1       |1    |\n",
            "|+Y4HkgdQbxXGnq+c0FloYfk+T5Cvtpt25HpCuH5NASQ=|2016-01-01|7             |1   |27    |desconhecido|2015-12-23            |1       |1    |\n",
            "|+FAFXe0+2OfDcHdHHlkhv4gPCK5bhpCJ8HyC+saZ4vY=|2016-01-01|9             |5   |22    |female      |2014-10-27            |1       |1    |\n",
            "|/6utFCG0/I2xq06RWdAz9Zs7t8i4TFeWelbKWK5BWoA=|2016-01-01|7             |1   |27    |desconhecido|2015-12-01            |1       |1    |\n",
            "|+QZfz78RMu/vr+3quIW1t6uhQPngQ8unJ98oFvF7J0k=|2016-01-01|9             |13  |29    |female      |2009-09-22            |1       |1    |\n",
            "|+ZoRyEUXmwmPqzaUzkU3TyA8k+YIOKoPAdWKZJ+ZHR0=|2016-01-01|3             |6   |22    |male        |2012-08-29            |1       |1    |\n",
            "|+cwo676OXL5TwGF7u95rKRHREoS7Kc0DMssFvApkJ3k=|2016-01-01|7             |13  |18    |female      |2016-01-01            |1       |1    |\n",
            "|+2XPBDGN6dl6osigWhiqrNhZxt/ZokuYR/0XA1RNnos=|2016-01-01|3             |4   |28    |female      |2012-09-06            |1       |1    |\n",
            "|+DnX3myxGpS4gXnclmRkKGx0a8VyOJxnxhrMg4PgFSM=|2016-01-01|9             |13  |34    |female      |2004-10-17            |1       |1    |\n",
            "|+aGhIgoM81u1mROgJu49HHdC2f3vs6eIPWPh7DdIbP4=|2016-01-01|9             |13  |31    |male        |2011-09-30            |1       |1    |\n",
            "|+FrS2tsys5oQSGDYYVEh2LtawHi7FU6uQbnCOLBbDtU=|2016-01-01|3             |14  |39    |male        |2012-01-27            |1       |1    |\n",
            "|+4oUNEDZ+1JpIvc+zga6cqPomfEPX33T8aEWJWUTYLI=|2016-01-01|3             |1   |20    |male        |2015-04-10            |1       |1    |\n",
            "|/0GVTuWCu7+ew4B7YSjw1MQ6Sq+O+dsZp0F0SgKEjO0=|2016-01-01|4             |5   |33    |male        |2015-12-15            |1       |1    |\n",
            "|+aSjTVUWfRTkPdoEClX6n9TkX6JRYMdAkoafGYpjlGE=|2016-01-01|9             |6   |31    |female      |2006-05-10            |1       |1    |\n",
            "|+/rfV3aO+akRb4kOe3elhEyLKNH4bf+Ki2oiOLHZ50A=|2016-01-01|9             |5   |46    |male        |2013-06-14            |1       |1    |\n",
            "|+AywWo5UUHl8ubIjS9fWp4Aeyr7O8IcZVROg23J63Us=|2016-01-01|9             |13  |33    |female      |2014-07-20            |1       |1    |\n",
            "|+N/KiJBipnteSTvpk7O775BSRzRqtamWTRlm7hYD8e4=|2016-01-01|9             |22  |28    |male        |2015-02-23            |1       |1    |\n",
            "|+eg8VvrpK2CoZWODt+3TujmynhH9LW2xznBO8TTfbM4=|2016-01-01|7             |1   |27    |desconhecido|2011-12-23            |1       |1    |\n",
            "|+GbyU7s6HsbknFwJsY5Z5Cmy3unVTM6rb51DU5vj4P0=|2016-01-01|3             |1   |27    |desconhecido|2014-04-18            |1       |1    |\n",
            "|+DqEEx/DI0/1FreFScGx4tDe7muiblXdDA05cVsWmOQ=|2016-01-01|3             |17  |29    |female      |2013-03-11            |1       |1    |\n",
            "+--------------------------------------------+----------+--------------+----+------+------------+----------------------+--------+-----+\n",
            "only showing top 20 rows\n",
            "\n"
          ]
        }
      ]
    },
    {
      "cell_type": "code",
      "source": [
        "members_churn.filter(F.col('msno') == '++7jKYbuIJPXry8Oh1NcEh9fCsqcQgUaaxXsgG15kMg=').show()"
      ],
      "metadata": {
        "colab": {
          "base_uri": "https://localhost:8080/"
        },
        "id": "fHJRRaE4sCUq",
        "outputId": "c3cde92e-ea18-4145-f332-783a17886773"
      },
      "execution_count": 33,
      "outputs": [
        {
          "output_type": "stream",
          "name": "stdout",
          "text": [
            "+--------------------+----------+--------------+----+------+----------+----------------------+--------+-----+\n",
            "|                msno|     safra|registered_via|city|new_bd|new_gender|registration_init_time|is_ativo|churn|\n",
            "+--------------------+----------+--------------+----+------+----------+----------------------+--------+-----+\n",
            "|++7jKYbuIJPXry8Oh...|2016-03-01|             3|   6|    25|    female|            2014-09-09|       1|    1|\n",
            "+--------------------+----------+--------------+----+------+----------+----------------------+--------+-----+\n",
            "\n"
          ]
        }
      ]
    },
    {
      "cell_type": "code",
      "source": [
        "bronze_members.filter(F.col('msno') == '++7jKYbuIJPXry8Oh1NcEh9fCsqcQgUaaxXsgG15kMg=').orderBy('safra').show()"
      ],
      "metadata": {
        "colab": {
          "base_uri": "https://localhost:8080/"
        },
        "id": "2CdvwiwTsd-A",
        "outputId": "42a5f659-f8c3-4784-f436-b293acc6a27e"
      },
      "execution_count": 41,
      "outputs": [
        {
          "output_type": "stream",
          "name": "stdout",
          "text": [
            "+--------------------+----------+--------------+----+------+----------+----------------------+--------+\n",
            "|                msno|     safra|registered_via|city|new_bd|new_gender|registration_init_time|is_ativo|\n",
            "+--------------------+----------+--------------+----+------+----------+----------------------+--------+\n",
            "|++7jKYbuIJPXry8Oh...|2016-01-01|             3|   6|    25|    female|            2014-09-09|       0|\n",
            "|++7jKYbuIJPXry8Oh...|2016-02-01|             3|   6|    25|    female|            2014-09-09|       0|\n",
            "|++7jKYbuIJPXry8Oh...|2016-03-01|             3|   6|    25|    female|            2014-09-09|       1|\n",
            "|++7jKYbuIJPXry8Oh...|2016-04-01|             3|   6|    25|    female|            2014-09-09|       0|\n",
            "|++7jKYbuIJPXry8Oh...|2016-05-01|             3|   6|    25|    female|            2014-09-09|       0|\n",
            "|++7jKYbuIJPXry8Oh...|2016-06-01|             3|   6|    25|    female|            2014-09-09|       0|\n",
            "|++7jKYbuIJPXry8Oh...|2016-07-01|             3|   6|    25|    female|            2014-09-09|       0|\n",
            "|++7jKYbuIJPXry8Oh...|2016-08-01|             3|   6|    25|    female|            2014-09-09|       0|\n",
            "|++7jKYbuIJPXry8Oh...|2016-09-01|             3|   6|    25|    female|            2014-09-09|       0|\n",
            "|++7jKYbuIJPXry8Oh...|2016-10-01|             3|   6|    25|    female|            2014-09-09|       0|\n",
            "|++7jKYbuIJPXry8Oh...|2016-11-01|             3|   6|    25|    female|            2014-09-09|       0|\n",
            "|++7jKYbuIJPXry8Oh...|2016-12-01|             3|   6|    25|    female|            2014-09-09|       0|\n",
            "+--------------------+----------+--------------+----+------+----------+----------------------+--------+\n",
            "\n"
          ]
        }
      ]
    },
    {
      "cell_type": "code",
      "source": [
        "df_userlogs.filter(F.col('msno') == '++7jKYbuIJPXry8Oh1NcEh9fCsqcQgUaaxXsgG15kMg=').orderBy('safra').show()"
      ],
      "metadata": {
        "colab": {
          "base_uri": "https://localhost:8080/"
        },
        "id": "Bmoj3rmFzPts",
        "outputId": "d77f4ee1-c85f-4d36-cfae-170ef696a4ff"
      },
      "execution_count": 42,
      "outputs": [
        {
          "output_type": "stream",
          "name": "stdout",
          "text": [
            "+--------------------+------+------+------+------+-------+-------+-------+----------+\n",
            "|                msno| safra|num_25|num_50|num_75|num_985|num_100|num_unq|total_secs|\n",
            "+--------------------+------+------+------+------+-------+-------+-------+----------+\n",
            "|++7jKYbuIJPXry8Oh...|201502|   0.0|   0.0|   1.0|    0.0|    0.0|    1.0|   150.367|\n",
            "|++7jKYbuIJPXry8Oh...|201603|   3.0|   3.0|   1.0|    2.0|    4.0|   13.0|  1954.355|\n",
            "+--------------------+------+------+------+------+-------+-------+-------+----------+\n",
            "\n"
          ]
        }
      ]
    },
    {
      "cell_type": "code",
      "source": [
        "df_transactions.filter(F.col('msno') == '++7jKYbuIJPXry8Oh1NcEh9fCsqcQgUaaxXsgG15kMg=').orderBy('safra').show()"
      ],
      "metadata": {
        "colab": {
          "base_uri": "https://localhost:8080/"
        },
        "id": "HiH1Exduzxs5",
        "outputId": "667683ec-7d18-48f2-c9e7-e79ec156b056"
      },
      "execution_count": 43,
      "outputs": [
        {
          "output_type": "stream",
          "name": "stdout",
          "text": [
            "+--------------------+-----------------+-----------------+---------------+------------------+-------------+----------------+----------------------+---------+----------+\n",
            "|                msno|payment_method_id|payment_plan_days|plan_list_price|actual_amount_paid|is_auto_renew|transaction_date|membership_expire_date|is_cancel|     safra|\n",
            "+--------------------+-----------------+-----------------+---------------+------------------+-------------+----------------+----------------------+---------+----------+\n",
            "|++7jKYbuIJPXry8Oh...|               38|               10|            0.0|               0.0|            0|      2016-03-12|            2016-03-22|        0|2016-03-01|\n",
            "+--------------------+-----------------+-----------------+---------------+------------------+-------------+----------------+----------------------+---------+----------+\n",
            "\n"
          ]
        }
      ]
    },
    {
      "cell_type": "markdown",
      "source": [
        "## CONCLUSÕES"
      ],
      "metadata": {
        "id": "uwMUl4n24PRw"
      }
    },
    {
      "cell_type": "markdown",
      "source": [
        "A criação das Bronzes foi concluida, porem ainda nessa camada a criação da target não foi possivel apos diversos testes. Foi entendido que falta aprofundamento nas analises que serão feitas após a conclusão da criação das bronzes de cada tabela. Após o EDA das bronzes, a criação da target sera feita na camada Silver, junto com a criação ja das features."
      ],
      "metadata": {
        "id": "dbaEoAtb4UgW"
      }
    },
    {
      "cell_type": "code",
      "source": [],
      "metadata": {
        "id": "kxZIaQNu4SIc"
      },
      "execution_count": null,
      "outputs": []
    },
    {
      "cell_type": "markdown",
      "source": [
        "# Construção da Silver:\n",
        "\n",
        "- Analise de Features e seleção\n",
        "- Construção da Target\n",
        "  - Entendimento da problematica\n",
        "  - Definição do publico alvo e escopo\n",
        "  - Criação da variavel dependente (Target)\n",
        "- Criação das Features\n",
        "  - Members\n",
        "    - **Feature Engineering**: (⏭)\n",
        "      - Quais variaveis podem surgir dessa tabela?\n",
        "        - Características demográficas:\n",
        "            - Faixa etária;\n",
        "            - Cidade;\n",
        "            - Gênero (se houver correlação).\n",
        "        - Características relacionadas ao sistema:\n",
        "            - Meio de registro;\n",
        "            - Quantidade de dias de relacionamento com a empresa;"
      ],
      "metadata": {
        "id": "Gohk_OAMAXlp"
      }
    },
    {
      "cell_type": "code",
      "source": [],
      "metadata": {
        "id": "hs85QGpsAZFa"
      },
      "execution_count": null,
      "outputs": []
    },
    {
      "cell_type": "markdown",
      "source": [
        "# Construção da Gold\n",
        "\n",
        "- Analytical Base Table (ABT)\n",
        "- Features e Target estruturados e prontos para irem para treino, validação e teste dos modelos"
      ],
      "metadata": {
        "id": "GivfuBLfAhDJ"
      }
    },
    {
      "cell_type": "code",
      "source": [],
      "metadata": {
        "id": "pKvi5eE1Ax0j"
      },
      "execution_count": null,
      "outputs": []
    },
    {
      "cell_type": "markdown",
      "source": [
        "# Criação dos modelos\n",
        "\n",
        "qual metodologia seguir\n",
        "\n",
        "(seleção de variaveis, modelos (por que dos modelos, por que nao explorar outros))\n",
        "\n",
        "(interpretabilidade X performance)\n",
        "\n",
        "(caso haja, como foi feita a escolha de hiperparametros)\n",
        "\n",
        "(tota decisão ser justificada, comparada)\n",
        "\n",
        "((avaliar performance dos modelos), (estabilidade, performance, explicabilidade), (treinamento de modelos por janelas de tempo, out of time))\n",
        "\n",
        "(Shaply Values, )"
      ],
      "metadata": {
        "id": "OoRxiuhKAxU9"
      }
    }
  ]
}