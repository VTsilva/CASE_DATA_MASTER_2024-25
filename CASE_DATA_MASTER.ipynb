{
  "nbformat": 4,
  "nbformat_minor": 0,
  "metadata": {
    "colab": {
      "provenance": []
    },
    "kernelspec": {
      "name": "python3",
      "display_name": "Python 3"
    },
    "language_info": {
      "name": "python"
    }
  },
  "cells": [
    {
      "cell_type": "markdown",
      "source": [
        "#SUMÁRIO DO PROJETO\n",
        "\n",
        "1. Qual o contexto da problemática? O que queremos resolver?\n",
        "  - Empresa de Streamming de Música: Ela tem uma abordagem reativa em relação a clientes que não renovam a assinatura oferecendo 3 meses grátis para os que não renovam. Foi entendido que uma abordagem proativa pode ser mais efetiva.\n",
        "\n",
        "2. Quais DADOS temos para agregar na solução?\n",
        "  - Temos um dicionario de dados a seguir.\n",
        "\n",
        "3. Quais INFORMAÇÕES podemos extrair desses DADOS?\n",
        "  - aqui irei analisar as possiveis variaveis que podem ser criadas (Feature Engineering)\n",
        "\n",
        "4. Como chegar na solução e quais métodos/tecnologias podem apoiar e quais não podem? (justificação dos usos, questões de negócio, performance, processamento computacional, recursos e implantação em uma hipotética produtização)\n",
        "  - a\n",
        "\n",
        "5. Ótica de negócios: Ganhos $$\n",
        "  - a\n",
        "\n",
        "\n",
        "para encaixar no sumário:\n",
        "\n",
        "1- EAD\n",
        "- hipoteses voltadas ao problema e para a modelagem\n",
        "- implicações das análises\n",
        "- usar o EDA para tomada de decisões\n",
        "\n",
        "2- Dataprep + feature engeneering + feature selection\n",
        "- criação do publico-alvo, target, análise de volumetrias, missing, outliers, etc.\n",
        "- construção de novas features / transformação de features\n",
        "- feature selection adequado, variaveis significativas para o problema\n",
        "\n",
        "3- Modelagem\n",
        "- Estrutura do modelo utilizado, funcionamento, hiperparametros, vantagens e fraquezas\n",
        "- Modelagem e pipe line adequados ao problema? eu entendo isso?\n",
        "- Compreendo os impactos ao utilizar outras tecnicas de modelagem e pipeline construidos?\n",
        "\n",
        "4- Validação\n",
        "- Validação adequada? (Leakage, overfit, underfit, tamanho da amostra)\n",
        "- Formas de validação exploradas? (cross-validation, train test split, out of sample, out of time, etc)\n",
        "- Como as alterações do problema impactam na validação escolhida?\n",
        "\n",
        "5- Definição e avaliação dos resultados\n",
        "- Métricas de avaliação adequadas? (MAE, RMSE, Recall, AUC, Silhueta, etc)\n",
        "- Como outras métricas impactariam os resultados do case?\n",
        "- Como mudanças na estrutura do problema impactariam diferentes métricas?\n",
        "\n",
        "6- Qualidade do código\n",
        "- Organização e boas praticas do codigo (nomes intuitivos, comentários, ordenamento intuitivo)\n",
        "- Codigo padronizado? (classes, funções e variaveis com nomes padronizados, clean code, pep8, etc?)\n",
        "- Código visa a implementação? (modularização, tempo de processamento, versionamento etc?)\n",
        "\n",
        "7- Soft Skills\n",
        "- Sucinto e dentro do tempo indicado\n",
        "- Clareza nas explicações\n",
        "- Apresentação estruturada (começo, meio e fim)\n",
        "\n"
      ],
      "metadata": {
        "id": "NrH50K4Jzgfy"
      }
    },
    {
      "cell_type": "markdown",
      "source": [
        "#Configuração do ambiente inicial\n",
        "\n",
        "\n",
        "Instalação do Java\n",
        "\n",
        "Instalação do Apache Spark\n",
        "\n",
        "Configuração das variaveis ambiente"
      ],
      "metadata": {
        "id": "8KfDW8DSRFVR"
      }
    },
    {
      "cell_type": "code",
      "source": [
        "from google.colab import drive\n",
        "drive.mount('/content/drive')"
      ],
      "metadata": {
        "colab": {
          "base_uri": "https://localhost:8080/"
        },
        "id": "IOV08U3FWDb0",
        "outputId": "06545f34-d483-4193-eb0a-12ab5f0bc644"
      },
      "execution_count": null,
      "outputs": [
        {
          "output_type": "stream",
          "name": "stdout",
          "text": [
            "Mounted at /content/drive\n"
          ]
        }
      ]
    },
    {
      "cell_type": "code",
      "execution_count": null,
      "metadata": {
        "id": "05lEAdzrVfNf"
      },
      "outputs": [],
      "source": [
        "!apt-get install openjdk-8-jdk-headless -qq > /dev/null\n",
        "!wget -q https://archive.apache.org/dist/spark/spark-3.4.4/spark-3.4.4-bin-hadoop3.tgz\n",
        "!tar xf spark-3.4.4-bin-hadoop3.tgz\n",
        "!pip install -q findspark"
      ]
    },
    {
      "cell_type": "markdown",
      "source": [
        "#Acessando os dados no drive"
      ],
      "metadata": {
        "id": "2-APPNdpWviz"
      }
    },
    {
      "cell_type": "code",
      "source": [
        "# configurar as variáveis de ambiente\n",
        "import os\n",
        "os.environ[\"JAVA_HOME\"] = \"/usr/lib/jvm/java-8-openjdk-amd64\"\n",
        "os.environ[\"SPARK_HOME\"] = \"/content/spark-3.4.4-bin-hadoop3\"\n",
        "\n",
        "# tornar o pyspark \"importável\"\n",
        "import findspark\n",
        "findspark.init()\n",
        "\n",
        "# iniciar uma sessão local\n",
        "from pyspark.sql import SparkSession\n",
        "spark = SparkSession.builder.master('local[*]').appName('Case_dataMaster_Victor').getOrCreate()"
      ],
      "metadata": {
        "id": "gFI5WXFVTQM0"
      },
      "execution_count": null,
      "outputs": []
    },
    {
      "cell_type": "markdown",
      "source": [
        "#Importando os dados"
      ],
      "metadata": {
        "id": "N0KqlSTumzCW"
      }
    },
    {
      "cell_type": "code",
      "source": [
        "df_members = spark.read.parquet('/content/drive/MyDrive/Colab Notebooks/CASE_DATA_MASTER_2024-25/members.parquet')\n",
        "df_transactions = spark.read.parquet('/content/drive/MyDrive/Colab Notebooks/CASE_DATA_MASTER_2024-25/transactions.parquet')\n",
        "df_userlogs = spark.read.parquet('/content/drive/MyDrive/Colab Notebooks/CASE_DATA_MASTER_2024-25/user_logs.parquet')"
      ],
      "metadata": {
        "id": "AGfVuxDdTVQO"
      },
      "execution_count": null,
      "outputs": []
    },
    {
      "cell_type": "markdown",
      "source": [
        "#Inicio de EDA (Exploratory Data and Analysis)"
      ],
      "metadata": {
        "id": "Ui1d1gXtm1aj"
      }
    },
    {
      "cell_type": "code",
      "source": [
        "print(\"Formato da transactions:\", df_transactions.count(), \"X\", len(df_transactions.columns))\n",
        "df_transactions.printSchema()\n",
        "\n",
        "print(\"Formato da user_logs:\", df_userlogs.count(), \"X\", len(df_userlogs.columns))\n",
        "df_userlogs.printSchema()\n",
        "\n",
        "print(\"Formato da members: \", df_members.count(), \"X\", len(df_members.columns))\n",
        "df_members.printSchema()"
      ],
      "metadata": {
        "colab": {
          "base_uri": "https://localhost:8080/"
        },
        "id": "4ml8b2xNbeS7",
        "outputId": "542d3e41-c2b9-4b62-83de-a49abb6d4279"
      },
      "execution_count": null,
      "outputs": [
        {
          "output_type": "stream",
          "name": "stdout",
          "text": [
            "Formato da transactions: 20712225 X 10\n",
            "root\n",
            " |-- msno: string (nullable = true)\n",
            " |-- payment_method_id: string (nullable = true)\n",
            " |-- payment_plan_days: string (nullable = true)\n",
            " |-- plan_list_price: string (nullable = true)\n",
            " |-- actual_amount_paid: string (nullable = true)\n",
            " |-- is_auto_renew: string (nullable = true)\n",
            " |-- transaction_date: string (nullable = true)\n",
            " |-- membership_expire_date: string (nullable = true)\n",
            " |-- is_cancel: string (nullable = true)\n",
            " |-- safra: integer (nullable = true)\n",
            "\n",
            "Formato da user_logs: 26758971 X 9\n",
            "root\n",
            " |-- msno: string (nullable = true)\n",
            " |-- safra: integer (nullable = true)\n",
            " |-- num_25: double (nullable = true)\n",
            " |-- num_50: double (nullable = true)\n",
            " |-- num_75: double (nullable = true)\n",
            " |-- num_985: double (nullable = true)\n",
            " |-- num_100: double (nullable = true)\n",
            " |-- num_unq: double (nullable = true)\n",
            " |-- total_secs: double (nullable = true)\n",
            "\n",
            "Formato da members:  63867246 X 8\n",
            "root\n",
            " |-- msno: string (nullable = true)\n",
            " |-- safra: string (nullable = true)\n",
            " |-- registration_init_time: string (nullable = true)\n",
            " |-- city: string (nullable = true)\n",
            " |-- bd: string (nullable = true)\n",
            " |-- gender: string (nullable = true)\n",
            " |-- registered_via: string (nullable = true)\n",
            " |-- is_ativo: integer (nullable = true)\n",
            "\n"
          ]
        }
      ]
    },
    {
      "cell_type": "markdown",
      "source": [
        "#Dicionario de dados\n",
        "\n",
        "1. Transactions:\n",
        "  - Colunas:\n",
        "    - 1º 'mnso': id do usuário;\n",
        "    - 2º 'payment_method_id': Método de pagamento;\n",
        "    - 3º 'payment_plan_days': tamanho do plano em DIAS;\n",
        "    - 4º 'plan_list_price': preço do respectivo plano em New Taiwan Dollar (NTD);\n",
        "    - 5º 'actual_amount_paid': Total pago atual (nao entendi);\n",
        "    - 6º 'is_auto_renew': Renovação automatica 1 ou 0;\n",
        "    - 7º 'transaction_date': data da transação no formato %Y %M %D;\n",
        "    - 8º 'membership_expire_date': quando o plano vence no formato %Y %M %D;\n",
        "    - 9º 'is_cancel': se nessa transação o cliente cancelou ou não o plano;\n",
        "    - 10º 'safra': data (nao entendi 100% ao que se refere essa data).\n",
        "\n",
        "2. User_logs:\n",
        "  - Colunas:\n",
        "    - 1º 'msno': id do usuário;\n",
        "    - 2º 'safra': formato %Y %M %D (nao entendi essa data);\n",
        "    - 3º 'num_25': quantidade de músicas tocadas menos de 25% da duração dela;\n",
        "    - 4º 'num_50': quantidade de músicas tocadas entre 25% e 50% da duração dela;\n",
        "    - 5º 'num_75': quantidade de músicas tocadas entre 50% e 75% da duração dela;\n",
        "    - 6º 'num_985': quantidade de músicas tocadas entre 75% e 98,5% da duração dela;\n",
        "    - 7º 'num_100': quantidade de músicas tocadas acima de 98,5%;\n",
        "    - 8º 'num_unq': quantidade de musicas tocadas apenas 1 vez;\n",
        "    - 9º 'total_secs': total de segundos tocados.\n",
        "\n",
        "3. Members:\n",
        "  - Colunas:\n",
        "    - 1º 'msno': id do usuário;\n",
        "    - 2º 'city': cidade do usuário?\n",
        "    - 3º 'bd': idade? obs: outliers em 2015\n",
        "    - 4º 'gender': gênero\n",
        "    - 5º 'registered_via': meio de registro do cliente\n",
        "    - 6º 'registration_init_time': primeiro regristo do cliente formato %Y %M %D\n",
        "    - 7º 'safra': (nao entendi essa data)\n",
        "    - 8º 'is_ativo': se o cliente esta ativo ou não"
      ],
      "metadata": {
        "id": "jxjzaNP-pDpT"
      }
    },
    {
      "cell_type": "code",
      "source": [],
      "metadata": {
        "id": "fhhsLc4DxySa"
      },
      "execution_count": null,
      "outputs": []
    }
  ]
}