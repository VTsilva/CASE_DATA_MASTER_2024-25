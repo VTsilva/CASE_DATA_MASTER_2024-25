{
  "nbformat": 4,
  "nbformat_minor": 0,
  "metadata": {
    "colab": {
      "provenance": [],
      "collapsed_sections": [
        "NrH50K4Jzgfy",
        "8KfDW8DSRFVR",
        "QyM3uqQpC_Ke",
        "dsmQV0wACigq",
        "2-APPNdpWviz",
        "N0KqlSTumzCW",
        "fRwLtSWv6_F_",
        "sJc0W47Xsr8H",
        "Ui1d1gXtm1aj",
        "jxjzaNP-pDpT",
        "8xFh6_YtsxVr",
        "nQHC_FfnqnPW",
        "CaiRBwNhzUc4",
        "25yqfe2FwsBP",
        "7rhpeg3acAl2",
        "MPn_veQuIj_A",
        "QjzgGMLBJRr1",
        "ZDxzUyU1vfEl",
        "bjFaGRiC15XN",
        "0N5bIo6-EM_P",
        "pbC9STETcO9j",
        "7B4YP2Ub6vrE",
        "sn6VELP_hXCG",
        "pU6-AwtHq4MD",
        "tKIoi_KIoPLo",
        "Mw0PAf1noTEV",
        "TQ5yYMR9waWc",
        "HtC9EniFrOiK",
        "MsRj6sS5Ka2W",
        "sBBgtjEUq72_",
        "NXIS1Fku7Ucn",
        "0EP-3wQAwgMU",
        "vnjWqY8u9kT-",
        "vSMvPApX-Uil",
        "_uaEzuTmKlAi",
        "yFB1nFwcfeeo",
        "tuX9331_p1Qc",
        "rPE3gG-GWUN8",
        "D2kBSLZs6Te8",
        "IkPmjvif6XYg",
        "3c_3l7SM6b7J",
        "vNOdTbDFVr-W",
        "xsKWQ70qyufd",
        "nasZ97BCy7On",
        "BXeTbHz-A6kY",
        "Z6WZ_LgNDKTV",
        "p5RSpiCEWoug",
        "m0wlcdMbo9Zd",
        "0u26TRJrpEnj",
        "DADGBJvIpIao",
        "li8XjwZOWrGj",
        "EpUgDrSepPrR",
        "aVhrMSrLd3h_",
        "32_gU9tcpV6I",
        "B70LxPXzohDs",
        "6otdvfg9okt6",
        "-xwpEO_GpiFA",
        "es3LTobrpimo",
        "Gohk_OAMAXlp",
        "GivfuBLfAhDJ"
      ]
    },
    "kernelspec": {
      "name": "python3",
      "display_name": "Python 3"
    },
    "language_info": {
      "name": "python"
    }
  },
  "cells": [
    {
      "cell_type": "markdown",
      "source": [
        "# SUMÁRIO DO PROJETO\n",
        "\n"
      ],
      "metadata": {
        "id": "NrH50K4Jzgfy"
      }
    },
    {
      "cell_type": "markdown",
      "source": [
        "link para a base de dados: https://www.kaggle.com/datasets/gcenachi/case-data-master-2024\n",
        "\n",
        "1. Qual o contexto da problemática? O que queremos resolver?\n",
        "  - Empresa de Streamming de Música: Ela tem uma abordagem reativa em relação a clientes que não renovam a assinatura oferecendo 3 meses grátis para os que não renovam. Foi entendido que uma abordagem proativa pode ser mais efetiva.\n",
        "\n",
        "2. Quais DADOS temos para agregar na solução?\n",
        "  - Temos um dicionario de dados a seguir.\n",
        "\n",
        "3. Quais INFORMAÇÕES podemos extrair desses DADOS?\n",
        "  - aqui irei analisar as possiveis variaveis que podem ser criadas (Feature Engineering)\n",
        "\n",
        "4. Como chegar na solução e quais métodos/tecnologias podem apoiar e quais não podem? (justificação dos usos, questões de negócio, performance, processamento computacional, recursos e implantação em uma hipotética produtização)\n",
        "  - aqui escrevo sobre ....\n",
        "\n",
        "5. Ótica de negócios: Ganhos $$\n",
        "  - a\n",
        "\n",
        "\n",
        "para encaixar no sumário:\n",
        "\n",
        "1- EDA\n",
        "- hipoteses voltadas ao problema e para a modelagem\n",
        "- implicações das análises\n",
        "- usar o EDA para tomada de decisões\n",
        "\n",
        "2- Dataprep + feature engeneering + feature selection\n",
        "- criação do publico-alvo, target, análise de volumetrias, missing, outliers, etc.\n",
        "- construção de novas features / transformação de features\n",
        "- feature selection adequado, variaveis significativas para o problema\n",
        "\n",
        "3- Modelagem\n",
        "- Estrutura do modelo utilizado, funcionamento, hiperparametros, vantagens e fraquezas\n",
        "- Modelagem e pipe line adequados ao problema? eu entendo isso?\n",
        "- Compreendo os impactos ao utilizar outras tecnicas de modelagem e pipeline construidos?\n",
        "\n",
        "4- Validação\n",
        "- Validação adequada? (Leakage, overfit, underfit, tamanho da amostra)\n",
        "- Formas de validação exploradas? (cross-validation, train test split, out of sample, out of time, etc)\n",
        "- Como as alterações do problema impactam na validação escolhida?\n",
        "\n",
        "5- Definição e avaliação dos resultados\n",
        "- Métricas de avaliação adequadas? (MAE, RMSE, Recall, AUC, Silhueta, etc)\n",
        "- Como outras métricas impactariam os resultados do case?\n",
        "- Como mudanças na estrutura do problema impactariam diferentes métricas?\n",
        "\n",
        "6- Qualidade do código\n",
        "- Organização e boas praticas do codigo (nomes intuitivos, comentários, ordenamento intuitivo)\n",
        "- Codigo padronizado? (classes, funções e variaveis com nomes padronizados, clean code, pep8, etc?)\n",
        "- Código visa a implementação? (modularização, tempo de processamento, versionamento etc?)\n",
        "\n",
        "7- Soft Skills\n",
        "- Sucinto e dentro do tempo indicado\n",
        "- Clareza nas explicações\n",
        "- Apresentação estruturada (começo, meio e fim)\n",
        "\n",
        "\n"
      ],
      "metadata": {
        "id": "z5YyNRLm4ACI"
      }
    },
    {
      "cell_type": "markdown",
      "source": [
        "# Instalação do ambiente inicial\n",
        "\n",
        "Conectando com o Google Drive (armazenamento)\n",
        "\n",
        "Instalação do Java\n",
        "\n",
        "Instalação do Apache Spark\n",
        "\n",
        "Configuração do Spark"
      ],
      "metadata": {
        "id": "8KfDW8DSRFVR"
      }
    },
    {
      "cell_type": "markdown",
      "source": [
        "## Conectando com o ambiente de armazenamento dos dados, Google Drive."
      ],
      "metadata": {
        "id": "QyM3uqQpC_Ke"
      }
    },
    {
      "cell_type": "code",
      "source": [
        "from google.colab import drive\n",
        "drive.mount('/content/drive')"
      ],
      "metadata": {
        "colab": {
          "base_uri": "https://localhost:8080/"
        },
        "id": "IOV08U3FWDb0",
        "outputId": "08f99442-4bd3-40a0-b665-966b3a106efa"
      },
      "execution_count": 1,
      "outputs": [
        {
          "output_type": "stream",
          "name": "stdout",
          "text": [
            "Mounted at /content/drive\n"
          ]
        }
      ]
    },
    {
      "cell_type": "markdown",
      "source": [
        "## Baixando e instalando o Java e o Spark\n",
        "\n",
        "O Java pois o Spark precisa de um ambiente JVM para ser executado, por ser escrito em Scala.\n",
        "\n",
        "E o Spark 3.4.4, compativel com o python do ambiente do google colab (3.10.12)"
      ],
      "metadata": {
        "id": "dsmQV0wACigq"
      }
    },
    {
      "cell_type": "code",
      "source": [
        "!python --version"
      ],
      "metadata": {
        "colab": {
          "base_uri": "https://localhost:8080/"
        },
        "id": "8jUZVBnRC3Bz",
        "outputId": "a6e35781-d634-4e0a-addc-96b439dddf7b"
      },
      "execution_count": 2,
      "outputs": [
        {
          "output_type": "stream",
          "name": "stdout",
          "text": [
            "Python 3.10.12\n"
          ]
        }
      ]
    },
    {
      "cell_type": "code",
      "execution_count": 3,
      "metadata": {
        "id": "05lEAdzrVfNf"
      },
      "outputs": [],
      "source": [
        "!apt-get install openjdk-8-jdk-headless -qq > /dev/null\n",
        "!wget -q https://archive.apache.org/dist/spark/spark-3.4.4/spark-3.4.4-bin-hadoop3.tgz\n",
        "!tar xf spark-3.4.4-bin-hadoop3.tgz\n",
        "!pip install -q findspark"
      ]
    },
    {
      "cell_type": "markdown",
      "source": [
        "## Configurando o Spark\n",
        "\n",
        "Configuração das variaveis ambiente"
      ],
      "metadata": {
        "id": "2-APPNdpWviz"
      }
    },
    {
      "cell_type": "code",
      "source": [
        "# configurar as variáveis de ambiente\n",
        "import os\n",
        "os.environ[\"JAVA_HOME\"] = \"/usr/lib/jvm/java-8-openjdk-amd64\"\n",
        "os.environ[\"SPARK_HOME\"] = \"/content/spark-3.4.4-bin-hadoop3\"\n",
        "\n",
        "# tornar o pyspark \"importável\"\n",
        "import findspark # localizar o Spark no seu sistema e adicionar o PySpark ao sys.path, tornando-o importável dentro do ambiente Python do Google Colab.\n",
        "findspark.init() # inicia a busca pela instalação do Spark com base nas variáveis de ambiente e adiciona o PySpark ao sys.path\n",
        "\n",
        "# iniciar uma sessão local\n",
        "from pyspark.sql import SparkSession\n",
        "spark = SparkSession.builder \\\n",
        "                    .appName(\"Case_dataMaster_Victor\") \\\n",
        "                    .config(\"spark.executor.memory\", \"4g\") \\\n",
        "                    .config(\"spark.driver.memory\", \"4g\") \\\n",
        "                    .config(\"spark.executor.cores\", \"2\") \\\n",
        "                    .config(\"spark.driver.maxResultSize\", \"2g\") \\\n",
        "                    .getOrCreate()\n",
        "\n",
        "     #  # Memória do executor\n",
        "     # Memória do driver\n",
        "     # Número de núcleos\n",
        "     # Tamanho máximo do resultado"
      ],
      "metadata": {
        "id": "gFI5WXFVTQM0"
      },
      "execution_count": 4,
      "outputs": []
    },
    {
      "cell_type": "markdown",
      "source": [
        "# Importando os dados da RAW\n",
        "\n",
        "Dados baixados e localizados no google drive para nao tem repetição em acessar o ambiente do kaggle e baixar os dados de la"
      ],
      "metadata": {
        "id": "N0KqlSTumzCW"
      }
    },
    {
      "cell_type": "code",
      "source": [
        "path_members = '/content/drive/MyDrive/Colab Notebooks/data_master_VICTOR/raw/members.parquet'\n",
        "path_transactions = '/content/drive/MyDrive/Colab Notebooks/data_master_VICTOR/raw/transactions.parquet'\n",
        "path_userlogs = '/content/drive/MyDrive/Colab Notebooks/data_master_VICTOR/raw/user_logs.parquet'\n",
        "\n",
        "df_members = (spark.read\n",
        "                   .format(\"parquet\")\n",
        "                   .option(\"header\", True)\n",
        "                   .option(\"inferSchema\", True)\n",
        "                   .load(path_members))\n",
        "\n",
        "df_transactions = (spark.read\n",
        "                   .format(\"parquet\")\n",
        "                   .option(\"header\", True)\n",
        "                   .option(\"inferSchema\", True)\n",
        "                   .load(path_transactions))\n",
        "\n",
        "df_userlogs = (spark.read\n",
        "                   .format(\"parquet\")\n",
        "                   .option(\"header\", True)\n",
        "                   .option(\"inferSchema\", True)\n",
        "                   .load(path_userlogs))"
      ],
      "metadata": {
        "id": "AGfVuxDdTVQO"
      },
      "execution_count": 27,
      "outputs": []
    },
    {
      "cell_type": "markdown",
      "source": [
        "## Trazendo para uma view temporaria para consultas SQL"
      ],
      "metadata": {
        "id": "fRwLtSWv6_F_"
      }
    },
    {
      "cell_type": "code",
      "source": [
        "df_members.createOrReplaceTempView('tb_members')\n",
        "df_transactions.createOrReplaceTempView('tb_transactions')\n",
        "df_userlogs.createOrReplaceTempView('tb_userlogs')"
      ],
      "metadata": {
        "id": "N6xay5Dy7EiN"
      },
      "execution_count": 28,
      "outputs": []
    },
    {
      "cell_type": "markdown",
      "source": [
        "# Importando bibliotecas e funções necessárias para a exploração"
      ],
      "metadata": {
        "id": "sJc0W47Xsr8H"
      }
    },
    {
      "cell_type": "code",
      "source": [
        "from pyspark.sql.functions import col, countDistinct, count, min, max, when, to_date, year, mean, stddev\n",
        "\n",
        "from pyspark.sql.types import *\n",
        "from pyspark.sql.functions import *\n",
        "\n",
        "# import select functions and types\n",
        "from pyspark.sql.types import IntegerType, StringType\n",
        "from pyspark.sql.functions import floor, round"
      ],
      "metadata": {
        "id": "Kf7GtEE5lOSB"
      },
      "execution_count": 29,
      "outputs": []
    },
    {
      "cell_type": "markdown",
      "source": [
        "# Inicio de EDA na camada RAW (Exploratory Data and Analysis)\n",
        "\n"
      ],
      "metadata": {
        "id": "Ui1d1gXtm1aj"
      }
    },
    {
      "cell_type": "markdown",
      "source": [
        "## Dicionario de dados INICIAL"
      ],
      "metadata": {
        "id": "jxjzaNP-pDpT"
      }
    },
    {
      "cell_type": "markdown",
      "source": [
        "### 1. Transactions:\n",
        "  - Colunas:\n",
        "    - 1º 'mnso': id do usuário;\n",
        "    - 2º 'payment_method_id': Método de pagamento;\n",
        "    - 3º 'payment_plan_days': tamanho do plano em DIAS;\n",
        "    - 4º 'plan_list_price': preço do respectivo plano em New Taiwan Dollar (NTD);\n",
        "    - 5º 'actual_amount_paid': Total pago atual (nao entendi);\n",
        "    - 6º 'is_auto_renew': Renovação automatica 1 ou 0;\n",
        "    - 7º 'transaction_date': data da transação no formato %Y %M %D;\n",
        "    - 8º 'membership_expire_date': quando o plano vence no formato %Y %M %D;\n",
        "    - 9º 'is_cancel': se nessa transação o cliente cancelou ou não o plano;\n",
        "    - 10º 'safra': data (Data foto da base).\n",
        "\n",
        "### 2. User_logs:\n",
        "  - Colunas:\n",
        "    - 1º 'msno': id do usuário;\n",
        "    - 2º 'safra': formato %Y %M %D (data foto da base);\n",
        "    - 3º 'num_25': quantidade de músicas tocadas menos de 25% da duração dela;\n",
        "    - 4º 'num_50': quantidade de músicas tocadas entre 25% e 50% da duração dela;\n",
        "    - 5º 'num_75': quantidade de músicas tocadas entre 50% e 75% da duração dela;\n",
        "    - 6º 'num_985': quantidade de músicas tocadas entre 75% e 98,5% da duração dela;\n",
        "    - 7º 'num_100': quantidade de músicas tocadas acima de 98,5%;\n",
        "    - 8º 'num_unq': quantidade de musicas tocadas apenas 1 vez;\n",
        "    - 9º 'total_secs': total de segundos tocados.\n",
        "\n",
        "### 3. Members:\n",
        "  - Colunas:\n",
        "    - 1º 'msno': id do usuário;\n",
        "    - 2º 'city': cidade do usuário?\n",
        "    - 3º 'bd': idade? obs: outliers em 2015\n",
        "    - 4º 'gender': gênero\n",
        "    - 5º 'registered_via': meio de registro do cliente\n",
        "    - 6º 'registration_init_time': primeiro regristo do cliente formato %Y %M %D\n",
        "    - 7º 'safra': Data da foto da base\n",
        "    - 8º 'is_ativo': se o cliente esta ativo ou não"
      ],
      "metadata": {
        "id": "QJkw813WzAld"
      }
    },
    {
      "cell_type": "markdown",
      "source": [
        "## Entendendo o formato dos dados"
      ],
      "metadata": {
        "id": "8xFh6_YtsxVr"
      }
    },
    {
      "cell_type": "code",
      "source": [
        "table = ['tb_members', 'tb_transactions', 'tb_userlogs']\n",
        "\n",
        "for i in table:\n",
        "  print(f'--------Tabela: {i}-------------------------')\n",
        "  qnt_linhas = spark.sql(f'SELECT count(*) AS quantidade_linhas from {i}').collect()[0]['quantidade_linhas']\n",
        "  df = spark.sql(f\"SELECT * from {i}\")\n",
        "  qnt_colunas = len(df.columns)\n",
        "  print(f\"Formato da {i}: \", qnt_colunas, \" X \", qnt_linhas )\n",
        "  spark.sql(f'Describe {i}').show()"
      ],
      "metadata": {
        "colab": {
          "base_uri": "https://localhost:8080/"
        },
        "id": "_fEpPBt-8ujT",
        "outputId": "5309d8e2-1c67-44a9-d95f-37aa41a9fb4a"
      },
      "execution_count": null,
      "outputs": [
        {
          "output_type": "stream",
          "name": "stdout",
          "text": [
            "--------Tabela: tb_members-------------------------\n",
            "Formato da tb_members:  8  X  63867246\n",
            "+--------------------+---------+-------+\n",
            "|            col_name|data_type|comment|\n",
            "+--------------------+---------+-------+\n",
            "|                msno|   string|   null|\n",
            "|               safra|   string|   null|\n",
            "|registration_init...|   string|   null|\n",
            "|                city|   string|   null|\n",
            "|                  bd|   string|   null|\n",
            "|              gender|   string|   null|\n",
            "|      registered_via|   string|   null|\n",
            "|            is_ativo|      int|   null|\n",
            "+--------------------+---------+-------+\n",
            "\n",
            "--------Tabela: tb_transactions-------------------------\n",
            "Formato da tb_transactions:  10  X  20712225\n",
            "+--------------------+---------+-------+\n",
            "|            col_name|data_type|comment|\n",
            "+--------------------+---------+-------+\n",
            "|                msno|   string|   null|\n",
            "|   payment_method_id|   string|   null|\n",
            "|   payment_plan_days|   string|   null|\n",
            "|     plan_list_price|   string|   null|\n",
            "|  actual_amount_paid|   string|   null|\n",
            "|       is_auto_renew|   string|   null|\n",
            "|    transaction_date|   string|   null|\n",
            "|membership_expire...|   string|   null|\n",
            "|           is_cancel|   string|   null|\n",
            "|               safra|      int|   null|\n",
            "+--------------------+---------+-------+\n",
            "\n",
            "--------Tabela: tb_userlogs-------------------------\n",
            "Formato da tb_userlogs:  9  X  26758971\n",
            "+----------+---------+-------+\n",
            "|  col_name|data_type|comment|\n",
            "+----------+---------+-------+\n",
            "|      msno|   string|   null|\n",
            "|     safra|      int|   null|\n",
            "|    num_25|   double|   null|\n",
            "|    num_50|   double|   null|\n",
            "|    num_75|   double|   null|\n",
            "|   num_985|   double|   null|\n",
            "|   num_100|   double|   null|\n",
            "|   num_unq|   double|   null|\n",
            "|total_secs|   double|   null|\n",
            "+----------+---------+-------+\n",
            "\n"
          ]
        }
      ]
    },
    {
      "cell_type": "markdown",
      "source": [
        "## 1 - Entendendo a Members"
      ],
      "metadata": {
        "id": "nQHC_FfnqnPW"
      }
    },
    {
      "cell_type": "markdown",
      "source": [
        "### Primeira visão"
      ],
      "metadata": {
        "id": "CaiRBwNhzUc4"
      }
    },
    {
      "cell_type": "code",
      "source": [
        "spark.sql('select * from tb_members LIMIT 10').show()"
      ],
      "metadata": {
        "colab": {
          "base_uri": "https://localhost:8080/"
        },
        "id": "r8I764LCB5TD",
        "outputId": "9355f8a3-5e74-45d1-baa4-937d96c70b05"
      },
      "execution_count": null,
      "outputs": [
        {
          "output_type": "stream",
          "name": "stdout",
          "text": [
            "+--------------------+------+----------------------+----+---+------+--------------+--------+\n",
            "|                msno| safra|registration_init_time|city| bd|gender|registered_via|is_ativo|\n",
            "+--------------------+------+----------------------+----+---+------+--------------+--------+\n",
            "|+++snpr7pmobhLKUg...|201612|            2014-09-27|   1|  0|  null|             7|    true|\n",
            "|++/AwGzubug3gT6J+...|201607|            2015-03-22|   1|  0|  null|             9|   false|\n",
            "|++/Gw1B9K+XOlB3hL...|201601|            2012-12-17|  15| 32|  male|             3|    true|\n",
            "|++02XbtviomSxcIBU...|201603|            2013-11-12|  14| 21|  male|             7|   false|\n",
            "|++0O0Bq04sB/9ZcOS...|201610|            2014-10-21|   5| 33|  male|             3|   false|\n",
            "|++2AQgVgYUAqJDw68...|201608|            2015-04-16|  18| 23|  male|             3|   false|\n",
            "|++2gRJ7i2MbO6qUG6...|201608|            2014-06-16|  11| 33|  male|             7|   false|\n",
            "|++3brN43Yd6GURegT...|201604|            2010-05-12|  14| 19|  male|             9|   false|\n",
            "|++4FwgRp7pHuuQWpa...|201605|            2014-10-10|   1|  0|  null|             9|   false|\n",
            "|++4KsBMCDgIrwmv5w...|201604|            2014-10-31|   1|  0|  null|             9|   false|\n",
            "+--------------------+------+----------------------+----+---+------+--------------+--------+\n",
            "\n"
          ]
        }
      ]
    },
    {
      "cell_type": "markdown",
      "source": [
        "Nas primeiras 10 linhas ja vemos a idade = 0, e valores nulos no genero"
      ],
      "metadata": {
        "id": "rQVeSHiArYX1"
      }
    },
    {
      "cell_type": "markdown",
      "source": [
        "### Min e Max de datas das colunas de datas para ver até onde vão"
      ],
      "metadata": {
        "id": "25yqfe2FwsBP"
      }
    },
    {
      "cell_type": "markdown",
      "source": [
        "convertendo os tipos de dados, pois algumas consultas estavam vindo erradas"
      ],
      "metadata": {
        "id": "O11rnhId70Di"
      }
    },
    {
      "cell_type": "code",
      "source": [
        "df_members = (df_members\n",
        "              .withColumn('safra', col('safra').cast('int'))\n",
        "              .withColumn('registration_init_time', to_date(col('registration_init_time'), 'yyyyMMdd'))\n",
        "              .withColumn('bd', col('bd').cast('int'))\n",
        "              .withColumn('registered_via', col('registered_via').cast('int'))\n",
        "              .withColumn('is_ativo', col('is_ativo').cast('boolean'))\n",
        "              )\n",
        "df_members.createOrReplaceTempView('tb_members')\n",
        "\n",
        "(spark.sql(\n",
        "    \"\"\"\n",
        "    select min(registration_init_time), max(registration_init_time),\n",
        "           min(safra), max(safra)\n",
        "    from tb_members\n",
        "    \"\"\"\n",
        "  ).show()\n",
        ")"
      ],
      "metadata": {
        "colab": {
          "base_uri": "https://localhost:8080/"
        },
        "id": "5wuKQFeEn-oV",
        "outputId": "b33c3a7f-0303-4164-bb44-7ab8edece0f3"
      },
      "execution_count": null,
      "outputs": [
        {
          "output_type": "stream",
          "name": "stdout",
          "text": [
            "+---------------------------+---------------------------+----------+----------+\n",
            "|min(registration_init_time)|max(registration_init_time)|min(safra)|max(safra)|\n",
            "+---------------------------+---------------------------+----------+----------+\n",
            "|                 2004-03-26|                 2016-12-31|    201601|    201612|\n",
            "+---------------------------+---------------------------+----------+----------+\n",
            "\n"
          ]
        }
      ]
    },
    {
      "cell_type": "markdown",
      "source": [
        "Temos clientes que foram registrados 2016-12-31, e clientes antigos 2004."
      ],
      "metadata": {
        "id": "hZ5K-WLdqefT"
      }
    },
    {
      "cell_type": "markdown",
      "source": [
        "Temos uma base de usuarios de referente ao ano (safra) de 2016. fotos dos clientes foram tiradas a cada mês, total de 12 fotos (possiveis features stores)"
      ],
      "metadata": {
        "id": "zpjiMYLyfLRf"
      }
    },
    {
      "cell_type": "markdown",
      "source": [
        "### Entendendo a quantidade de usuarios por safra e repetição de Clientes"
      ],
      "metadata": {
        "id": "7rhpeg3acAl2"
      }
    },
    {
      "cell_type": "code",
      "source": [
        "(spark.sql(\n",
        "    \"\"\"\n",
        "      select safra,\n",
        "             count(msno) as qnt_msno,\n",
        "             count(distinct msno) as qnt_distinct_msno,\n",
        "             case when qnt_msno = qnt_distinct_msno then 1 else 0 end as check_colunas\n",
        "      from tb_members\n",
        "      group by 1\n",
        "      order by 4 asc\n",
        "    \"\"\"\n",
        "  ).show()\n",
        ")"
      ],
      "metadata": {
        "colab": {
          "base_uri": "https://localhost:8080/"
        },
        "id": "_TLgCmSAEHrT",
        "outputId": "0d1d5257-5148-4a86-b145-41e7c73e3e9a"
      },
      "execution_count": null,
      "outputs": [
        {
          "output_type": "stream",
          "name": "stdout",
          "text": [
            "+------+--------+-----------------+-------------+\n",
            "| safra|qnt_msno|qnt_distinct_msno|check_colunas|\n",
            "+------+--------+-----------------+-------------+\n",
            "|201607| 5439337|          5439337|            1|\n",
            "|201611| 6114345|          6114345|            1|\n",
            "|201605| 5060705|          5060705|            1|\n",
            "|201602| 4502354|          4502354|            1|\n",
            "|201606| 5250064|          5250064|            1|\n",
            "|201609| 5778986|          5778986|            1|\n",
            "|201610| 5949288|          5949288|            1|\n",
            "|201608| 5615921|          5615921|            1|\n",
            "|201604| 4876301|          4876301|            1|\n",
            "|201601| 4294184|          4294184|            1|\n",
            "|201603| 4697972|          4697972|            1|\n",
            "|201612| 6287789|          6287789|            1|\n",
            "+------+--------+-----------------+-------------+\n",
            "\n"
          ]
        }
      ]
    },
    {
      "cell_type": "markdown",
      "source": [
        "vendo que a quantidade de ids distintos por safra, é igual a quantidade total de registros por safra, ou seja, clientes nao se repetem dentro de cada safra"
      ],
      "metadata": {
        "id": "QASMMH5bIS4y"
      }
    },
    {
      "cell_type": "markdown",
      "source": [
        "A cada safra não há clientes duplicados, só se repetem por safra, ou seja, no máximo 12 vezes"
      ],
      "metadata": {
        "id": "4cT-PpkLFC8w"
      }
    },
    {
      "cell_type": "code",
      "source": [
        "(spark.sql(\n",
        "    \"\"\"\n",
        "    WITH contagem_msno as\n",
        "    (\n",
        "      select msno,\n",
        "             count(msno) AS quantidade\n",
        "      from tb_members\n",
        "      group by 1\n",
        "    )\n",
        "    select min(quantidade) as minimo,\n",
        "           max(quantidade) as maximo\n",
        "    from contagem_msno\n",
        "    \"\"\"\n",
        "    ).show()\n",
        ")"
      ],
      "metadata": {
        "colab": {
          "base_uri": "https://localhost:8080/"
        },
        "id": "7fRxR2jIF1UV",
        "outputId": "b0561de8-3ecf-4bc0-877d-d02f5570e0f3"
      },
      "execution_count": null,
      "outputs": [
        {
          "output_type": "stream",
          "name": "stdout",
          "text": [
            "+------+------+\n",
            "|minimo|maximo|\n",
            "+------+------+\n",
            "|     1|    12|\n",
            "+------+------+\n",
            "\n"
          ]
        }
      ]
    },
    {
      "cell_type": "markdown",
      "source": [
        "confirmado. Max de repetição 12 e minimo 1 na base geral.\n",
        "\n",
        "temos 12 safras de registro, por isso max de 12 repetições e no minimo 1 para clientes que só apareceram 1 vez e possivelmente cancelaram sua assinatura."
      ],
      "metadata": {
        "id": "pkgbf-xQIerB"
      }
    },
    {
      "cell_type": "markdown",
      "source": [
        "### Entendendo a quantidade de ativos e não ativos por safra"
      ],
      "metadata": {
        "id": "MPn_veQuIj_A"
      }
    },
    {
      "cell_type": "code",
      "source": [
        "(spark.sql(\n",
        "    \"\"\"\n",
        "    WITH contagem_total as (\n",
        "      select safra,\n",
        "             count(msno) AS quantidade\n",
        "      from tb_members\n",
        "      group by 1\n",
        "      order by 1\n",
        "    ),\n",
        "      contagem_ativos as(\n",
        "      select safra,\n",
        "             count(is_ativo) AS quantidade\n",
        "      from tb_members\n",
        "      where is_ativo = 1\n",
        "      group by 1\n",
        "      order by 1\n",
        "    ),\n",
        "      contagem_nao_ativos as(\n",
        "      select safra,\n",
        "             count(is_ativo) AS quantidade\n",
        "      from tb_members\n",
        "      where is_ativo = 0\n",
        "      group by 1\n",
        "      order by 1\n",
        "    ),\n",
        "    join as (\n",
        "      select contagem_total.safra,\n",
        "            contagem_ativos.quantidade AS quantidade_ativos,\n",
        "            contagem_nao_ativos.quantidade AS quantidade_nao_ativos,\n",
        "            contagem_total.quantidade AS quantidade_total\n",
        "      from contagem_total\n",
        "      join contagem_ativos\n",
        "      on contagem_total.safra = contagem_ativos.safra\n",
        "      join contagem_nao_ativos\n",
        "      on contagem_ativos.safra = contagem_nao_ativos.safra\n",
        "      order by 1\n",
        "    )\n",
        "    select (*),\n",
        "           CONCAT(ROUND((quantidade_ativos / quantidade_total) * 100, 1), '%') as taxa_ativos,\n",
        "           CONCAT(ROUND((quantidade_nao_ativos / quantidade_total) * 100, 1), '%') as taxa_nao_ativos\n",
        "    from join\n",
        "    \"\"\"\n",
        "    ).show()\n",
        ")"
      ],
      "metadata": {
        "colab": {
          "base_uri": "https://localhost:8080/"
        },
        "id": "36FownytIy-y",
        "outputId": "58ca42b6-457a-4410-89b9-1f4c34e77263"
      },
      "execution_count": null,
      "outputs": [
        {
          "output_type": "stream",
          "name": "stdout",
          "text": [
            "+------+-----------------+---------------------+----------------+-----------+---------------+\n",
            "| safra|quantidade_ativos|quantidade_nao_ativos|quantidade_total|taxa_ativos|taxa_nao_ativos|\n",
            "+------+-----------------+---------------------+----------------+-----------+---------------+\n",
            "|201601|           888663|              3405521|         4294184|      20.7%|          79.3%|\n",
            "|201602|           918116|              3584238|         4502354|      20.4%|          79.6%|\n",
            "|201603|           871651|              3826321|         4697972|      18.6%|          81.4%|\n",
            "|201604|           831565|              4044736|         4876301|      17.1%|          82.9%|\n",
            "|201605|           849653|              4211052|         5060705|      16.8%|          83.2%|\n",
            "|201606|           844884|              4405180|         5250064|      16.1%|          83.9%|\n",
            "|201607|           967936|              4471401|         5439337|      17.8%|          82.2%|\n",
            "|201608|           980643|              4635278|         5615921|      17.5%|          82.5%|\n",
            "|201609|           991285|              4787701|         5778986|      17.2%|          82.8%|\n",
            "|201610|          1048557|              4900731|         5949288|      17.6%|          82.4%|\n",
            "|201611|          1071113|              5043232|         6114345|      17.5%|          82.5%|\n",
            "|201612|           978799|              5308990|         6287789|      15.6%|          84.4%|\n",
            "+------+-----------------+---------------------+----------------+-----------+---------------+\n",
            "\n"
          ]
        }
      ]
    },
    {
      "cell_type": "markdown",
      "source": [
        "maior parte dos clientes por safra são não ativos, indicando um possivel desbalanceamento de classes futuras."
      ],
      "metadata": {
        "id": "76v1Ep6aOy6Q"
      }
    },
    {
      "cell_type": "markdown",
      "source": [
        "### Vendo se há valores missing"
      ],
      "metadata": {
        "id": "QjzgGMLBJRr1"
      }
    },
    {
      "cell_type": "code",
      "source": [
        "# repetindo o codigo a cima em sql agora\n",
        "\n",
        "(spark.sql(\n",
        "    \"\"\"\n",
        "      SELECT\n",
        "        SUM(CASE WHEN msno IS NULL THEN 1 ELSE 0 END) AS msno,\n",
        "        SUM(CASE WHEN safra IS NULL THEN 1 ELSE 0 END) AS safra,\n",
        "        SUM(CASE WHEN registration_init_time IS NULL THEN 1 ELSE 0 END) AS registration_init_time,\n",
        "        SUM(CASE WHEN city IS NULL THEN 1 ELSE 0 END) AS city,\n",
        "        SUM(CASE WHEN bd IS NULL THEN 1 ELSE 0 END) AS bd,\n",
        "        SUM(CASE WHEN gender IS NULL THEN 1 ELSE 0 END) AS gender,\n",
        "        SUM(CASE WHEN registered_via IS NULL THEN 1 ELSE 0 END) AS registered_via,\n",
        "        SUM(CASE WHEN is_ativo IS NULL THEN 1 ELSE 0 END) AS is_ativo\n",
        "      FROM tb_members\n",
        "    \"\"\"\n",
        "  ).show()\n",
        ")"
      ],
      "metadata": {
        "colab": {
          "base_uri": "https://localhost:8080/"
        },
        "id": "VsmpTKJNP3J6",
        "outputId": "8a106799-686a-40b2-efae-31c3f4ade1cf"
      },
      "execution_count": null,
      "outputs": [
        {
          "output_type": "stream",
          "name": "stdout",
          "text": [
            "+----+-----+----------------------+----+---+--------+--------------+--------+\n",
            "|msno|safra|registration_init_time|city| bd|  gender|registered_via|is_ativo|\n",
            "+----+-----+----------------------+----+---+--------+--------------+--------+\n",
            "|   0|    0|                     0|   0|  0|38210177|             0|       0|\n",
            "+----+-----+----------------------+----+---+--------+--------------+--------+\n",
            "\n"
          ]
        }
      ]
    },
    {
      "cell_type": "markdown",
      "source": [
        "38 milhoes de registros vazios da coluna de genero, de um total de 63 milhoes"
      ],
      "metadata": {
        "id": "riQ9rquHKFat"
      }
    },
    {
      "cell_type": "markdown",
      "source": [
        "ver como esta a distribuição dos valores validos dos generos"
      ],
      "metadata": {
        "id": "RW_AoXY-1OdY"
      }
    },
    {
      "cell_type": "code",
      "source": [
        "(spark.sql(\n",
        "    \"\"\"\n",
        "      SELECT gender,\n",
        "             count(*)\n",
        "      FROM tb_members\n",
        "      group by 1\n",
        "    \"\"\"\n",
        "  ).show()\n",
        ")"
      ],
      "metadata": {
        "colab": {
          "base_uri": "https://localhost:8080/"
        },
        "id": "Bwsd_nNgzg1g",
        "outputId": "3c802007-0157-4540-f577-16c2990b7585"
      },
      "execution_count": 9,
      "outputs": [
        {
          "output_type": "stream",
          "name": "stdout",
          "text": [
            "+------+--------+\n",
            "|gender|count(1)|\n",
            "+------+--------+\n",
            "|  null|38210177|\n",
            "|female|12581644|\n",
            "|  male|13075425|\n",
            "+------+--------+\n",
            "\n"
          ]
        }
      ]
    },
    {
      "cell_type": "markdown",
      "source": [
        "### Entendendo os valores de cada coluna da Members"
      ],
      "metadata": {
        "id": "ZDxzUyU1vfEl"
      }
    },
    {
      "cell_type": "code",
      "source": [
        "def executa_query_member_por_coluna(coluna):\n",
        "  query = f\"\"\"\n",
        "            select count(distinct {coluna}) as quantidade_distinta_{coluna}\n",
        "            from tb_members\n",
        "           \"\"\"\n",
        "  spark.sql(query).show()\n",
        "\n",
        "for i in df_members.columns:\n",
        "    print(i)\n",
        "    executa_query_member_por_coluna(i)"
      ],
      "metadata": {
        "colab": {
          "base_uri": "https://localhost:8080/"
        },
        "id": "TCQK5vX3POjj",
        "outputId": "a21508ef-12ac-4a3f-ac79-144d5bffe5db"
      },
      "execution_count": null,
      "outputs": [
        {
          "output_type": "stream",
          "name": "stdout",
          "text": [
            "msno\n",
            "+------------------------+\n",
            "|quantidade_distinta_msno|\n",
            "+------------------------+\n",
            "|                 6287789|\n",
            "+------------------------+\n",
            "\n",
            "safra\n",
            "+-------------------------+\n",
            "|quantidade_distinta_safra|\n",
            "+-------------------------+\n",
            "|                       12|\n",
            "+-------------------------+\n",
            "\n",
            "registration_init_time\n",
            "+------------------------------------------+\n",
            "|quantidade_distinta_registration_init_time|\n",
            "+------------------------------------------+\n",
            "|                                      4663|\n",
            "+------------------------------------------+\n",
            "\n",
            "city\n",
            "+------------------------+\n",
            "|quantidade_distinta_city|\n",
            "+------------------------+\n",
            "|                      21|\n",
            "+------------------------+\n",
            "\n",
            "bd\n",
            "+----------------------+\n",
            "|quantidade_distinta_bd|\n",
            "+----------------------+\n",
            "|                   385|\n",
            "+----------------------+\n",
            "\n",
            "gender\n",
            "+--------------------------+\n",
            "|quantidade_distinta_gender|\n",
            "+--------------------------+\n",
            "|                         2|\n",
            "+--------------------------+\n",
            "\n",
            "registered_via\n",
            "+----------------------------------+\n",
            "|quantidade_distinta_registered_via|\n",
            "+----------------------------------+\n",
            "|                                17|\n",
            "+----------------------------------+\n",
            "\n",
            "is_ativo\n",
            "+----------------------------+\n",
            "|quantidade_distinta_is_ativo|\n",
            "+----------------------------+\n",
            "|                           2|\n",
            "+----------------------------+\n",
            "\n"
          ]
        }
      ]
    },
    {
      "cell_type": "markdown",
      "source": [
        "###  Observações e Questionamentos\n",
        "\n",
        " - Clientes cadastrados a mais de 10 anos (4663 dias distintos)\n",
        " - 21 cidades, avaliar se tem correlação com Churn\n",
        " - 385 idades distintas? algo esta muito errado.\n",
        " - 2 generos e mais da metade missing (analisar como essa variavel pode se comportar para o modelo)\n",
        " - 17 tipos de jeitos de se registrar diferentes\n",
        "\n"
      ],
      "metadata": {
        "id": "GeBx35zs1FNR"
      }
    },
    {
      "cell_type": "markdown",
      "source": [
        "### Avaliando as idades 'bd'"
      ],
      "metadata": {
        "id": "bjFaGRiC15XN"
      }
    },
    {
      "cell_type": "code",
      "source": [
        "df_members.select('bd').describe().show()"
      ],
      "metadata": {
        "colab": {
          "base_uri": "https://localhost:8080/"
        },
        "id": "oHiXunvn0O5q",
        "outputId": "5e29436b-7e5a-4809-ada0-bcb515a7d779"
      },
      "execution_count": null,
      "outputs": [
        {
          "output_type": "stream",
          "name": "stdout",
          "text": [
            "+-------+------------------+\n",
            "|summary|                bd|\n",
            "+-------+------------------+\n",
            "|  count|          63867246|\n",
            "|   mean|11.430160210759675|\n",
            "| stddev|19.041318387984273|\n",
            "|    min|             -7168|\n",
            "|    max|              2016|\n",
            "+-------+------------------+\n",
            "\n"
          ]
        }
      ]
    },
    {
      "cell_type": "code",
      "source": [
        "(spark.sql(\n",
        "    \"\"\"\n",
        "      select min(bd) as minimo,\n",
        "             max(bd) as maximo,\n",
        "             percentile_approx(bd, 0.5) AS mediana\n",
        "      from tb_members\n",
        "    \"\"\"\n",
        "  ).show()\n",
        ")"
      ],
      "metadata": {
        "colab": {
          "base_uri": "https://localhost:8080/"
        },
        "id": "Mq2KI0SAWQ5-",
        "outputId": "6bcd9f3b-bacf-46c9-fcdb-1973cc2dabe5"
      },
      "execution_count": null,
      "outputs": [
        {
          "output_type": "stream",
          "name": "stdout",
          "text": [
            "+------+------+-------+\n",
            "|minimo|maximo|mediana|\n",
            "+------+------+-------+\n",
            "| -7168|  2016|      0|\n",
            "+------+------+-------+\n",
            "\n"
          ]
        }
      ]
    },
    {
      "cell_type": "markdown",
      "source": [
        "mediana igual a 0;"
      ],
      "metadata": {
        "id": "ZjmPS05G1W6V"
      }
    },
    {
      "cell_type": "code",
      "source": [
        "(spark.sql(\n",
        "    \"\"\"\n",
        "      select count(bd)\n",
        "      from tb_members\n",
        "      where bd = 0\n",
        "    \"\"\"\n",
        "  ).show()\n",
        ")"
      ],
      "metadata": {
        "colab": {
          "base_uri": "https://localhost:8080/"
        },
        "id": "p_xkLO3KeXf-",
        "outputId": "59938512-9e23-401e-cba2-782a66a85d47"
      },
      "execution_count": null,
      "outputs": [
        {
          "output_type": "stream",
          "name": "stdout",
          "text": [
            "+---------+\n",
            "|count(bd)|\n",
            "+---------+\n",
            "| 39509864|\n",
            "+---------+\n",
            "\n"
          ]
        }
      ]
    },
    {
      "cell_type": "markdown",
      "source": [
        "Justificando a mediana ser 0, mais da metade dos dados dados são iguais a zero, indicando uma possivel falha na captura dos dados, valores discrepantes, ou valores nulos."
      ],
      "metadata": {
        "id": "e6Bx2IBqeofB"
      }
    },
    {
      "cell_type": "markdown",
      "source": [
        "#### Entendendo brevemente a distribuição dos dados"
      ],
      "metadata": {
        "id": "0N5bIo6-EM_P"
      }
    },
    {
      "cell_type": "code",
      "source": [
        "(spark.sql(\n",
        "    \"\"\"\n",
        "    SELECT\n",
        "        safra,\n",
        "        min(bd) AS minimo_per_safra,\n",
        "        max(bd) AS maximo_per_safra,\n",
        "        SUM(CASE WHEN bd IS NULL THEN 0 ELSE 1 END) AS bd_total,\n",
        "        SUM(CASE WHEN bd <= 0 THEN 1 ELSE 0 END) AS bd_menor_que_0,\n",
        "        SUM(CASE WHEN bd > 120 THEN 1 ELSE 0 END) AS bd_maior_que_120,\n",
        "        SUM(CASE WHEN bd > 0 AND bd <= 120 THEN 1 ELSE 0 END) AS bd_entre_0_e_120,\n",
        "        CONCAT(ROUND(((bd_menor_que_0 + bd_maior_que_120) / bd_total) * 100, 1), '%') as taxa_de_fora_da_idade,\n",
        "        CONCAT(ROUND((bd_entre_0_e_120 / bd_total) * 100, 1), '%') as taxa_de_dentro_da_idade\n",
        "    FROM tb_members\n",
        "    group by 1\n",
        "    order by 1 asc\n",
        "    \"\"\"\n",
        "  ).show()\n",
        ")"
      ],
      "metadata": {
        "colab": {
          "base_uri": "https://localhost:8080/"
        },
        "id": "w_IRXvZxbtUJ",
        "outputId": "24b6ea17-a178-4934-9115-a56dc4bbda2c"
      },
      "execution_count": null,
      "outputs": [
        {
          "output_type": "stream",
          "name": "stdout",
          "text": [
            "+------+----------------+----------------+--------+--------------+----------------+----------------+---------------------+-----------------------+\n",
            "| safra|minimo_per_safra|maximo_per_safra|bd_total|bd_menor_que_0|bd_maior_que_120|bd_entre_0_e_120|taxa_de_fora_da_idade|taxa_de_dentro_da_idade|\n",
            "+------+----------------+----------------+--------+--------------+----------------+----------------+---------------------+-----------------------+\n",
            "|201601|           -7168|            2016| 4294184|       2397278|             330|         1896576|                55.8%|                  44.2%|\n",
            "|201602|           -7168|            2016| 4502354|       2575982|             333|         1926039|                57.2%|                  42.8%|\n",
            "|201603|           -7168|            2016| 4697972|       2745403|             339|         1952230|                58.4%|                  41.6%|\n",
            "|201604|           -7168|            2016| 4876301|       2901081|             343|         1974877|                59.5%|                  40.5%|\n",
            "|201605|           -7168|            2016| 5060705|       3063294|             345|         1997066|                60.5%|                  39.5%|\n",
            "|201606|           -7168|            2016| 5250064|       3229271|             346|         2020447|                61.5%|                  38.5%|\n",
            "|201607|           -7168|            2016| 5439337|       3394233|             350|         2044754|                62.4%|                  37.6%|\n",
            "|201608|           -7168|            2016| 5615921|       3548369|             354|         2067198|                63.2%|                  36.8%|\n",
            "|201609|           -7168|            2016| 5778986|       3691198|             357|         2087431|                63.9%|                  36.1%|\n",
            "|201610|           -7168|            2016| 5949288|       3840964|             359|         2107965|                64.6%|                  35.4%|\n",
            "|201611|           -7168|            2016| 6114345|       3986279|             363|         2127703|                65.2%|                  34.8%|\n",
            "|201612|           -7168|            2016| 6287789|       4139590|             365|         2147834|                65.8%|                  34.2%|\n",
            "+------+----------------+----------------+--------+--------------+----------------+----------------+---------------------+-----------------------+\n",
            "\n"
          ]
        }
      ]
    },
    {
      "cell_type": "code",
      "source": [
        "(spark.sql(\n",
        "    \"\"\"\n",
        "    SELECT\n",
        "        SUM(CASE WHEN bd IS NULL THEN 0 ELSE 1 END) AS bd_total,\n",
        "        SUM(CASE WHEN bd <= 0 THEN 1 ELSE 0 END) AS bd_menor_que_0,\n",
        "        SUM(CASE WHEN bd > 0 and bd <= 12 THEN 1 ELSE 0 END) AS bd_menor_que_12,\n",
        "        SUM(CASE WHEN bd >= 13 and bd <= 19 THEN 1 ELSE 0 END) AS bd_entre_13_e_19,\n",
        "        SUM(CASE WHEN bd >= 20 and bd <= 30 THEN 1 ELSE 0 END) AS bd_entre_20_e_30,\n",
        "        SUM(CASE WHEN bd >= 31 and bd <= 64 THEN 1 ELSE 0 END) AS bd_entre_31_e_64,\n",
        "        SUM(CASE WHEN bd >= 65 and bd <= 122 THEN 1 ELSE 0 END) AS bd_entre_65_e_122,\n",
        "        SUM(CASE WHEN bd > 122 THEN 1 ELSE 0 END) AS bd_maior_que_122,\n",
        "        SUM(CASE WHEN bd > 0 AND bd <= 122 THEN 1 ELSE 0 END) AS bd_entre_0_e_122,\n",
        "        CONCAT(ROUND(((bd_menor_que_0 + bd_maior_que_122) / bd_total) * 100, 1), '%') as taxa_de_fora_da_idade,\n",
        "        CONCAT(ROUND((bd_entre_0_e_122 / bd_total) * 100, 1), '%') as taxa_de_dentro_da_idade\n",
        "    FROM tb_members\n",
        "    \"\"\"\n",
        "  ).show()\n",
        ")"
      ],
      "metadata": {
        "colab": {
          "base_uri": "https://localhost:8080/"
        },
        "id": "iVeI1AG7JoBK",
        "outputId": "ad068066-7d99-439d-aea2-1fcefa110292"
      },
      "execution_count": null,
      "outputs": [
        {
          "output_type": "stream",
          "name": "stdout",
          "text": [
            "+--------+--------------+---------------+----------------+----------------+----------------+-----------------+----------------+----------------+---------------------+-----------------------+\n",
            "|bd_total|bd_menor_que_0|bd_menor_que_12|bd_entre_13_e_19|bd_entre_20_e_30|bd_entre_31_e_64|bd_entre_65_e_122|bd_maior_que_122|bd_entre_0_e_122|taxa_de_fora_da_idade|taxa_de_dentro_da_idade|\n",
            "+--------+--------------+---------------+----------------+----------------+----------------+-----------------+----------------+----------------+---------------------+-----------------------+\n",
            "|63867246|      39512942|          14934|         3326654|        11589809|         9205006|           213813|            4088|        24350216|                61.9%|                  38.1%|\n",
            "+--------+--------------+---------------+----------------+----------------+----------------+-----------------+----------------+----------------+---------------------+-----------------------+\n",
            "\n"
          ]
        }
      ]
    },
    {
      "cell_type": "code",
      "source": [
        "(spark.sql(\n",
        "    \"\"\"\n",
        "    SELECT\n",
        "        SUM(CASE WHEN bd = 0 THEN 1 ELSE 0 END) AS bd_0,\n",
        "        SUM(CASE WHEN bd < 0 THEN 1 ELSE 0 END) AS bd_1,\n",
        "        SUM(CASE WHEN bd > 0 THEN 1 ELSE 0 END) AS bd_2,\n",
        "        count(bd) as total,\n",
        "        (bd_0 + bd_1 + bd_2)/total as checagem\n",
        "    FROM tb_members\n",
        "    \"\"\"\n",
        "  ).show()\n",
        ")"
      ],
      "metadata": {
        "colab": {
          "base_uri": "https://localhost:8080/"
        },
        "id": "MrObdUyvdOK3",
        "outputId": "5cca104d-bc5a-49be-9b13-c3d32bb19185"
      },
      "execution_count": null,
      "outputs": [
        {
          "output_type": "stream",
          "name": "stdout",
          "text": [
            "+--------+----+--------+--------+--------+\n",
            "|    bd_0|bd_1|    bd_2|   total|checagem|\n",
            "+--------+----+--------+--------+--------+\n",
            "|39509864|3078|24354304|63867246|     1.0|\n",
            "+--------+----+--------+--------+--------+\n",
            "\n"
          ]
        }
      ]
    },
    {
      "cell_type": "markdown",
      "source": [
        "identificado uma grande quantidade de valores iguais a zero"
      ],
      "metadata": {
        "id": "o3tdzM-GeueG"
      }
    },
    {
      "cell_type": "markdown",
      "source": [
        "#### Vendo a distribuição dos outliers por ano, para confirmar que estão concentrados no ano de 2015, como diz o enunciado"
      ],
      "metadata": {
        "id": "pbC9STETcO9j"
      }
    },
    {
      "cell_type": "code",
      "source": [
        "df_year_members = df_members.withColumn('year', year(col('registration_init_time')))\n",
        "df_year_members.createOrReplaceTempView('tb_members_year')\n",
        "\n",
        "(spark.sql(\n",
        "    \"\"\"\n",
        "    SELECT\n",
        "        year,\n",
        "        min(bd) AS minimo_per_year,\n",
        "        max(bd) AS maximo_per_year,\n",
        "        SUM(CASE WHEN bd IS NULL THEN 0 ELSE 1 END) AS bd_total,\n",
        "        SUM(CASE WHEN bd <= 0 THEN 1 ELSE 0 END) AS bd_menor_que_0,\n",
        "        SUM(CASE WHEN bd > 120 THEN 1 ELSE 0 END) AS bd_maior_que_120,\n",
        "        SUM(CASE WHEN bd > 0 AND bd <= 120 THEN 1 ELSE 0 END) AS bd_entre_0_e_120,\n",
        "        CONCAT(ROUND(((bd_menor_que_0 + bd_maior_que_120) / bd_total) * 100, 1), '%') as taxa_de_fora_da_idade,\n",
        "        CONCAT(ROUND((bd_entre_0_e_120 / bd_total) * 100, 1), '%') as taxa_de_dentro_da_idade\n",
        "    FROM tb_members_year\n",
        "    group by 1\n",
        "    order by 1 asc\n",
        "    \"\"\"\n",
        "  ).show()\n",
        ")"
      ],
      "metadata": {
        "colab": {
          "base_uri": "https://localhost:8080/"
        },
        "id": "nk-5jR8N9RQY",
        "outputId": "78c24af2-d245-433b-ec53-3a588f7ca8ef"
      },
      "execution_count": null,
      "outputs": [
        {
          "output_type": "stream",
          "name": "stdout",
          "text": [
            "+----+---------------+---------------+--------+--------------+----------------+----------------+---------------------+-----------------------+\n",
            "|year|minimo_per_year|maximo_per_year|bd_total|bd_menor_que_0|bd_maior_que_120|bd_entre_0_e_120|taxa_de_fora_da_idade|taxa_de_dentro_da_idade|\n",
            "+----+---------------+---------------+--------+--------------+----------------+----------------+---------------------+-----------------------+\n",
            "|2004|              0|            786|  314808|         77088|              12|          237708|                24.5%|                  75.5%|\n",
            "|2005|              0|            237|  496188|         75480|              12|          420696|                15.2%|                  84.8%|\n",
            "|2006|              0|            994|  647436|           732|              12|          646692|                 0.1%|                  99.9%|\n",
            "|2007|          -3152|           1821| 1077960|           876|              24|         1077060|                 0.1%|                  99.9%|\n",
            "|2008|              0|           1820|  812280|           696|              12|          811572|                 0.1%|                  99.9%|\n",
            "|2009|              0|           1033|  763596|         14256|              72|          749268|                 1.9%|                  98.1%|\n",
            "|2010|            -50|           1946| 1380900|        391248|             348|          989304|                28.4%|                  71.6%|\n",
            "|2011|          -7168|           1958| 2148612|        712452|             816|         1435344|                33.2%|                  66.8%|\n",
            "|2012|          -1970|           1056| 3398280|       1253928|             540|         2143812|                36.9%|                  63.1%|\n",
            "|2013|          -2828|           1062| 6296664|       3967476|             804|         2328384|                63.0%|                  37.0%|\n",
            "|2014|          -5978|           1937|11709312|       7279152|             576|         4429584|                62.2%|                  37.8%|\n",
            "|2015|          -6998|           2016|19446300|      12368772|             720|         7076808|                63.6%|                  36.4%|\n",
            "|2016|           -529|           1421|15374910|      13370786|             236|         2003888|                87.0%|                  13.0%|\n",
            "+----+---------------+---------------+--------+--------------+----------------+----------------+---------------------+-----------------------+\n",
            "\n"
          ]
        }
      ]
    },
    {
      "cell_type": "markdown",
      "source": [
        "os outliers, como foi sugerido no enunciado do problema estão não só em 2015, mas concentrados em outros anos tambem."
      ],
      "metadata": {
        "id": "3ZfLyYkn-vXK"
      }
    },
    {
      "cell_type": "markdown",
      "source": [
        "### Testando a Regra de Tukey pra identificar os outliers"
      ],
      "metadata": {
        "id": "7B4YP2Ub6vrE"
      }
    },
    {
      "cell_type": "code",
      "source": [
        "quartis = (spark.sql(\n",
        "    \"\"\"\n",
        "      SELECT\n",
        "          percentile_approx(bd, 0.25) AS q1,\n",
        "          percentile_approx(bd, 0.75) AS q3\n",
        "      FROM tb_members\n",
        "    \"\"\"\n",
        "))\n",
        "\n",
        "quartis.show()\n",
        "\n",
        "q1 = quartis.collect()[0]['q1']\n",
        "q3 = quartis.collect()[0]['q3']\n",
        "\n",
        "iqr = q3 - q1\n",
        "\n",
        "low_bound = q1 - 1.5 * iqr\n",
        "upper_bound = q3 + 1.5 * iqr\n",
        "\n",
        "print(f'low_bound: {low_bound}, upper_bound: {upper_bound}')"
      ],
      "metadata": {
        "colab": {
          "base_uri": "https://localhost:8080/"
        },
        "id": "ViQcqQAa6rf3",
        "outputId": "52b74c3c-4113-4ee3-b1b9-b2307b9765e9"
      },
      "execution_count": null,
      "outputs": [
        {
          "output_type": "stream",
          "name": "stdout",
          "text": [
            "+---+---+\n",
            "| q1| q3|\n",
            "+---+---+\n",
            "|  0| 24|\n",
            "+---+---+\n",
            "\n",
            "low_bound: -36.0, upper_bound: 60.0\n"
          ]
        }
      ]
    },
    {
      "cell_type": "code",
      "source": [
        "(spark.sql(\n",
        "    \"\"\"\n",
        "      SELECT\n",
        "          count(bd) AS qtd\n",
        "      FROM tb_members\n",
        "      where bd between -36 and 0\n",
        "    \"\"\"\n",
        "  ).show()\n",
        ")"
      ],
      "metadata": {
        "colab": {
          "base_uri": "https://localhost:8080/"
        },
        "id": "VJCp8v_W7pwb",
        "outputId": "b168ac58-bd93-47fa-a623-f78596b943dd"
      },
      "execution_count": null,
      "outputs": [
        {
          "output_type": "stream",
          "name": "stdout",
          "text": [
            "+--------+\n",
            "|     qtd|\n",
            "+--------+\n",
            "|39510164|\n",
            "+--------+\n",
            "\n"
          ]
        }
      ]
    },
    {
      "cell_type": "markdown",
      "source": [
        "entendendo se há valores entre o 0 e -36 (low_bound). Segundo a regra de turkey, os zeros continuariam dentro dos limites dos dados, seriam considerados outliers somente valores abaixo de -36 e acima de 60"
      ],
      "metadata": {
        "id": "eVwMh2Yx-rpn"
      }
    },
    {
      "cell_type": "markdown",
      "source": [
        "### Testando o Z-Score para identificação de outliers"
      ],
      "metadata": {
        "id": "sn6VELP_hXCG"
      }
    },
    {
      "cell_type": "code",
      "source": [
        "# Média e desvio padrão\n",
        "stats = df_members.select(mean(\"bd\").alias(\"mean\"), stddev(\"bd\").alias(\"stddev\")).collect()[0]\n",
        "mean_bd, stddev_bd = stats[\"mean\"], stats[\"stddev\"]\n",
        "\n",
        "# Adicionando coluna Z-score\n",
        "data = df_members.withColumn(\"z_score_bd\", (col(\"bd\") - mean_bd) / stddev_bd)\n",
        "\n",
        "# Identificando outliers\n",
        "data1 = data.filter((col(\"z_score_bd\") > 3) | (col(\"z_score_bd\") < -3))\n",
        "data1.show()\n",
        "\n",
        "# selecionar o minimo e maximo da coluna bd do data1\n",
        "data1.select(min(\"bd\"), max(\"bd\")).show()\n",
        "\n",
        "# Identificando os valores dentro da faixa\n",
        "data2 = data.filter((col(\"z_score_bd\") <= 3) & (col(\"z_score_bd\") >= -3))\n",
        "data2.show()\n",
        "\n",
        "# selecionar o minimo e maximo da coluna bd do data2\n",
        "data2.select(min(\"bd\"), max(\"bd\")).show()"
      ],
      "metadata": {
        "colab": {
          "base_uri": "https://localhost:8080/"
        },
        "id": "aOITLuimhavO",
        "outputId": "b0aa6d3d-bac0-4cf2-a510-81d167d5ed31"
      },
      "execution_count": null,
      "outputs": [
        {
          "output_type": "stream",
          "name": "stdout",
          "text": [
            "+-------+-------+\n",
            "|min(bd)|max(bd)|\n",
            "+-------+-------+\n",
            "|   -176|    994|\n",
            "+-------+-------+\n",
            "\n",
            "+-------+-------+\n",
            "|min(bd)|max(bd)|\n",
            "+-------+-------+\n",
            "|    -10|      9|\n",
            "+-------+-------+\n",
            "\n"
          ]
        }
      ]
    },
    {
      "cell_type": "markdown",
      "source": [
        "### OutLiers identificados, Colunas com tipos diferentes identificados sendo necessário transformar para a bronze\n",
        "\n",
        "Outliers na 'bd'. Possiveis soluções para os outliers: Exclusão, substituição. Decidir por meio de algo justificado o que será considerado como outliers para o tratamento da BD (regra de turkey ou a logica de que a pessoa no mundo mais velha teve 122 anos, e nao existe idade negativa?) Analisar a correlação de churn com a idade e ver sua importancia. Para o momento: alterações esperadas para a construção da bronze, agora apenas sinalizar idades invalidas e que precisam ser tratadas. Grande quantidaded e valores iguais a zero.\n",
        "\n",
        "Entender melhor a coluna de data 'safra', o que ela realmente representa, usar ela ou usar a registred_init_time?\n",
        "\n",
        "Documentar:\n",
        "Quantos valores foram removidos ou corrigidos?\n",
        "Que critérios foram usados para identificar os valores inválidos?\n",
        "Qual o impacto de substituir ou excluir? A quantidade de substituição é grande ou pequena?"
      ],
      "metadata": {
        "id": "5vmbcoqGEdst"
      }
    },
    {
      "cell_type": "markdown",
      "source": [
        "## 2 - Entendendo a Transaction"
      ],
      "metadata": {
        "id": "pU6-AwtHq4MD"
      }
    },
    {
      "cell_type": "markdown",
      "source": [
        "### Primeira visão"
      ],
      "metadata": {
        "id": "tKIoi_KIoPLo"
      }
    },
    {
      "cell_type": "code",
      "source": [
        "spark.sql('select * from tb_transactions LIMIT 10').show()"
      ],
      "metadata": {
        "colab": {
          "base_uri": "https://localhost:8080/"
        },
        "id": "XId2L1aUeJaP",
        "outputId": "7eb848d7-6ed9-4029-8a07-bbc5444e308a"
      },
      "execution_count": null,
      "outputs": [
        {
          "output_type": "stream",
          "name": "stdout",
          "text": [
            "+--------------------+-----------------+-----------------+---------------+------------------+-------------+----------------+----------------------+---------+------+\n",
            "|                msno|payment_method_id|payment_plan_days|plan_list_price|actual_amount_paid|is_auto_renew|transaction_date|membership_expire_date|is_cancel| safra|\n",
            "+--------------------+-----------------+-----------------+---------------+------------------+-------------+----------------+----------------------+---------+------+\n",
            "|+++IZseRRiQS9aaSk...|               38|              410|           1788|              1788|            0|        20151121|              20170104|        0|201511|\n",
            "|+++snpr7pmobhLKUg...|               41|               30|            149|               149|            1|        20150526|              20150626|        0|201505|\n",
            "|+++snpr7pmobhLKUg...|               41|               30|            149|               149|            1|        20150926|              20151026|        0|201509|\n",
            "|++/9R3sX37CjxbY/A...|               41|               30|            149|               149|            1|        20160615|              20160715|        0|201606|\n",
            "|++/Gw1B9K+XOlB3hL...|               40|               31|            149|               149|            1|        20150113|              20150216|        0|201501|\n",
            "|++0nOC7BmrUTtcSbo...|               16|               30|            149|               149|            1|        20151012|              20151111|        0|201510|\n",
            "|++0t0Uy2D3r1pRVxg...|               35|                7|              0|                 0|            0|        20150614|              20150615|        0|201506|\n",
            "|++1eOqCPRmzyBjMGv...|               35|                7|              0|                 0|            0|        20161101|              20161108|        0|201611|\n",
            "|++2wdWRV3Thy9HZyR...|               41|               30|            149|                 0|            1|        20151008|              20151015|        1|201510|\n",
            "|++3A6JMzYJeron30G...|               41|               30|            149|               119|            1|        20150611|              20150711|        0|201506|\n",
            "+--------------------+-----------------+-----------------+---------------+------------------+-------------+----------------+----------------------+---------+------+\n",
            "\n"
          ]
        }
      ]
    },
    {
      "cell_type": "markdown",
      "source": [
        "Visto valores de plan_list_price iguais ao actual_amount_paid, para valores altos que é incomum. Para valores baixos é entendivel, pode ser o primeiro mes do cliente, mas valores como 1788 é questionavel.\n"
      ],
      "metadata": {
        "id": "ETEEeaS9ejQO"
      }
    },
    {
      "cell_type": "markdown",
      "source": [
        "### Entendendo os minimos e máximos das colunas de data"
      ],
      "metadata": {
        "id": "Mw0PAf1noTEV"
      }
    },
    {
      "cell_type": "code",
      "source": [
        "df_transactions = (df_transactions.withColumn('payment_method_id', col('payment_method_id').cast('int'))\n",
        "                                  .withColumn('payment_plan_days', col('payment_plan_days').cast('int'))\n",
        "                                  .withColumn('plan_list_price', col('plan_list_price').cast('float'))\n",
        "                                  .withColumn('actual_amount_paid', col('actual_amount_paid').cast('float'))\n",
        "                                  .withColumn('is_auto_renew', col('is_auto_renew').cast('boolean'))\n",
        "                                  .withColumn('transaction_date', to_date(col('transaction_date'), 'yyyyMMdd'))\n",
        "                                  .withColumn('membership_expire_date', to_date(col('membership_expire_date'), 'yyyyMMdd'))\n",
        "                                  .withColumn('is_cancel', col('is_cancel').cast('boolean'))\n",
        "                                  .withColumn('safra', col('safra').cast('int'))\n",
        "                                  )\n",
        "df_transactions.createOrReplaceTempView('tb_transactions')\n",
        "\n",
        "(spark.sql(\n",
        "    \"\"\"\n",
        "    select min(transaction_date), max(transaction_date),\n",
        "           min(membership_expire_date), max(membership_expire_date),\n",
        "           min(safra), max(safra)\n",
        "    from tb_transactions\n",
        "    \"\"\"\n",
        "  ).show()\n",
        ")"
      ],
      "metadata": {
        "colab": {
          "base_uri": "https://localhost:8080/"
        },
        "id": "35OMxNEyAMg2",
        "outputId": "6e2cc0b7-3fa0-4cdd-c30a-d2eb58e8b8f1"
      },
      "execution_count": null,
      "outputs": [
        {
          "output_type": "stream",
          "name": "stdout",
          "text": [
            "+---------------------+---------------------+---------------------------+---------------------------+----------+----------+\n",
            "|min(transaction_date)|max(transaction_date)|min(membership_expire_date)|max(membership_expire_date)|min(safra)|max(safra)|\n",
            "+---------------------+---------------------+---------------------------+---------------------------+----------+----------+\n",
            "|           2015-01-01|           2017-02-28|                 1970-01-01|                 2017-03-31|    201501|    201702|\n",
            "+---------------------+---------------------+---------------------------+---------------------------+----------+----------+\n",
            "\n"
          ]
        }
      ]
    },
    {
      "cell_type": "markdown",
      "source": [
        "data de expirar o plano em 1970? o primeiro usuario registrado foi em 2004, antes disso pode se considerar uma anomalia."
      ],
      "metadata": {
        "id": "K0n0MQ7VCmic"
      }
    },
    {
      "cell_type": "code",
      "source": [
        "(spark.sql(\n",
        "    \"\"\"\n",
        "    select count(*) as quantidade_linhas_antes_de_2004\n",
        "    from tb_transactions\n",
        "    where membership_expire_date < '2004-01-01'\n",
        "    \"\"\"\n",
        "  ).show()\n",
        ")"
      ],
      "metadata": {
        "colab": {
          "base_uri": "https://localhost:8080/"
        },
        "id": "R_DBwDTQCzWO",
        "outputId": "33c3b12a-abd6-42da-b6bf-707b55c8972e"
      },
      "execution_count": null,
      "outputs": [
        {
          "output_type": "stream",
          "name": "stdout",
          "text": [
            "+-------------------------------+\n",
            "|quantidade_linhas_antes_de_2004|\n",
            "+-------------------------------+\n",
            "|                           1501|\n",
            "+-------------------------------+\n",
            "\n"
          ]
        }
      ]
    },
    {
      "cell_type": "markdown",
      "source": [
        "### Entendendo cada coluna da Transaction"
      ],
      "metadata": {
        "id": "TQ5yYMR9waWc"
      }
    },
    {
      "cell_type": "code",
      "source": [
        "def executa_query_transaction_por_coluna(coluna):\n",
        "  query = f\"\"\"\n",
        "            select count(distinct {coluna}) as quantidade_distinta_{coluna}\n",
        "            from tb_transactions\n",
        "           \"\"\"\n",
        "  spark.sql(query).show()\n",
        "\n",
        "for i in df_transactions.columns:\n",
        "    print(i)\n",
        "    executa_query_transaction_por_coluna(i)"
      ],
      "metadata": {
        "colab": {
          "base_uri": "https://localhost:8080/"
        },
        "id": "7OnU5Hs6buXa",
        "outputId": "7582ce1f-c7b9-4bc7-b8fe-5005df2fc5a5"
      },
      "execution_count": null,
      "outputs": [
        {
          "output_type": "stream",
          "name": "stdout",
          "text": [
            "msno\n",
            "+------------------------+\n",
            "|quantidade_distinta_msno|\n",
            "+------------------------+\n",
            "|                 2363626|\n",
            "+------------------------+\n",
            "\n",
            "payment_method_id\n",
            "+-------------------------------------+\n",
            "|quantidade_distinta_payment_method_id|\n",
            "+-------------------------------------+\n",
            "|                                   40|\n",
            "+-------------------------------------+\n",
            "\n",
            "payment_plan_days\n",
            "+-------------------------------------+\n",
            "|quantidade_distinta_payment_plan_days|\n",
            "+-------------------------------------+\n",
            "|                                   37|\n",
            "+-------------------------------------+\n",
            "\n",
            "plan_list_price\n",
            "+-----------------------------------+\n",
            "|quantidade_distinta_plan_list_price|\n",
            "+-----------------------------------+\n",
            "|                                 51|\n",
            "+-----------------------------------+\n",
            "\n",
            "actual_amount_paid\n",
            "+--------------------------------------+\n",
            "|quantidade_distinta_actual_amount_paid|\n",
            "+--------------------------------------+\n",
            "|                                    57|\n",
            "+--------------------------------------+\n",
            "\n",
            "is_auto_renew\n",
            "+---------------------------------+\n",
            "|quantidade_distinta_is_auto_renew|\n",
            "+---------------------------------+\n",
            "|                                2|\n",
            "+---------------------------------+\n",
            "\n",
            "transaction_date\n",
            "+------------------------------------+\n",
            "|quantidade_distinta_transaction_date|\n",
            "+------------------------------------+\n",
            "|                                 790|\n",
            "+------------------------------------+\n",
            "\n",
            "membership_expire_date\n",
            "+------------------------------------------+\n",
            "|quantidade_distinta_membership_expire_date|\n",
            "+------------------------------------------+\n",
            "|                                      1534|\n",
            "+------------------------------------------+\n",
            "\n",
            "is_cancel\n",
            "+-----------------------------+\n",
            "|quantidade_distinta_is_cancel|\n",
            "+-----------------------------+\n",
            "|                            2|\n",
            "+-----------------------------+\n",
            "\n",
            "safra\n",
            "+-------------------------+\n",
            "|quantidade_distinta_safra|\n",
            "+-------------------------+\n",
            "|                       26|\n",
            "+-------------------------+\n",
            "\n"
          ]
        }
      ]
    },
    {
      "cell_type": "markdown",
      "source": [
        "- 40 meios de pagamento\n",
        "- 37 tamanhos de planos diferentes, (qnt de dias acumulados ativos?)\n",
        "- 26 safras (201501 a 201702)"
      ],
      "metadata": {
        "id": "GtMsx1l4dQlI"
      }
    },
    {
      "cell_type": "markdown",
      "source": [
        "### Entendendo os preços dos planos"
      ],
      "metadata": {
        "id": "HtC9EniFrOiK"
      }
    },
    {
      "cell_type": "code",
      "source": [
        "(spark.sql(\n",
        "    \"\"\"\n",
        "    select min(plan_list_price), max(plan_list_price),\n",
        "           min(actual_amount_paid), max(actual_amount_paid),\n",
        "           SUM(CASE WHEN plan_list_price = actual_amount_paid THEN 1 ELSE 0 END) AS qnt_iguais\n",
        "    from tb_transactions\n",
        "    \"\"\"\n",
        "  ).show()\n",
        ")"
      ],
      "metadata": {
        "colab": {
          "base_uri": "https://localhost:8080/"
        },
        "id": "Hnv51ZvEcU-z",
        "outputId": "a8c49284-6d0b-4659-de67-e5c7be4579f1"
      },
      "execution_count": null,
      "outputs": [
        {
          "output_type": "stream",
          "name": "stdout",
          "text": [
            "+--------------------+--------------------+-----------------------+-----------------------+----------+\n",
            "|min(plan_list_price)|max(plan_list_price)|min(actual_amount_paid)|max(actual_amount_paid)|qnt_iguais|\n",
            "+--------------------+--------------------+-----------------------+-----------------------+----------+\n",
            "|                 0.0|              2000.0|                    0.0|                 2000.0|  19114847|\n",
            "+--------------------+--------------------+-----------------------+-----------------------+----------+\n",
            "\n"
          ]
        }
      ]
    },
    {
      "cell_type": "code",
      "source": [
        "df_transactions.describe('plan_list_price', 'actual_amount_paid').show()"
      ],
      "metadata": {
        "colab": {
          "base_uri": "https://localhost:8080/"
        },
        "id": "eG_LTFt6vjxM",
        "outputId": "a220cc75-078f-47e3-8fd1-b8dcf49a56e4"
      },
      "execution_count": null,
      "outputs": [
        {
          "output_type": "stream",
          "name": "stdout",
          "text": [
            "+-------+------------------+------------------+\n",
            "|summary|   plan_list_price|actual_amount_paid|\n",
            "+-------+------------------+------------------+\n",
            "|  count|          20712225|          20712225|\n",
            "|   mean|140.24088353617248|142.83468555406287|\n",
            "| stddev|132.27679209056055|133.60944276809502|\n",
            "|    min|               0.0|               0.0|\n",
            "|    max|            2000.0|            2000.0|\n",
            "+-------+------------------+------------------+\n",
            "\n"
          ]
        }
      ]
    },
    {
      "cell_type": "code",
      "source": [
        "# vendo quais sao os valores que mais se repetem na coluna plan_list_price e actual_amount_paid\n",
        "(spark.sql(\n",
        "    \"\"\"\n",
        "      select safra,\n",
        "             plan_list_price,\n",
        "             payment_plan_days\n",
        "      from tb_transactions\n",
        "      group by 1, 2, 3\n",
        "      order by 1 desc\n",
        "      limit 10\n",
        "    \"\"\"\n",
        "  ).show()\n",
        ")\n",
        "\n",
        "(spark.sql(\n",
        "    \"\"\"\n",
        "      select safra,\n",
        "             actual_amount_paid,\n",
        "             payment_plan_days\n",
        "      from tb_transactions\n",
        "      group by 1, 2, 3\n",
        "      order by 1 desc\n",
        "      limit 10\n",
        "    \"\"\"\n",
        "  ).show()\n",
        ")"
      ],
      "metadata": {
        "colab": {
          "base_uri": "https://localhost:8080/"
        },
        "id": "Np0YDNnxfr12",
        "outputId": "dfc9ff00-811f-4d70-d851-1e6cc1ae7209"
      },
      "execution_count": null,
      "outputs": [
        {
          "output_type": "stream",
          "name": "stdout",
          "text": [
            "+------+---------------+-----------------+\n",
            "| safra|plan_list_price|payment_plan_days|\n",
            "+------+---------------+-----------------+\n",
            "|201702|            119|               30|\n",
            "|201702|              0|              120|\n",
            "|201702|              0|                3|\n",
            "|201702|            180|               45|\n",
            "|201702|             35|                7|\n",
            "|201702|              0|                7|\n",
            "|201702|            150|               30|\n",
            "|201702|              0|              195|\n",
            "|201702|             99|               30|\n",
            "|201702|            100|               30|\n",
            "+------+---------------+-----------------+\n",
            "\n",
            "+------+------------------+-----------------+\n",
            "| safra|actual_amount_paid|payment_plan_days|\n",
            "+------+------------------+-----------------+\n",
            "|201702|               119|               30|\n",
            "|201702|                 0|              120|\n",
            "|201702|                 0|                3|\n",
            "|201702|               180|               45|\n",
            "|201702|                35|                7|\n",
            "|201702|                 0|                7|\n",
            "|201702|               150|               30|\n",
            "|201702|                 0|              195|\n",
            "|201702|                99|               30|\n",
            "|201702|               100|               30|\n",
            "+------+------------------+-----------------+\n",
            "\n"
          ]
        }
      ]
    },
    {
      "cell_type": "code",
      "source": [
        "(spark.sql(\n",
        "    \"\"\"\n",
        "      select safra,\n",
        "             plan_list_price,\n",
        "             payment_plan_days,\n",
        "             count(plan_list_price) as qnt_plan_list_price\n",
        "      from tb_transactions\n",
        "      group by 1, 2, 3\n",
        "      order by 4 desc\n",
        "      limit 10\n",
        "    \"\"\"\n",
        "  ).show()\n",
        ")"
      ],
      "metadata": {
        "colab": {
          "base_uri": "https://localhost:8080/"
        },
        "id": "xF002EEiiuis",
        "outputId": "63a4c0e1-8111-4fe5-a479-cd456cadca10"
      },
      "execution_count": null,
      "outputs": [
        {
          "output_type": "stream",
          "name": "stdout",
          "text": [
            "+------+---------------+-----------------+-------------------+\n",
            "| safra|plan_list_price|payment_plan_days|qnt_plan_list_price|\n",
            "+------+---------------+-----------------+-------------------+\n",
            "|201512|            149|               30|             596373|\n",
            "|201511|            149|               30|             580714|\n",
            "|201601|            149|               30|             555415|\n",
            "|201508|            149|               30|             496022|\n",
            "|201509|            149|               30|             486624|\n",
            "|201608|            149|               30|             486141|\n",
            "|201507|            149|               30|             484580|\n",
            "|201609|            149|               30|             476899|\n",
            "|201506|            149|               30|             470793|\n",
            "|201607|            149|               30|             470265|\n",
            "+------+---------------+-----------------+-------------------+\n",
            "\n"
          ]
        }
      ]
    },
    {
      "cell_type": "markdown",
      "source": [
        "possiveis valores dos planos\n",
        "\n",
        "- 180 -\n",
        "- 150 -\n",
        "- 149 -\n",
        "- 129 -\n",
        "- 119 -\n",
        "- 100 -\n",
        "- 99 -"
      ],
      "metadata": {
        "id": "vnNWslOthS23"
      }
    },
    {
      "cell_type": "markdown",
      "source": [
        "### Vendo se há valores missing"
      ],
      "metadata": {
        "id": "MsRj6sS5Ka2W"
      }
    },
    {
      "cell_type": "code",
      "source": [
        "(spark.sql(\n",
        "    \"\"\"\n",
        "      SELECT\n",
        "        SUM(CASE WHEN msno IS NULL THEN 1 ELSE 0 END) AS msno,\n",
        "        SUM(CASE WHEN payment_method_id IS NULL THEN 1 ELSE 0 END) AS payment_method_id,\n",
        "        SUM(CASE WHEN payment_plan_days IS NULL THEN 1 ELSE 0 END) AS payment_plan_days,\n",
        "        SUM(CASE WHEN plan_list_price IS NULL THEN 1 ELSE 0 END) AS plan_list_price,\n",
        "        SUM(CASE WHEN actual_amount_paid IS NULL THEN 1 ELSE 0 END) AS actual_amount_paid,\n",
        "        SUM(CASE WHEN is_auto_renew IS NULL THEN 1 ELSE 0 END) AS is_auto_renew,\n",
        "        SUM(CASE WHEN transaction_date IS NULL THEN 1 ELSE 0 END) AS transaction_date,\n",
        "        SUM(CASE WHEN membership_expire_date IS NULL THEN 1 ELSE 0 END) AS membership_expire_date,\n",
        "        SUM(CASE WHEN is_cancel IS NULL THEN 1 ELSE 0 END) AS is_cancel,\n",
        "        SUM(CASE WHEN safra IS NULL THEN 1 ELSE 0 END) AS safra\n",
        "      FROM tb_transactions\n",
        "    \"\"\"\n",
        "  ).show()\n",
        ")"
      ],
      "metadata": {
        "colab": {
          "base_uri": "https://localhost:8080/"
        },
        "id": "JwWSG-OtKaQE",
        "outputId": "371b3574-24d0-480f-b05f-d0ab1db29dbd"
      },
      "execution_count": null,
      "outputs": [
        {
          "output_type": "stream",
          "name": "stdout",
          "text": [
            "+----+-----------------+-----------------+---------------+------------------+-------------+----------------+----------------------+---------+-----+\n",
            "|msno|payment_method_id|payment_plan_days|plan_list_price|actual_amount_paid|is_auto_renew|transaction_date|membership_expire_date|is_cancel|safra|\n",
            "+----+-----------------+-----------------+---------------+------------------+-------------+----------------+----------------------+---------+-----+\n",
            "|   0|                0|                0|              0|                 0|            0|               0|                     0|        0|    0|\n",
            "+----+-----------------+-----------------+---------------+------------------+-------------+----------------+----------------------+---------+-----+\n",
            "\n"
          ]
        }
      ]
    },
    {
      "cell_type": "markdown",
      "source": [
        "### Entendendo a quantidade de clientes por safra"
      ],
      "metadata": {
        "id": "IeIPFwOwO-6p"
      }
    },
    {
      "cell_type": "code",
      "source": [
        "(spark.sql(\n",
        "    \"\"\"\n",
        "      select safra,\n",
        "             count(msno) as qnt_msno,\n",
        "             count(distinct msno) as qnt_distinct_msno,\n",
        "             case when qnt_msno = qnt_distinct_msno then 1 else 0 end as check_colunas\n",
        "      from tb_transactions\n",
        "      group by 1\n",
        "      order by 4 asc\n",
        "    \"\"\"\n",
        "  ).show()\n",
        ")"
      ],
      "metadata": {
        "colab": {
          "base_uri": "https://localhost:8080/"
        },
        "id": "TZYC6ttoPC9g",
        "outputId": "048d2d41-0d2a-4875-957b-d1248390a832"
      },
      "execution_count": null,
      "outputs": [
        {
          "output_type": "stream",
          "name": "stdout",
          "text": [
            "+------+--------+-----------------+-------------+\n",
            "| safra|qnt_msno|qnt_distinct_msno|check_colunas|\n",
            "+------+--------+-----------------+-------------+\n",
            "|201505|  571552|           571552|            1|\n",
            "|201701|  988576|           988576|            1|\n",
            "|201702|  885566|           885566|            1|\n",
            "|201501|  548792|           548792|            1|\n",
            "|201509|  714610|           714610|            1|\n",
            "|201609|  982640|           982640|            1|\n",
            "|201512|  861107|           861107|            1|\n",
            "|201604|  774169|           774169|            1|\n",
            "|201511|  820345|           820345|            1|\n",
            "|201611| 1094941|          1094941|            1|\n",
            "|201502|  545303|           545303|            1|\n",
            "|201503|  626488|           626488|            1|\n",
            "|201603|  775469|           775469|            1|\n",
            "|201508|  705975|           705975|            1|\n",
            "|201607|  924032|           924032|            1|\n",
            "|201610| 1033898|          1033898|            1|\n",
            "|201606|  804729|           804729|            1|\n",
            "|201507|  665280|           665280|            1|\n",
            "|201601|  856716|           856716|            1|\n",
            "|201506|  775737|           775737|            1|\n",
            "+------+--------+-----------------+-------------+\n",
            "only showing top 20 rows\n",
            "\n"
          ]
        }
      ]
    },
    {
      "cell_type": "markdown",
      "source": [
        "nao se repetem dentro de cada safra"
      ],
      "metadata": {
        "id": "nHj4sz0APfzQ"
      }
    },
    {
      "cell_type": "markdown",
      "source": [
        "### Observações e questionamentos\n",
        "\n",
        "  - Data de vencimento do plano em 1970?\n",
        "  - Transações de 201501 a 201702\n",
        "  - 40 meios de pagamentos\n",
        "  - Maior parte dos registros de preços dos planos, tanto Amount quanto por plano estão com valores iguais.\n",
        "  - Tipos dos dados estão atrapalhando as consultas em cima dos dados\n",
        "  - Coluna is_cancel: entender como ela pode ajudar no nosso contexto\n",
        "  - Não há missing"
      ],
      "metadata": {
        "id": "qMY4uOMYH7Ci"
      }
    },
    {
      "cell_type": "markdown",
      "source": [
        "## 3 - Entendendo a User_logs"
      ],
      "metadata": {
        "id": "sBBgtjEUq72_"
      }
    },
    {
      "cell_type": "markdown",
      "source": [
        "### Primeira visão"
      ],
      "metadata": {
        "id": "NXIS1Fku7Ucn"
      }
    },
    {
      "cell_type": "code",
      "source": [
        "spark.sql('select * from tb_userlogs LIMIT 10').show()"
      ],
      "metadata": {
        "colab": {
          "base_uri": "https://localhost:8080/"
        },
        "id": "uNuSsq-37Xer",
        "outputId": "314719ba-0c66-45b6-c547-9d654ab099f5"
      },
      "execution_count": null,
      "outputs": [
        {
          "output_type": "stream",
          "name": "stdout",
          "text": [
            "+--------------------+------+------+------+------+-------+-------+-------+------------------+\n",
            "|                msno| safra|num_25|num_50|num_75|num_985|num_100|num_unq|        total_secs|\n",
            "+--------------------+------+------+------+------+-------+-------+-------+------------------+\n",
            "|SwlrSivYHoKF9V5wm...|201701| 121.0|  28.0|  14.0|   29.0|  704.0|  827.0|        184606.903|\n",
            "|rE5wSmHEF1Dhu55zh...|201605|  26.0|   2.0|   5.0|    6.0|  462.0|  256.0|        119439.485|\n",
            "|hx+cyaQ/Jcdr/Z5fo...|201611| 161.0|  71.0|  49.0|   34.0|  668.0|  891.0|        204791.242|\n",
            "|53QW6B70J23X2UCvx...|201502|  37.0|   9.0|   3.0|    9.0|  408.0|  447.0|        101186.041|\n",
            "|/0S1N/oRyxGLZlzxn...|201506| 205.0|  49.0|  23.0|   21.0|  225.0|  489.0|         69957.524|\n",
            "|qB/zteXKaOk3hzFCo...|201509|  52.0|  10.0|  10.0|   20.0|  308.0|  264.0|         81703.877|\n",
            "|7btpXOqzA1ggOggSW...|201610| 159.0|  53.0|  30.0|   43.0| 1075.0|  881.0|305353.79099999997|\n",
            "|kgEhriAqTydVKQ1xn...|201609|  88.0|  13.0|  14.0|   13.0|  588.0|  325.0|        159511.737|\n",
            "|8uQ6M7OzdWsuzo0BR...|201509|  62.0|  27.0|  15.0|    6.0| 1389.0| 1427.0|324691.01099999994|\n",
            "|T2gUhlBhFMoSFA9jF...|201702|  36.0|  23.0|   5.0|    9.0|  216.0|  241.0| 56296.34000000001|\n",
            "+--------------------+------+------+------+------+-------+-------+-------+------------------+\n",
            "\n"
          ]
        }
      ]
    },
    {
      "cell_type": "markdown",
      "source": [
        "O tipo dos dados nessa tabela estão corretos, para construção da bronze nao sendo necessários essa alteração. Nenhuma anomalia observada de primeira vista."
      ],
      "metadata": {
        "id": "_nc6vmVkAO1O"
      }
    },
    {
      "cell_type": "markdown",
      "source": [
        "### Vendo mins e maxs da colunan safra"
      ],
      "metadata": {
        "id": "VAt4QofVAfTM"
      }
    },
    {
      "cell_type": "code",
      "source": [
        "df_userlogs = (df_userlogs.withColumn('num_25', col('num_25').cast('float'))\n",
        "                          .withColumn('num_50', col('num_50').cast('float'))\n",
        "                          .withColumn('num_75', col('num_75').cast('float'))\n",
        "                          .withColumn('num_985', col('num_985').cast('float'))\n",
        "                          .withColumn('num_100', col('num_100').cast('float'))\n",
        "                          .withColumn('num_unq', col('num_unq').cast('float'))\n",
        "                          .withColumn('total_secs', col('total_secs').cast('float'))\n",
        "              )\n",
        "df_userlogs.createOrReplaceTempView('tb_userlogs')"
      ],
      "metadata": {
        "id": "u6v4K_FiKat9"
      },
      "execution_count": null,
      "outputs": []
    },
    {
      "cell_type": "code",
      "source": [
        "(spark.sql(\n",
        "    \"\"\"\n",
        "      select min(safra), max(safra)\n",
        "      from tb_userlogs\n",
        "    \"\"\"\n",
        "  ).show()\n",
        ")"
      ],
      "metadata": {
        "colab": {
          "base_uri": "https://localhost:8080/"
        },
        "id": "wLZs0jZJApMn",
        "outputId": "fea8616c-8c92-48da-e2b6-82c76ee985f5"
      },
      "execution_count": null,
      "outputs": [
        {
          "output_type": "stream",
          "name": "stdout",
          "text": [
            "+----------+----------+\n",
            "|min(safra)|max(safra)|\n",
            "+----------+----------+\n",
            "|    201501|    201702|\n",
            "+----------+----------+\n",
            "\n"
          ]
        }
      ]
    },
    {
      "cell_type": "markdown",
      "source": [
        "### Entendendo cada coluna da User_logs"
      ],
      "metadata": {
        "id": "0EP-3wQAwgMU"
      }
    },
    {
      "cell_type": "markdown",
      "source": [
        "Aqui temos somente variaveis númericas, nenhuma categorica, nao tendo importância ver a distinção dos valores. por isso aqui farei somente o describe."
      ],
      "metadata": {
        "id": "LN4NRP6t8AXb"
      }
    },
    {
      "cell_type": "code",
      "source": [
        "df_userlogs.describe().show()"
      ],
      "metadata": {
        "colab": {
          "base_uri": "https://localhost:8080/"
        },
        "id": "jBlr4gfpwVEq",
        "outputId": "a67f6077-660d-49d7-fd21-6293a4626c8e"
      },
      "execution_count": null,
      "outputs": [
        {
          "output_type": "stream",
          "name": "stdout",
          "text": [
            "+-------+--------------------+-----------------+-----------------+-----------------+------------------+------------------+-----------------+------------------+--------------------+\n",
            "|summary|                msno|            safra|           num_25|           num_50|            num_75|           num_985|          num_100|           num_unq|          total_secs|\n",
            "+-------+--------------------+-----------------+-----------------+-----------------+------------------+------------------+-----------------+------------------+--------------------+\n",
            "|  count|            26758971|         26758971|         26758971|         26758971|          26758971|          26758971|         26758971|          26758971|            26758971|\n",
            "|   mean|                null|201572.0403868669|95.42601163549973|24.03566975725636|14.903521327483034|16.538671797207748|450.1598216538297|440.91930526775485|-2.11717488634742...|\n",
            "| stddev|                null|61.87618074610147|175.2882595645691|39.12554591867812|  22.6267215132517|37.409156681476354|725.3139035411604|  590.605957174868|6.839043702349416E14|\n",
            "|    min|+++4vcS9aMH7KWdfh...|           201501|              0.0|              0.0|               0.0|               0.0|              0.0|               1.0|-2.39807672957245...|\n",
            "|    max|zzzyOgMk9MljCerbC...|           201702|         111864.0|           8875.0|            3485.0|           37698.0|         196741.0|           32706.0|9.223372037135594E15|\n",
            "+-------+--------------------+-----------------+-----------------+-----------------+------------------+------------------+-----------------+------------------+--------------------+\n",
            "\n"
          ]
        }
      ]
    },
    {
      "cell_type": "markdown",
      "source": [
        "total de segundos negativos?"
      ],
      "metadata": {
        "id": "wcn75EyhE0HK"
      }
    },
    {
      "cell_type": "markdown",
      "source": [
        "### Entendento o total de segundos ouvidos"
      ],
      "metadata": {
        "id": "vnjWqY8u9kT-"
      }
    },
    {
      "cell_type": "code",
      "source": [
        "(spark.sql(\n",
        "    \"\"\"\n",
        "      select total_secs\n",
        "      from tb_userlogs\n",
        "      limit 10\n",
        "    \"\"\"\n",
        "  ).show()\n",
        ")"
      ],
      "metadata": {
        "colab": {
          "base_uri": "https://localhost:8080/"
        },
        "id": "IWKmr1Ft9rkG",
        "outputId": "931bbd6e-e15e-48f9-b45f-f6a6dbf866ae"
      },
      "execution_count": null,
      "outputs": [
        {
          "output_type": "stream",
          "name": "stdout",
          "text": [
            "+----------+\n",
            "|total_secs|\n",
            "+----------+\n",
            "|  184606.9|\n",
            "|119439.484|\n",
            "| 204791.23|\n",
            "| 101186.04|\n",
            "|  69957.52|\n",
            "| 81703.875|\n",
            "| 305353.78|\n",
            "| 159511.73|\n",
            "|  324691.0|\n",
            "|  56296.34|\n",
            "+----------+\n",
            "\n"
          ]
        }
      ]
    },
    {
      "cell_type": "markdown",
      "source": [
        "padronizar 2 casas depois da virgula para melhorar a visualização"
      ],
      "metadata": {
        "id": "ust44VS5H7ou"
      }
    },
    {
      "cell_type": "code",
      "source": [
        "(spark.sql(\n",
        "    \"\"\"\n",
        "      select round(total_secs, 2)\n",
        "      from tb_userlogs\n",
        "      limit 10\n",
        "    \"\"\"\n",
        "  ).show()\n",
        ")"
      ],
      "metadata": {
        "colab": {
          "base_uri": "https://localhost:8080/"
        },
        "id": "OWsAUNYiIBbv",
        "outputId": "849786fd-b418-4109-fe54-35c065351c0d"
      },
      "execution_count": null,
      "outputs": [
        {
          "output_type": "stream",
          "name": "stdout",
          "text": [
            "+--------------------+\n",
            "|round(total_secs, 2)|\n",
            "+--------------------+\n",
            "|            184606.9|\n",
            "|           119439.48|\n",
            "|           204791.23|\n",
            "|           101186.04|\n",
            "|            69957.52|\n",
            "|            81703.88|\n",
            "|           305353.78|\n",
            "|           159511.73|\n",
            "|            324691.0|\n",
            "|            56296.34|\n",
            "+--------------------+\n",
            "\n"
          ]
        }
      ]
    },
    {
      "cell_type": "code",
      "source": [
        "(spark.sql(\n",
        "    \"\"\"\n",
        "      select min(round(total_secs, 2)),\n",
        "             max(round(total_secs, 2))\n",
        "      from tb_userlogs\n",
        "      limit 10\n",
        "    \"\"\"\n",
        "  ).show()\n",
        ")"
      ],
      "metadata": {
        "colab": {
          "base_uri": "https://localhost:8080/"
        },
        "id": "KnxVnIMTIU6S",
        "outputId": "e54a19bc-88a4-4b70-bf64-bfc4ddae8d28"
      },
      "execution_count": null,
      "outputs": [
        {
          "output_type": "stream",
          "name": "stdout",
          "text": [
            "+-------------------------+-------------------------+\n",
            "|min(round(total_secs, 2))|max(round(total_secs, 2))|\n",
            "+-------------------------+-------------------------+\n",
            "|           -2.39807678E17|             9.2233725E15|\n",
            "+-------------------------+-------------------------+\n",
            "\n"
          ]
        }
      ]
    },
    {
      "cell_type": "code",
      "source": [
        "#segudos para dias\n",
        "valor = 9.2233725E15\n",
        "\n",
        "dias = valor / (60*60*24)\n",
        "\n",
        "print(dias, dias/365)"
      ],
      "metadata": {
        "colab": {
          "base_uri": "https://localhost:8080/"
        },
        "id": "-i6FW3OsWFZI",
        "outputId": "b1b773bf-6e7e-4c03-a597-dec5635dea3f"
      },
      "execution_count": null,
      "outputs": [
        {
          "output_type": "stream",
          "name": "stdout",
          "text": [
            "106751996527.77777 292471223.3637747\n"
          ]
        }
      ]
    },
    {
      "cell_type": "markdown",
      "source": [
        "Não é possivel ouvir 106751996527 dias de musica, 292471223 anos, e nao existe valores de tempo negativos."
      ],
      "metadata": {
        "id": "W-s3BbFOZJSa"
      }
    },
    {
      "cell_type": "markdown",
      "source": [
        "considerando que um ano comum tem 31.536.000 de segundos\n",
        "vejamos quantos usuarios ouviram mais de um ano em segundos. Valor improvavel pois, segundo uma estatistica nao confirmada sobre o spotify no reddit, um usuario compartilhou que ouviu 116.262 minutos, que da 6.975.720 segundos."
      ],
      "metadata": {
        "id": "x-KzyOeHMEKu"
      }
    },
    {
      "cell_type": "code",
      "source": [
        "um_ano_em_segundos = 1 * 365 * 24 * 60 * 60 # Anos * Dias * Horas * Minutos * Segundos\n",
        "print(um_ano_em_segundos)\n",
        "# Contar quantos total_secs tem para baixo de zero, e acima do dez_anos_em_segundos\n",
        "\n",
        "(spark.sql(\n",
        "    \"\"\"\n",
        "      select count(total_secs) as negativos\n",
        "      from tb_userlogs\n",
        "      where total_secs < 0\n",
        "    \"\"\"\n",
        "  ).show()\n",
        ")\n",
        "\n",
        "(spark.sql(\n",
        "    f\"\"\"\n",
        "      select count(total_secs) as acima_de_dez_anos\n",
        "      from tb_userlogs\n",
        "      where total_secs >= {um_ano_em_segundos}\n",
        "    \"\"\"\n",
        "  ).show()\n",
        ")"
      ],
      "metadata": {
        "colab": {
          "base_uri": "https://localhost:8080/"
        },
        "id": "pBBoY8sTMJlz",
        "outputId": "8dc2ed62-df3e-406b-e6b9-3c8987959fa9"
      },
      "execution_count": null,
      "outputs": [
        {
          "output_type": "stream",
          "name": "stdout",
          "text": [
            "31536000\n",
            "+---------+\n",
            "|negativos|\n",
            "+---------+\n",
            "|    42346|\n",
            "+---------+\n",
            "\n",
            "+-----------------+\n",
            "|acima_de_dez_anos|\n",
            "+-----------------+\n",
            "|              155|\n",
            "+-----------------+\n",
            "\n"
          ]
        }
      ]
    },
    {
      "cell_type": "markdown",
      "source": [
        "calcular os quartis para ver a quantidade de valores em cada quartil"
      ],
      "metadata": {
        "id": "HGRAORjXXiqG"
      }
    },
    {
      "cell_type": "code",
      "source": [
        "# pegando o 1, 2, 3 e 4 quartil da coluna total_Secs,e  vendo a quantidade por intervalos\n",
        "\n",
        "(spark.sql(\n",
        "    \"\"\"\n",
        "    WITH quartis AS (\n",
        "        SELECT\n",
        "            percentile_approx(total_secs, 0.25) AS q1,\n",
        "            percentile_approx(total_secs, 0.5) AS q2,\n",
        "            percentile_approx(total_secs, 0.75) AS q3,\n",
        "            percentile_approx(total_secs, 1) AS q4\n",
        "        FROM tb_userlogs\n",
        "    )\n",
        "    SELECT\n",
        "        SUM(CASE WHEN total_secs < 0 THEN 1 ELSE 0 END) AS negativos,\n",
        "        SUM(CASE WHEN total_secs >= 0 AND total_secs < (SELECT q1 FROM quartis) THEN 1 ELSE 0 END) AS faixa_0_q1,\n",
        "        SUM(CASE WHEN total_secs >= (SELECT q1 FROM quartis) AND total_secs < (SELECT q2 FROM quartis) THEN 1 ELSE 0 END) AS faixa_q1_q2,\n",
        "        SUM(CASE WHEN total_secs >= (SELECT q2 FROM quartis) AND total_secs < (SELECT q3 FROM quartis) THEN 1 ELSE 0 END) AS faixa_q2_q3,\n",
        "        SUM(CASE WHEN total_secs >= (SELECT q3 FROM quartis) AND total_secs <= (SELECT q4 FROM quartis) THEN 1 ELSE 0 END) AS faixa_q3_q4\n",
        "    FROM tb_userlogs\n",
        "    \"\"\"\n",
        "  ).show()\n",
        ")\n"
      ],
      "metadata": {
        "colab": {
          "base_uri": "https://localhost:8080/"
        },
        "id": "tl_VM-pUR7nR",
        "outputId": "d856745e-bde8-4984-aa13-c646ac707de3"
      },
      "execution_count": null,
      "outputs": [
        {
          "output_type": "stream",
          "name": "stdout",
          "text": [
            "+---------+----------+-----------+-----------+-----------+\n",
            "|negativos|faixa_0_q1|faixa_q1_q2|faixa_q2_q3|faixa_q3_q4|\n",
            "+---------+----------+-----------+-----------+-----------+\n",
            "|    42346|   6646952|    6689487|    6689509|    6690677|\n",
            "+---------+----------+-----------+-----------+-----------+\n",
            "\n"
          ]
        }
      ]
    },
    {
      "cell_type": "markdown",
      "source": [
        "### Aplicando a regra de Turkey para identificar os outliers"
      ],
      "metadata": {
        "id": "dQiiowtdaPG5"
      }
    },
    {
      "cell_type": "code",
      "source": [
        "quartis = (spark.sql(\n",
        "    \"\"\"\n",
        "      SELECT\n",
        "          percentile_approx(total_secs, 0.25) AS q1,\n",
        "          percentile_approx(total_secs, 0.75) AS q3\n",
        "      FROM tb_userlogs\n",
        "    \"\"\"\n",
        "))\n",
        "\n",
        "quartis.show()\n",
        "\n",
        "q1 = quartis.collect()[0]['q1']\n",
        "q3 = quartis.collect()[0]['q3']\n",
        "\n",
        "iqr = q3 - q1\n",
        "\n",
        "low_bound = q1 - 1.5 * iqr\n",
        "upper_bound = q3 + 1.5 * iqr\n",
        "\n",
        "print(f'low_bound: {low_bound}, upper_bound: {upper_bound}')"
      ],
      "metadata": {
        "colab": {
          "base_uri": "https://localhost:8080/"
        },
        "id": "6cnjnP8VneTH",
        "outputId": "2b993828-bc81-489c-aa59-14c764ecfe97"
      },
      "execution_count": null,
      "outputs": [
        {
          "output_type": "stream",
          "name": "stdout",
          "text": [
            "+---------+---------+\n",
            "|       q1|       q3|\n",
            "+---------+---------+\n",
            "|11021.553|152111.48|\n",
            "+---------+---------+\n",
            "\n",
            "low_bound: -200613.3447265625, upper_bound: 363746.3818359375\n"
          ]
        }
      ]
    },
    {
      "cell_type": "markdown",
      "source": [
        "o low_bound tem que ser 0, nao há valores negativos para tempo. consideraremos valores acima do upper_bound e abaixo de 0 como outliers."
      ],
      "metadata": {
        "id": "r51wooubqu3e"
      }
    },
    {
      "cell_type": "code",
      "source": [
        "# contar quantos outliers tem e quantos registros dentro da faixa esperada\n",
        "\n",
        "(spark.sql(\n",
        "    f\"\"\"\n",
        "      select count(total_secs) as total,\n",
        "             sum(case when total_secs < {low_bound} or total_secs > {upper_bound} then 1 else 0 end) as qnt_outliers,\n",
        "             sum(case when total_secs >= {low_bound} and total_secs <= {upper_bound} then 1 else 0 end) as qnt_dentro_da_faixa,\n",
        "             CONCAT(ROUND((qnt_dentro_da_faixa / total) * 100, 1), '%') as taxa_dentro,\n",
        "             CONCAT(ROUND((qnt_outliers / total) * 100, 1), '%') as taxa_de_outliers\n",
        "      from tb_userlogs\n",
        "    \"\"\"\n",
        "  ).show()\n",
        ")\n",
        "\n",
        "# mudando o low_bound para 0 e comparar\n",
        "(spark.sql(\n",
        "    f\"\"\"\n",
        "      select count(total_secs) as total,\n",
        "             sum(case when total_secs < 0 or total_secs > {upper_bound} then 1 else 0 end) as qnt_outliers,\n",
        "             sum(case when total_secs >= 0 and total_secs <= {upper_bound} then 1 else 0 end) as qnt_dentro_da_faixa,\n",
        "             CONCAT(ROUND((qnt_dentro_da_faixa / total) * 100, 1), '%') as taxa_dentro,\n",
        "             CONCAT(ROUND((qnt_outliers / total) * 100, 1), '%') as taxa_de_outliers\n",
        "      from tb_userlogs\n",
        "    \"\"\"\n",
        "  ).show()\n",
        ")\n"
      ],
      "metadata": {
        "colab": {
          "base_uri": "https://localhost:8080/"
        },
        "id": "fGRh1kp5uFG2",
        "outputId": "5cbe3b41-3c55-4e3b-d80e-f34a6b4a0bc4"
      },
      "execution_count": null,
      "outputs": [
        {
          "output_type": "stream",
          "name": "stdout",
          "text": [
            "+--------+------------+-------------------+-----------+----------------+\n",
            "|   total|qnt_outliers|qnt_dentro_da_faixa|taxa_dentro|taxa_de_outliers|\n",
            "+--------+------------+-------------------+-----------+----------------+\n",
            "|26758971|     1952284|           24806687|      92.7%|            7.3%|\n",
            "+--------+------------+-------------------+-----------+----------------+\n",
            "\n",
            "+--------+------------+-------------------+-----------+----------------+\n",
            "|   total|qnt_outliers|qnt_dentro_da_faixa|taxa_dentro|taxa_de_outliers|\n",
            "+--------+------------+-------------------+-----------+----------------+\n",
            "|26758971|     1952284|           24806687|      92.7%|            7.3%|\n",
            "+--------+------------+-------------------+-----------+----------------+\n",
            "\n"
          ]
        }
      ]
    },
    {
      "cell_type": "markdown",
      "source": [
        "nao teve diferença usar o low_bound e usar o zero."
      ],
      "metadata": {
        "id": "EaJl3ad5wt7W"
      }
    },
    {
      "cell_type": "code",
      "source": [
        "(spark.sql(\n",
        "    \"\"\"\n",
        "      select count(total_secs) as total_com_0\n",
        "      from tb_userlogs\n",
        "      where total_secs < 0\n",
        "    \"\"\"\n",
        "  ).show()\n",
        ")\n",
        "(spark.sql(\n",
        "    f\"\"\"\n",
        "      select count(total_secs) as total_com_low_bound\n",
        "      from tb_userlogs\n",
        "      where total_secs < {low_bound}\n",
        "    \"\"\"\n",
        "  ).show()\n",
        ")"
      ],
      "metadata": {
        "colab": {
          "base_uri": "https://localhost:8080/"
        },
        "id": "DGyejbwdwV8T",
        "outputId": "914d3949-aa14-4d62-dd28-8600ad866528"
      },
      "execution_count": null,
      "outputs": [
        {
          "output_type": "stream",
          "name": "stdout",
          "text": [
            "+-----------+\n",
            "|total_com_0|\n",
            "+-----------+\n",
            "|      42346|\n",
            "+-----------+\n",
            "\n",
            "+-------------------+\n",
            "|total_com_low_bound|\n",
            "+-------------------+\n",
            "|              42346|\n",
            "+-------------------+\n",
            "\n"
          ]
        }
      ]
    },
    {
      "cell_type": "markdown",
      "source": [
        "confirmando com a quantidade usando cada um."
      ],
      "metadata": {
        "id": "srW55cVNw0Bm"
      }
    },
    {
      "cell_type": "markdown",
      "source": [
        "### convertendo segundos para minutos para ver como as taxas e outliers para ver se melhora a interpretação dos numeros"
      ],
      "metadata": {
        "id": "uMBE_kDpz3Ad"
      }
    },
    {
      "cell_type": "code",
      "source": [
        "# converter a coluna total_secs de segundos para minutos 'total_min' para ficar mais interpretavel\n",
        "quartis_min = (spark.sql(\n",
        "    \"\"\"\n",
        "      with tb_total_min as (\n",
        "        select total_secs / 60 as total_min\n",
        "        from tb_userlogs\n",
        "      )\n",
        "      select percentile_approx(total_min, 0.25) AS q1,\n",
        "             percentile_approx(total_min, 0.75) AS q3\n",
        "      from tb_total_min\n",
        "    \"\"\"\n",
        "  ))\n",
        "\n",
        "quartis_min.show()\n",
        "\n",
        "q1 = quartis_min.collect()[0]['q1']\n",
        "q3 = quartis_min.collect()[0]['q3']\n",
        "\n",
        "iqr_min = q3 - q1\n",
        "\n",
        "low_bound_min = q1 - (1.5 * iqr_min)\n",
        "upper_bound_min = q3 + (1.5 * iqr_min)\n",
        "\n",
        "print(f'low_bound: {low_bound_min}, upper_bound: {upper_bound_min}')"
      ],
      "metadata": {
        "colab": {
          "base_uri": "https://localhost:8080/"
        },
        "id": "VY452g9dxO7C",
        "outputId": "1b27dd85-fe81-4389-d65a-07ad9e3f5a87"
      },
      "execution_count": null,
      "outputs": [
        {
          "output_type": "stream",
          "name": "stdout",
          "text": [
            "+------------------+-------------+\n",
            "|                q1|           q3|\n",
            "+------------------+-------------+\n",
            "|183.69254557291666|2535.19140625|\n",
            "+------------------+-------------+\n",
            "\n",
            "2351.4988606770835\n",
            "-3343.5557454427085\n",
            "6062.439697265625\n",
            "low_bound: -3343.5557454427085, upper_bound: 6062.439697265625\n"
          ]
        }
      ]
    },
    {
      "cell_type": "code",
      "source": [
        "# contar quantos outliers tem e quantos registros dentro da faixa esperada\n",
        "\n",
        "(spark.sql(\n",
        "    f\"\"\"\n",
        "      with tb_total_min as (\n",
        "        select total_secs / 60 as total_min\n",
        "        from tb_userlogs\n",
        "      )\n",
        "      select count(total_min) as total,\n",
        "             sum(case when total_min < {low_bound_min} or total_min > {upper_bound_min} then 1 else 0 end) as qnt_outliers,\n",
        "             sum(case when total_min >= {low_bound_min} and total_min <= {upper_bound_min} then 1 else 0 end) as qnt_dentro_da_faixa,\n",
        "             CONCAT(ROUND((qnt_dentro_da_faixa / total) * 100, 1), '%') as taxa_dentro,\n",
        "             CONCAT(ROUND((qnt_outliers / total) * 100, 1), '%') as taxa_de_outliers\n",
        "      from tb_total_min\n",
        "    \"\"\"\n",
        "  ).show()\n",
        ")\n",
        "\n",
        "# mudando o low_bound para 0 e comparar\n",
        "(spark.sql(\n",
        "    f\"\"\"\n",
        "      with tb_total_min as (\n",
        "        select total_secs / 60 as total_min\n",
        "        from tb_userlogs\n",
        "      )\n",
        "      select count(total_min) as total,\n",
        "             sum(case when total_min < 0 or total_min > {upper_bound_min} then 1 else 0 end) as qnt_outliers,\n",
        "             sum(case when total_min >= 0 and total_min <= {upper_bound_min} then 1 else 0 end) as qnt_dentro_da_faixa,\n",
        "             CONCAT(ROUND((qnt_dentro_da_faixa / total) * 100, 1), '%') as taxa_dentro,\n",
        "             CONCAT(ROUND((qnt_outliers / total) * 100, 1), '%') as taxa_de_outliers\n",
        "      from tb_total_min\n",
        "    \"\"\"\n",
        "  ).show()\n",
        ")\n"
      ],
      "metadata": {
        "colab": {
          "base_uri": "https://localhost:8080/"
        },
        "id": "VnYbm9yl3B0t",
        "outputId": "63903ca1-bc2d-409c-9dd9-a126f95be18e"
      },
      "execution_count": null,
      "outputs": [
        {
          "output_type": "stream",
          "name": "stdout",
          "text": [
            "+--------+------------+-------------------+-----------+----------------+\n",
            "|   total|qnt_outliers|qnt_dentro_da_faixa|taxa_dentro|taxa_de_outliers|\n",
            "+--------+------------+-------------------+-----------+----------------+\n",
            "|26758971|     1952284|           24806687|      92.7%|            7.3%|\n",
            "+--------+------------+-------------------+-----------+----------------+\n",
            "\n",
            "+--------+------------+-------------------+-----------+----------------+\n",
            "|   total|qnt_outliers|qnt_dentro_da_faixa|taxa_dentro|taxa_de_outliers|\n",
            "+--------+------------+-------------------+-----------+----------------+\n",
            "|26758971|     1952284|           24806687|      92.7%|            7.3%|\n",
            "+--------+------------+-------------------+-----------+----------------+\n",
            "\n"
          ]
        }
      ]
    },
    {
      "cell_type": "code",
      "source": [
        "(spark.sql(\n",
        "    f\"\"\"\n",
        "      with tb_total_min as (\n",
        "        select total_secs / 60 as total_min\n",
        "        from tb_userlogs\n",
        "      )\n",
        "      select count(total_min) as total_com_upper_bound\n",
        "      from tb_total_min\n",
        "      where total_min > {upper_bound_min}\n",
        "    \"\"\"\n",
        "  ).show()\n",
        ")"
      ],
      "metadata": {
        "colab": {
          "base_uri": "https://localhost:8080/"
        },
        "id": "XTKXh9Qt4J7U",
        "outputId": "4497271f-88d5-4893-c364-b605b56eb793"
      },
      "execution_count": null,
      "outputs": [
        {
          "output_type": "stream",
          "name": "stdout",
          "text": [
            "+-------------------+\n",
            "|total_com_low_bound|\n",
            "+-------------------+\n",
            "|            1909938|\n",
            "+-------------------+\n",
            "\n"
          ]
        }
      ]
    },
    {
      "cell_type": "code",
      "source": [
        "52284-9938 # valores menores que zero"
      ],
      "metadata": {
        "colab": {
          "base_uri": "https://localhost:8080/"
        },
        "id": "Q_C2rQtI4qDg",
        "outputId": "5eb79ab6-274f-443a-999d-969a7cb84166"
      },
      "execution_count": null,
      "outputs": [
        {
          "output_type": "execute_result",
          "data": {
            "text/plain": [
              "42346"
            ]
          },
          "metadata": {},
          "execution_count": 92
        }
      ]
    },
    {
      "cell_type": "markdown",
      "source": [
        "Vendo como a quantidade de outliers muda alterando o upper bound"
      ],
      "metadata": {
        "id": "xoQjF9HF9DA2"
      }
    },
    {
      "cell_type": "code",
      "source": [
        "# continuar editando aqui"
      ],
      "metadata": {
        "id": "7ICgTgnu-VJF"
      },
      "execution_count": null,
      "outputs": []
    },
    {
      "cell_type": "code",
      "source": [
        "for i in range(10000, 100001, 10000):\n",
        "  (spark.sql(\n",
        "      f\"\"\"\n",
        "        with tb_total_min as (\n",
        "          select total_secs / 60 as total_min\n",
        "          from tb_userlogs\n",
        "        )\n",
        "        select count(total_min) as total_min_com_{i}_de_bound\n",
        "        from tb_total_min\n",
        "        where total_min > {i}\n",
        "      \"\"\"\n",
        "    ).show()\n",
        "  )"
      ],
      "metadata": {
        "colab": {
          "base_uri": "https://localhost:8080/"
        },
        "id": "LpJoov2Y4Z2u",
        "outputId": "02dcd112-e67c-4336-e2c0-48d1336405ea"
      },
      "execution_count": null,
      "outputs": [
        {
          "output_type": "stream",
          "name": "stdout",
          "text": [
            "+----------------------------+\n",
            "|total_min_com_10000_de_bound|\n",
            "+----------------------------+\n",
            "|                      720366|\n",
            "+----------------------------+\n",
            "\n",
            "+----------------------------+\n",
            "|total_min_com_20000_de_bound|\n",
            "+----------------------------+\n",
            "|                       79777|\n",
            "+----------------------------+\n",
            "\n",
            "+----------------------------+\n",
            "|total_min_com_30000_de_bound|\n",
            "+----------------------------+\n",
            "|                       13793|\n",
            "+----------------------------+\n",
            "\n",
            "+----------------------------+\n",
            "|total_min_com_40000_de_bound|\n",
            "+----------------------------+\n",
            "|                        3960|\n",
            "+----------------------------+\n",
            "\n",
            "+----------------------------+\n",
            "|total_min_com_50000_de_bound|\n",
            "+----------------------------+\n",
            "|                        1413|\n",
            "+----------------------------+\n",
            "\n",
            "+----------------------------+\n",
            "|total_min_com_60000_de_bound|\n",
            "+----------------------------+\n",
            "|                        1168|\n",
            "+----------------------------+\n",
            "\n",
            "+----------------------------+\n",
            "|total_min_com_70000_de_bound|\n",
            "+----------------------------+\n",
            "|                         944|\n",
            "+----------------------------+\n",
            "\n",
            "+----------------------------+\n",
            "|total_min_com_80000_de_bound|\n",
            "+----------------------------+\n",
            "|                         822|\n",
            "+----------------------------+\n",
            "\n",
            "+----------------------------+\n",
            "|total_min_com_90000_de_bound|\n",
            "+----------------------------+\n",
            "|                         748|\n",
            "+----------------------------+\n",
            "\n",
            "+-----------------------------+\n",
            "|total_min_com_100000_de_bound|\n",
            "+-----------------------------+\n",
            "|                          664|\n",
            "+-----------------------------+\n",
            "\n"
          ]
        }
      ]
    },
    {
      "cell_type": "markdown",
      "source": [
        "#### Analisando em horas e dias ouvidos"
      ],
      "metadata": {
        "id": "vSMvPApX-Uil"
      }
    },
    {
      "cell_type": "code",
      "source": [
        "df_userlogs_total_secs_horas = df_userlogs_total_secs.withColumn('horas', col('total_secs') / 3600)\n",
        "df_userlogs_total_secs_horas.select(min('horas'), max('horas')).show()\n",
        "df_userlogs_total_secs_dias = df_userlogs_total_secs.withColumn('dias', col('total_secs') / 86400)\n",
        "df_userlogs_total_secs_dias.select(min('dias'), max('dias')).show()"
      ],
      "metadata": {
        "colab": {
          "base_uri": "https://localhost:8080/"
        },
        "id": "-blXfM2K-T_j",
        "outputId": "d499b15b-697b-4c58-c16c-d88def83be49"
      },
      "execution_count": null,
      "outputs": [
        {
          "output_type": "stream",
          "name": "stdout",
          "text": [
            "+--------------------+--------------------+\n",
            "|          min(horas)|          max(horas)|\n",
            "+--------------------+--------------------+\n",
            "|-6.66132424881237...|2.562047788093220...|\n",
            "+--------------------+--------------------+\n",
            "\n",
            "+--------------------+--------------------+\n",
            "|           min(dias)|           max(dias)|\n",
            "+--------------------+--------------------+\n",
            "|-2.77555177033848...|1.067519911705508...|\n",
            "+--------------------+--------------------+\n",
            "\n"
          ]
        }
      ]
    },
    {
      "cell_type": "markdown",
      "source": [
        "### Vendo se há valores missing"
      ],
      "metadata": {
        "id": "_uaEzuTmKlAi"
      }
    },
    {
      "cell_type": "code",
      "source": [
        "(spark.sql(\n",
        "    \"\"\"\n",
        "      SELECT\n",
        "        SUM(CASE WHEN msno IS NULL THEN 1 ELSE 0 END) AS msno,\n",
        "        SUM(CASE WHEN num_25 IS NULL THEN 1 ELSE 0 END) AS num_25,\n",
        "        SUM(CASE WHEN num_50 IS NULL THEN 1 ELSE 0 END) AS num_50,\n",
        "        SUM(CASE WHEN num_75 IS NULL THEN 1 ELSE 0 END) AS num_75,\n",
        "        SUM(CASE WHEN num_985 IS NULL THEN 1 ELSE 0 END) AS num,\n",
        "        SUM(CASE WHEN num_100 IS NULL THEN 1 ELSE 0 END) AS num_100,\n",
        "        SUM(CASE WHEN num_unq IS NULL THEN 1 ELSE 0 END) AS num_unq,\n",
        "        SUM(CASE WHEN total_secs IS NULL THEN 1 ELSE 0 END) AS total_secs\n",
        "      FROM tb_userlogs\n",
        "    \"\"\"\n",
        "  ).show()\n",
        ")"
      ],
      "metadata": {
        "colab": {
          "base_uri": "https://localhost:8080/"
        },
        "id": "D_iam0skKna3",
        "outputId": "99b17ef3-4942-4c92-84ca-46a518ce3071"
      },
      "execution_count": null,
      "outputs": [
        {
          "output_type": "stream",
          "name": "stdout",
          "text": [
            "+----+------+------+------+---+-------+-------+----------+\n",
            "|msno|num_25|num_50|num_75|num|num_100|num_unq|total_secs|\n",
            "+----+------+------+------+---+-------+-------+----------+\n",
            "|   0|     0|     0|     0|  0|      0|      0|         0|\n",
            "+----+------+------+------+---+-------+-------+----------+\n",
            "\n"
          ]
        }
      ]
    },
    {
      "cell_type": "markdown",
      "source": [
        "### Entendendo a repetição de cada cliente por safra"
      ],
      "metadata": {
        "id": "AoRrUogzNkyv"
      }
    },
    {
      "cell_type": "code",
      "source": [
        "(spark.sql(\n",
        "    \"\"\"\n",
        "      select safra,\n",
        "             count(msno) as qnt_msno,\n",
        "             count(distinct msno) as qnt_distinct_msno,\n",
        "             case when qnt_msno = qnt_distinct_msno then 1 else 0 end as check_colunas\n",
        "      from tb_userlogs\n",
        "      group by 1\n",
        "      order by 4 asc\n",
        "    \"\"\"\n",
        "  ).show()\n",
        ")"
      ],
      "metadata": {
        "colab": {
          "base_uri": "https://localhost:8080/"
        },
        "id": "mwCEWDGqNrJP",
        "outputId": "0c1e5608-92c3-48d6-b2fc-dec21faadfb1"
      },
      "execution_count": null,
      "outputs": [
        {
          "output_type": "stream",
          "name": "stdout",
          "text": [
            "+------+--------+-----------------+-------------+\n",
            "| safra|qnt_msno|qnt_distinct_msno|check_colunas|\n",
            "+------+--------+-----------------+-------------+\n",
            "|201505|  924216|           924216|            1|\n",
            "|201701| 1136003|          1136003|            1|\n",
            "|201702| 1114164|          1114164|            1|\n",
            "|201501|  937789|           937789|            1|\n",
            "|201509|  903194|           903194|            1|\n",
            "|201609| 1112601|          1112601|            1|\n",
            "|201512| 1039271|          1039271|            1|\n",
            "|201604| 1042406|          1042406|            1|\n",
            "|201511| 1041975|          1041975|            1|\n",
            "|201611| 1183088|          1183088|            1|\n",
            "|201502|  933040|           933040|            1|\n",
            "|201503|  944739|           944739|            1|\n",
            "|201603| 1048941|          1048941|            1|\n",
            "|201508|  920129|           920129|            1|\n",
            "|201607| 1102807|          1102807|            1|\n",
            "|201610| 1139089|          1139089|            1|\n",
            "|201606| 1081181|          1081181|            1|\n",
            "|201507|  871491|           871491|            1|\n",
            "|201601| 1076712|          1076712|            1|\n",
            "|201510| 1012953|          1012953|            1|\n",
            "+------+--------+-----------------+-------------+\n",
            "only showing top 20 rows\n",
            "\n"
          ]
        }
      ]
    },
    {
      "cell_type": "markdown",
      "source": [
        "cada safra cada os clientes nao se repetem."
      ],
      "metadata": {
        "id": "45y_QuRpO3NX"
      }
    },
    {
      "cell_type": "markdown",
      "source": [
        "### Observações e Questionamentos\n",
        "\n",
        "  - Tipo do dado da data integer, indo de 201501 a 201702\n",
        "  - Dados como Double\n",
        "  - Valores negativos para segundos totais de musicas ouvidas? Valores discrepantes para total de segs ouvidos\n",
        "  - Não há valores faltantes\n",
        "  - Decisão a ser tomada, o que considerar como outliers na coluna de total_secs? usar a regra de turkey? usar valores pesquisados como 15 mil minutos? converter de segundos para minutos faz diferença?"
      ],
      "metadata": {
        "id": "4nJ0AoCL7olO"
      }
    },
    {
      "cell_type": "markdown",
      "source": [
        "## 4 - Entendendo o Conjunto. Como são as DataBases e como elas se relacionam?\n",
        "\n"
      ],
      "metadata": {
        "id": "yFB1nFwcfeeo"
      }
    },
    {
      "cell_type": "markdown",
      "source": [
        "  1. Members: Registro de todos os usuários do sistema, contém dados demograficos (idade, genero, cidade) como ele se registrou e qual foi a data que ele entrou no sistema e se ele esta ativo ou não (assinante ou não).\n",
        "\n",
        "    - **Desafio**:\n",
        "        1. Idade dos clientes (coluna 'bd'): Mais da metade dos dados são 0, distorcendo a mediana, distorcendo a distribuição dos dados e suas medidas de representatividade. Tambem temos valores negativos e valores extremamente altos, irreais para idade.\n",
        "        2. Gênero (Coluna 'gender'): Maior parte dos dados estão nulos.\n",
        "\n",
        "  2. Transactions: Transações de todos os clientes quando assinam o plano, contendo data de assinatura, tempo para vencimento, meios de pagamento, valores do plano, total até agora arrecadado de cada cliente. Aqui os clientes se repetiram com uma visão acumulada de casa transação por data.\n",
        "\n",
        "    - **Desafio**: Lidar com o preço dos planos assinados\n",
        "\n",
        "  3. User_logs: Logs de todos os usuários, contendo seus comportentos dentro do sistema, com tempo total de músicas ouvidas, e parcelas de músicas ouvidas, podendo ser identificado possiveis musicas preferidas ou não.\n",
        "\n",
        "    - **Desafio**: Lidar com o total de segundos ouvidos"
      ],
      "metadata": {
        "id": "3fCg3kPXqRpo"
      }
    },
    {
      "cell_type": "markdown",
      "source": [
        "## Dicionario de dados FINAL"
      ],
      "metadata": {
        "id": "tuX9331_p1Qc"
      }
    },
    {
      "cell_type": "markdown",
      "source": [
        "<table>\n",
        "<caption><h1>Tabela Members</h1></caption>\n",
        "    <thead>\n",
        "        <tr>\n",
        "            <th>Feature</th>\n",
        "            <th>Descrição</th>\n",
        "            <th>Decisões</th>\n",
        "            <th>Manter?</th>\n",
        "        </tr>\n",
        "    </thead>\n",
        "    <tbody>\n",
        "        <tr>\n",
        "            <td>msno</td>\n",
        "            <td>id do usuário;</td>\n",
        "            <td>'msno': id do usuário;</td>\n",
        "        </tr>\n",
        "            <td>city</td>\n",
        "            <td>cidade do usuário (Númerico);</td>\n",
        "            <td>'city': cidade do usuário (Númerico);</td>\n",
        "        </tr>\n",
        "            <td>bd</td>\n",
        "            <td>idade (int) obs: outliers não só em 2015;</td>\n",
        "            <td>'bd': idade (int) obs: outliers não só em 2015;</td>\n",
        "        </tr>\n",
        "            <td>gender</td>\n",
        "            <td>gênero, Categorico (male or female) possue valores </td>\n",
        "            <td>'gender': gênero, Categorico (male or female) possue valores </td>\n",
        "        </tr>\n",
        "            <td>registered_via</td>\n",
        "            <td>meio de registro do cliente, (Númerico);</td>\n",
        "            <td>'registered_via': meio de registro do cliente, (Númerico);</td>\n",
        "        </tr>\n",
        "            <td>registration_init_time</td>\n",
        "            <td>primeiro registro do cliente formato yyyy-mm-dd de 2004 a 20161231; </td>\n",
        "            <td>'registration_init_time': primeiro registro do cliente formato yyy-mm-dd de 2004 a 20161231; </td>\n",
        "        </tr>\n",
        "            <td>safra</td>\n",
        "            <td>base do inicio ao fim de 2016 (int);</td>\n",
        "            <td>'safra': base do inicio ao fim de 2016 (int);</td>\n",
        "        </tr>\n",
        "            <td>is_ativo</td>\n",
        "            <td>se o cliente esta ativo ou não, (0 ou 1);</td>\n",
        "            <td>'is_ativo': se o cliente esta ativo ou não, (0 ou 1);</td>\n",
        "        </tr>\n",
        "    </tbody>\n",
        "</table>\n"
      ],
      "metadata": {
        "id": "nIT-f_Dzj9RL"
      }
    },
    {
      "cell_type": "markdown",
      "source": [
        "1. tb_Transactions:\n",
        "  - Colunas:\n",
        "    - 1º 'mnso': id do usuário (string);\n",
        "    - 2º 'payment_method_id': Método de pagamento, Númerico (int);\n",
        "    - 3º 'payment_plan_days': tamanho do plano em DIAS (int);\n",
        "    - 4º 'plan_list_price': preço do respectivo plano em New Taiwan Dollar (NTD) (Float/Double);\n",
        "    - 5º 'actual_amount_paid': Total pago atual (nao entendi) (Float/Double);\n",
        "    - 6º 'is_auto_renew': Renovação automatica (1 ou 0) (int);\n",
        "    - 7º 'transaction_date': data da transação no formato yyy-mm-dd;\n",
        "    - 8º 'membership_expire_date': quando o plano vence no formato yyyy-mm-dd;\n",
        "    - 9º 'is_cancel': se nessa transação o cliente cancelou ou não o plano;\n",
        "    - 10º 'safra': data ano e mes(int).\n",
        "\n",
        "2. tb_User_logs:\n",
        "  - Colunas:\n",
        "    - 1º 'msno': id do usuário;\n",
        "    - 2º 'safra': data ano e mes(int);\n",
        "    - 3º 'num_25': quantidade de músicas tocadas menos de 25% da duração dela (float);\n",
        "    - 4º 'num_50': quantidade de músicas tocadas entre 25% e 50% da duração dela (float);\n",
        "    - 5º 'num_75': quantidade de músicas tocadas entre 50% e 75% da duração dela (float);\n",
        "    - 6º 'num_985': quantidade de músicas tocadas entre 75% e 98,5% da duração dela (float);\n",
        "    - 7º 'num_100': quantidade de músicas tocadas acima de 98,5% (float);\n",
        "    - 8º 'num_unq': quantidade de musicas tocadas apenas 1 vez (float);\n",
        "    - 9º 'total_secs': total de segundos tocados (float).\n",
        "\n",
        "3. tb_Members:\n",
        "  - Colunas:\n",
        "    - 1º 'msno': id do usuário;\n",
        "    - 2º 'city': cidade do usuário (Númerico);\n",
        "    - 3º 'bd': idade (int) obs: outliers não só em 2015;\n",
        "    - 4º 'gender': gênero, Categorico (male or female) possue valores nulos;\n",
        "    - 5º 'registered_via': meio de registro do cliente, (Númerico);\n",
        "    - 6º 'registration_init_time': primeiro registro do cliente formato yyy-mm-dd de 2004 a 20161231;\n",
        "    - 7º 'safra': base do inicio ao fim de 2016 (int);\n",
        "    - 8º 'is_ativo': se o cliente esta ativo ou não, (0 ou 1);"
      ],
      "metadata": {
        "id": "2BNtYORZqa_j"
      }
    },
    {
      "cell_type": "markdown",
      "source": [
        "# Construção da Bronze:\n",
        "\n",
        "1. Limpeza e tratamento dos dados\n",
        "    - Conversão de tipos de dados\n",
        "    - Tratamento de outliers\n",
        "\n",
        "2. Construção da Target\n",
        "    - Entendimento da problematica\n",
        "    - Definição do publico alvo e escopo\n",
        "    - Criação da variavel dependente (Target)"
      ],
      "metadata": {
        "id": "fSjch1Me-BNH"
      }
    },
    {
      "cell_type": "markdown",
      "source": [
        "## 1. Limpeza e tratamento dos dados\n"
      ],
      "metadata": {
        "id": "rPE3gG-GWUN8"
      }
    },
    {
      "cell_type": "markdown",
      "source": [
        "### bronze_Members"
      ],
      "metadata": {
        "id": "hJ7m5jF7oL7i"
      }
    },
    {
      "cell_type": "markdown",
      "source": [
        "#### Passos"
      ],
      "metadata": {
        "id": "D2kBSLZs6Te8"
      }
    },
    {
      "cell_type": "markdown",
      "source": [
        "1. Members\n",
        "  - **Casting das Variaveis**: (✅)\n",
        "    - Mudança no tipo de dados do schema, pois alguns formatos estavam despadronizados, impedindo a consulta e utilização dos dados de forma correta.\n",
        "\n",
        "  - **Tratamento das Idades** : (✅)\n",
        "    - Decisão: Manter a variavel. Mesmo que mais de 50% dos dados são considerados outliers, ela pode agregar valor ao modelo nos proximos passos devido a idade ser um dado demográfico, que conforme discutido no livro \"Data Science for Business\" (Provost & Fawcett), variáveis demográficas ajudam a capturar tendências e padrões de consumo que muitas vezes são fundamentais para segmentação de usuários.\n",
        "    - Não foi usado a Regra de Turkey pois o Upper Bound apresentado pela técnica é de 60 anos, perdendo as caracteristicas das pessoas com idade acima disso. Utilizando a métrica do Z-score também perde muita informação pois o minimo e maximo ficaram entre -10 e 9.\n",
        "    \n",
        "            Outra alternativa de tratamento seria utilizar modelos de imputação, como KNN (K-Nearest Neighbors)\n",
        "            ou regressão, para prever os valores ausentes ou extremos com base em outras variáveis do conjunto de dados.\n",
        "            Isso pode fornecer substituições mais precisas, mas também aumenta a complexidade do processamento\n",
        "            e por isso não foi escolhida.\n",
        "\n",
        "  - **Tratamento dos gêneros**: (⏭)  \n",
        "    - Não usaremos essa variavel de genêro. Há uma quantidade muito elevada de valores nulos, e é uma variavel potencial para trazer viés aos nossos dados.\n",
        "\n",
        "  - **Feature Engineering**: (⏭)\n",
        "    - Quais variaveis podem surgir dessa tabela?\n",
        "      - a"
      ],
      "metadata": {
        "id": "PcT3g0irWc2X"
      }
    },
    {
      "cell_type": "markdown",
      "source": [
        "#### Casting das variaveis"
      ],
      "metadata": {
        "id": "IkPmjvif6XYg"
      }
    },
    {
      "cell_type": "code",
      "source": [
        "bronze_members = (df_members.withColumn('city', col('city').cast('int'))\n",
        "                            .withColumn('bd', col('bd').cast('int'))\n",
        "                            .withColumn('registered_via', col('registered_via').cast('int'))\n",
        "                            .withColumn('registration_init_time', to_date(col('registration_init_time'), 'yyyyMMdd'))\n",
        "                            .withColumn('safra', col('safra').cast('int'))\n",
        "                            .withColumn('is_ativo', col('is_ativo').cast('int'))\n",
        "                            )\n",
        "\n",
        "\n",
        "bronze_members.printSchema()\n",
        "\n",
        "bronze_members.createOrReplaceTempView('tb_members_mod')"
      ],
      "metadata": {
        "colab": {
          "base_uri": "https://localhost:8080/"
        },
        "id": "P0Mk01lfWimp",
        "outputId": "b068b1e4-da87-43b5-9e1d-a908f70fa883"
      },
      "execution_count": 30,
      "outputs": [
        {
          "output_type": "stream",
          "name": "stdout",
          "text": [
            "root\n",
            " |-- msno: string (nullable = true)\n",
            " |-- safra: integer (nullable = true)\n",
            " |-- registration_init_time: date (nullable = true)\n",
            " |-- city: integer (nullable = true)\n",
            " |-- bd: integer (nullable = true)\n",
            " |-- gender: string (nullable = true)\n",
            " |-- registered_via: integer (nullable = true)\n",
            " |-- is_ativo: integer (nullable = true)\n",
            "\n"
          ]
        }
      ]
    },
    {
      "cell_type": "markdown",
      "source": [
        "#### Tratamento da coluna de idade"
      ],
      "metadata": {
        "id": "3c_3l7SM6b7J"
      }
    },
    {
      "cell_type": "markdown",
      "source": [
        "Segundo Tukey, no livro Exploratory Data Analysis, a mediana é uma medida robusta em relação a outliers, pois não é influenciada por valores extremos. Dessa forma, optou-se por substituir os outliers da coluna BD com base nos critérios de idades negativas, iguais a zero, ou superiores a 121 foram consideradas fora do padrão e substituídas pela mediana dos valores válidos (entre 1 e 121). Além disso, para reduzir ainda mais a sensibilidade a valores extremos e facilitar a identificação de padrões não lineares, as idades foram transformadas em categorias de faixas etárias, definidas como:\n",
        "\n",
        "  - 1 a 12: Infantil\n",
        "  - 13 a 19: Jovem\n",
        "  - 20 a 30: Jovem Adulto\n",
        "  - 31 a 59: Adulto\n",
        "  - 60 a 121: Idoso\n",
        "\n",
        "Essas faixas foram pensadas com base em um índice do IBGE, e adaptadas ao problema. Com a adição da faixa \"jovem adulto\", foi entendido a importancia de capturar as características comportamentais musicais dessas faixas de idade, pois segundo o estudo \"Práticas musicais de jovens e vida cotidiana: socialização e identidades em movimento\" publicado pela revista da Universidade Federal do Paraná (UFPR) (fonte: https://revistas.ufpr.br/musica/article/download/38133/23289/0), a música desempenha um papel significativo na formação de identidades e na socialização dos jovens, especialmente quando mediada por tecnologias, sugerindo que os jovens tendem a vivenciar a música de maneira diferente em comparação com adultos mais velhos.\n",
        "\n",
        "Essa transformação também beneficia os modelos. Por exemplo, em árvores de decisão, variáveis categóricas simplificam as divisões no espaço de busca, simplificando cortes perpendiculares ao eixo da variável. Isso facilita a modelagem de relações não lineares, como as diferenças de comportamento entre jovens, jovens adultos e idosos."
      ],
      "metadata": {
        "id": "_ezfxyXi99DY"
      }
    },
    {
      "cell_type": "code",
      "source": [
        "(spark.sql(\n",
        "    \"\"\"\n",
        "    SELECT count(bd) as qnt_a_ser_afetada\n",
        "    FROM tb_members_mod\n",
        "    WHERE bd <= 0 or bd >= 122\n",
        "    \"\"\"\n",
        "  ).show()\n",
        ")\n",
        "\n",
        "(spark.sql(\n",
        "    \"\"\"\n",
        "      -- Calculando a mediana para usar no tratamento das idades\n",
        "      WITH\n",
        "      mediana_idade AS (\n",
        "        SELECT percentile_approx(bd, 0.5) AS median_idade\n",
        "        FROM tb_members_mod\n",
        "        where bd > 0 and bd <= 122\n",
        "      ),\n",
        "      -- Selecionando o dataframe inteiro, alterando as idades que estiverem fora da faixa de idade 1 e 121 e substituindo pelo valor da mediana\n",
        "      tratando_idade AS (\n",
        "        SELECT msno,\n",
        "               safra,\n",
        "               registered_via,\n",
        "               city,\n",
        "               CASE WHEN bd <= 0 OR bd >= 122 THEN (SELECT median_idade FROM mediana_idade) ELSE bd END AS new_bd,\n",
        "               gender,\n",
        "               registration_init_time,\n",
        "               is_ativo\n",
        "        FROM tb_members_mod\n",
        "      ),\n",
        "      -- criando uma nova coluna categorizando as idades por faixas etarias\n",
        "      tb_faixa_etaria AS (\n",
        "        SELECT *,\n",
        "              CASE\n",
        "                  WHEN new_bd > 0 AND new_bd <= 12 THEN 'Infantil'\n",
        "                  WHEN new_bd >= 13 AND new_bd <= 19 THEN 'Jovem'\n",
        "                  WHEN new_bd >= 20 AND new_bd <= 30 THEN 'Jovem Adulto'\n",
        "                  WHEN new_bd >= 31 AND new_bd <= 59 THEN 'Adulto'\n",
        "                  WHEN new_bd >= 60 AND new_bd <= 122 THEN 'Idoso'\n",
        "              END AS faixa_etaria\n",
        "        FROM tratando_idade\n",
        "      )\n",
        "      -- contando a quantidade de pessoas por faixa etaria e vendo a representatividade pela porcentagem de cada uma delas em relação ao total\n",
        "      SELECT faixa_etaria,\n",
        "             count(new_bd) AS qnt_por_faixa,\n",
        "             MIN(new_bd) AS min_bd,\n",
        "             MAX(new_bd) AS max_bd,\n",
        "             CONCAT(ROUND((qnt_por_faixa / (select count(new_bd) as total from tb_faixa_etaria)) * 100, 1), '%') AS taxa_por_faixa\n",
        "      FROM tb_faixa_etaria\n",
        "      GROUP BY faixa_etaria\n",
        "      ORDER BY min_bd\n",
        "    \"\"\"\n",
        "  ).show()\n",
        ")\n",
        "\n",
        "\n",
        "(spark.sql(\n",
        "    \"\"\"\n",
        "      -- Calculando a mediana para usar no tratamento das idades\n",
        "      WITH\n",
        "      mediana_idade AS (\n",
        "        SELECT percentile_approx(bd, 0.5) AS median_idade\n",
        "        FROM tb_members_mod\n",
        "        where bd > 0 and bd <= 122\n",
        "      ),\n",
        "      -- Selecionando o dataframe inteiro, alterando as idades que estiverem fora da faixa de idade 1 e 121 e substituindo pelo valor da mediana\n",
        "      tratando_idade AS (\n",
        "        SELECT msno,\n",
        "               safra,\n",
        "               registered_via,\n",
        "               city,\n",
        "               CASE WHEN bd <= 0 OR bd >= 122 THEN (SELECT median_idade FROM mediana_idade) ELSE bd END AS new_bd,\n",
        "               gender,\n",
        "               registration_init_time,\n",
        "               is_ativo\n",
        "        FROM tb_members_mod\n",
        "      )\n",
        "      -- criando uma nova coluna categorizando as idades por faixas etarias\n",
        "      SELECT *,\n",
        "            CASE\n",
        "                WHEN new_bd > 0 AND new_bd <= 12 THEN 'Infantil'\n",
        "                WHEN new_bd >= 13 AND new_bd <= 19 THEN 'Jovem'\n",
        "                WHEN new_bd >= 20 AND new_bd <= 30 THEN 'Jovem Adulto'\n",
        "                WHEN new_bd >= 31 AND new_bd <= 59 THEN 'Adulto'\n",
        "                WHEN new_bd >= 60 AND new_bd <= 122 THEN 'Idoso'\n",
        "            END AS faixa_etaria\n",
        "      FROM tratando_idade\n",
        "    \"\"\"\n",
        "     ).createOrReplaceTempView('bronze_members')\n",
        ")"
      ],
      "metadata": {
        "colab": {
          "base_uri": "https://localhost:8080/"
        },
        "id": "JFjFUSGDaEta",
        "outputId": "c02ae10e-a00a-44f4-e084-133c881670ad"
      },
      "execution_count": 31,
      "outputs": [
        {
          "output_type": "stream",
          "name": "stdout",
          "text": [
            "+-----------------+\n",
            "|qnt_a_ser_afetada|\n",
            "+-----------------+\n",
            "|         39517090|\n",
            "+-----------------+\n",
            "\n",
            "+------------+-------------+------+------+--------------+\n",
            "|faixa_etaria|qnt_por_faixa|min_bd|max_bd|taxa_por_faixa|\n",
            "+------------+-------------+------+------+--------------+\n",
            "|    Infantil|        14934|     1|    12|          0.0%|\n",
            "|       Jovem|      3326654|    13|    19|          5.2%|\n",
            "|Jovem Adulto|     51106899|    20|    30|         80.0%|\n",
            "|      Adulto|      9051335|    31|    59|         14.2%|\n",
            "|       Idoso|       367424|    60|   121|          0.6%|\n",
            "+------------+-------------+------+------+--------------+\n",
            "\n"
          ]
        }
      ]
    },
    {
      "cell_type": "markdown",
      "source": [
        "80% dos usuários são jovens adultos"
      ],
      "metadata": {
        "id": "6k1fChzaMol1"
      }
    },
    {
      "cell_type": "markdown",
      "source": [
        "##### Conferindo o impacto: Mediana da coluna BD original X mediana da coluna BD tratada"
      ],
      "metadata": {
        "id": "vNOdTbDFVr-W"
      }
    },
    {
      "cell_type": "markdown",
      "source": [
        "considerando valores dentro da faixa valida x > 0 e x < 122"
      ],
      "metadata": {
        "id": "A75DmMDp5fQG"
      }
    },
    {
      "cell_type": "code",
      "source": [
        "(spark.sql(\n",
        "    \"\"\"\n",
        "      WITH\n",
        "      mediana_idade AS (\n",
        "        SELECT percentile_approx(bd, 0.5) AS median_idade\n",
        "        FROM tb_members_mod\n",
        "        where bd > 0 and bd <= 122\n",
        "      ),\n",
        "      tratando_idade AS (\n",
        "        SELECT msno,\n",
        "               safra,\n",
        "               registered_via,\n",
        "               city,\n",
        "               CASE WHEN bd <= 0 or bd >= 122 THEN (SELECT median_idade FROM mediana_idade) ELSE bd END AS new_bd,\n",
        "               gender,\n",
        "               registration_init_time,\n",
        "               is_ativo\n",
        "        FROM tb_members_mod\n",
        "      ),\n",
        "      tb_faixa_etaria AS (\n",
        "        SELECT *,\n",
        "              CASE\n",
        "                  WHEN new_bd > 0 AND new_bd <= 12 THEN 'crianca'\n",
        "                  WHEN new_bd >= 13 AND new_bd <= 19 THEN 'adolescente'\n",
        "                  WHEN new_bd >= 20 AND new_bd <= 30 THEN 'jovem adulto'\n",
        "                  WHEN new_bd >= 31 AND new_bd <= 59 THEN 'adulto'\n",
        "                  WHEN new_bd >= 60 AND new_bd <= 122 THEN 'idoso'\n",
        "              END AS faixa_etaria\n",
        "        FROM tratando_idade\n",
        "      )\n",
        "      SELECT percentile_approx(new_bd, 0.5) AS mediana_idade_tratada,\n",
        "             avg(new_bd) AS media_idade_tratada,\n",
        "             count(new_bd) AS qnt_de_linhas\n",
        "      FROM tb_faixa_etaria\n",
        "\n",
        "    \"\"\"\n",
        "  ).show()\n",
        ")\n",
        "\n",
        "(spark.sql(\n",
        "    \"\"\"\n",
        "        SELECT percentile_approx(bd, 0.5) AS mediana_idade_original,\n",
        "               avg(bd) AS media_idade_original,\n",
        "               count(bd) AS qnt_de_linhas\n",
        "        FROM tb_members_mod\n",
        "        WHERE bd > 0 and bd <= 122\n",
        "    \"\"\"\n",
        "  ).show()\n",
        ")"
      ],
      "metadata": {
        "colab": {
          "base_uri": "https://localhost:8080/"
        },
        "id": "a8v5XI7jy2os",
        "outputId": "b7b584f1-a049-4f7c-ed53-9e6c3ccb6f07"
      },
      "execution_count": 32,
      "outputs": [
        {
          "output_type": "stream",
          "name": "stdout",
          "text": [
            "+---------------------+-------------------+-------------+\n",
            "|mediana_idade_tratada|media_idade_tratada|qnt_de_linhas|\n",
            "+---------------------+-------------------+-------------+\n",
            "|                   27| 28.099593146696822|     63867246|\n",
            "+---------------------+-------------------+-------------+\n",
            "\n",
            "+----------------------+--------------------+-------------+\n",
            "|mediana_idade_original|media_idade_original|qnt_de_linhas|\n",
            "+----------------------+--------------------+-------------+\n",
            "|                    27|  29.884314701766918|     24350216|\n",
            "+----------------------+--------------------+-------------+\n",
            "\n"
          ]
        }
      ]
    },
    {
      "cell_type": "markdown",
      "source": [
        "vendo a inclusão das 39 milhoes de linhas tratadas entrando para a faixa adequada"
      ],
      "metadata": {
        "id": "tKflK69FB3m_"
      }
    },
    {
      "cell_type": "markdown",
      "source": [
        "considerando a base inteira"
      ],
      "metadata": {
        "id": "iHdRdlmX5cQU"
      }
    },
    {
      "cell_type": "code",
      "source": [
        "(spark.sql(\n",
        "    \"\"\"\n",
        "        SELECT percentile_approx(bd, 0.5) AS mediana_idade_baseinteira,\n",
        "               avg(bd) AS media_idade_baseinteira\n",
        "        FROM tb_members_mod\n",
        "    \"\"\"\n",
        "  ).show()\n",
        ")"
      ],
      "metadata": {
        "colab": {
          "base_uri": "https://localhost:8080/"
        },
        "id": "tTp-0PLg30h9",
        "outputId": "e522aa3a-4f36-4d46-d436-8a28d376dede"
      },
      "execution_count": 33,
      "outputs": [
        {
          "output_type": "stream",
          "name": "stdout",
          "text": [
            "+-------------------------+-----------------------+\n",
            "|mediana_idade_baseinteira|media_idade_baseinteira|\n",
            "+-------------------------+-----------------------+\n",
            "|                        0|     11.430160210759675|\n",
            "+-------------------------+-----------------------+\n",
            "\n"
          ]
        }
      ]
    },
    {
      "cell_type": "markdown",
      "source": [
        "ao usar a base filtrada na faixa de idade adequada, a metrica da média e da mediana representam a realidade de como os dados validos estao distribuidos. A mediana igual a 0 esta distorcida devido a grande quantidade de valores iguais a zero, que podem ser devido a algum erro de captura dos dados ou sinal de valores nulos\\faltantes"
      ],
      "metadata": {
        "id": "dzLnpS_75p5K"
      }
    },
    {
      "cell_type": "markdown",
      "source": [
        "\n",
        "3. Members:\n",
        "  - Colunas:\n",
        "    - 1º 'msno': id do usuário;\n",
        "    - 2º 'city': cidade do usuário (Númerico);\n",
        "    - 3º 'bd': idade (int) obs: outliers não só em 2015;\n",
        "    - 4º 'gender': gênero, Categorico (male or female) possue valores nulos;\n",
        "    - 5º 'registered_via': meio de registro do cliente, (Númerico);\n",
        "    - 6º 'registration_init_time': primeiro registro do cliente formato yyy-mm-dd de 2004 a 20161231;\n",
        "    - 7º 'safra': base do inicio ao fim de 2016 (int);\n",
        "    - 8º 'is_ativo': se o cliente esta ativo ou não, (0 ou 1);"
      ],
      "metadata": {
        "id": "mAtuZ-fMY-Cj"
      }
    },
    {
      "cell_type": "markdown",
      "source": [
        "#### Tratamento da coluna de gêneros"
      ],
      "metadata": {
        "id": "xsKWQ70qyufd"
      }
    },
    {
      "cell_type": "markdown",
      "source": [
        "#####A coluna de gênero apresenta uma grande proporção de valores nulos. Para evitar a perda de informações potencialmente úteis e manter a flexibilidade para análise futura, foi decidido substituir os valores nulos por \"nao informado\". Essa abordagem permite preservar a coluna no pipeline inicial, garantindo que todas as possibilidades sejam consideradas durante a análise e modelagem. Posteriormente, com base em análises mais detalhadas e no impacto da variável no modelo, reavaliaremos se a coluna deve ser tratada de outra forma ou descartada."
      ],
      "metadata": {
        "id": "nasZ97BCy7On"
      }
    },
    {
      "cell_type": "code",
      "source": [
        "(spark.sql(\n",
        "    \"\"\"\n",
        "      with tb_gender as (\n",
        "        SELECT msno,\n",
        "               safra,\n",
        "               registered_via,\n",
        "               city,\n",
        "               new_bd,\n",
        "               CASE WHEN gender IS NULL THEN 'nao informado' ELSE gender END AS new_gender,\n",
        "               registration_init_time,\n",
        "               is_ativo\n",
        "        FROM bronze_members\n",
        "      )\n",
        "      SELECT new_gender,\n",
        "             count(new_gender) AS qnt_por_genero\n",
        "      FROM tb_gender\n",
        "      GROUP BY new_gender\n",
        "      ORDER BY qnt_por_genero DESC\n",
        "    \"\"\"\n",
        "  ).show()\n",
        ")"
      ],
      "metadata": {
        "colab": {
          "base_uri": "https://localhost:8080/"
        },
        "id": "iSGyfKz6BEk_",
        "outputId": "248287ad-f097-4384-e6a9-0b37ba05d815"
      },
      "execution_count": 34,
      "outputs": [
        {
          "output_type": "stream",
          "name": "stdout",
          "text": [
            "+-------------+--------------+\n",
            "|   new_gender|qnt_por_genero|\n",
            "+-------------+--------------+\n",
            "|nao informado|      38210177|\n",
            "|         male|      13075425|\n",
            "|       female|      12581644|\n",
            "+-------------+--------------+\n",
            "\n"
          ]
        }
      ]
    },
    {
      "cell_type": "code",
      "source": [
        "(spark.sql(\n",
        "    \"\"\"\n",
        "      SELECT msno,\n",
        "             safra,\n",
        "             registered_via,\n",
        "             city,\n",
        "             new_bd,\n",
        "             CASE WHEN gender IS NULL THEN 'nao informado' ELSE gender END AS new_gender,\n",
        "             registration_init_time,\n",
        "             is_ativo\n",
        "      FROM bronze_members\n",
        "    \"\"\"\n",
        "  ).createOrReplaceTempView('bronze_members')\n",
        ")"
      ],
      "metadata": {
        "id": "ST-3dEkTCjk8"
      },
      "execution_count": 35,
      "outputs": []
    },
    {
      "cell_type": "markdown",
      "source": [
        "##### Possivel tratamento futuro"
      ],
      "metadata": {
        "id": "BXeTbHz-A6kY"
      }
    },
    {
      "cell_type": "code",
      "source": [
        "total_filled = df_members.filter(col(\"gender\").isNotNull()).count()\n",
        "print(total_filled)\n",
        "\n",
        "total_female = df_members.filter(col(\"gender\") == \"female\").count()\n",
        "print(total_female)\n",
        "\n",
        "total_male = df_members.filter(col(\"gender\") == \"male\").count()\n",
        "print(total_male)\n",
        "\n",
        "prob_female = total_female / total_filled\n",
        "prob_male = total_male / total_filled\n",
        "\n",
        "print(prob_female)\n",
        "print(prob_male)"
      ],
      "metadata": {
        "colab": {
          "base_uri": "https://localhost:8080/"
        },
        "id": "1DfQi0kx_I-4",
        "outputId": "e0dc750b-cce1-483e-a958-e33ecbdf6087"
      },
      "execution_count": 36,
      "outputs": [
        {
          "output_type": "stream",
          "name": "stdout",
          "text": [
            "25657069\n",
            "12581644\n",
            "13075425\n",
            "0.4903772913422028\n",
            "0.5096227086577972\n"
          ]
        }
      ]
    },
    {
      "cell_type": "code",
      "source": [
        "# A coluna de gênero apresenta uma grande proporção de valores nulos. Para evitar a perda de informações potencialmente úteis e manter a flexibilidade para análise futura, foi decidido substituir os valores nulos por \"nao informado\".\n",
        "\n",
        "total_filled = df_members.filter(col(\"gender\").isNotNull()).count()\n",
        "total_female = df_members.filter(col(\"gender\") == \"female\").count()\n",
        "total_male = df_members.filter(col(\"gender\") == \"male\").count()\n",
        "\n",
        "prob_female = total_female / total_filled\n",
        "prob_male = total_male / total_filled\n",
        "\n",
        "\n",
        "# Criar coluna de preenchimento proporcional\n",
        "df_teste = df_members.withColumn(\n",
        "    \"gender\",\n",
        "    when(\n",
        "        col(\"gender\").isNull(),\n",
        "        when(rand() <= prob_female, \"female\").otherwise(\"male\")\n",
        "    ).otherwise(col(\"gender\"))\n",
        ")\n",
        "\n",
        "# Validar os resultados\n",
        "df_teste.groupBy(\"gender\").count().show()\n",
        "\n",
        "df_teste.groupBy(\"gender\").count().show()\n",
        "\n",
        "aa = df_teste.groupBy(\"gender\").count()\n",
        "\n",
        "a1 = aa.collect()[0][1]\n",
        "print(a1)\n",
        "a2 = aa.collect()[1][1]\n",
        "print(a2)\n",
        "\n",
        "print(a1/(a1+a2))\n",
        "print(a2/(a1+a2))"
      ],
      "metadata": {
        "colab": {
          "base_uri": "https://localhost:8080/"
        },
        "id": "WdcmqrPEyx0p",
        "outputId": "b712857b-eee0-4e41-8a1d-bf856a32f2c8"
      },
      "execution_count": 37,
      "outputs": [
        {
          "output_type": "stream",
          "name": "stdout",
          "text": [
            "+------+--------+\n",
            "|gender|   count|\n",
            "+------+--------+\n",
            "|female|31316956|\n",
            "|  male|32550290|\n",
            "+------+--------+\n",
            "\n",
            "+------+--------+\n",
            "|gender|   count|\n",
            "+------+--------+\n",
            "|female|31316956|\n",
            "|  male|32550290|\n",
            "+------+--------+\n",
            "\n",
            "31316956\n",
            "32550290\n",
            "0.4903445500061174\n",
            "0.5096554499938826\n"
          ]
        }
      ]
    },
    {
      "cell_type": "markdown",
      "source": [
        "#### Salvando as alterações finais para a bronze_members"
      ],
      "metadata": {
        "id": "Z6WZ_LgNDKTV"
      }
    },
    {
      "cell_type": "code",
      "source": [
        "bronze_members = (spark.sql(\"select * from bronze_members\"))\n",
        "\n",
        "bronze_members.show(5)\n",
        "\n",
        "# bronze_members.write.mode(\"overwrite\").parquet(\"/content/drive/MyDrive/Colab Notebooks/data_master_VICTOR/bronze\")"
      ],
      "metadata": {
        "colab": {
          "base_uri": "https://localhost:8080/"
        },
        "id": "R5DXlkkeDg9k",
        "outputId": "91beeda5-d188-4255-845a-2764050de8aa"
      },
      "execution_count": 38,
      "outputs": [
        {
          "output_type": "stream",
          "name": "stdout",
          "text": [
            "+--------------------+------+--------------+----+------+-------------+----------------------+--------+\n",
            "|                msno| safra|registered_via|city|new_bd|   new_gender|registration_init_time|is_ativo|\n",
            "+--------------------+------+--------------+----+------+-------------+----------------------+--------+\n",
            "|+++snpr7pmobhLKUg...|201612|             7|   1|    27|nao informado|            2014-09-27|       1|\n",
            "|++/AwGzubug3gT6J+...|201607|             9|   1|    27|nao informado|            2015-03-22|       0|\n",
            "|++/Gw1B9K+XOlB3hL...|201601|             3|  15|    32|         male|            2012-12-17|       1|\n",
            "|++02XbtviomSxcIBU...|201603|             7|  14|    21|         male|            2013-11-12|       0|\n",
            "|++0O0Bq04sB/9ZcOS...|201610|             3|   5|    33|         male|            2014-10-21|       0|\n",
            "+--------------------+------+--------------+----+------+-------------+----------------------+--------+\n",
            "only showing top 5 rows\n",
            "\n"
          ]
        }
      ]
    },
    {
      "cell_type": "markdown",
      "source": [
        "### bronze_Transactions\n"
      ],
      "metadata": {
        "id": "p5RSpiCEWoug"
      }
    },
    {
      "cell_type": "markdown",
      "source": [
        "#### Passos"
      ],
      "metadata": {
        "id": "m0wlcdMbo9Zd"
      }
    },
    {
      "cell_type": "markdown",
      "source": [
        "\n",
        "2. Transactions\n",
        "  - Casting das Variaveis\n",
        "  - Tratamento das datas de vencimento do Plano\n",
        "  - Feature Engineering: Quais variaveis podem surgir dessa tabel?\n",
        "    - a"
      ],
      "metadata": {
        "id": "TmBCqKi4W7zR"
      }
    },
    {
      "cell_type": "markdown",
      "source": [
        "1. Transactions:\n",
        "  - Colunas:\n",
        "    - 1º 'mnso': id do usuário (string);\n",
        "    - 2º 'payment_method_id': Método de pagamento, Númerico (int);\n",
        "    - 3º 'payment_plan_days': tamanho do plano em DIAS (int);\n",
        "    - 4º 'plan_list_price': preço do respectivo plano em New Taiwan Dollar (NTD) (Float/Double);\n",
        "    - 5º 'actual_amount_paid': Total pago atual (nao entendi) (Float/Double);\n",
        "    - 6º 'is_auto_renew': Renovação automatica (1 ou 0) (int);\n",
        "    - 7º 'transaction_date': data da transação no formato yyy-mm-dd;\n",
        "    - 8º 'membership_expire_date': quando o plano vence no formato yyyy-mm-dd;\n",
        "    - 9º 'is_cancel': se nessa transação o cliente cancelou ou não o plano;\n",
        "    - 10º 'safra': data ano e mes(int).\n",
        "\n",
        "\n"
      ],
      "metadata": {
        "id": "-I80rprFZAmk"
      }
    },
    {
      "cell_type": "markdown",
      "source": [
        "#### Casting das variaveis"
      ],
      "metadata": {
        "id": "0u26TRJrpEnj"
      }
    },
    {
      "cell_type": "code",
      "source": [],
      "metadata": {
        "id": "IAXzsGDlpHNG"
      },
      "execution_count": null,
      "outputs": []
    },
    {
      "cell_type": "markdown",
      "source": [
        "#### tratamento da coluna X"
      ],
      "metadata": {
        "id": "DADGBJvIpIao"
      }
    },
    {
      "cell_type": "code",
      "source": [],
      "metadata": {
        "id": "JXXdjY2VpLG-"
      },
      "execution_count": null,
      "outputs": []
    },
    {
      "cell_type": "markdown",
      "source": [
        "### bronze_Userlogs\n"
      ],
      "metadata": {
        "id": "li8XjwZOWrGj"
      }
    },
    {
      "cell_type": "markdown",
      "source": [
        "#### Passos"
      ],
      "metadata": {
        "id": "EpUgDrSepPrR"
      }
    },
    {
      "cell_type": "markdown",
      "source": [
        "3. User Logs\n",
        "  - Casting das Variaveis\n",
        "  - Tratamento do Total de Segundos ouvidos\n",
        "  - Feature Engineering: Quais variaveis podem surgir dessa tabel?\n",
        "    - a"
      ],
      "metadata": {
        "id": "q0pOpmUXW-Hz"
      }
    },
    {
      "cell_type": "markdown",
      "source": [
        "2. User_logs:\n",
        "  - Colunas:\n",
        "    - 1º 'msno': id do usuário;\n",
        "    - 2º 'safra': data ano e mes(int);\n",
        "    - 3º 'num_25': quantidade de músicas tocadas menos de 25% da duração dela (float);\n",
        "    - 4º 'num_50': quantidade de músicas tocadas entre 25% e 50% da duração dela (float);\n",
        "    - 5º 'num_75': quantidade de músicas tocadas entre 50% e 75% da duração dela (float);\n",
        "    - 6º 'num_985': quantidade de músicas tocadas entre 75% e 98,5% da duração dela (float);\n",
        "    - 7º 'num_100': quantidade de músicas tocadas acima de 98,5% (float);\n",
        "    - 8º 'num_unq': quantidade de musicas tocadas apenas 1 vez (float);\n",
        "    - 9º 'total_secs': total de segundos tocados (float)."
      ],
      "metadata": {
        "id": "YssQwy3YZDD7"
      }
    },
    {
      "cell_type": "markdown",
      "source": [
        "#### Casting das variaveis"
      ],
      "metadata": {
        "id": "aVhrMSrLd3h_"
      }
    },
    {
      "cell_type": "code",
      "source": [],
      "metadata": {
        "id": "W6C0bl10pVcB"
      },
      "execution_count": null,
      "outputs": []
    },
    {
      "cell_type": "markdown",
      "source": [
        "#### Tratamento da coluna X"
      ],
      "metadata": {
        "id": "32_gU9tcpV6I"
      }
    },
    {
      "cell_type": "code",
      "source": [],
      "metadata": {
        "id": "pN_Pcx4CpWT3"
      },
      "execution_count": null,
      "outputs": []
    },
    {
      "cell_type": "markdown",
      "source": [
        "## 2. Criação da Target"
      ],
      "metadata": {
        "id": "B70LxPXzohDs"
      }
    },
    {
      "cell_type": "markdown",
      "source": [
        "### entendimento da problematica"
      ],
      "metadata": {
        "id": "6otdvfg9okt6"
      }
    },
    {
      "cell_type": "code",
      "source": [],
      "metadata": {
        "id": "EqfPhGMrolTQ"
      },
      "execution_count": null,
      "outputs": []
    },
    {
      "cell_type": "markdown",
      "source": [
        "### Definição do publico alvo e escopo"
      ],
      "metadata": {
        "id": "-xwpEO_GpiFA"
      }
    },
    {
      "cell_type": "code",
      "source": [],
      "metadata": {
        "id": "BE8t-n5MpiXR"
      },
      "execution_count": null,
      "outputs": []
    },
    {
      "cell_type": "markdown",
      "source": [
        "### Criação da target"
      ],
      "metadata": {
        "id": "es3LTobrpimo"
      }
    },
    {
      "cell_type": "code",
      "source": [],
      "metadata": {
        "id": "lC-6ug3FpjdM"
      },
      "execution_count": null,
      "outputs": []
    },
    {
      "cell_type": "markdown",
      "source": [
        "# Construção da Silver:\n",
        "\n",
        "- Criação da Target\n",
        "- Analise de Features e seleção\n",
        "- Construção da Target"
      ],
      "metadata": {
        "id": "Gohk_OAMAXlp"
      }
    },
    {
      "cell_type": "code",
      "source": [],
      "metadata": {
        "id": "hs85QGpsAZFa"
      },
      "execution_count": null,
      "outputs": []
    },
    {
      "cell_type": "markdown",
      "source": [
        "# Construção da Gold\n",
        "\n",
        "- Analytical Base Table (ABT)\n",
        "- Features e Target estruturados e prontos para irem para treino, validação e teste dos modelos"
      ],
      "metadata": {
        "id": "GivfuBLfAhDJ"
      }
    },
    {
      "cell_type": "code",
      "source": [],
      "metadata": {
        "id": "pKvi5eE1Ax0j"
      },
      "execution_count": null,
      "outputs": []
    },
    {
      "cell_type": "markdown",
      "source": [
        "# Criação dos modelos\n",
        "\n",
        "qual metodologia seguir\n",
        "\n",
        "(seleção de variaveis, modelos (por que dos modelos, por que nao explorar outros))\n",
        "\n",
        "(interpretabilidade X performance)\n",
        "\n",
        "(caso haja, como foi feita a escolha de hiperparametros)\n",
        "\n",
        "(tota decisão ser justificada, comparada)\n",
        "\n",
        "((avaliar performance dos modelos), (estabilidade, performance, explicabilidade), (treinamento de modelos por janelas de tempo, out of time))\n",
        "\n",
        "(Shaply Values, )"
      ],
      "metadata": {
        "id": "OoRxiuhKAxU9"
      }
    }
  ]
}