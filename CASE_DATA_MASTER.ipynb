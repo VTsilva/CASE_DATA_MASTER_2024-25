{
  "nbformat": 4,
  "nbformat_minor": 0,
  "metadata": {
    "colab": {
      "provenance": [],
      "collapsed_sections": [
        "NrH50K4Jzgfy",
        "8KfDW8DSRFVR",
        "2-APPNdpWviz",
        "N0KqlSTumzCW",
        "fRwLtSWv6_F_",
        "jxjzaNP-pDpT",
        "sJc0W47Xsr8H",
        "8xFh6_YtsxVr",
        "CaiRBwNhzUc4",
        "7rhpeg3acAl2",
        "MPn_veQuIj_A",
        "ZDxzUyU1vfEl",
        "QjzgGMLBJRr1",
        "bjFaGRiC15XN",
        "0N5bIo6-EM_P",
        "5vmbcoqGEdst",
        "tKIoi_KIoPLo",
        "Mw0PAf1noTEV",
        "HtC9EniFrOiK",
        "MsRj6sS5Ka2W",
        "sBBgtjEUq72_",
        "NXIS1Fku7Ucn",
        "0EP-3wQAwgMU",
        "vnjWqY8u9kT-",
        "vSMvPApX-Uil",
        "_uaEzuTmKlAi",
        "yFB1nFwcfeeo",
        "tuX9331_p1Qc",
        "8xu0nGMh76Cx",
        "Y7DAcK3sjT-U",
        "8E_CRxtX9qSF",
        "Gohk_OAMAXlp",
        "GivfuBLfAhDJ",
        "OoRxiuhKAxU9"
      ]
    },
    "kernelspec": {
      "name": "python3",
      "display_name": "Python 3"
    },
    "language_info": {
      "name": "python"
    }
  },
  "cells": [
    {
      "cell_type": "markdown",
      "source": [
        "# SUMÁRIO DO PROJETO\n",
        "\n"
      ],
      "metadata": {
        "id": "NrH50K4Jzgfy"
      }
    },
    {
      "cell_type": "markdown",
      "source": [
        "\n",
        "1. Qual o contexto da problemática? O que queremos resolver?\n",
        "  - Empresa de Streamming de Música: Ela tem uma abordagem reativa em relação a clientes que não renovam a assinatura oferecendo 3 meses grátis para os que não renovam. Foi entendido que uma abordagem proativa pode ser mais efetiva.\n",
        "\n",
        "2. Quais DADOS temos para agregar na solução?\n",
        "  - Temos um dicionario de dados a seguir.\n",
        "\n",
        "3. Quais INFORMAÇÕES podemos extrair desses DADOS?\n",
        "  - aqui irei analisar as possiveis variaveis que podem ser criadas (Feature Engineering)\n",
        "\n",
        "4. Como chegar na solução e quais métodos/tecnologias podem apoiar e quais não podem? (justificação dos usos, questões de negócio, performance, processamento computacional, recursos e implantação em uma hipotética produtização)\n",
        "  - aqui escrevo sobre ....\n",
        "\n",
        "5. Ótica de negócios: Ganhos $$\n",
        "  - a\n",
        "\n",
        "\n",
        "para encaixar no sumário:\n",
        "\n",
        "1- EDA\n",
        "- hipoteses voltadas ao problema e para a modelagem\n",
        "- implicações das análises\n",
        "- usar o EDA para tomada de decisões\n",
        "\n",
        "2- Dataprep + feature engeneering + feature selection\n",
        "- criação do publico-alvo, target, análise de volumetrias, missing, outliers, etc.\n",
        "- construção de novas features / transformação de features\n",
        "- feature selection adequado, variaveis significativas para o problema\n",
        "\n",
        "3- Modelagem\n",
        "- Estrutura do modelo utilizado, funcionamento, hiperparametros, vantagens e fraquezas\n",
        "- Modelagem e pipe line adequados ao problema? eu entendo isso?\n",
        "- Compreendo os impactos ao utilizar outras tecnicas de modelagem e pipeline construidos?\n",
        "\n",
        "4- Validação\n",
        "- Validação adequada? (Leakage, overfit, underfit, tamanho da amostra)\n",
        "- Formas de validação exploradas? (cross-validation, train test split, out of sample, out of time, etc)\n",
        "- Como as alterações do problema impactam na validação escolhida?\n",
        "\n",
        "5- Definição e avaliação dos resultados\n",
        "- Métricas de avaliação adequadas? (MAE, RMSE, Recall, AUC, Silhueta, etc)\n",
        "- Como outras métricas impactariam os resultados do case?\n",
        "- Como mudanças na estrutura do problema impactariam diferentes métricas?\n",
        "\n",
        "6- Qualidade do código\n",
        "- Organização e boas praticas do codigo (nomes intuitivos, comentários, ordenamento intuitivo)\n",
        "- Codigo padronizado? (classes, funções e variaveis com nomes padronizados, clean code, pep8, etc?)\n",
        "- Código visa a implementação? (modularização, tempo de processamento, versionamento etc?)\n",
        "\n",
        "7- Soft Skills\n",
        "- Sucinto e dentro do tempo indicado\n",
        "- Clareza nas explicações\n",
        "- Apresentação estruturada (começo, meio e fim)\n"
      ],
      "metadata": {
        "id": "z5YyNRLm4ACI"
      }
    },
    {
      "cell_type": "markdown",
      "source": [
        "# Instalação do ambiente inicial\n",
        "\n",
        "Conectando com o Google Drive (armazenamento)\n",
        "\n",
        "Instalação do Java\n",
        "\n",
        "Instalação do Apache Spark"
      ],
      "metadata": {
        "id": "8KfDW8DSRFVR"
      }
    },
    {
      "cell_type": "code",
      "source": [
        "from google.colab import drive\n",
        "drive.mount('/content/drive')"
      ],
      "metadata": {
        "colab": {
          "base_uri": "https://localhost:8080/"
        },
        "id": "IOV08U3FWDb0",
        "outputId": "c5d1ac13-d7e8-4f6d-f376-be5cd45e82a8"
      },
      "execution_count": null,
      "outputs": [
        {
          "output_type": "stream",
          "name": "stdout",
          "text": [
            "Mounted at /content/drive\n"
          ]
        }
      ]
    },
    {
      "cell_type": "code",
      "execution_count": null,
      "metadata": {
        "id": "05lEAdzrVfNf"
      },
      "outputs": [],
      "source": [
        "!apt-get install openjdk-8-jdk-headless -qq > /dev/null\n",
        "!wget -q https://archive.apache.org/dist/spark/spark-3.4.4/spark-3.4.4-bin-hadoop3.tgz\n",
        "!tar xf spark-3.4.4-bin-hadoop3.tgz\n",
        "!pip install -q findspark"
      ]
    },
    {
      "cell_type": "markdown",
      "source": [
        "# Configurando o Spark\n",
        "\n",
        "Configuração das variaveis ambiente"
      ],
      "metadata": {
        "id": "2-APPNdpWviz"
      }
    },
    {
      "cell_type": "code",
      "source": [
        "# configurar as variáveis de ambiente\n",
        "import os\n",
        "os.environ[\"JAVA_HOME\"] = \"/usr/lib/jvm/java-8-openjdk-amd64\"\n",
        "os.environ[\"SPARK_HOME\"] = \"/content/spark-3.4.4-bin-hadoop3\"\n",
        "\n",
        "# tornar o pyspark \"importável\"\n",
        "import findspark\n",
        "findspark.init()\n",
        "\n",
        "# iniciar uma sessão local\n",
        "from pyspark.sql import SparkSession\n",
        "# spark = SparkSession.builder.master('local[*]').appName('Case_dataMaster_Victor').getOrCreate()\n",
        "\n",
        "spark = SparkSession.builder \\\n",
        "                    .appName(\"Case_dataMaster_Victor\") \\\n",
        "                    .config(\"spark.executor.memory\", \"4g\") \\\n",
        "                    .config(\"spark.driver.memory\", \"4g\") \\\n",
        "                    .config(\"spark.executor.cores\", \"2\") \\\n",
        "                    .config(\"spark.driver.maxResultSize\", \"2g\") \\\n",
        "                    .getOrCreate()\n",
        "\n",
        "     #  # Memória do executor\n",
        "     # Memória do driver\n",
        "     # Número de núcleos\n",
        "     # Tamanho máximo do resultado"
      ],
      "metadata": {
        "id": "gFI5WXFVTQM0"
      },
      "execution_count": null,
      "outputs": []
    },
    {
      "cell_type": "markdown",
      "source": [
        "# Importando os dados da RAW\n",
        "\n",
        "Dados baixados e localizados no google drive para nao tem repetição em acessar o ambiente do kaggle e baixar os dados de la"
      ],
      "metadata": {
        "id": "N0KqlSTumzCW"
      }
    },
    {
      "cell_type": "code",
      "source": [
        "path_members = '/content/drive/MyDrive/Colab Notebooks/data_master_VICTOR/raw/members.parquet'\n",
        "path_transactions = '/content/drive/MyDrive/Colab Notebooks/data_master_VICTOR/raw/transactions.parquet'\n",
        "path_userlogs = '/content/drive/MyDrive/Colab Notebooks/data_master_VICTOR/raw/user_logs.parquet'\n",
        "\n",
        "df_members = (spark.read\n",
        "                   .format(\"parquet\")\n",
        "                   .option(\"header\", True)\n",
        "                   .option(\"inferSchema\", True)\n",
        "                   .load(path_members))\n",
        "\n",
        "df_transactions = (spark.read\n",
        "                   .format(\"parquet\")\n",
        "                   .option(\"header\", True)\n",
        "                   .option(\"inferSchema\", True)\n",
        "                   .load(path_transactions))\n",
        "\n",
        "df_userlogs = (spark.read\n",
        "                   .format(\"parquet\")\n",
        "                   .option(\"header\", True)\n",
        "                   .option(\"inferSchema\", True)\n",
        "                   .load(path_userlogs))"
      ],
      "metadata": {
        "id": "AGfVuxDdTVQO"
      },
      "execution_count": null,
      "outputs": []
    },
    {
      "cell_type": "markdown",
      "source": [
        "## Trazendo para uma view temporaria para consultas SQL"
      ],
      "metadata": {
        "id": "fRwLtSWv6_F_"
      }
    },
    {
      "cell_type": "code",
      "source": [
        "df_members.createOrReplaceTempView('tb_members')\n",
        "df_transactions.createOrReplaceTempView('tb_transactions')\n",
        "df_userlogs.createOrReplaceTempView('tb_userlogs')"
      ],
      "metadata": {
        "id": "N6xay5Dy7EiN"
      },
      "execution_count": null,
      "outputs": []
    },
    {
      "cell_type": "markdown",
      "source": [
        "# Inicio de EDA (Exploratory Data and Analysis)\n",
        "\n"
      ],
      "metadata": {
        "id": "Ui1d1gXtm1aj"
      }
    },
    {
      "cell_type": "markdown",
      "source": [
        "## Dicionario de dados INICIAL"
      ],
      "metadata": {
        "id": "jxjzaNP-pDpT"
      }
    },
    {
      "cell_type": "markdown",
      "source": [
        "### 1. Transactions:\n",
        "  - Colunas:\n",
        "    - 1º 'mnso': id do usuário;\n",
        "    - 2º 'payment_method_id': Método de pagamento;\n",
        "    - 3º 'payment_plan_days': tamanho do plano em DIAS;\n",
        "    - 4º 'plan_list_price': preço do respectivo plano em New Taiwan Dollar (NTD);\n",
        "    - 5º 'actual_amount_paid': Total pago atual (nao entendi);\n",
        "    - 6º 'is_auto_renew': Renovação automatica 1 ou 0;\n",
        "    - 7º 'transaction_date': data da transação no formato %Y %M %D;\n",
        "    - 8º 'membership_expire_date': quando o plano vence no formato %Y %M %D;\n",
        "    - 9º 'is_cancel': se nessa transação o cliente cancelou ou não o plano;\n",
        "    - 10º 'safra': data (Data foto da base).\n",
        "\n",
        "### 2. User_logs:\n",
        "  - Colunas:\n",
        "    - 1º 'msno': id do usuário;\n",
        "    - 2º 'safra': formato %Y %M %D (data foto da base);\n",
        "    - 3º 'num_25': quantidade de músicas tocadas menos de 25% da duração dela;\n",
        "    - 4º 'num_50': quantidade de músicas tocadas entre 25% e 50% da duração dela;\n",
        "    - 5º 'num_75': quantidade de músicas tocadas entre 50% e 75% da duração dela;\n",
        "    - 6º 'num_985': quantidade de músicas tocadas entre 75% e 98,5% da duração dela;\n",
        "    - 7º 'num_100': quantidade de músicas tocadas acima de 98,5%;\n",
        "    - 8º 'num_unq': quantidade de musicas tocadas apenas 1 vez;\n",
        "    - 9º 'total_secs': total de segundos tocados.\n",
        "\n",
        "### 3. Members:\n",
        "  - Colunas:\n",
        "    - 1º 'msno': id do usuário;\n",
        "    - 2º 'city': cidade do usuário?\n",
        "    - 3º 'bd': idade? obs: outliers em 2015\n",
        "    - 4º 'gender': gênero\n",
        "    - 5º 'registered_via': meio de registro do cliente\n",
        "    - 6º 'registration_init_time': primeiro regristo do cliente formato %Y %M %D\n",
        "    - 7º 'safra': Data da foto da base\n",
        "    - 8º 'is_ativo': se o cliente esta ativo ou não"
      ],
      "metadata": {
        "id": "QJkw813WzAld"
      }
    },
    {
      "cell_type": "markdown",
      "source": [
        "## Importando bibliotecas e funções necessárias para a exploração"
      ],
      "metadata": {
        "id": "sJc0W47Xsr8H"
      }
    },
    {
      "cell_type": "code",
      "source": [
        "from pyspark.sql.functions import col, countDistinct, count, min, max, when, to_date, year\n",
        "\n",
        "from pyspark.sql.types import *\n",
        "from pyspark.sql.functions import *\n",
        "\n",
        "# import select functions and types\n",
        "from pyspark.sql.types import IntegerType, StringType\n",
        "from pyspark.sql.functions import floor, round"
      ],
      "metadata": {
        "id": "Kf7GtEE5lOSB"
      },
      "execution_count": null,
      "outputs": []
    },
    {
      "cell_type": "markdown",
      "source": [
        "## Entendendo o formato dos dados"
      ],
      "metadata": {
        "id": "8xFh6_YtsxVr"
      }
    },
    {
      "cell_type": "code",
      "source": [
        "table = ['tb_members', 'tb_transactions', 'tb_userlogs']\n",
        "\n",
        "for i in table:\n",
        "  print(f'--------Tabela: {i}-------------------------')\n",
        "  qnt_linhas = spark.sql(f'SELECT count(*) AS quantidade_linhas from {i}').collect()[0]['quantidade_linhas']\n",
        "  df = spark.sql(f\"SELECT * from {i}\")\n",
        "  qnt_colunas = len(df.columns)\n",
        "  print(f\"Formato da {i}: \", qnt_colunas, \" X \", qnt_linhas )\n",
        "  spark.sql(f'Describe {i}').show()"
      ],
      "metadata": {
        "colab": {
          "base_uri": "https://localhost:8080/"
        },
        "id": "_fEpPBt-8ujT",
        "outputId": "5309d8e2-1c67-44a9-d95f-37aa41a9fb4a"
      },
      "execution_count": null,
      "outputs": [
        {
          "output_type": "stream",
          "name": "stdout",
          "text": [
            "--------Tabela: tb_members-------------------------\n",
            "Formato da tb_members:  8  X  63867246\n",
            "+--------------------+---------+-------+\n",
            "|            col_name|data_type|comment|\n",
            "+--------------------+---------+-------+\n",
            "|                msno|   string|   null|\n",
            "|               safra|   string|   null|\n",
            "|registration_init...|   string|   null|\n",
            "|                city|   string|   null|\n",
            "|                  bd|   string|   null|\n",
            "|              gender|   string|   null|\n",
            "|      registered_via|   string|   null|\n",
            "|            is_ativo|      int|   null|\n",
            "+--------------------+---------+-------+\n",
            "\n",
            "--------Tabela: tb_transactions-------------------------\n",
            "Formato da tb_transactions:  10  X  20712225\n",
            "+--------------------+---------+-------+\n",
            "|            col_name|data_type|comment|\n",
            "+--------------------+---------+-------+\n",
            "|                msno|   string|   null|\n",
            "|   payment_method_id|   string|   null|\n",
            "|   payment_plan_days|   string|   null|\n",
            "|     plan_list_price|   string|   null|\n",
            "|  actual_amount_paid|   string|   null|\n",
            "|       is_auto_renew|   string|   null|\n",
            "|    transaction_date|   string|   null|\n",
            "|membership_expire...|   string|   null|\n",
            "|           is_cancel|   string|   null|\n",
            "|               safra|      int|   null|\n",
            "+--------------------+---------+-------+\n",
            "\n",
            "--------Tabela: tb_userlogs-------------------------\n",
            "Formato da tb_userlogs:  9  X  26758971\n",
            "+----------+---------+-------+\n",
            "|  col_name|data_type|comment|\n",
            "+----------+---------+-------+\n",
            "|      msno|   string|   null|\n",
            "|     safra|      int|   null|\n",
            "|    num_25|   double|   null|\n",
            "|    num_50|   double|   null|\n",
            "|    num_75|   double|   null|\n",
            "|   num_985|   double|   null|\n",
            "|   num_100|   double|   null|\n",
            "|   num_unq|   double|   null|\n",
            "|total_secs|   double|   null|\n",
            "+----------+---------+-------+\n",
            "\n"
          ]
        }
      ]
    },
    {
      "cell_type": "markdown",
      "source": [
        "## 1 - Entendendo a Members"
      ],
      "metadata": {
        "id": "nQHC_FfnqnPW"
      }
    },
    {
      "cell_type": "markdown",
      "source": [
        "### Primeira visão"
      ],
      "metadata": {
        "id": "CaiRBwNhzUc4"
      }
    },
    {
      "cell_type": "code",
      "source": [
        "spark.sql('select * from tb_members LIMIT 10').show()"
      ],
      "metadata": {
        "colab": {
          "base_uri": "https://localhost:8080/"
        },
        "id": "r8I764LCB5TD",
        "outputId": "9355f8a3-5e74-45d1-baa4-937d96c70b05"
      },
      "execution_count": null,
      "outputs": [
        {
          "output_type": "stream",
          "name": "stdout",
          "text": [
            "+--------------------+------+----------------------+----+---+------+--------------+--------+\n",
            "|                msno| safra|registration_init_time|city| bd|gender|registered_via|is_ativo|\n",
            "+--------------------+------+----------------------+----+---+------+--------------+--------+\n",
            "|+++snpr7pmobhLKUg...|201612|            2014-09-27|   1|  0|  null|             7|    true|\n",
            "|++/AwGzubug3gT6J+...|201607|            2015-03-22|   1|  0|  null|             9|   false|\n",
            "|++/Gw1B9K+XOlB3hL...|201601|            2012-12-17|  15| 32|  male|             3|    true|\n",
            "|++02XbtviomSxcIBU...|201603|            2013-11-12|  14| 21|  male|             7|   false|\n",
            "|++0O0Bq04sB/9ZcOS...|201610|            2014-10-21|   5| 33|  male|             3|   false|\n",
            "|++2AQgVgYUAqJDw68...|201608|            2015-04-16|  18| 23|  male|             3|   false|\n",
            "|++2gRJ7i2MbO6qUG6...|201608|            2014-06-16|  11| 33|  male|             7|   false|\n",
            "|++3brN43Yd6GURegT...|201604|            2010-05-12|  14| 19|  male|             9|   false|\n",
            "|++4FwgRp7pHuuQWpa...|201605|            2014-10-10|   1|  0|  null|             9|   false|\n",
            "|++4KsBMCDgIrwmv5w...|201604|            2014-10-31|   1|  0|  null|             9|   false|\n",
            "+--------------------+------+----------------------+----+---+------+--------------+--------+\n",
            "\n"
          ]
        }
      ]
    },
    {
      "cell_type": "markdown",
      "source": [
        "Nas primeiras 10 linhas ja vemos a idade = 0, e valores nulos no genero"
      ],
      "metadata": {
        "id": "rQVeSHiArYX1"
      }
    },
    {
      "cell_type": "markdown",
      "source": [
        "### Min e Max de datas das colunas de datas para ver até onde vão"
      ],
      "metadata": {
        "id": "25yqfe2FwsBP"
      }
    },
    {
      "cell_type": "markdown",
      "source": [
        "convertendo os tipos de dados"
      ],
      "metadata": {
        "id": "O11rnhId70Di"
      }
    },
    {
      "cell_type": "code",
      "source": [
        "df_members = (df_members\n",
        "              .withColumn('safra', col('safra').cast('int'))\n",
        "              .withColumn('registration_init_time', to_date(col('registration_init_time'), 'yyyyMMdd'))\n",
        "              .withColumn('bd', col('bd').cast('int'))\n",
        "              .withColumn('registered_via', col('registered_via').cast('int'))\n",
        "              .withColumn('is_ativo', col('is_ativo').cast('boolean'))\n",
        "              )\n",
        "df_members.createOrReplaceTempView('tb_members')\n",
        "\n",
        "(spark.sql(\n",
        "    \"\"\"\n",
        "    select min(registration_init_time), max(registration_init_time),\n",
        "           min(safra), max(safra)\n",
        "    from tb_members\n",
        "    \"\"\"\n",
        "  ).show()\n",
        ")"
      ],
      "metadata": {
        "colab": {
          "base_uri": "https://localhost:8080/"
        },
        "id": "5wuKQFeEn-oV",
        "outputId": "63f88397-242e-46aa-e8c1-ae8f64357111"
      },
      "execution_count": null,
      "outputs": [
        {
          "output_type": "stream",
          "name": "stdout",
          "text": [
            "+---------------------------+---------------------------+----------+----------+\n",
            "|min(registration_init_time)|max(registration_init_time)|min(safra)|max(safra)|\n",
            "+---------------------------+---------------------------+----------+----------+\n",
            "|                 2004-03-26|                 2016-12-31|    201601|    201612|\n",
            "+---------------------------+---------------------------+----------+----------+\n",
            "\n"
          ]
        }
      ]
    },
    {
      "cell_type": "markdown",
      "source": [
        "Temos clientes que foram registrados 2016-12-31, e clientes antigos 2004."
      ],
      "metadata": {
        "id": "hZ5K-WLdqefT"
      }
    },
    {
      "cell_type": "markdown",
      "source": [
        "Temos uma base de usuarios de referente ao ano (safra) de 2016. fotos dos clientes foram tiradas a cada mês, total de 12 fotos (possiveis features stores)"
      ],
      "metadata": {
        "id": "zpjiMYLyfLRf"
      }
    },
    {
      "cell_type": "markdown",
      "source": [
        "### Entendendo a quantidade de usuarios por safra e repetição de Clientes"
      ],
      "metadata": {
        "id": "7rhpeg3acAl2"
      }
    },
    {
      "cell_type": "code",
      "source": [
        "(spark.sql(\n",
        "    \"\"\"\n",
        "    select safra,\n",
        "            count(msno) AS quantidade\n",
        "    from tb_members\n",
        "    group by 1\n",
        "    order by 1\n",
        "    \"\"\"\n",
        "    ).show()\n",
        ")"
      ],
      "metadata": {
        "colab": {
          "base_uri": "https://localhost:8080/"
        },
        "id": "_TLgCmSAEHrT",
        "outputId": "ce1869c7-b417-4558-d62c-0c77530d2032"
      },
      "execution_count": null,
      "outputs": [
        {
          "output_type": "stream",
          "name": "stdout",
          "text": [
            "+------+----------+\n",
            "| safra|quantidade|\n",
            "+------+----------+\n",
            "|201601|   4294184|\n",
            "|201602|   4502354|\n",
            "|201603|   4697972|\n",
            "|201604|   4876301|\n",
            "|201605|   5060705|\n",
            "|201606|   5250064|\n",
            "|201607|   5439337|\n",
            "|201608|   5615921|\n",
            "|201609|   5778986|\n",
            "|201610|   5949288|\n",
            "|201611|   6114345|\n",
            "|201612|   6287789|\n",
            "+------+----------+\n",
            "\n"
          ]
        }
      ]
    },
    {
      "cell_type": "markdown",
      "source": [
        "vendo a quantidade de ids por safra, se for igual a quantidade total, nao se repetem dentro de cada safra"
      ],
      "metadata": {
        "id": "QASMMH5bIS4y"
      }
    },
    {
      "cell_type": "code",
      "source": [
        "(spark.sql(\n",
        "    \"\"\"\n",
        "    select distinct count(msno) AS primeria_safra\n",
        "    from tb_members\n",
        "    where safra = '201601'\n",
        "    \"\"\"\n",
        "    ).show()\n",
        ")"
      ],
      "metadata": {
        "colab": {
          "base_uri": "https://localhost:8080/"
        },
        "id": "8DiSZafnEJh5",
        "outputId": "47bd68e4-568f-4f68-83da-162df7b60322"
      },
      "execution_count": null,
      "outputs": [
        {
          "output_type": "stream",
          "name": "stdout",
          "text": [
            "+--------------+\n",
            "|primeria_safra|\n",
            "+--------------+\n",
            "|       4294184|\n",
            "+--------------+\n",
            "\n"
          ]
        }
      ]
    },
    {
      "cell_type": "code",
      "source": [
        "(spark.sql(\n",
        "    \"\"\"\n",
        "    select distinct count(msno) AS ultima_safra\n",
        "    from tb_members\n",
        "    where safra = '201612'\n",
        "    \"\"\"\n",
        "    ).show()\n",
        ")"
      ],
      "metadata": {
        "colab": {
          "base_uri": "https://localhost:8080/"
        },
        "id": "fiqqHBBRDE9V",
        "outputId": "49a83af3-2d70-4167-a2ff-0ba24f2bdc88"
      },
      "execution_count": null,
      "outputs": [
        {
          "output_type": "stream",
          "name": "stdout",
          "text": [
            "+------------+\n",
            "|ultima_safra|\n",
            "+------------+\n",
            "|     6287789|\n",
            "+------------+\n",
            "\n"
          ]
        }
      ]
    },
    {
      "cell_type": "markdown",
      "source": [
        "A cada safra não há clientes duplicados, só se repetem por safra, ou seja, no máximo 12 vezes"
      ],
      "metadata": {
        "id": "4cT-PpkLFC8w"
      }
    },
    {
      "cell_type": "code",
      "source": [
        "(spark.sql(\n",
        "    \"\"\"\n",
        "    WITH contagem_msno as\n",
        "    (\n",
        "      select msno,\n",
        "             count(msno) AS quantidade\n",
        "      from tb_members\n",
        "      group by 1\n",
        "    )\n",
        "    select min(quantidade) as minimo,\n",
        "           max(quantidade) as maximo\n",
        "    from contagem_msno\n",
        "    \"\"\"\n",
        "    ).show()\n",
        ")"
      ],
      "metadata": {
        "colab": {
          "base_uri": "https://localhost:8080/"
        },
        "id": "7fRxR2jIF1UV",
        "outputId": "b0561de8-3ecf-4bc0-877d-d02f5570e0f3"
      },
      "execution_count": null,
      "outputs": [
        {
          "output_type": "stream",
          "name": "stdout",
          "text": [
            "+------+------+\n",
            "|minimo|maximo|\n",
            "+------+------+\n",
            "|     1|    12|\n",
            "+------+------+\n",
            "\n"
          ]
        }
      ]
    },
    {
      "cell_type": "markdown",
      "source": [
        "confirmado. Max de repetição 12 e minimo 1"
      ],
      "metadata": {
        "id": "pkgbf-xQIerB"
      }
    },
    {
      "cell_type": "markdown",
      "source": [
        "### Entendendo a quantidade de ativos e não ativos por safra"
      ],
      "metadata": {
        "id": "MPn_veQuIj_A"
      }
    },
    {
      "cell_type": "code",
      "source": [
        "(spark.sql(\n",
        "    \"\"\"\n",
        "    WITH contagem_total as (\n",
        "      select safra,\n",
        "             count(msno) AS quantidade\n",
        "      from tb_members\n",
        "      group by 1\n",
        "      order by 1\n",
        "    ),\n",
        "      contagem_ativos as(\n",
        "      select safra,\n",
        "             count(is_ativo) AS quantidade\n",
        "      from tb_members\n",
        "      where is_ativo = 1\n",
        "      group by 1\n",
        "      order by 1\n",
        "    ),\n",
        "      contagem_nao_ativos as(\n",
        "      select safra,\n",
        "             count(is_ativo) AS quantidade\n",
        "      from tb_members\n",
        "      where is_ativo = 0\n",
        "      group by 1\n",
        "      order by 1\n",
        "    ),\n",
        "    join as (\n",
        "      select contagem_total.safra,\n",
        "            contagem_ativos.quantidade AS quantidade_ativos,\n",
        "            contagem_nao_ativos.quantidade AS quantidade_nao_ativos,\n",
        "            contagem_total.quantidade AS quantidade_total\n",
        "      from contagem_total\n",
        "      join contagem_ativos\n",
        "      on contagem_total.safra = contagem_ativos.safra\n",
        "      join contagem_nao_ativos\n",
        "      on contagem_ativos.safra = contagem_nao_ativos.safra\n",
        "      order by 1\n",
        "    )\n",
        "    select (*),\n",
        "           CONCAT(ROUND((quantidade_ativos / quantidade_total) * 100, 1), '%') as taxa_ativos,\n",
        "           CONCAT(ROUND((quantidade_nao_ativos / quantidade_total) * 100, 1), '%') as taxa_nao_ativos\n",
        "    from join\n",
        "    \"\"\"\n",
        "    ).show()\n",
        ")"
      ],
      "metadata": {
        "colab": {
          "base_uri": "https://localhost:8080/"
        },
        "id": "36FownytIy-y",
        "outputId": "58ca42b6-457a-4410-89b9-1f4c34e77263"
      },
      "execution_count": null,
      "outputs": [
        {
          "output_type": "stream",
          "name": "stdout",
          "text": [
            "+------+-----------------+---------------------+----------------+-----------+---------------+\n",
            "| safra|quantidade_ativos|quantidade_nao_ativos|quantidade_total|taxa_ativos|taxa_nao_ativos|\n",
            "+------+-----------------+---------------------+----------------+-----------+---------------+\n",
            "|201601|           888663|              3405521|         4294184|      20.7%|          79.3%|\n",
            "|201602|           918116|              3584238|         4502354|      20.4%|          79.6%|\n",
            "|201603|           871651|              3826321|         4697972|      18.6%|          81.4%|\n",
            "|201604|           831565|              4044736|         4876301|      17.1%|          82.9%|\n",
            "|201605|           849653|              4211052|         5060705|      16.8%|          83.2%|\n",
            "|201606|           844884|              4405180|         5250064|      16.1%|          83.9%|\n",
            "|201607|           967936|              4471401|         5439337|      17.8%|          82.2%|\n",
            "|201608|           980643|              4635278|         5615921|      17.5%|          82.5%|\n",
            "|201609|           991285|              4787701|         5778986|      17.2%|          82.8%|\n",
            "|201610|          1048557|              4900731|         5949288|      17.6%|          82.4%|\n",
            "|201611|          1071113|              5043232|         6114345|      17.5%|          82.5%|\n",
            "|201612|           978799|              5308990|         6287789|      15.6%|          84.4%|\n",
            "+------+-----------------+---------------------+----------------+-----------+---------------+\n",
            "\n"
          ]
        }
      ]
    },
    {
      "cell_type": "markdown",
      "source": [
        "maior parte dos clientes por safra são não ativos, indicando um possivel desbalanceamento de classes futuras."
      ],
      "metadata": {
        "id": "76v1Ep6aOy6Q"
      }
    },
    {
      "cell_type": "markdown",
      "source": [
        "### Entendendo os valores de cada coluna da Members"
      ],
      "metadata": {
        "id": "ZDxzUyU1vfEl"
      }
    },
    {
      "cell_type": "code",
      "source": [
        "def executa_query_member_por_coluna(coluna):\n",
        "  query = f\"\"\"\n",
        "            select count(distinct {coluna}) as quantidade_distinta_{coluna}\n",
        "            from tb_members\n",
        "           \"\"\"\n",
        "  spark.sql(query).show()\n",
        "\n",
        "for i in df_members.columns:\n",
        "    print(i)\n",
        "    executa_query_member_por_coluna(i)"
      ],
      "metadata": {
        "colab": {
          "base_uri": "https://localhost:8080/"
        },
        "id": "TCQK5vX3POjj",
        "outputId": "a21508ef-12ac-4a3f-ac79-144d5bffe5db"
      },
      "execution_count": null,
      "outputs": [
        {
          "output_type": "stream",
          "name": "stdout",
          "text": [
            "msno\n",
            "+------------------------+\n",
            "|quantidade_distinta_msno|\n",
            "+------------------------+\n",
            "|                 6287789|\n",
            "+------------------------+\n",
            "\n",
            "safra\n",
            "+-------------------------+\n",
            "|quantidade_distinta_safra|\n",
            "+-------------------------+\n",
            "|                       12|\n",
            "+-------------------------+\n",
            "\n",
            "registration_init_time\n",
            "+------------------------------------------+\n",
            "|quantidade_distinta_registration_init_time|\n",
            "+------------------------------------------+\n",
            "|                                      4663|\n",
            "+------------------------------------------+\n",
            "\n",
            "city\n",
            "+------------------------+\n",
            "|quantidade_distinta_city|\n",
            "+------------------------+\n",
            "|                      21|\n",
            "+------------------------+\n",
            "\n",
            "bd\n",
            "+----------------------+\n",
            "|quantidade_distinta_bd|\n",
            "+----------------------+\n",
            "|                   385|\n",
            "+----------------------+\n",
            "\n",
            "gender\n",
            "+--------------------------+\n",
            "|quantidade_distinta_gender|\n",
            "+--------------------------+\n",
            "|                         2|\n",
            "+--------------------------+\n",
            "\n",
            "registered_via\n",
            "+----------------------------------+\n",
            "|quantidade_distinta_registered_via|\n",
            "+----------------------------------+\n",
            "|                                17|\n",
            "+----------------------------------+\n",
            "\n",
            "is_ativo\n",
            "+----------------------------+\n",
            "|quantidade_distinta_is_ativo|\n",
            "+----------------------------+\n",
            "|                           2|\n",
            "+----------------------------+\n",
            "\n"
          ]
        }
      ]
    },
    {
      "cell_type": "markdown",
      "source": [
        "### Vendo se há valores missing"
      ],
      "metadata": {
        "id": "QjzgGMLBJRr1"
      }
    },
    {
      "cell_type": "code",
      "source": [
        "# repetindo o codigo a cima em sql agora\n",
        "\n",
        "(spark.sql(\n",
        "    \"\"\"\n",
        "      SELECT\n",
        "        SUM(CASE WHEN msno IS NULL THEN 1 ELSE 0 END) AS msno,\n",
        "        SUM(CASE WHEN safra IS NULL THEN 1 ELSE 0 END) AS safra,\n",
        "        SUM(CASE WHEN registration_init_time IS NULL THEN 1 ELSE 0 END) AS registration_init_time,\n",
        "        SUM(CASE WHEN city IS NULL THEN 1 ELSE 0 END) AS city,\n",
        "        SUM(CASE WHEN bd IS NULL THEN 1 ELSE 0 END) AS bd,\n",
        "        SUM(CASE WHEN gender IS NULL THEN 1 ELSE 0 END) AS gender,\n",
        "        SUM(CASE WHEN registered_via IS NULL THEN 1 ELSE 0 END) AS registered_via,\n",
        "        SUM(CASE WHEN is_ativo IS NULL THEN 1 ELSE 0 END) AS is_ativo\n",
        "      FROM tb_members\n",
        "    \"\"\"\n",
        "  ).show()\n",
        ")"
      ],
      "metadata": {
        "colab": {
          "base_uri": "https://localhost:8080/"
        },
        "id": "VsmpTKJNP3J6",
        "outputId": "bd77b632-dbd9-4124-d42d-681603980e78"
      },
      "execution_count": null,
      "outputs": [
        {
          "output_type": "stream",
          "name": "stdout",
          "text": [
            "+----+-----+----------------------+----+---+--------+--------------+--------+\n",
            "|msno|safra|registration_init_time|city| bd|  gender|registered_via|is_ativo|\n",
            "+----+-----+----------------------+----+---+--------+--------------+--------+\n",
            "|   0|    0|                     0|   0|  0|38210177|             0|       0|\n",
            "+----+-----+----------------------+----+---+--------+--------------+--------+\n",
            "\n"
          ]
        }
      ]
    },
    {
      "cell_type": "markdown",
      "source": [
        "38 milhoes de registros vazios da coluna de genero, de um total de 63 milhoes"
      ],
      "metadata": {
        "id": "riQ9rquHKFat"
      }
    },
    {
      "cell_type": "markdown",
      "source": [
        "###  Observações e Questionamentos\n",
        "\n",
        " - Clientes cadastrados a mais de 10 anos (4663 dias distintos)\n",
        " - 21 cidades, avaliar se tem correlação com Churn\n",
        " - 385 idades distintas? algo esta muito errado.\n",
        " - 2 generos e mais da metade missing (analisar como essa variavel pode se comportar para o modelo)\n",
        " - 17 tipos de jeitos de se registrar diferentes\n",
        "\n"
      ],
      "metadata": {
        "id": "GeBx35zs1FNR"
      }
    },
    {
      "cell_type": "markdown",
      "source": [
        "### Avaliando as idades 'bd'"
      ],
      "metadata": {
        "id": "bjFaGRiC15XN"
      }
    },
    {
      "cell_type": "code",
      "source": [
        "(spark.sql(\n",
        "    \"\"\"\n",
        "      select min(bd) as minimo,\n",
        "             max(bd) as maximo\n",
        "      from tb_members\n",
        "    \"\"\"\n",
        "  ).show()\n",
        ")"
      ],
      "metadata": {
        "colab": {
          "base_uri": "https://localhost:8080/"
        },
        "id": "Mq2KI0SAWQ5-",
        "outputId": "5206fbbc-25b3-43f0-ce5a-a385111d8d2c"
      },
      "execution_count": null,
      "outputs": [
        {
          "output_type": "stream",
          "name": "stdout",
          "text": [
            "+------+------+\n",
            "|minimo|maximo|\n",
            "+------+------+\n",
            "| -7168|  2016|\n",
            "+------+------+\n",
            "\n"
          ]
        }
      ]
    },
    {
      "cell_type": "markdown",
      "source": [
        "#### Entendendo brevemente a distribuição dos dados"
      ],
      "metadata": {
        "id": "0N5bIo6-EM_P"
      }
    },
    {
      "cell_type": "code",
      "source": [
        "(spark.sql(\n",
        "    \"\"\"\n",
        "    SELECT\n",
        "        safra,\n",
        "        min(bd) AS minimo_per_safra,\n",
        "        max(bd) AS maximo_per_safra,\n",
        "        SUM(CASE WHEN bd IS NULL THEN 0 ELSE 1 END) AS bd_total,\n",
        "        SUM(CASE WHEN bd <= 0 THEN 1 ELSE 0 END) AS bd_menor_que_0,\n",
        "        SUM(CASE WHEN bd > 120 THEN 1 ELSE 0 END) AS bd_maior_que_120,\n",
        "        SUM(CASE WHEN bd > 0 AND bd <= 120 THEN 1 ELSE 0 END) AS bd_entre_0_e_120,\n",
        "        CONCAT(ROUND(((bd_menor_que_0 + bd_maior_que_120) / bd_total) * 100, 1), '%') as taxa_de_fora_da_idade,\n",
        "        CONCAT(ROUND((bd_entre_0_e_120 / bd_total) * 100, 1), '%') as taxa_de_dentro_da_idade\n",
        "    FROM tb_members\n",
        "    group by 1\n",
        "    order by 1 asc\n",
        "    \"\"\"\n",
        "  ).show()\n",
        ")"
      ],
      "metadata": {
        "colab": {
          "base_uri": "https://localhost:8080/"
        },
        "id": "w_IRXvZxbtUJ",
        "outputId": "24b6ea17-a178-4934-9115-a56dc4bbda2c"
      },
      "execution_count": null,
      "outputs": [
        {
          "output_type": "stream",
          "name": "stdout",
          "text": [
            "+------+----------------+----------------+--------+--------------+----------------+----------------+---------------------+-----------------------+\n",
            "| safra|minimo_per_safra|maximo_per_safra|bd_total|bd_menor_que_0|bd_maior_que_120|bd_entre_0_e_120|taxa_de_fora_da_idade|taxa_de_dentro_da_idade|\n",
            "+------+----------------+----------------+--------+--------------+----------------+----------------+---------------------+-----------------------+\n",
            "|201601|           -7168|            2016| 4294184|       2397278|             330|         1896576|                55.8%|                  44.2%|\n",
            "|201602|           -7168|            2016| 4502354|       2575982|             333|         1926039|                57.2%|                  42.8%|\n",
            "|201603|           -7168|            2016| 4697972|       2745403|             339|         1952230|                58.4%|                  41.6%|\n",
            "|201604|           -7168|            2016| 4876301|       2901081|             343|         1974877|                59.5%|                  40.5%|\n",
            "|201605|           -7168|            2016| 5060705|       3063294|             345|         1997066|                60.5%|                  39.5%|\n",
            "|201606|           -7168|            2016| 5250064|       3229271|             346|         2020447|                61.5%|                  38.5%|\n",
            "|201607|           -7168|            2016| 5439337|       3394233|             350|         2044754|                62.4%|                  37.6%|\n",
            "|201608|           -7168|            2016| 5615921|       3548369|             354|         2067198|                63.2%|                  36.8%|\n",
            "|201609|           -7168|            2016| 5778986|       3691198|             357|         2087431|                63.9%|                  36.1%|\n",
            "|201610|           -7168|            2016| 5949288|       3840964|             359|         2107965|                64.6%|                  35.4%|\n",
            "|201611|           -7168|            2016| 6114345|       3986279|             363|         2127703|                65.2%|                  34.8%|\n",
            "|201612|           -7168|            2016| 6287789|       4139590|             365|         2147834|                65.8%|                  34.2%|\n",
            "+------+----------------+----------------+--------+--------------+----------------+----------------+---------------------+-----------------------+\n",
            "\n"
          ]
        }
      ]
    },
    {
      "cell_type": "markdown",
      "source": [
        "### OutLiers identificados, Colunas com tipos diferentes identificados sendo necessário transformar para a bronze\n",
        "\n",
        "Outliers na 'bd'. Possiveis soluções para os outliers: Exclusão, substituição. Analisar a correlação de churn com a idade e ver sua importancia. Para o momento: alterações esperadas para a construção da bronze, agora apenas sinalizar idades invalidas e que precisam ser tratadas.\n",
        "\n",
        "Entender melhor a coluna de data 'safra', o que ela realmente representa, usar ela ou usar a registred_init_time?"
      ],
      "metadata": {
        "id": "5vmbcoqGEdst"
      }
    },
    {
      "cell_type": "markdown",
      "source": [
        "#### Documentar:\n",
        "Quantos valores foram removidos ou corrigidos?\n",
        "Que critérios foram usados para identificar os valores inválidos?\n",
        "Qual o impacto de substituir ou excluir? A quantidade de substituição é grande ou pequena?"
      ],
      "metadata": {
        "id": "F5lMVp4iH9KK"
      }
    },
    {
      "cell_type": "code",
      "source": [
        "df_year_members = df_members.withColumn('year', year(col('registration_init_time')))\n",
        "df_year_members.createOrReplaceTempView('tb_members_year')\n",
        "\n",
        "(spark.sql(\n",
        "    \"\"\"\n",
        "    SELECT\n",
        "        year,\n",
        "        min(bd) AS minimo_per_year,\n",
        "        max(bd) AS maximo_per_year,\n",
        "        SUM(CASE WHEN bd IS NULL THEN 0 ELSE 1 END) AS bd_total,\n",
        "        SUM(CASE WHEN bd <= 0 THEN 1 ELSE 0 END) AS bd_menor_que_0,\n",
        "        SUM(CASE WHEN bd > 120 THEN 1 ELSE 0 END) AS bd_maior_que_120,\n",
        "        SUM(CASE WHEN bd > 0 AND bd <= 120 THEN 1 ELSE 0 END) AS bd_entre_0_e_120,\n",
        "        CONCAT(ROUND(((bd_menor_que_0 + bd_maior_que_120) / bd_total) * 100, 1), '%') as taxa_de_fora_da_idade,\n",
        "        CONCAT(ROUND((bd_entre_0_e_120 / bd_total) * 100, 1), '%') as taxa_de_dentro_da_idade\n",
        "    FROM tb_members_year\n",
        "    group by 1\n",
        "    order by 1 asc\n",
        "    \"\"\"\n",
        "  ).show()\n",
        ")"
      ],
      "metadata": {
        "colab": {
          "base_uri": "https://localhost:8080/"
        },
        "id": "nk-5jR8N9RQY",
        "outputId": "78c24af2-d245-433b-ec53-3a588f7ca8ef"
      },
      "execution_count": null,
      "outputs": [
        {
          "output_type": "stream",
          "name": "stdout",
          "text": [
            "+----+---------------+---------------+--------+--------------+----------------+----------------+---------------------+-----------------------+\n",
            "|year|minimo_per_year|maximo_per_year|bd_total|bd_menor_que_0|bd_maior_que_120|bd_entre_0_e_120|taxa_de_fora_da_idade|taxa_de_dentro_da_idade|\n",
            "+----+---------------+---------------+--------+--------------+----------------+----------------+---------------------+-----------------------+\n",
            "|2004|              0|            786|  314808|         77088|              12|          237708|                24.5%|                  75.5%|\n",
            "|2005|              0|            237|  496188|         75480|              12|          420696|                15.2%|                  84.8%|\n",
            "|2006|              0|            994|  647436|           732|              12|          646692|                 0.1%|                  99.9%|\n",
            "|2007|          -3152|           1821| 1077960|           876|              24|         1077060|                 0.1%|                  99.9%|\n",
            "|2008|              0|           1820|  812280|           696|              12|          811572|                 0.1%|                  99.9%|\n",
            "|2009|              0|           1033|  763596|         14256|              72|          749268|                 1.9%|                  98.1%|\n",
            "|2010|            -50|           1946| 1380900|        391248|             348|          989304|                28.4%|                  71.6%|\n",
            "|2011|          -7168|           1958| 2148612|        712452|             816|         1435344|                33.2%|                  66.8%|\n",
            "|2012|          -1970|           1056| 3398280|       1253928|             540|         2143812|                36.9%|                  63.1%|\n",
            "|2013|          -2828|           1062| 6296664|       3967476|             804|         2328384|                63.0%|                  37.0%|\n",
            "|2014|          -5978|           1937|11709312|       7279152|             576|         4429584|                62.2%|                  37.8%|\n",
            "|2015|          -6998|           2016|19446300|      12368772|             720|         7076808|                63.6%|                  36.4%|\n",
            "|2016|           -529|           1421|15374910|      13370786|             236|         2003888|                87.0%|                  13.0%|\n",
            "+----+---------------+---------------+--------+--------------+----------------+----------------+---------------------+-----------------------+\n",
            "\n"
          ]
        }
      ]
    },
    {
      "cell_type": "markdown",
      "source": [
        "os outliers, como foi sugerido no enunciado do problema estão não só em 2015, mas concentrados em outros anos tambem."
      ],
      "metadata": {
        "id": "3ZfLyYkn-vXK"
      }
    },
    {
      "cell_type": "markdown",
      "source": [
        "## 2 - Entendendo a Transaction"
      ],
      "metadata": {
        "id": "pU6-AwtHq4MD"
      }
    },
    {
      "cell_type": "markdown",
      "source": [
        "### Primeira visão"
      ],
      "metadata": {
        "id": "tKIoi_KIoPLo"
      }
    },
    {
      "cell_type": "code",
      "source": [
        "spark.sql('select * from tb_transactions LIMIT 10').show()"
      ],
      "metadata": {
        "colab": {
          "base_uri": "https://localhost:8080/"
        },
        "id": "XId2L1aUeJaP",
        "outputId": "7eb848d7-6ed9-4029-8a07-bbc5444e308a"
      },
      "execution_count": null,
      "outputs": [
        {
          "output_type": "stream",
          "name": "stdout",
          "text": [
            "+--------------------+-----------------+-----------------+---------------+------------------+-------------+----------------+----------------------+---------+------+\n",
            "|                msno|payment_method_id|payment_plan_days|plan_list_price|actual_amount_paid|is_auto_renew|transaction_date|membership_expire_date|is_cancel| safra|\n",
            "+--------------------+-----------------+-----------------+---------------+------------------+-------------+----------------+----------------------+---------+------+\n",
            "|+++IZseRRiQS9aaSk...|               38|              410|           1788|              1788|            0|        20151121|              20170104|        0|201511|\n",
            "|+++snpr7pmobhLKUg...|               41|               30|            149|               149|            1|        20150526|              20150626|        0|201505|\n",
            "|+++snpr7pmobhLKUg...|               41|               30|            149|               149|            1|        20150926|              20151026|        0|201509|\n",
            "|++/9R3sX37CjxbY/A...|               41|               30|            149|               149|            1|        20160615|              20160715|        0|201606|\n",
            "|++/Gw1B9K+XOlB3hL...|               40|               31|            149|               149|            1|        20150113|              20150216|        0|201501|\n",
            "|++0nOC7BmrUTtcSbo...|               16|               30|            149|               149|            1|        20151012|              20151111|        0|201510|\n",
            "|++0t0Uy2D3r1pRVxg...|               35|                7|              0|                 0|            0|        20150614|              20150615|        0|201506|\n",
            "|++1eOqCPRmzyBjMGv...|               35|                7|              0|                 0|            0|        20161101|              20161108|        0|201611|\n",
            "|++2wdWRV3Thy9HZyR...|               41|               30|            149|                 0|            1|        20151008|              20151015|        1|201510|\n",
            "|++3A6JMzYJeron30G...|               41|               30|            149|               119|            1|        20150611|              20150711|        0|201506|\n",
            "+--------------------+-----------------+-----------------+---------------+------------------+-------------+----------------+----------------------+---------+------+\n",
            "\n"
          ]
        }
      ]
    },
    {
      "cell_type": "markdown",
      "source": [
        "Visto valores de plan_list_price iguais ao actual_amount_paid, para valores altos que é incomum. Para valores baixos é entendivel, pode ser o primeiro mes do cliente, mas valores como 1788 é questionavel.\n"
      ],
      "metadata": {
        "id": "ETEEeaS9ejQO"
      }
    },
    {
      "cell_type": "markdown",
      "source": [
        "### Entendendo os minimos e máximos das colunas de data"
      ],
      "metadata": {
        "id": "Mw0PAf1noTEV"
      }
    },
    {
      "cell_type": "code",
      "source": [
        "df_transactions = (df_transactions.withColumn('payment_method_id', col('payment_method_id').cast('int'))\n",
        "                                  .withColumn('payment_plan_days', col('payment_plan_days').cast('int'))\n",
        "                                  .withColumn('plan_list_price', col('plan_list_price').cast('float'))\n",
        "                                  .withColumn('actual_amount_paid', col('actual_amount_paid').cast('float'))\n",
        "                                  .withColumn('is_auto_renew', col('is_auto_renew').cast('boolean'))\n",
        "                                  .withColumn('transaction_date', to_date(col('transaction_date'), 'yyyyMMdd'))\n",
        "                                  .withColumn('membership_expire_date', to_date(col('membership_expire_date'), 'yyyyMMdd'))\n",
        "                                  .withColumn('is_cancel', col('is_cancel').cast('boolean'))\n",
        "                                  .withColumn('safra', col('safra').cast('int'))\n",
        "                                  )\n",
        "df_transactions.createOrReplaceTempView('tb_transactions')\n",
        "\n",
        "(spark.sql(\n",
        "    \"\"\"\n",
        "    select min(transaction_date), max(transaction_date),\n",
        "           min(membership_expire_date), max(membership_expire_date),\n",
        "           min(safra), max(safra)\n",
        "    from tb_transactions\n",
        "    \"\"\"\n",
        "  ).show()\n",
        ")"
      ],
      "metadata": {
        "colab": {
          "base_uri": "https://localhost:8080/"
        },
        "id": "35OMxNEyAMg2",
        "outputId": "0d5a0191-49e8-46e7-9d63-c2bfe6fe4dc3"
      },
      "execution_count": null,
      "outputs": [
        {
          "output_type": "stream",
          "name": "stdout",
          "text": [
            "+---------------------+---------------------+---------------------------+---------------------------+----------+----------+\n",
            "|min(transaction_date)|max(transaction_date)|min(membership_expire_date)|max(membership_expire_date)|min(safra)|max(safra)|\n",
            "+---------------------+---------------------+---------------------------+---------------------------+----------+----------+\n",
            "|           2015-01-01|           2017-02-28|                 1970-01-01|                 2017-03-31|    201501|    201702|\n",
            "+---------------------+---------------------+---------------------------+---------------------------+----------+----------+\n",
            "\n"
          ]
        }
      ]
    },
    {
      "cell_type": "markdown",
      "source": [
        "data de expirar o plano em 1970? o primeiro usuario registrado foi em 2004, antes disso pode se considerar uma anomalia."
      ],
      "metadata": {
        "id": "K0n0MQ7VCmic"
      }
    },
    {
      "cell_type": "code",
      "source": [
        "(spark.sql(\n",
        "    \"\"\"\n",
        "    select count(*) as quantidade_linhas_antes_de_2004\n",
        "    from tb_transactions\n",
        "    where membership_expire_date < '2004-01-01'\n",
        "    \"\"\"\n",
        "  ).show()\n",
        ")"
      ],
      "metadata": {
        "colab": {
          "base_uri": "https://localhost:8080/"
        },
        "id": "R_DBwDTQCzWO",
        "outputId": "33c3b12a-abd6-42da-b6bf-707b55c8972e"
      },
      "execution_count": null,
      "outputs": [
        {
          "output_type": "stream",
          "name": "stdout",
          "text": [
            "+-------------------------------+\n",
            "|quantidade_linhas_antes_de_2004|\n",
            "+-------------------------------+\n",
            "|                           1501|\n",
            "+-------------------------------+\n",
            "\n"
          ]
        }
      ]
    },
    {
      "cell_type": "markdown",
      "source": [
        "### Entendendo cada coluna da Transaction"
      ],
      "metadata": {
        "id": "TQ5yYMR9waWc"
      }
    },
    {
      "cell_type": "code",
      "source": [
        "def executa_query_transaction_por_coluna(coluna):\n",
        "  query = f\"\"\"\n",
        "            select count(distinct {coluna}) as quantidade_distinta_{coluna}\n",
        "            from tb_transactions\n",
        "           \"\"\"\n",
        "  spark.sql(query).show()\n",
        "\n",
        "for i in df_transactions.columns:\n",
        "    print(i)\n",
        "    executa_query_member_por_coluna(i)"
      ],
      "metadata": {
        "colab": {
          "base_uri": "https://localhost:8080/"
        },
        "id": "7OnU5Hs6buXa",
        "outputId": "c9848f15-aefa-483d-d6d9-afd7644d6711"
      },
      "execution_count": null,
      "outputs": [
        {
          "output_type": "stream",
          "name": "stdout",
          "text": [
            "msno\n",
            "+------------------------+\n",
            "|quantidade_distinta_msno|\n",
            "+------------------------+\n",
            "|                 2363626|\n",
            "+------------------------+\n",
            "\n",
            "payment_method_id\n",
            "+-------------------------------------+\n",
            "|quantidade_distinta_payment_method_id|\n",
            "+-------------------------------------+\n",
            "|                                   40|\n",
            "+-------------------------------------+\n",
            "\n",
            "payment_plan_days\n",
            "+-------------------------------------+\n",
            "|quantidade_distinta_payment_plan_days|\n",
            "+-------------------------------------+\n",
            "|                                   37|\n",
            "+-------------------------------------+\n",
            "\n",
            "plan_list_price\n",
            "+-----------------------------------+\n",
            "|quantidade_distinta_plan_list_price|\n",
            "+-----------------------------------+\n",
            "|                                 51|\n",
            "+-----------------------------------+\n",
            "\n",
            "actual_amount_paid\n",
            "+--------------------------------------+\n",
            "|quantidade_distinta_actual_amount_paid|\n",
            "+--------------------------------------+\n",
            "|                                    57|\n",
            "+--------------------------------------+\n",
            "\n",
            "is_auto_renew\n",
            "+---------------------------------+\n",
            "|quantidade_distinta_is_auto_renew|\n",
            "+---------------------------------+\n",
            "|                                2|\n",
            "+---------------------------------+\n",
            "\n",
            "transaction_date\n",
            "+------------------------------------+\n",
            "|quantidade_distinta_transaction_date|\n",
            "+------------------------------------+\n",
            "|                                 790|\n",
            "+------------------------------------+\n",
            "\n",
            "membership_expire_date\n",
            "+------------------------------------------+\n",
            "|quantidade_distinta_membership_expire_date|\n",
            "+------------------------------------------+\n",
            "|                                      1534|\n",
            "+------------------------------------------+\n",
            "\n",
            "is_cancel\n",
            "+-----------------------------+\n",
            "|quantidade_distinta_is_cancel|\n",
            "+-----------------------------+\n",
            "|                            2|\n",
            "+-----------------------------+\n",
            "\n",
            "safra\n",
            "+-------------------------+\n",
            "|quantidade_distinta_safra|\n",
            "+-------------------------+\n",
            "|                       26|\n",
            "+-------------------------+\n",
            "\n"
          ]
        }
      ]
    },
    {
      "cell_type": "markdown",
      "source": [
        "- 40 meios de pagamento\n",
        "- 37 tamanhos de planos diferentes, (qnt de dias acumulados ativos?)\n",
        "- 26 safras (201501 a 201702)"
      ],
      "metadata": {
        "id": "GtMsx1l4dQlI"
      }
    },
    {
      "cell_type": "markdown",
      "source": [
        "### Entendendo os preços dos planos"
      ],
      "metadata": {
        "id": "HtC9EniFrOiK"
      }
    },
    {
      "cell_type": "code",
      "source": [
        "(spark.sql(\n",
        "    \"\"\"\n",
        "    select min(plan_list_price), max(plan_list_price),\n",
        "           min(actual_amount_paid), max(actual_amount_paid),\n",
        "           SUM(CASE WHEN plan_list_price = actual_amount_paid THEN 1 ELSE 0 END) AS qnt_iguais\n",
        "    from tb_transactions\n",
        "    \"\"\"\n",
        "  ).show()\n",
        ")"
      ],
      "metadata": {
        "colab": {
          "base_uri": "https://localhost:8080/"
        },
        "id": "Hnv51ZvEcU-z",
        "outputId": "a8c49284-6d0b-4659-de67-e5c7be4579f1"
      },
      "execution_count": null,
      "outputs": [
        {
          "output_type": "stream",
          "name": "stdout",
          "text": [
            "+--------------------+--------------------+-----------------------+-----------------------+----------+\n",
            "|min(plan_list_price)|max(plan_list_price)|min(actual_amount_paid)|max(actual_amount_paid)|qnt_iguais|\n",
            "+--------------------+--------------------+-----------------------+-----------------------+----------+\n",
            "|                 0.0|              2000.0|                    0.0|                 2000.0|  19114847|\n",
            "+--------------------+--------------------+-----------------------+-----------------------+----------+\n",
            "\n"
          ]
        }
      ]
    },
    {
      "cell_type": "code",
      "source": [
        "df_transactions.describe('plan_list_price', 'actual_amount_paid').show()"
      ],
      "metadata": {
        "colab": {
          "base_uri": "https://localhost:8080/"
        },
        "id": "eG_LTFt6vjxM",
        "outputId": "a220cc75-078f-47e3-8fd1-b8dcf49a56e4"
      },
      "execution_count": null,
      "outputs": [
        {
          "output_type": "stream",
          "name": "stdout",
          "text": [
            "+-------+------------------+------------------+\n",
            "|summary|   plan_list_price|actual_amount_paid|\n",
            "+-------+------------------+------------------+\n",
            "|  count|          20712225|          20712225|\n",
            "|   mean|140.24088353617248|142.83468555406287|\n",
            "| stddev|132.27679209056055|133.60944276809502|\n",
            "|    min|               0.0|               0.0|\n",
            "|    max|            2000.0|            2000.0|\n",
            "+-------+------------------+------------------+\n",
            "\n"
          ]
        }
      ]
    },
    {
      "cell_type": "code",
      "source": [
        "# vendo quais sao os valores que mais se repetem na coluna plan_list_price e actual_amount_paid\n",
        "(spark.sql(\n",
        "    \"\"\"\n",
        "      select safra,\n",
        "             plan_list_price,\n",
        "             payment_plan_days\n",
        "      from tb_transactions\n",
        "      group by 1, 2, 3\n",
        "      order by 1 desc\n",
        "      limit 10\n",
        "    \"\"\"\n",
        "  ).show()\n",
        ")\n",
        "\n",
        "(spark.sql(\n",
        "    \"\"\"\n",
        "      select safra,\n",
        "             actual_amount_paid,\n",
        "             payment_plan_days\n",
        "      from tb_transactions\n",
        "      group by 1, 2, 3\n",
        "      order by 1 desc\n",
        "      limit 10\n",
        "    \"\"\"\n",
        "  ).show()\n",
        ")"
      ],
      "metadata": {
        "colab": {
          "base_uri": "https://localhost:8080/"
        },
        "id": "Np0YDNnxfr12",
        "outputId": "dfc9ff00-811f-4d70-d851-1e6cc1ae7209"
      },
      "execution_count": null,
      "outputs": [
        {
          "output_type": "stream",
          "name": "stdout",
          "text": [
            "+------+---------------+-----------------+\n",
            "| safra|plan_list_price|payment_plan_days|\n",
            "+------+---------------+-----------------+\n",
            "|201702|            119|               30|\n",
            "|201702|              0|              120|\n",
            "|201702|              0|                3|\n",
            "|201702|            180|               45|\n",
            "|201702|             35|                7|\n",
            "|201702|              0|                7|\n",
            "|201702|            150|               30|\n",
            "|201702|              0|              195|\n",
            "|201702|             99|               30|\n",
            "|201702|            100|               30|\n",
            "+------+---------------+-----------------+\n",
            "\n",
            "+------+------------------+-----------------+\n",
            "| safra|actual_amount_paid|payment_plan_days|\n",
            "+------+------------------+-----------------+\n",
            "|201702|               119|               30|\n",
            "|201702|                 0|              120|\n",
            "|201702|                 0|                3|\n",
            "|201702|               180|               45|\n",
            "|201702|                35|                7|\n",
            "|201702|                 0|                7|\n",
            "|201702|               150|               30|\n",
            "|201702|                 0|              195|\n",
            "|201702|                99|               30|\n",
            "|201702|               100|               30|\n",
            "+------+------------------+-----------------+\n",
            "\n"
          ]
        }
      ]
    },
    {
      "cell_type": "code",
      "source": [
        "(spark.sql(\n",
        "    \"\"\"\n",
        "      select safra,\n",
        "             plan_list_price,\n",
        "             payment_plan_days,\n",
        "             count(plan_list_price) as qnt_plan_list_price\n",
        "      from tb_transactions\n",
        "      group by 1, 2, 3\n",
        "      order by 4 desc\n",
        "      limit 10\n",
        "    \"\"\"\n",
        "  ).show()\n",
        ")"
      ],
      "metadata": {
        "colab": {
          "base_uri": "https://localhost:8080/"
        },
        "id": "xF002EEiiuis",
        "outputId": "63a4c0e1-8111-4fe5-a479-cd456cadca10"
      },
      "execution_count": null,
      "outputs": [
        {
          "output_type": "stream",
          "name": "stdout",
          "text": [
            "+------+---------------+-----------------+-------------------+\n",
            "| safra|plan_list_price|payment_plan_days|qnt_plan_list_price|\n",
            "+------+---------------+-----------------+-------------------+\n",
            "|201512|            149|               30|             596373|\n",
            "|201511|            149|               30|             580714|\n",
            "|201601|            149|               30|             555415|\n",
            "|201508|            149|               30|             496022|\n",
            "|201509|            149|               30|             486624|\n",
            "|201608|            149|               30|             486141|\n",
            "|201507|            149|               30|             484580|\n",
            "|201609|            149|               30|             476899|\n",
            "|201506|            149|               30|             470793|\n",
            "|201607|            149|               30|             470265|\n",
            "+------+---------------+-----------------+-------------------+\n",
            "\n"
          ]
        }
      ]
    },
    {
      "cell_type": "markdown",
      "source": [
        "possiveis valores dos planos\n",
        "\n",
        "- 180 -\n",
        "- 150 -\n",
        "- 149 -\n",
        "- 129 -\n",
        "- 119 -\n",
        "- 100 -\n",
        "- 99 -"
      ],
      "metadata": {
        "id": "vnNWslOthS23"
      }
    },
    {
      "cell_type": "markdown",
      "source": [
        "### Vendo se há valores missing"
      ],
      "metadata": {
        "id": "MsRj6sS5Ka2W"
      }
    },
    {
      "cell_type": "code",
      "source": [
        "(spark.sql(\n",
        "    \"\"\"\n",
        "      SELECT\n",
        "        SUM(CASE WHEN msno IS NULL THEN 1 ELSE 0 END) AS msno,\n",
        "        SUM(CASE WHEN payment_method_id IS NULL THEN 1 ELSE 0 END) AS payment_method_id,\n",
        "        SUM(CASE WHEN payment_plan_days IS NULL THEN 1 ELSE 0 END) AS payment_plan_days,\n",
        "        SUM(CASE WHEN plan_list_price IS NULL THEN 1 ELSE 0 END) AS plan_list_price,\n",
        "        SUM(CASE WHEN actual_amount_paid IS NULL THEN 1 ELSE 0 END) AS actual_amount_paid,\n",
        "        SUM(CASE WHEN is_auto_renew IS NULL THEN 1 ELSE 0 END) AS is_auto_renew,\n",
        "        SUM(CASE WHEN transaction_date IS NULL THEN 1 ELSE 0 END) AS transaction_date,\n",
        "        SUM(CASE WHEN membership_expire_date IS NULL THEN 1 ELSE 0 END) AS membership_expire_date,\n",
        "        SUM(CASE WHEN is_cancel IS NULL THEN 1 ELSE 0 END) AS is_cancel,\n",
        "        SUM(CASE WHEN safra IS NULL THEN 1 ELSE 0 END) AS safra\n",
        "      FROM tb_transactions\n",
        "    \"\"\"\n",
        "  ).show()\n",
        ")"
      ],
      "metadata": {
        "colab": {
          "base_uri": "https://localhost:8080/"
        },
        "id": "JwWSG-OtKaQE",
        "outputId": "371b3574-24d0-480f-b05f-d0ab1db29dbd"
      },
      "execution_count": null,
      "outputs": [
        {
          "output_type": "stream",
          "name": "stdout",
          "text": [
            "+----+-----------------+-----------------+---------------+------------------+-------------+----------------+----------------------+---------+-----+\n",
            "|msno|payment_method_id|payment_plan_days|plan_list_price|actual_amount_paid|is_auto_renew|transaction_date|membership_expire_date|is_cancel|safra|\n",
            "+----+-----------------+-----------------+---------------+------------------+-------------+----------------+----------------------+---------+-----+\n",
            "|   0|                0|                0|              0|                 0|            0|               0|                     0|        0|    0|\n",
            "+----+-----------------+-----------------+---------------+------------------+-------------+----------------+----------------------+---------+-----+\n",
            "\n"
          ]
        }
      ]
    },
    {
      "cell_type": "markdown",
      "source": [
        "### Observações e questionamentos\n",
        "\n",
        "  - Data de vencimento do plano em 1970?\n",
        "  - Transações de 201501 a 201702\n",
        "  - 40 meios de pagamentos\n",
        "  - Maior parte dos registros de preços dos planos, tanto Amount quanto por plano estão com valores iguais.\n",
        "  - Tipos dos dados estão atrapalhando as consultas em cima dos dados\n",
        "  - Coluna is_cancel: entender como ela pode ajudar no nosso contexto\n",
        "  - Não há missing"
      ],
      "metadata": {
        "id": "qMY4uOMYH7Ci"
      }
    },
    {
      "cell_type": "markdown",
      "source": [
        "## 3 - Entendendo a User_logs"
      ],
      "metadata": {
        "id": "sBBgtjEUq72_"
      }
    },
    {
      "cell_type": "markdown",
      "source": [
        "### Primeira visão"
      ],
      "metadata": {
        "id": "NXIS1Fku7Ucn"
      }
    },
    {
      "cell_type": "code",
      "source": [
        "df_userlogs.show(5)"
      ],
      "metadata": {
        "colab": {
          "base_uri": "https://localhost:8080/"
        },
        "id": "uNuSsq-37Xer",
        "outputId": "06e43cba-e5e9-4bd4-a8c5-1f25dcb31b0f"
      },
      "execution_count": null,
      "outputs": [
        {
          "output_type": "stream",
          "name": "stdout",
          "text": [
            "+--------------------+------+------+------+------+-------+-------+-------+----------+\n",
            "|                msno| safra|num_25|num_50|num_75|num_985|num_100|num_unq|total_secs|\n",
            "+--------------------+------+------+------+------+-------+-------+-------+----------+\n",
            "|SwlrSivYHoKF9V5wm...|201701| 121.0|  28.0|  14.0|   29.0|  704.0|  827.0|184606.903|\n",
            "|rE5wSmHEF1Dhu55zh...|201605|  26.0|   2.0|   5.0|    6.0|  462.0|  256.0|119439.485|\n",
            "|hx+cyaQ/Jcdr/Z5fo...|201611| 161.0|  71.0|  49.0|   34.0|  668.0|  891.0|204791.242|\n",
            "|53QW6B70J23X2UCvx...|201502|  37.0|   9.0|   3.0|    9.0|  408.0|  447.0|101186.041|\n",
            "|/0S1N/oRyxGLZlzxn...|201506| 205.0|  49.0|  23.0|   21.0|  225.0|  489.0| 69957.524|\n",
            "+--------------------+------+------+------+------+-------+-------+-------+----------+\n",
            "only showing top 5 rows\n",
            "\n"
          ]
        }
      ]
    },
    {
      "cell_type": "markdown",
      "source": [
        "### Entendendo cada coluna da User_logs"
      ],
      "metadata": {
        "id": "0EP-3wQAwgMU"
      }
    },
    {
      "cell_type": "markdown",
      "source": [
        "Aqui temos somente variaveis númnericas, nenhuma categorica, nao tendo importância ver a distinção dos valores."
      ],
      "metadata": {
        "id": "LN4NRP6t8AXb"
      }
    },
    {
      "cell_type": "code",
      "source": [
        "df_userlogs.describe().show()"
      ],
      "metadata": {
        "colab": {
          "base_uri": "https://localhost:8080/"
        },
        "id": "jBlr4gfpwVEq",
        "outputId": "7ae8df8b-13fa-4918-d00c-4f56f1ea1f99"
      },
      "execution_count": null,
      "outputs": [
        {
          "output_type": "stream",
          "name": "stdout",
          "text": [
            "+-------+--------------------+-----------------+-----------------+-----------------+------------------+------------------+-----------------+------------------+--------------------+\n",
            "|summary|                msno|            safra|           num_25|           num_50|            num_75|           num_985|          num_100|           num_unq|          total_secs|\n",
            "+-------+--------------------+-----------------+-----------------+-----------------+------------------+------------------+-----------------+------------------+--------------------+\n",
            "|  count|            26758971|         26758971|         26758971|         26758971|          26758971|          26758971|         26758971|          26758971|            26758971|\n",
            "|   mean|                null|201572.0403868669|95.42601163549973|24.03566975725636|14.903521327483034|16.538671797207748|450.1598216538297|440.91930526775485|-2.11717488634742...|\n",
            "| stddev|                null|61.87618074610147|175.2882595645691|39.12554591867812|  22.6267215132517|37.409156681476354|725.3139035411604|  590.605957174868|6.839043702349416E14|\n",
            "|    min|+++4vcS9aMH7KWdfh...|           201501|              0.0|              0.0|               0.0|               0.0|              0.0|               1.0|-2.39807672957245...|\n",
            "|    max|zzzyOgMk9MljCerbC...|           201702|         111864.0|           8875.0|            3485.0|           37698.0|         196741.0|           32706.0|9.223372037135594E15|\n",
            "+-------+--------------------+-----------------+-----------------+-----------------+------------------+------------------+-----------------+------------------+--------------------+\n",
            "\n"
          ]
        }
      ]
    },
    {
      "cell_type": "code",
      "source": [
        "df_userlogs.select(min('safra'), max('safra')).show()"
      ],
      "metadata": {
        "colab": {
          "base_uri": "https://localhost:8080/"
        },
        "id": "54yZcvxMq3TE",
        "outputId": "e1566fa6-5bdb-456e-d2ba-575dbf44cb43"
      },
      "execution_count": null,
      "outputs": [
        {
          "output_type": "stream",
          "name": "stdout",
          "text": [
            "+----------+----------+\n",
            "|min(safra)|max(safra)|\n",
            "+----------+----------+\n",
            "|    201501|    201702|\n",
            "+----------+----------+\n",
            "\n"
          ]
        }
      ]
    },
    {
      "cell_type": "markdown",
      "source": [
        "### Entendento o total de segundos ouvidos"
      ],
      "metadata": {
        "id": "vnjWqY8u9kT-"
      }
    },
    {
      "cell_type": "code",
      "source": [
        "df_userlogs_total_secs = df_userlogs.select('total_secs')\n",
        "df_userlogs_total_secs.show(5)\n",
        "\n",
        "df_userlogs_total_secs.select(min('total_secs'), max('total_secs')).show()\n",
        "\n",
        "df_userlogs_total_secs.describe().show()"
      ],
      "metadata": {
        "colab": {
          "base_uri": "https://localhost:8080/"
        },
        "id": "IWKmr1Ft9rkG",
        "outputId": "7c0c184e-b15e-4ad9-fd76-b0e3a2ea2262"
      },
      "execution_count": null,
      "outputs": [
        {
          "output_type": "stream",
          "name": "stdout",
          "text": [
            "+----------+\n",
            "|total_secs|\n",
            "+----------+\n",
            "|184606.903|\n",
            "|119439.485|\n",
            "|204791.242|\n",
            "|101186.041|\n",
            "| 69957.524|\n",
            "+----------+\n",
            "only showing top 5 rows\n",
            "\n",
            "+--------------------+--------------------+\n",
            "|     min(total_secs)|     max(total_secs)|\n",
            "+--------------------+--------------------+\n",
            "|-2.39807672957245...|9.223372037135594E15|\n",
            "+--------------------+--------------------+\n",
            "\n",
            "+-------+--------------------+\n",
            "|summary|          total_secs|\n",
            "+-------+--------------------+\n",
            "|  count|            26758971|\n",
            "|   mean|-2.11717488634742...|\n",
            "| stddev|6.839043702349416E14|\n",
            "|    min|-2.39807672957245...|\n",
            "|    max|9.223372037135594E15|\n",
            "+-------+--------------------+\n",
            "\n"
          ]
        }
      ]
    },
    {
      "cell_type": "markdown",
      "source": [
        "#### Analisando em horas e dias ouvidos"
      ],
      "metadata": {
        "id": "vSMvPApX-Uil"
      }
    },
    {
      "cell_type": "code",
      "source": [
        "df_userlogs_total_secs_horas = df_userlogs_total_secs.withColumn('horas', col('total_secs') / 3600)\n",
        "df_userlogs_total_secs_horas.select(min('horas'), max('horas')).show()\n",
        "df_userlogs_total_secs_dias = df_userlogs_total_secs.withColumn('dias', col('total_secs') / 86400)\n",
        "df_userlogs_total_secs_dias.select(min('dias'), max('dias')).show()"
      ],
      "metadata": {
        "colab": {
          "base_uri": "https://localhost:8080/"
        },
        "id": "-blXfM2K-T_j",
        "outputId": "d499b15b-697b-4c58-c16c-d88def83be49"
      },
      "execution_count": null,
      "outputs": [
        {
          "output_type": "stream",
          "name": "stdout",
          "text": [
            "+--------------------+--------------------+\n",
            "|          min(horas)|          max(horas)|\n",
            "+--------------------+--------------------+\n",
            "|-6.66132424881237...|2.562047788093220...|\n",
            "+--------------------+--------------------+\n",
            "\n",
            "+--------------------+--------------------+\n",
            "|           min(dias)|           max(dias)|\n",
            "+--------------------+--------------------+\n",
            "|-2.77555177033848...|1.067519911705508...|\n",
            "+--------------------+--------------------+\n",
            "\n"
          ]
        }
      ]
    },
    {
      "cell_type": "markdown",
      "source": [
        "### Vendo se há valores missing"
      ],
      "metadata": {
        "id": "_uaEzuTmKlAi"
      }
    },
    {
      "cell_type": "code",
      "source": [
        "df_userlogs.select([count(when(col(c).isNull(), c)).alias(c) for c in df_userlogs.columns]).show()"
      ],
      "metadata": {
        "colab": {
          "base_uri": "https://localhost:8080/"
        },
        "id": "D_iam0skKna3",
        "outputId": "2727fd47-512c-456c-ac3b-552bc3974af9"
      },
      "execution_count": null,
      "outputs": [
        {
          "output_type": "stream",
          "name": "stdout",
          "text": [
            "+----+-----+------+------+------+-------+-------+-------+----------+\n",
            "|msno|safra|num_25|num_50|num_75|num_985|num_100|num_unq|total_secs|\n",
            "+----+-----+------+------+------+-------+-------+-------+----------+\n",
            "|   0|    0|     0|     0|     0|      0|      0|      0|         0|\n",
            "+----+-----+------+------+------+-------+-------+-------+----------+\n",
            "\n"
          ]
        }
      ]
    },
    {
      "cell_type": "markdown",
      "source": [
        "### Observações e Questionamentos\n",
        "\n",
        "  - Tipo do dado da data integer, indo de 201501 a 201702\n",
        "  - Dados como Double\n",
        "  - Valores negativos para segundos totais de musicas ouvidas? Valores discrepantes para total de segs ouvidos\n",
        "  - Não há valores faltantes"
      ],
      "metadata": {
        "id": "4nJ0AoCL7olO"
      }
    },
    {
      "cell_type": "markdown",
      "source": [
        "## 4 - Entendendo o Conjunto. Como são as DataBases e como elas se relacionam?\n",
        "\n"
      ],
      "metadata": {
        "id": "yFB1nFwcfeeo"
      }
    },
    {
      "cell_type": "markdown",
      "source": [
        "  1. Members: Registro de todos os usuários do sistema, contém daonde o usuário é, idade, genero, como ele se registrou e qual foi a data que ele entrou no sistema e se ele esta ativo ou não (assinante ou não).\n",
        "\n",
        "    - **Desafio**: Lidar com a idade dos clientes\n",
        "\n",
        "  2. Transactions: Transações de todos os clientes quando assinam o plano, contendo data de assinatura, tempo para vencimento, meios de pagamento, valores do plano, total até agora arrecadado de cada cliente. Aqui os clientes se repetiram com uma visão acumulada de casa transação por data.\n",
        "\n",
        "    - **Desafio**: Lidar com o preço dos planos assinados\n",
        "\n",
        "  3. User_logs: Logs de todos os usuários, contendo seus comportentos dentro do sistema, com tempo total de músicas ouvidas, e parcelas de músicas ouvidas, podendo ser identificado possiveis musicas preferidas ou não.\n",
        "\n",
        "    - **Desafio**: Lidar com o total de segundos ouvidos"
      ],
      "metadata": {
        "id": "3fCg3kPXqRpo"
      }
    },
    {
      "cell_type": "markdown",
      "source": [
        "## Dicionario de dados FINAL"
      ],
      "metadata": {
        "id": "tuX9331_p1Qc"
      }
    },
    {
      "cell_type": "markdown",
      "source": [
        "1. Transactions:\n",
        "  - Colunas:\n",
        "    - 1º 'mnso': id do usuário (string);\n",
        "    - 2º 'payment_method_id': Método de pagamento, Númerico (int);\n",
        "    - 3º 'payment_plan_days': tamanho do plano em DIAS (int);\n",
        "    - 4º 'plan_list_price': preço do respectivo plano em New Taiwan Dollar (NTD) (Float/Double);\n",
        "    - 5º 'actual_amount_paid': Total pago atual (nao entendi) (Float/Double);\n",
        "    - 6º 'is_auto_renew': Renovação automatica (1 ou 0) (int);\n",
        "    - 7º 'transaction_date': data da transação no formato %Y %M %D (?);\n",
        "    - 8º 'membership_expire_date': quando o plano vence no formato %Y %M %D;\n",
        "    - 9º 'is_cancel': se nessa transação o cliente cancelou ou não o plano;\n",
        "    - 10º 'safra': data (nao entendi 100% ao que se refere essa data).\n",
        "\n",
        "2. User_logs:\n",
        "  - Colunas:\n",
        "    - 1º 'msno': id do usuário;\n",
        "    - 2º 'safra': formato %Y %M %D (nao entendi essa data);\n",
        "    - 3º 'num_25': quantidade de músicas tocadas menos de 25% da duração dela;\n",
        "    - 4º 'num_50': quantidade de músicas tocadas entre 25% e 50% da duração dela;\n",
        "    - 5º 'num_75': quantidade de músicas tocadas entre 50% e 75% da duração dela;\n",
        "    - 6º 'num_985': quantidade de músicas tocadas entre 75% e 98,5% da duração dela;\n",
        "    - 7º 'num_100': quantidade de músicas tocadas acima de 98,5%;\n",
        "    - 8º 'num_unq': quantidade de musicas tocadas apenas 1 vez;\n",
        "    - 9º 'total_secs': total de segundos tocados.\n",
        "\n",
        "3. Members:\n",
        "  - Colunas:\n",
        "    - 1º 'msno': id do usuário;\n",
        "    - 2º 'city': cidade do usuário, Númerico;\n",
        "    - 3º 'bd': idade, obs: outliers em 2015;\n",
        "    - 4º 'gender': gênero, Categorico (male or female);\n",
        "    - 5º 'registered_via': meio de registro do cliente, Númerico;\n",
        "    - 6º 'registration_init_time': primeiro regristo do cliente formato %Y %M %D, de 2004 a 20161231;\n",
        "    - 7º 'safra': base do inicio ao fim de 2016;\n",
        "    - 8º 'is_ativo': se o cliente esta ativo ou não, 0 ou 1;"
      ],
      "metadata": {
        "id": "2BNtYORZqa_j"
      }
    },
    {
      "cell_type": "markdown",
      "source": [
        "## Analise de distribuição das variaveis\n",
        "\n",
        " - Analise inicial para entender como os valores estão em termo de frequencia, afim de detectar alguma anomalidade, como outliers\n",
        " - Volumetria"
      ],
      "metadata": {
        "id": "8xu0nGMh76Cx"
      }
    },
    {
      "cell_type": "code",
      "source": [],
      "metadata": {
        "id": "NFB-X3Ug9bP6"
      },
      "execution_count": null,
      "outputs": []
    },
    {
      "cell_type": "markdown",
      "source": [
        "## Analise de valores missing"
      ],
      "metadata": {
        "id": "Y7DAcK3sjT-U"
      }
    },
    {
      "cell_type": "code",
      "source": [],
      "metadata": {
        "id": "ZxXxbL77jWco"
      },
      "execution_count": null,
      "outputs": []
    },
    {
      "cell_type": "markdown",
      "source": [
        "## Checagem de integridade da Base\n",
        "\n",
        " - Valores duplicados:\n",
        " - Missing:\n",
        " - Consistencia:"
      ],
      "metadata": {
        "id": "8E_CRxtX9qSF"
      }
    },
    {
      "cell_type": "markdown",
      "source": [
        "# Construção da Bronze:\n",
        "\n",
        "- Limpeza e tratamento dos dados\n",
        "\n",
        "    - Input dos ausentes, se necessário\n",
        "    - Remoção de outliers, se necessário\n",
        "    - Normalização e padronização, se necessário\n",
        "    - Conversão de tipos de dados\n",
        "\n",
        "- Feature Engineering\n",
        "    - novas variaveis"
      ],
      "metadata": {
        "id": "fSjch1Me-BNH"
      }
    },
    {
      "cell_type": "markdown",
      "source": [
        "## Members Bronze\n",
        "\n",
        " - Casting das Variaveis\n",
        " - Tratamento das idades\n",
        " - Tratamento dos gêneros"
      ],
      "metadata": {
        "id": "6YXldIAx9oPN"
      }
    },
    {
      "cell_type": "code",
      "source": [
        "# Tratando os valores da members, convertendo os valores que tem que ser int para int, e etc.\n",
        "\n",
        "df_members.createOrReplaceTempView('tb_members')\n",
        "\n",
        "spark.sql('Describe tb_members').show()\n",
        "\n",
        "spark.sql(\n",
        "    'Select msno AS id_membro \\\n",
        "             \\\n",
        "    from tb_members'\n",
        "\n",
        ").show()\n",
        "\n"
      ],
      "metadata": {
        "id": "yePanjVHAWqN",
        "colab": {
          "base_uri": "https://localhost:8080/"
        },
        "outputId": "5cc0a27e-cf4d-474c-f4e1-b85a7e8f04e2"
      },
      "execution_count": null,
      "outputs": [
        {
          "output_type": "stream",
          "name": "stdout",
          "text": [
            "+--------------------+---------+-------+\n",
            "|            col_name|data_type|comment|\n",
            "+--------------------+---------+-------+\n",
            "|                msno|   string|   null|\n",
            "|               safra|   string|   null|\n",
            "|registration_init...|   string|   null|\n",
            "|                city|   string|   null|\n",
            "|                  bd|   string|   null|\n",
            "|              gender|   string|   null|\n",
            "|      registered_via|   string|   null|\n",
            "|            is_ativo|      int|   null|\n",
            "+--------------------+---------+-------+\n",
            "\n"
          ]
        }
      ]
    },
    {
      "cell_type": "code",
      "source": [
        "from pyspark.sql.functions import expr\n",
        "\n",
        "members_value = members_bronze.select('bd').filter((col('bd') > 0) & (col('bd') <= 120))\n",
        "members_value.describe().show()\n",
        "\n",
        "# pegar a mediana do members_value\n",
        "member_value_mediana = members_value.agg(expr('percentile(bd, 0.5)').alias('mediana')).collect()[0]['mediana']\n",
        "print(member_value_mediana)\n",
        "\n",
        "# para valores menores que zero no members_bronze 'bd' atribuir o valor da member_value_mediana\n",
        "members_bronze = members_bronze.withColumn('bd', when(col('bd') <= 0, member_value_mediana).otherwise(col('bd'))) \\\n",
        "                               .withColumn('bd', when(col('bd') > 120, member_value_mediana).otherwise(col('bd')))\n",
        "\n",
        "members_bronze.describe().show()\n",
        "\n",
        "# members_value2 = members_bronze.select('bd').filter((col('bd') <= 0))\n",
        "# members_value2.describe().show()\n",
        "\n",
        "# members_value3 = members_bronze.select('bd').filter((col('bd') > 120))\n",
        "# members_value3.describe().show()\n",
        "\n",
        "# members_bronze.write.mode(\"overwrite\").parquet(path_bronze_members)\n"
      ],
      "metadata": {
        "colab": {
          "base_uri": "https://localhost:8080/"
        },
        "id": "PZH3q6s6_JTe",
        "outputId": "a54eab59-62c1-4480-ced0-e93e2eb5822a"
      },
      "execution_count": null,
      "outputs": [
        {
          "output_type": "stream",
          "name": "stdout",
          "text": [
            "+-------+------------------+\n",
            "|summary|                bd|\n",
            "+-------+------------------+\n",
            "|  count|          24350120|\n",
            "|   mean|29.883953015426616|\n",
            "| stddev|11.078740529579315|\n",
            "|    min|                 1|\n",
            "|    max|               120|\n",
            "+-------+------------------+\n",
            "\n",
            "27.0\n",
            "+-------+--------------------+------------------+----------------------+-----------------+------------------+--------+------------------+-------------------+\n",
            "|summary|                msno|             safra|registration_init_time|             city|                bd|  gender|    registered_via|           is_ativo|\n",
            "+-------+--------------------+------------------+----------------------+-----------------+------------------+--------+------------------+-------------------+\n",
            "|  count|            63867246|          63867246|              63867246|         63867246|          63867246|25657069|          63867246|           63867246|\n",
            "|   mean|                null|201606.90368996028|  2.0140061722392727E7|4.369941346774214|28.099540161791225|    null| 5.455677343594869|0.17603491154135564|\n",
            "| stddev|                null|3.4231736718522296|     23582.39722997598|5.807596122789123| 6.982656373948328|    null|2.4953863289564757| 0.3808498703308826|\n",
            "|    min|+++4vcS9aMH7KWdfh...|            201601|              20040326|                1|               1.0|  female|                -1|                  0|\n",
            "|    max|zzzyOgMk9MljCerbC...|            201612|              20161231|               22|             120.0|    male|                19|                  1|\n",
            "+-------+--------------------+------------------+----------------------+-----------------+------------------+--------+------------------+-------------------+\n",
            "\n"
          ]
        }
      ]
    },
    {
      "cell_type": "code",
      "source": [],
      "metadata": {
        "id": "zRRoLmSLDmjx"
      },
      "execution_count": null,
      "outputs": []
    },
    {
      "cell_type": "markdown",
      "source": [
        "# Construção da Silver:\n",
        "\n",
        "- Analise de Features e seleção\n",
        "- Construção da Target"
      ],
      "metadata": {
        "id": "Gohk_OAMAXlp"
      }
    },
    {
      "cell_type": "code",
      "source": [],
      "metadata": {
        "id": "hs85QGpsAZFa"
      },
      "execution_count": null,
      "outputs": []
    },
    {
      "cell_type": "markdown",
      "source": [
        "# Construção da Gold\n",
        "\n",
        "- Analytical Base Table (ABT)\n",
        "- Features e Target estruturados e prontos para irem para treino, validação e teste dos modelos"
      ],
      "metadata": {
        "id": "GivfuBLfAhDJ"
      }
    },
    {
      "cell_type": "code",
      "source": [],
      "metadata": {
        "id": "pKvi5eE1Ax0j"
      },
      "execution_count": null,
      "outputs": []
    },
    {
      "cell_type": "markdown",
      "source": [
        "# Criação dos modelos\n",
        "\n",
        "qual metodologia seguir\n",
        "\n",
        "(seleção de variaveis, modelos (por que dos modelos, por que nao explorar outros))\n",
        "\n",
        "(interpretabilidade X performance)\n",
        "\n",
        "(caso haja, como foi feita a escolha de hiperparametros)\n",
        "\n",
        "(tota decisão ser justificada, comparada)\n",
        "\n",
        "((avaliar performance dos modelos), (estabilidade, performance, explicabilidade), (treinamento de modelos por janelas de tempo, out of time))\n",
        "\n",
        "(Shaply Values, )"
      ],
      "metadata": {
        "id": "OoRxiuhKAxU9"
      }
    },
    {
      "cell_type": "code",
      "source": [],
      "metadata": {
        "id": "mO9J4XQXA8No"
      },
      "execution_count": null,
      "outputs": []
    }
  ]
}